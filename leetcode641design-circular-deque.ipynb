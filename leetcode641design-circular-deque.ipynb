{
 "cells": [
  {
   "cell_type": "code",
   "execution_count": null,
   "metadata": {},
   "outputs": [],
   "source": [
    "https://leetcode.com/problems/design-circular-deque/"
   ]
  },
  {
   "cell_type": "markdown",
   "metadata": {},
   "source": [
    "# Deque\n",
    "\n",
    "Double-Ended Queue. 양 사이드 모두 추출할 수 있는 큐를 일반화한 추상 자료형               \n",
    "주로 이중 연결 리스트로 구현하는 것이 가장 어울림"
   ]
  },
  {
   "cell_type": "code",
   "execution_count": null,
   "metadata": {},
   "outputs": [],
   "source": [
    "class ListNode:\n",
    "    def __init__(self, val=0, next=None):\n",
    "        self.val = val\n",
    "        self.next = next"
   ]
  },
  {
   "cell_type": "code",
   "execution_count": null,
   "metadata": {},
   "outputs": [],
   "source": [
    "class MyCircularDeque:\n",
    "\n",
    "    def __init__(self, k: int): # k는 deque의 최대 길이\n",
    "        self.head, self.tail = ListNode(None), ListNode(None)\n",
    "        self.k , self.len = k, 0 \n",
    "        self.head.right, self.tail.left = self.tail, self.head\n",
    "\n",
    "    def insertFront(self, value: int) -> bool:\n",
    "        if self.len == self.k: #  최대길이와 현재 len 비교 \n",
    "            return False\n",
    "        self.len += 1 \n",
    "        self._add(self.head, ListNode(value))\n",
    "        return True \n",
    "\n",
    "    def insertLast(self, value: int) -> bool:\n",
    "        if self.len == self.k:\n",
    "            return False\n",
    "        self.len += 1\n",
    "        self._add(self.tail.left, ListNode(value))\n",
    "        return True \n",
    "         \n",
    "    def _add(self, node: ListNode, new: ListNode):\n",
    "        n = node.right # 기존 node의 right를 n으로 \n",
    "        node.right = new # node.right에 new를 할당해 연결 \n",
    "        new.left, new.right = node, n # new의 좌에 node, 우에 n 연결  \n",
    "        n.left = new  # n의 왼쪽에 new 연결 \n",
    "\n",
    "    def _del(self, node: ListNode):\n",
    "        n = node.right.right\n",
    "        node.right = n\n",
    "        n.left = node \n",
    "\n",
    "    def deleteFront(self) -> bool:\n",
    "        if self.len == 0:\n",
    "            return False\n",
    "        self.len -= 1\n",
    "        self._del(self.head)\n",
    "        return True \n",
    "\n",
    "    def deleteLast(self) -> bool:\n",
    "        if self.len == 0:\n",
    "            return False\n",
    "        self.len -= 1 \n",
    "        self._del(self.tail.left.left)\n",
    "        return True \n",
    "\n",
    "    def getFront(self) -> int:\n",
    "        return self.head.right.val if self.len else -1 \n",
    "\n",
    "    def getRear(self) -> int:\n",
    "        return self.tail.left.val if self.len else -1\n",
    "\n",
    "    def isEmpty(self) -> bool:\n",
    "        return self.len == 0\n",
    "\n",
    "    def isFull(self) -> bool:\n",
    "        return self.len == self.k"
   ]
  },
  {
   "cell_type": "markdown",
   "metadata": {},
   "source": [
    "아무래도 다른풀이들은 deque를 그대로 활용한게 많았음"
   ]
  },
  {
   "cell_type": "markdown",
   "metadata": {},
   "source": []
  }
 ],
 "metadata": {
  "interpreter": {
   "hash": "b276e411241fbf703ef2fe8c05764a2ce8c821f4b845edaba53edaa642d9f585"
  },
  "kernelspec": {
   "display_name": "Python 3.6.7 64-bit (system)",
   "language": "python",
   "name": "python3"
  },
  "language_info": {
   "codemirror_mode": {
    "name": "ipython",
    "version": 3
   },
   "file_extension": ".py",
   "mimetype": "text/x-python",
   "name": "python",
   "nbconvert_exporter": "python",
   "pygments_lexer": "ipython3",
   "version": "3.7.1"
  },
  "orig_nbformat": 4
 },
 "nbformat": 4,
 "nbformat_minor": 2
}
