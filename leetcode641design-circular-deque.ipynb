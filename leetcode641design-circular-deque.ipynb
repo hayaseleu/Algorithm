{
 "cells": [
  {
   "cell_type": "code",
   "execution_count": null,
   "metadata": {},
   "outputs": [],
   "source": [
    "https://leetcode.com/problems/design-circular-deque/"
   ]
  },
  {
   "cell_type": "code",
   "execution_count": null,
   "metadata": {},
   "outputs": [],
   "source": [
    "class MyCircularDeque:\n",
    "\n",
    "    def __init__(self, k: int):\n",
    "        pass\n",
    "\n",
    "    def insertFront(self, value: int) -> bool:\n",
    "        pass\n",
    "\n",
    "    def insertLast(self, value: int) -> bool:\n",
    "        pass\n",
    "\n",
    "    def deleteFront(self) -> bool:\n",
    "        pass\n",
    "\n",
    "    def deleteLast(self) -> bool:\n",
    "        pass\n",
    "\n",
    "    def getFront(self) -> int:\n",
    "        pass\n",
    "\n",
    "    def getRear(self) -> int:\n",
    "        pass\n",
    "\n",
    "    def isEmpty(self) -> bool:\n",
    "        pass\n",
    "\n",
    "    def isFull(self) -> bool:\n",
    "        pass\n",
    "\n",
    "\n",
    "# Your MyCircularDeque object will be instantiated and called as such:\n",
    "# obj = MyCircularDeque(k)\n",
    "# param_1 = obj.insertFront(value)\n",
    "# param_2 = obj.insertLast(value)\n",
    "# param_3 = obj.deleteFront()\n",
    "# param_4 = obj.deleteLast()\n",
    "# param_5 = obj.getFront()\n",
    "# param_6 = obj.getRear()\n",
    "# param_7 = obj.isEmpty()\n",
    "# param_8 = obj.isFull()"
   ]
  }
 ],
 "metadata": {
  "language_info": {
   "name": "python"
  },
  "orig_nbformat": 4
 },
 "nbformat": 4,
 "nbformat_minor": 2
}
