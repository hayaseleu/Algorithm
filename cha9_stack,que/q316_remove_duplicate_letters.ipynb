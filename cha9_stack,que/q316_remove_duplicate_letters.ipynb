{
 "cells": [
  {
   "cell_type": "markdown",
   "metadata": {},
   "source": [
    "[문제링크](https://leetcode.com/problems/remove-duplicate-letters/)"
   ]
  },
  {
   "cell_type": "code",
   "execution_count": 32,
   "metadata": {},
   "outputs": [],
   "source": [
    "import typing\n",
    "class Solution:\n",
    "    def removeDuplicateLetters(self, s: str) -> str:\n",
    "        counter =  collections.Counter(ex1)\n",
    "        stack = []\n",
    "        seen = set()\n",
    "        for char in ex1:\n",
    "            counter[char] -= 1\n",
    "            if char in seen:\n",
    "                continue \n",
    "            #뒤에 붙일 문자가 남아 잇다면 스택에서 제거\n",
    "            while stack and char < stack[-1] and counter[stack[-1]] > 0:\n",
    "                seen.remove(stack.pop())\n",
    "            stack.append(char)\n",
    "            seen.add(char)\n",
    "        return ''.join(stack)"
   ]
  },
  {
   "cell_type": "code",
   "execution_count": 8,
   "metadata": {},
   "outputs": [],
   "source": [
    "ex1 = \"bcabc\"\n",
    "ex2 = \"cbacdcbc\""
   ]
  },
  {
   "cell_type": "code",
   "execution_count": 5,
   "metadata": {},
   "outputs": [],
   "source": [
    "import collections\n",
    "class Solution1:\n",
    "    def removeDuplicateLetters(self, s: str) -> str:\n",
    "        counter, seen, stack = collections.Counter(s),set(), []\n",
    "        \n",
    "        return counter"
   ]
  },
  {
   "cell_type": "code",
   "execution_count": 6,
   "metadata": {},
   "outputs": [],
   "source": [
    "a = Solution1()"
   ]
  },
  {
   "cell_type": "code",
   "execution_count": 9,
   "metadata": {},
   "outputs": [
    {
     "data": {
      "text/plain": [
       "Counter({'b': 2, 'c': 2, 'a': 1})"
      ]
     },
     "execution_count": 9,
     "metadata": {},
     "output_type": "execute_result"
    }
   ],
   "source": [
    "a.removeDuplicateLetters(ex1)"
   ]
  },
  {
   "cell_type": "code",
   "execution_count": 10,
   "metadata": {},
   "outputs": [
    {
     "name": "stdout",
     "output_type": "stream",
     "text": [
      "['b']\n",
      "{'b'}\n",
      "['b', 'c']\n",
      "{'b', 'c'}\n",
      "['b', 'c', 'a']\n",
      "{'b', 'c', 'a'}\n",
      "['b', 'c', 'a', 'b']\n",
      "{'b', 'c', 'a'}\n",
      "['b', 'c', 'a', 'b', 'c']\n",
      "{'b', 'c', 'a'}\n"
     ]
    }
   ],
   "source": [
    "counter =  collections.Counter(ex1)\n",
    "stack = []\n",
    "seen = set()\n",
    "for char in ex1:\n",
    "    stack.append(char)\n",
    "    seen.add(char)\n",
    "    print(stack)\n",
    "    print(seen)\n",
    "    "
   ]
  },
  {
   "cell_type": "code",
   "execution_count": 15,
   "metadata": {},
   "outputs": [],
   "source": [
    "counter =  collections.Counter(ex1)\n",
    "stack = []\n",
    "seen = set()\n",
    "# ex1 = \"bcabc\"\n",
    "\n",
    "def aa():\n",
    "    for char in ex1:\n",
    "        counter[char] -= 1\n",
    "        if char in seen:\n",
    "            continue \n",
    "        #뒤에 붙일 문자가 남아 잇다면 스택에서 제거\n",
    "        while stack and char < stack[-1] and counter[stack[-1]] > 0:\n",
    "            seen.remove(stack.pop())\n",
    "        stack.append(char)\n",
    "        seen.add(char)\n",
    "    return ''.join(stack)"
   ]
  },
  {
   "cell_type": "code",
   "execution_count": 20,
   "metadata": {},
   "outputs": [],
   "source": [
    "counter['c'] -= 1 \n"
   ]
  },
  {
   "cell_type": "code",
   "execution_count": 21,
   "metadata": {},
   "outputs": [
    {
     "name": "stdout",
     "output_type": "stream",
     "text": [
      "Counter({'b': 2, 'a': 1, 'c': -1})\n"
     ]
    }
   ],
   "source": [
    "print(counter)"
   ]
  },
  {
   "cell_type": "code",
   "execution_count": 25,
   "metadata": {},
   "outputs": [
    {
     "data": {
      "text/plain": [
       "{'b', 'c'}"
      ]
     },
     "execution_count": 25,
     "metadata": {},
     "output_type": "execute_result"
    }
   ],
   "source": [
    "stack = [\"b\",\"c\"]\n",
    "seen = set([\"b\",\"c\"])\n",
    "\n",
    "seen"
   ]
  },
  {
   "cell_type": "code",
   "execution_count": 26,
   "metadata": {},
   "outputs": [],
   "source": [
    "seen.remove(stack.pop())"
   ]
  },
  {
   "cell_type": "code",
   "execution_count": 28,
   "metadata": {},
   "outputs": [
    {
     "data": {
      "text/plain": [
       "{'b'}"
      ]
     },
     "execution_count": 28,
     "metadata": {},
     "output_type": "execute_result"
    }
   ],
   "source": [
    "seen"
   ]
  },
  {
   "cell_type": "code",
   "execution_count": 29,
   "metadata": {},
   "outputs": [
    {
     "data": {
      "text/plain": [
       "['b']"
      ]
     },
     "execution_count": 29,
     "metadata": {},
     "output_type": "execute_result"
    }
   ],
   "source": [
    "stack"
   ]
  },
  {
   "cell_type": "code",
   "execution_count": 30,
   "metadata": {},
   "outputs": [],
   "source": [
    "lastdic = {c:idx for idx, c in enumerate(ex1)}"
   ]
  },
  {
   "cell_type": "code",
   "execution_count": 31,
   "metadata": {},
   "outputs": [
    {
     "name": "stdout",
     "output_type": "stream",
     "text": [
      "{'b': 3, 'c': 4, 'a': 2}\n"
     ]
    }
   ],
   "source": [
    "print(lastdic)"
   ]
  },
  {
   "cell_type": "markdown",
   "metadata": {},
   "source": [
    "코드\n",
    "class Solution:\n",
    "    def removeDuplicateLetters(self, s: str) -> str:\n",
    "        d = {char: indx for indx, char in enumerate(s)}\n",
    "        print(\"d:\", d)\n",
    "        print(\"s:\", s)\n",
    "        res = []\n",
    "        for indx, char in enumerate(s):\n",
    "            print(\"1 indx: \", indx, \" char:\", char, )\n",
    "            print(\"2. res:\", res)\n",
    "            if char not in res:\n",
    "                while res and indx < d[res[-1]] and char < res[-1]:\n",
    "                    print(\"* char:\", char, \" indx: \", indx, \"< res[-1]:\", res[-1], \" d[res[-1]]:\", d[res[-1]])\n",
    "                    print(\"*. pop res:\", res)\n",
    "                    res.pop()\n",
    "                    print(\"**. pop result:\", res)\n",
    "                res.append(char)\n",
    "                print(\"3. res.append(char):\", res)\n",
    "        return \"\".join(res)\n",
    "결과 : \"dcbadcabdcd\"  → \"abcd\"\n",
    "d: {'d': 10, 'c': 9, 'b': 7, 'a': 6}\n",
    "s: dcbadcabdcd\n",
    "1 indx:  0  char: d\n",
    "2. res: []\n",
    "3. res.append(char): ['d']\n",
    "1 indx:  1  char: c\n",
    "2. res: ['d']\n",
    "* char: c  indx:  1 < res[-1]: d  d[res[-1]]: 10\n",
    "*. pop res: ['d']\n",
    "**. pop result: []\n",
    "3. res.append(char): ['c']\n",
    "1 indx:  2  char: b\n",
    "2. res: ['c']\n",
    "* char: b  indx:  2 < res[-1]: c  d[res[-1]]: 9\n",
    "*. pop res: ['c']\n",
    "**. pop result: []\n",
    "3. res.append(char): ['b']\n",
    "1 indx:  3  char: a\n",
    "2. res: ['b']\n",
    "* char: a  indx:  3 < res[-1]: b  d[res[-1]]: 7\n",
    "*. pop res: ['b']\n",
    "**. pop result: []\n",
    "3. res.append(char): ['a']\n",
    "1 indx:  4  char: d\n",
    "2. res: ['a']\n",
    "3. res.append(char): ['a', 'd']\n",
    "1 indx:  5  char: c\n",
    "2. res: ['a', 'd']\n",
    "* char: c  indx:  5 < res[-1]: d  d[res[-1]]: 10\n",
    "*. pop res: ['a', 'd']\n",
    "**. pop result: ['a']\n",
    "3. res.append(char): ['a', 'c']\n",
    "1 indx:  6  char: a\n",
    "2. res: ['a', 'c']\n",
    "1 indx:  7  char: b\n",
    "2. res: ['a', 'c']\n",
    "* char: b  indx:  7 < res[-1]: c  d[res[-1]]: 9\n",
    "*. pop res: ['a', 'c']\n",
    "**. pop result: ['a']\n",
    "3. res.append(char): ['a', 'b']\n",
    "1 indx:  8  char: d\n",
    "2. res: ['a', 'b']\n",
    "3. res.append(char): ['a', 'b', 'd']\n",
    "1 indx:  9  char: c\n",
    "2. res: ['a', 'b', 'd']\n",
    "* char: c  indx:  9 < res[-1]: d  d[res[-1]]: 10\n",
    "*. pop res: ['a', 'b', 'd']\n",
    "**. pop result: ['a', 'b']\n",
    "3. res.append(char): ['a', 'b', 'c']\n",
    "1 indx:  10  char: d\n",
    "2. res: ['a', 'b', 'c']\n",
    "3. res.append(char): ['a', 'b', 'c', 'd']\n",
    "결과 : \"dcbadcabdc\"   → \"abdc\"\n",
    "d: {'d': 8, 'c': 9, 'b': 7, 'a': 6}\n",
    "s: dcbadcabdc\n",
    "1 indx:  0  char: d\n",
    "2. res: []\n",
    "3. res.append(char): ['d']\n",
    "1 indx:  1  char: c\n",
    "2. res: ['d']\n",
    "* char: c  indx:  1 < res[-1]: d  d[res[-1]]: 8\n",
    "*. pop res: ['d']\n",
    "**. pop result: []\n",
    "3. res.append(char): ['c']\n",
    "1 indx:  2  char: b\n",
    "2. res: ['c']\n",
    "* char: b  indx:  2 < res[-1]: c  d[res[-1]]: 9\n",
    "*. pop res: ['c']\n",
    "**. pop result: []\n",
    "3. res.append(char): ['b']\n",
    "1 indx:  3  char: a\n",
    "2. res: ['b']\n",
    "* char: a  indx:  3 < res[-1]: b  d[res[-1]]: 7\n",
    "*. pop res: ['b']\n",
    "**. pop result: []\n",
    "3. res.append(char): ['a']\n",
    "1 indx:  4  char: d\n",
    "2. res: ['a']\n",
    "3. res.append(char): ['a', 'd']\n",
    "1 indx:  5  char: c\n",
    "2. res: ['a', 'd']\n",
    "* char: c  indx:  5 < res[-1]: d  d[res[-1]]: 8\n",
    "*. pop res: ['a', 'd']\n",
    "**. pop result: ['a']\n",
    "3. res.append(char): ['a', 'c']\n",
    "1 indx:  6  char: a\n",
    "2. res: ['a', 'c']\n",
    "1 indx:  7  char: b\n",
    "2. res: ['a', 'c']\n",
    "* char: b  indx:  7 < res[-1]: c  d[res[-1]]: 9\n",
    "*. pop res: ['a', 'c']\n",
    "**. pop result: ['a']\n",
    "3. res.append(char): ['a', 'b']\n",
    "1 indx:  8  char: d\n",
    "2. res: ['a', 'b']\n",
    "3. res.append(char): ['a', 'b', 'd']\n",
    "1 indx:  9  char: c\n",
    "2. res: ['a', 'b', 'd']\n",
    "3. res.append(char): ['a', 'b', 'd', 'c'] (편집됨) "
   ]
  }
 ],
 "metadata": {
  "kernelspec": {
   "display_name": "Python 3",
   "language": "python",
   "name": "python3"
  },
  "language_info": {
   "codemirror_mode": {
    "name": "ipython",
    "version": 3
   },
   "file_extension": ".py",
   "mimetype": "text/x-python",
   "name": "python",
   "nbconvert_exporter": "python",
   "pygments_lexer": "ipython3",
   "version": "3.7.9"
  }
 },
 "nbformat": 4,
 "nbformat_minor": 4
}
