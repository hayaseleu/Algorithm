{
 "cells": [
  {
   "cell_type": "markdown",
   "metadata": {},
   "source": [
    "https://leetcode.com/problems/merge-two-sorted-lists/"
   ]
  },
  {
   "cell_type": "code",
   "execution_count": 1,
   "metadata": {},
   "outputs": [],
   "source": [
    "from typing import Optional\n",
    "class ListNode:\n",
    "    def __init__(self, val=0, next=None):\n",
    "        self.val = val\n",
    "        self.next = next\n",
    "class Solution:\n",
    "    def mergeTwoLists(self, list1: Optional[ListNode], list2: Optional[ListNode]) -> Optional[ListNode]:\n",
    "        pass"
   ]
  },
  {
   "cell_type": "code",
   "execution_count": 2,
   "metadata": {},
   "outputs": [],
   "source": [
    "list1 = ListNode(1)\n",
    "list1.next = ListNode(2)\n",
    "list1.next.next = ListNode(4)"
   ]
  },
  {
   "cell_type": "code",
   "execution_count": 3,
   "metadata": {},
   "outputs": [],
   "source": [
    "list2 = ListNode(1)\n",
    "list2.next = ListNode(3)\n",
    "list2.next.next = ListNode(4)"
   ]
  },
  {
   "cell_type": "code",
   "execution_count": 4,
   "metadata": {},
   "outputs": [],
   "source": [
    "from typing import Optional\n",
    "from collections import deque\n",
    "class ListNode:\n",
    "    def __init__(self, val=0, next=None):\n",
    "        self.val = val\n",
    "        self.next = next\n",
    "class Solution:\n",
    "    def mergeTwoLists(self, list1: Optional[ListNode], list2: Optional[ListNode]) -> Optional[ListNode]:\n",
    "        q1 = []\n",
    "        q2 = []\n",
    "        while list1 is not None:\n",
    "            q1.append(list1.val)\n",
    "            list1 = list1.next\n",
    "        while list2 is not None:\n",
    "            q2.append(list2.val)\n",
    "            list2 = list2.next\n",
    "        result = q1 + q2 \n",
    "        result.sort()\n",
    "        if not result:\n",
    "            return None\n",
    "        result.sort()\n",
    "        return result"
   ]
  },
  {
   "cell_type": "code",
   "execution_count": 5,
   "metadata": {},
   "outputs": [
    {
     "data": {
      "text/plain": [
       "[1, 1, 2, 3, 4, 4]"
      ]
     },
     "execution_count": 5,
     "metadata": {},
     "output_type": "execute_result"
    }
   ],
   "source": [
    "sol = Solution()\n",
    "a = sol.mergeTwoLists(list1, list2) # 처음 풀었을땐 단순 리스트로 반환해서 오답으로 나옴.\n",
    "a"
   ]
  },
  {
   "cell_type": "markdown",
   "metadata": {},
   "source": [
    "처음엔 list로 반환하는줄알고 착각해서 품"
   ]
  },
  {
   "cell_type": "markdown",
   "metadata": {},
   "source": [
    "# 내풀이 \n",
    "전부 리스트로 만들어 합친후 정렬해서 다시 연결리스트로 만들어버리기"
   ]
  },
  {
   "cell_type": "code",
   "execution_count": 6,
   "metadata": {},
   "outputs": [],
   "source": [
    "from typing import Optional\n",
    "from collections import deque\n",
    "class ListNode:\n",
    "    def __init__(self, val= 0, next=None):\n",
    "        self.val = val\n",
    "        self.next = next            \n",
    "class Solution:\n",
    "    def mergeTwoLists(self, list1: Optional[ListNode], list2: Optional[ListNode]) -> Optional[ListNode]:\n",
    "        q1 = []\n",
    "        q2 = []\n",
    "        while list1 is not None:\n",
    "            q1.append(list1.val)\n",
    "            list1 = list1.next\n",
    "        while list2 is not None:\n",
    "            q2.append(list2.val)\n",
    "            list2 = list2.next\n",
    "        result = q1 + q2 \n",
    "        result.sort()\n",
    "        if not result:\n",
    "            return None\n",
    "        print(result)\n",
    "        q3 = ListNode(result.pop(0))\n",
    "        while result:\n",
    "            cur = q3\n",
    "            while cur.next != None:  # cur의 next가 None 이 아니라면 \n",
    "                cur = cur.next        # cur 는 cur.next로 하고 \n",
    "            cur.next = ListNode(result.pop(0)) # \n",
    "        return q3"
   ]
  },
  {
   "cell_type": "markdown",
   "metadata": {},
   "source": [
    "다 잘해와서 마지막 연결리스트로 다시 묶을 때 혼동을 많이 했음."
   ]
  },
  {
   "cell_type": "code",
   "execution_count": 7,
   "metadata": {},
   "outputs": [
    {
     "name": "stdout",
     "output_type": "stream",
     "text": [
      "[1, 1, 2, 3, 4, 4]\n"
     ]
    },
    {
     "data": {
      "text/plain": [
       "<__main__.ListNode at 0x1320a38e9e8>"
      ]
     },
     "execution_count": 7,
     "metadata": {},
     "output_type": "execute_result"
    }
   ],
   "source": [
    "sol = Solution()\n",
    "a = sol.mergeTwoLists(list1, list2) # 처음 풀었을땐 단순 리스트로 반환해서 오답으로 나옴.\n",
    "a"
   ]
  },
  {
   "cell_type": "code",
   "execution_count": 8,
   "metadata": {},
   "outputs": [
    {
     "data": {
      "text/plain": [
       "3"
      ]
     },
     "execution_count": 8,
     "metadata": {},
     "output_type": "execute_result"
    }
   ],
   "source": [
    "a.next.next.next.val"
   ]
  },
  {
   "cell_type": "code",
   "execution_count": 9,
   "metadata": {},
   "outputs": [],
   "source": [
    "result  = [1,2,3,4,4]"
   ]
  },
  {
   "cell_type": "code",
   "execution_count": 10,
   "metadata": {},
   "outputs": [],
   "source": [
    "q3 = ListNode(result.pop(0))"
   ]
  },
  {
   "cell_type": "code",
   "execution_count": 11,
   "metadata": {},
   "outputs": [
    {
     "data": {
      "text/plain": [
       "[2, 3, 4, 4]"
      ]
     },
     "execution_count": 11,
     "metadata": {},
     "output_type": "execute_result"
    }
   ],
   "source": [
    "result"
   ]
  },
  {
   "cell_type": "code",
   "execution_count": 12,
   "metadata": {},
   "outputs": [
    {
     "name": "stdout",
     "output_type": "stream",
     "text": [
      "1\n",
      "1\n"
     ]
    }
   ],
   "source": [
    "# 첫 바깥 와일문 \n",
    "cur = q3\n",
    "print(cur.val)\n",
    "print(q3.val)"
   ]
  },
  {
   "cell_type": "code",
   "execution_count": 13,
   "metadata": {},
   "outputs": [
    {
     "name": "stdout",
     "output_type": "stream",
     "text": [
      "1 2\n",
      "1 2\n"
     ]
    }
   ],
   "source": [
    "# 첫 안 쪽 와일문은 조건 불일치로 실행 x \n",
    "cur.next  = ListNode(result.pop(0))\n",
    "print(cur.val,cur.next.val)\n",
    "print(q3.val, q3.next.val)"
   ]
  },
  {
   "cell_type": "code",
   "execution_count": 14,
   "metadata": {},
   "outputs": [
    {
     "name": "stdout",
     "output_type": "stream",
     "text": [
      "1 2\n",
      "1 2\n"
     ]
    }
   ],
   "source": [
    "# 두번째 바깥 와일문 \n",
    "cur = q3\n",
    "print(cur.val, cur.next.val)\n",
    "print(q3.val,q3.next.val)"
   ]
  },
  {
   "cell_type": "code",
   "execution_count": 15,
   "metadata": {},
   "outputs": [
    {
     "name": "stdout",
     "output_type": "stream",
     "text": [
      "2\n",
      "1 2\n"
     ]
    }
   ],
   "source": [
    "# 두번째 안 와일문 \n",
    "if cur.next != None:\n",
    "    cur = cur.next\n",
    "print(cur.val) # cur = cur.next 때문에 cur는 한칸 떙겨져서 next 존재 하지 않음 \n",
    "print(q3.val, q3.next.val)"
   ]
  },
  {
   "cell_type": "code",
   "execution_count": 16,
   "metadata": {},
   "outputs": [
    {
     "data": {
      "text/plain": [
       "[3, 4, 4]"
      ]
     },
     "execution_count": 16,
     "metadata": {},
     "output_type": "execute_result"
    }
   ],
   "source": [
    "result"
   ]
  },
  {
   "cell_type": "code",
   "execution_count": 17,
   "metadata": {},
   "outputs": [
    {
     "name": "stdout",
     "output_type": "stream",
     "text": [
      "2 3\n",
      "1 2\n"
     ]
    }
   ],
   "source": [
    "cur.next  = ListNode(result.pop(0))\n",
    "print(cur.val, cur.next.val)\n",
    "print(q3.val, q3.next.val)"
   ]
  },
  {
   "cell_type": "code",
   "execution_count": 18,
   "metadata": {},
   "outputs": [
    {
     "data": {
      "text/plain": [
       "[4, 4]"
      ]
     },
     "execution_count": 18,
     "metadata": {},
     "output_type": "execute_result"
    }
   ],
   "source": [
    "result"
   ]
  },
  {
   "cell_type": "code",
   "execution_count": 19,
   "metadata": {},
   "outputs": [
    {
     "name": "stdout",
     "output_type": "stream",
     "text": [
      "1 2 3\n",
      "1 2 3\n"
     ]
    }
   ],
   "source": [
    "# 세번째 바깥 와일문 \n",
    "cur = q3  # cur에다 q3를 할당했기 떄문에 q3까지 연결되고 cur.next는 q3의 마지막에서 연결된다. \n",
    "print(cur.val, cur.next.val, cur.next.next.val)\n",
    "print(q3.val, q3.next.val, q3.next.next.val)"
   ]
  },
  {
   "cell_type": "code",
   "execution_count": 20,
   "metadata": {},
   "outputs": [
    {
     "name": "stdout",
     "output_type": "stream",
     "text": [
      "2 3\n",
      "1 2 3\n"
     ]
    }
   ],
   "source": [
    "# 세번째 안 쪽 와일문 \n",
    "if cur.next != None:\n",
    "    cur = cur.next\n",
    "print(cur.val, cur.next.val)\n",
    "print(q3.val, q3.next.val, q3.next.next.val)"
   ]
  },
  {
   "cell_type": "code",
   "execution_count": 21,
   "metadata": {},
   "outputs": [
    {
     "name": "stdout",
     "output_type": "stream",
     "text": [
      "2 4\n",
      "1 2 4\n"
     ]
    }
   ],
   "source": [
    "cur.next  = ListNode(result.pop(0))\n",
    "print(cur.val, cur.next.val)\n",
    "print(q3.val, q3.next.val, q3.next.next.val)"
   ]
  },
  {
   "cell_type": "code",
   "execution_count": 22,
   "metadata": {},
   "outputs": [
    {
     "name": "stdout",
     "output_type": "stream",
     "text": [
      "2 4\n",
      "1 2 4 4 4\n"
     ]
    }
   ],
   "source": [
    "print(cur.val, cur.next.val)\n",
    "print(q3.val, q3.next.val, q3.next.next.val, q3.next.next.val,q3.next.next.val)"
   ]
  },
  {
   "cell_type": "code",
   "execution_count": 23,
   "metadata": {},
   "outputs": [
    {
     "data": {
      "text/plain": [
       "<__main__.ListNode at 0x1320a38e978>"
      ]
     },
     "execution_count": 23,
     "metadata": {},
     "output_type": "execute_result"
    }
   ],
   "source": [
    "q3"
   ]
  },
  {
   "cell_type": "code",
   "execution_count": 24,
   "metadata": {},
   "outputs": [
    {
     "data": {
      "text/plain": [
       "[4]"
      ]
     },
     "execution_count": 24,
     "metadata": {},
     "output_type": "execute_result"
    }
   ],
   "source": [
    "result"
   ]
  },
  {
   "cell_type": "code",
   "execution_count": null,
   "metadata": {},
   "outputs": [],
   "source": []
  },
  {
   "cell_type": "code",
   "execution_count": 25,
   "metadata": {},
   "outputs": [],
   "source": [
    "cur = q3"
   ]
  },
  {
   "cell_type": "code",
   "execution_count": 26,
   "metadata": {},
   "outputs": [
    {
     "name": "stdout",
     "output_type": "stream",
     "text": [
      "1 2 4\n",
      "1 2 4 4 4\n"
     ]
    }
   ],
   "source": [
    "print(cur.val, cur.next.val,cur.next.next.val)\n",
    "print(q3.val, q3.next.val, q3.next.next.val, q3.next.next.val,q3.next.next.val)"
   ]
  },
  {
   "cell_type": "code",
   "execution_count": 27,
   "metadata": {},
   "outputs": [],
   "source": [
    "    while cur.next != None:  # cur의 next가 None 이 아니라면 \n",
    "        cur = cur.next        # cur 는 cur.next로 하고 \n",
    "cur.next = ListNode(result.pop(0)) # "
   ]
  },
  {
   "cell_type": "code",
   "execution_count": 28,
   "metadata": {},
   "outputs": [
    {
     "data": {
      "text/plain": [
       "1"
      ]
     },
     "execution_count": 28,
     "metadata": {},
     "output_type": "execute_result"
    }
   ],
   "source": [
    "q3.val"
   ]
  },
  {
   "cell_type": "code",
   "execution_count": 29,
   "metadata": {},
   "outputs": [
    {
     "data": {
      "text/plain": [
       "2"
      ]
     },
     "execution_count": 29,
     "metadata": {},
     "output_type": "execute_result"
    }
   ],
   "source": [
    "q3.next.val"
   ]
  },
  {
   "cell_type": "code",
   "execution_count": 30,
   "metadata": {},
   "outputs": [
    {
     "data": {
      "text/plain": [
       "4"
      ]
     },
     "execution_count": 30,
     "metadata": {},
     "output_type": "execute_result"
    }
   ],
   "source": [
    "q3.next.next.val"
   ]
  },
  {
   "cell_type": "code",
   "execution_count": 31,
   "metadata": {},
   "outputs": [
    {
     "data": {
      "text/plain": [
       "4"
      ]
     },
     "execution_count": 31,
     "metadata": {},
     "output_type": "execute_result"
    }
   ],
   "source": [
    "q3.next.next.next.val"
   ]
  },
  {
   "cell_type": "code",
   "execution_count": 32,
   "metadata": {},
   "outputs": [
    {
     "data": {
      "text/plain": [
       "[]"
      ]
     },
     "execution_count": 32,
     "metadata": {},
     "output_type": "execute_result"
    }
   ],
   "source": [
    "result"
   ]
  },
  {
   "cell_type": "code",
   "execution_count": null,
   "metadata": {},
   "outputs": [],
   "source": []
  }
 ],
 "metadata": {
  "kernelspec": {
   "display_name": "Python 3",
   "language": "python",
   "name": "python3"
  },
  "language_info": {
   "codemirror_mode": {
    "name": "ipython",
    "version": 3
   },
   "file_extension": ".py",
   "mimetype": "text/x-python",
   "name": "python",
   "nbconvert_exporter": "python",
   "pygments_lexer": "ipython3",
   "version": "3.7.1"
  }
 },
 "nbformat": 4,
 "nbformat_minor": 2
}
