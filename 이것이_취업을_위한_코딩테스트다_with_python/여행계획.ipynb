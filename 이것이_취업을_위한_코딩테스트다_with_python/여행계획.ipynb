{
 "cells": [
  {
   "cell_type": "markdown",
   "id": "01745c63",
   "metadata": {},
   "source": [
    "N개의 여행지가 있으며, 1번부터 N번으로 구분됨.\n",
    "\n",
    "임의의 두 여행지 사이에는 두 여행지를 연결하는 도로가 존재할 수 있음.\n",
    "\n",
    "도로로 연결되어있으면 양방향 이동이 가능함.\n",
    "\n",
    "계획을 짠 후 이 계획이 가능한지 여부를 판단하고자 함.\n",
    "\n",
    "2번 -> 3번 -> 4번 -> 3번 계획이라고 할때\n",
    "\n",
    "2번 -> 3번 -> 2번 -> 4번 -> 2번 -> 4번도 맞는 여행 계획임\n",
    "\n",
    "이 성질을 구체적으로 잘 모르겠는데. \n",
    "\n",
    "내 생각에는 사이클로만 연결이되면 상관이 없다. 같음\n",
    "\n",
    "1. 바로 직통으로 연결\n",
    "\n",
    "2. 사이클로 연결"
   ]
  },
  {
   "cell_type": "code",
   "execution_count": 2,
   "id": "84c23652",
   "metadata": {},
   "outputs": [
    {
     "name": "stdout",
     "output_type": "stream",
     "text": [
      "5 4\n"
     ]
    }
   ],
   "source": [
    "N, M = map(int, input().split())"
   ]
  },
  {
   "cell_type": "code",
   "execution_count": 3,
   "id": "15570973",
   "metadata": {},
   "outputs": [],
   "source": [
    "graph = [[] for i in range(N+1)]"
   ]
  },
  {
   "cell_type": "code",
   "execution_count": 4,
   "id": "30047d16",
   "metadata": {},
   "outputs": [
    {
     "data": {
      "text/plain": [
       "[[], [], [], [], [], []]"
      ]
     },
     "execution_count": 4,
     "metadata": {},
     "output_type": "execute_result"
    }
   ],
   "source": [
    "graph"
   ]
  },
  {
   "cell_type": "code",
   "execution_count": 5,
   "id": "5e959365",
   "metadata": {},
   "outputs": [
    {
     "name": "stdout",
     "output_type": "stream",
     "text": [
      "0 1 0 1 1\n",
      "1 0 1 1 0\n",
      "0 1 0 0 0\n",
      "1 1 0 0 0\n",
      "1 0 0 0 0\n"
     ]
    }
   ],
   "source": [
    "for i in range(1 , N + 1):\n",
    "    j = list(map(int, input().split()))\n",
    "    for k in j:\n",
    "        graph[i].append(k)"
   ]
  },
  {
   "cell_type": "code",
   "execution_count": 7,
   "id": "93356668",
   "metadata": {},
   "outputs": [
    {
     "name": "stdout",
     "output_type": "stream",
     "text": [
      "2 3 4 3\n"
     ]
    }
   ],
   "source": [
    "target = list(map(int, input().split()))"
   ]
  },
  {
   "cell_type": "code",
   "execution_count": 8,
   "id": "904c16fe",
   "metadata": {},
   "outputs": [
    {
     "data": {
      "text/plain": [
       "[2, 3, 4, 3]"
      ]
     },
     "execution_count": 8,
     "metadata": {},
     "output_type": "execute_result"
    }
   ],
   "source": [
    "target\n"
   ]
  },
  {
   "cell_type": "code",
   "execution_count": 6,
   "id": "eba1f5b5",
   "metadata": {},
   "outputs": [
    {
     "data": {
      "text/plain": [
       "[[],\n",
       " [0, 1, 0, 1, 1],\n",
       " [1, 0, 1, 1, 0],\n",
       " [0, 1, 0, 0, 0],\n",
       " [1, 1, 0, 0, 0],\n",
       " [1, 0, 0, 0, 0]]"
      ]
     },
     "execution_count": 6,
     "metadata": {},
     "output_type": "execute_result"
    }
   ],
   "source": [
    "graph"
   ]
  }
 ],
 "metadata": {
  "kernelspec": {
   "display_name": "Python 3",
   "language": "python",
   "name": "python3"
  },
  "language_info": {
   "codemirror_mode": {
    "name": "ipython",
    "version": 3
   },
   "file_extension": ".py",
   "mimetype": "text/x-python",
   "name": "python",
   "nbconvert_exporter": "python",
   "pygments_lexer": "ipython3",
   "version": "3.7.9"
  }
 },
 "nbformat": 4,
 "nbformat_minor": 5
}
