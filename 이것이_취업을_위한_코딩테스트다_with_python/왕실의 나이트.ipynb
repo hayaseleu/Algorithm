{
 "cells": [
  {
   "cell_type": "code",
   "execution_count": 25,
   "id": "75c88f1f",
   "metadata": {},
   "outputs": [
    {
     "name": "stdout",
     "output_type": "stream",
     "text": [
      "a1\n"
     ]
    }
   ],
   "source": [
    "inpu = input()\n",
    "row = int(inpu[1])\n",
    "col = int(ord(inpu[0])) - int(ord(\"a\")) + 1"
   ]
  },
  {
   "cell_type": "markdown",
   "id": "8e50fd32",
   "metadata": {},
   "source": [
    "## 첫번째 풀이"
   ]
  },
  {
   "cell_type": "code",
   "execution_count": 26,
   "id": "4971151b",
   "metadata": {},
   "outputs": [
    {
     "name": "stdout",
     "output_type": "stream",
     "text": [
      "2\n"
     ]
    }
   ],
   "source": [
    "dy = [-2, -1, 1, 2, 2, 1, -1, -2]\n",
    "dx = [-1, -2, -2, -1, 1, 2, 2, 1]\n",
    "moving_types = [0, 1, 2, 3, 4, 5, 6, 7]\n",
    "result = 0\n",
    "for moving_type in moving_types:\n",
    "    next_row = row + dx[moving_type]\n",
    "    next_col = col + dy[moving_type]\n",
    "    if next_row >= 1 and next_row <= 8 and next_col >= 1 and next_col <= 8:\n",
    "        result += 1\n",
    "print(result)"
   ]
  },
  {
   "cell_type": "markdown",
   "id": "22dba4f8",
   "metadata": {},
   "source": [
    "## 두번째 풀이"
   ]
  },
  {
   "cell_type": "code",
   "execution_count": 17,
   "id": "770f61ff",
   "metadata": {},
   "outputs": [
    {
     "name": "stdout",
     "output_type": "stream",
     "text": [
      "2\n"
     ]
    }
   ],
   "source": [
    "steps = [(-2, -1), (-1, -2), (1, -2), (2, -1), (2, 1), (1, 2), (-1, 2), (-2, 1)]\n",
    "result = 0\n",
    "for step in steps:\n",
    "    # 이동하고자 하는 위치 확인\n",
    "    next_row = row + step[0]\n",
    "    next_column = col + step[1]\n",
    "    if next_row >= 1 and next_row <= 8 and next_column >= 1 and next_column <= 8:\n",
    "        result += 1\n",
    "print(result)"
   ]
  },
  {
   "cell_type": "code",
   "execution_count": 2,
   "id": "c1c64637",
   "metadata": {},
   "outputs": [
    {
     "data": {
      "text/plain": [
       "0"
      ]
     },
     "execution_count": 2,
     "metadata": {},
     "output_type": "execute_result"
    }
   ],
   "source": [
    "ord(\"a\") - ord(\"a\") + 2"
   ]
  },
  {
   "cell_type": "code",
   "execution_count": 3,
   "id": "a83d883e",
   "metadata": {},
   "outputs": [
    {
     "data": {
      "text/plain": [
       "98"
      ]
     },
     "execution_count": 3,
     "metadata": {},
     "output_type": "execute_result"
    }
   ],
   "source": [
    "ord(\"b\")"
   ]
  }
 ],
 "metadata": {
  "kernelspec": {
   "display_name": "Python 3",
   "language": "python",
   "name": "python3"
  },
  "language_info": {
   "codemirror_mode": {
    "name": "ipython",
    "version": 3
   },
   "file_extension": ".py",
   "mimetype": "text/x-python",
   "name": "python",
   "nbconvert_exporter": "python",
   "pygments_lexer": "ipython3",
   "version": "3.7.9"
  }
 },
 "nbformat": 4,
 "nbformat_minor": 5
}
