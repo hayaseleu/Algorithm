{
 "cells": [
  {
   "cell_type": "markdown",
   "id": "996aeb51",
   "metadata": {},
   "source": [
    "2019 국가 교육기관 코딩 테스트 기출"
   ]
  },
  {
   "cell_type": "code",
   "execution_count": 2,
   "id": "90b25f02",
   "metadata": {},
   "outputs": [
    {
     "name": "stdout",
     "output_type": "stream",
     "text": [
      "3 3\n"
     ]
    }
   ],
   "source": [
    "N, M = map(int, input().split())"
   ]
  },
  {
   "cell_type": "markdown",
   "id": "d515aac4",
   "metadata": {},
   "source": [
    "## 첫 풀이"
   ]
  },
  {
   "cell_type": "code",
   "execution_count": 10,
   "id": "676c6863",
   "metadata": {},
   "outputs": [],
   "source": [
    "def Solution_1(N):\n",
    "    output = 0\n",
    "    for i in range(N):\n",
    "        data = list(map(int, input().split()))\n",
    "        min_value = 10001  # 조건에서 최대값은 10000임\n",
    "        for j in data:\n",
    "            min_value = min(min_value, j)\n",
    "        output = max(output, min_value)\n",
    "    return output"
   ]
  },
  {
   "cell_type": "markdown",
   "id": "ee4718c8",
   "metadata": {},
   "source": [
    "## 두번 째 풀이"
   ]
  },
  {
   "cell_type": "code",
   "execution_count": 9,
   "id": "e789eefd",
   "metadata": {},
   "outputs": [],
   "source": [
    "def Soultuion_2(N):\n",
    "    output = 0\n",
    "    for i in range(N):\n",
    "        raw = list(map(int, input().split()))\n",
    "        min_value = min(raw)\n",
    "        output = max(output, min_value)\n",
    "    return output"
   ]
  }
 ],
 "metadata": {
  "kernelspec": {
   "display_name": "Python 3",
   "language": "python",
   "name": "python3"
  },
  "language_info": {
   "codemirror_mode": {
    "name": "ipython",
    "version": 3
   },
   "file_extension": ".py",
   "mimetype": "text/x-python",
   "name": "python",
   "nbconvert_exporter": "python",
   "pygments_lexer": "ipython3",
   "version": "3.7.9"
  }
 },
 "nbformat": 4,
 "nbformat_minor": 5
}
