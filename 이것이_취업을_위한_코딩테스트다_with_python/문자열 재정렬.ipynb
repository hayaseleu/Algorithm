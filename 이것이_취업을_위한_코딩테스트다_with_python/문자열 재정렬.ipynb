{
 "cells": [
  {
   "cell_type": "code",
   "execution_count": 182,
   "id": "5bd96437",
   "metadata": {},
   "outputs": [
    {
     "data": {
      "text/plain": [
       "['K', '1', 'K', 'A', '5', 'C', 'B', '7']"
      ]
     },
     "execution_count": 182,
     "metadata": {},
     "output_type": "execute_result"
    }
   ],
   "source": [
    "a = 'K1KA5CB7'\n",
    "a = list(a)\n",
    "a"
   ]
  },
  {
   "cell_type": "code",
   "execution_count": 166,
   "id": "1c567158",
   "metadata": {},
   "outputs": [
    {
     "name": "stdout",
     "output_type": "stream",
     "text": [
      "K1KA5CB7\n"
     ]
    }
   ],
   "source": [
    "quest = input()"
   ]
  },
  {
   "cell_type": "code",
   "execution_count": 169,
   "id": "f22fc548",
   "metadata": {},
   "outputs": [],
   "source": [
    "alphabet = []\n",
    "num = 0\n",
    "result = []"
   ]
  },
  {
   "cell_type": "code",
   "execution_count": 170,
   "id": "d31eb838",
   "metadata": {},
   "outputs": [
    {
     "data": {
      "text/plain": [
       "'ABCKK13'"
      ]
     },
     "execution_count": 170,
     "metadata": {},
     "output_type": "execute_result"
    }
   ],
   "source": [
    "for i in quest:\n",
    "    if i.isalpha():\n",
    "        alphabet.append(i)\n",
    "    else:\n",
    "        num += int(i)\n",
    "        \n",
    "alphabet.sort()\n",
    "result = alphabet \n",
    "if num != 0:\n",
    "    result.append(str(num))\n",
    "\n",
    "result = ''.join(result)\n",
    "result"
   ]
  },
  {
   "cell_type": "code",
   "execution_count": 171,
   "id": "c9228cf2",
   "metadata": {},
   "outputs": [
    {
     "data": {
      "text/plain": [
       "'ABCKK13'"
      ]
     },
     "execution_count": 171,
     "metadata": {},
     "output_type": "execute_result"
    }
   ],
   "source": [
    "result"
   ]
  },
  {
   "cell_type": "code",
   "execution_count": 184,
   "id": "b6c64971",
   "metadata": {},
   "outputs": [
    {
     "name": "stdout",
     "output_type": "stream",
     "text": [
      "AJKDLSI412K4JSJ9D\n"
     ]
    }
   ],
   "source": [
    "quest = input()"
   ]
  },
  {
   "cell_type": "code",
   "execution_count": 188,
   "id": "6f34d4e8",
   "metadata": {},
   "outputs": [],
   "source": [
    "alphabet = ''\n",
    "num = 0\n",
    "result = []"
   ]
  },
  {
   "cell_type": "code",
   "execution_count": 192,
   "id": "af33f0ac",
   "metadata": {},
   "outputs": [
    {
     "name": "stdout",
     "output_type": "stream",
     "text": [
      "['A', 'J', 'K', 'D', 'L', 'S', 'I', 'K', 'J', 'S', 'J', 'D']\n"
     ]
    },
    {
     "data": {
      "text/plain": [
       "'ADDIJJJKKLSS60'"
      ]
     },
     "execution_count": 192,
     "metadata": {},
     "output_type": "execute_result"
    }
   ],
   "source": [
    "for i in quest:\n",
    "    if i.isalpha():\n",
    "        alphabet += i\n",
    "    else:\n",
    "        num += int(i)\n",
    "        \n",
    "\n",
    "result = list(alphabet)\n",
    "print(result)\n",
    "result.sort()        \n",
    "if num != 0:\n",
    "    result.append(str(num))\n",
    "\n",
    "result = ''.join(result)\n",
    "result"
   ]
  },
  {
   "cell_type": "code",
   "execution_count": 190,
   "id": "378bef91",
   "metadata": {},
   "outputs": [
    {
     "data": {
      "text/plain": [
       "'20'"
      ]
     },
     "execution_count": 190,
     "metadata": {},
     "output_type": "execute_result"
    }
   ],
   "source": [
    "result"
   ]
  }
 ],
 "metadata": {
  "kernelspec": {
   "display_name": "Python 3",
   "language": "python",
   "name": "python3"
  },
  "language_info": {
   "codemirror_mode": {
    "name": "ipython",
    "version": 3
   },
   "file_extension": ".py",
   "mimetype": "text/x-python",
   "name": "python",
   "nbconvert_exporter": "python",
   "pygments_lexer": "ipython3",
   "version": "3.7.9"
  }
 },
 "nbformat": 4,
 "nbformat_minor": 5
}
