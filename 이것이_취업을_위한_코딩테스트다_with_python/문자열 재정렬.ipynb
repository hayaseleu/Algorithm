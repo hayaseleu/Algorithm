{
 "cells": [
  {
   "cell_type": "code",
   "execution_count": 166,
   "id": "3565b2bd",
   "metadata": {},
   "outputs": [
    {
     "name": "stdout",
     "output_type": "stream",
     "text": [
      "K1KA5CB7\n"
     ]
    }
   ],
   "source": [
    "quest = input()"
   ]
  },
  {
   "cell_type": "code",
   "execution_count": 169,
   "id": "c9f90849",
   "metadata": {},
   "outputs": [],
   "source": [
    "alphabet = []\n",
    "num = 0\n",
    "result = []"
   ]
  },
  {
   "cell_type": "code",
   "execution_count": 170,
   "id": "2ea2794b",
   "metadata": {},
   "outputs": [
    {
     "data": {
      "text/plain": [
       "'ABCKK13'"
      ]
     },
     "execution_count": 170,
     "metadata": {},
     "output_type": "execute_result"
    }
   ],
   "source": [
    "for i in quest:\n",
    "    if i.isalpha():\n",
    "        alphabet.append(i)\n",
    "    else:\n",
    "        num += int(i)\n",
    "        \n",
    "alphabet.sort()\n",
    "result = alphabet \n",
    "if num != 0:\n",
    "    result.append(str(num))\n",
    "\n",
    "result = ''.join(result)\n",
    "result"
   ]
  },
  {
   "cell_type": "code",
   "execution_count": 171,
   "id": "9c06a948",
   "metadata": {},
   "outputs": [
    {
     "data": {
      "text/plain": [
       "'ABCKK13'"
      ]
     },
     "execution_count": 171,
     "metadata": {},
     "output_type": "execute_result"
    }
   ],
   "source": [
    "result"
   ]
  },
  {
   "cell_type": "code",
   "execution_count": 163,
   "id": "237d6c50",
   "metadata": {},
   "outputs": [
    {
     "name": "stdout",
     "output_type": "stream",
     "text": [
      "AJKDLSI412K4JSJ9D\n"
     ]
    }
   ],
   "source": [
    "quest = input()"
   ]
  },
  {
   "cell_type": "code",
   "execution_count": 164,
   "id": "00afd367",
   "metadata": {},
   "outputs": [],
   "source": [
    "alphabet = []\n",
    "num = 0\n",
    "result = []"
   ]
  },
  {
   "cell_type": "code",
   "execution_count": 165,
   "id": "c423a31b",
   "metadata": {},
   "outputs": [
    {
     "data": {
      "text/plain": [
       "'ADDIJJJKKLSS20'"
      ]
     },
     "execution_count": 165,
     "metadata": {},
     "output_type": "execute_result"
    }
   ],
   "source": [
    "for i in quest:\n",
    "    if i.isalpha():\n",
    "        alphabet.append(i)\n",
    "    else:\n",
    "        num += int(i)\n",
    "        \n",
    "alphabet.sort()\n",
    "result = alphabet \n",
    "if num != 0:\n",
    "    result.append(str(num))\n",
    "\n",
    "result = ''.join(result)\n",
    "result"
   ]
  },
  {
   "cell_type": "code",
   "execution_count": 160,
   "id": "6c140500",
   "metadata": {},
   "outputs": [
    {
     "data": {
      "text/plain": [
       "['A', 'D', 'D', 'I', 'J', 'J', 'J', 'K', 'K', 'L', 'S', 'S', '20']"
      ]
     },
     "execution_count": 160,
     "metadata": {},
     "output_type": "execute_result"
    }
   ],
   "source": [
    "result"
   ]
  },
  {
   "cell_type": "code",
   "execution_count": null,
   "id": "fbf7c383",
   "metadata": {},
   "outputs": [],
   "source": [
    "quest = input()"
   ]
  }
 ],
 "metadata": {
  "kernelspec": {
   "display_name": "Python 3",
   "language": "python",
   "name": "python3"
  },
  "language_info": {
   "codemirror_mode": {
    "name": "ipython",
    "version": 3
   },
   "file_extension": ".py",
   "mimetype": "text/x-python",
   "name": "python",
   "nbconvert_exporter": "python",
   "pygments_lexer": "ipython3",
   "version": "3.7.9"
  }
 },
 "nbformat": 4,
 "nbformat_minor": 5
}
