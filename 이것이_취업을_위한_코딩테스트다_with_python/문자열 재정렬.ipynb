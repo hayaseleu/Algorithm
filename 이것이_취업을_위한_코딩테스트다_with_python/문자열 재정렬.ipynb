{
 "cells": [
  {
   "cell_type": "code",
   "execution_count": 7,
   "id": "0447da1c",
   "metadata": {},
   "outputs": [
    {
     "name": "stdout",
     "output_type": "stream",
     "text": [
      "K1KA5CB7\n"
     ]
    }
   ],
   "source": [
    "quest = input()"
   ]
  },
  {
   "cell_type": "code",
   "execution_count": 121,
   "id": "0fbbe55a",
   "metadata": {},
   "outputs": [],
   "source": [
    "alphabet = ''\n",
    "num = 0"
   ]
  },
  {
   "cell_type": "code",
   "execution_count": 122,
   "id": "8eb33669",
   "metadata": {},
   "outputs": [],
   "source": [
    "for i in quest:\n",
    "    if i.isalpha():\n",
    "        alphabet += i\n",
    "    else:\n",
    "        num += int(i)\n",
    "        \n",
    "result \n",
    "result = alphabet + str(num)"
   ]
  },
  {
   "cell_type": "code",
   "execution_count": 123,
   "id": "474ea1a5",
   "metadata": {},
   "outputs": [
    {
     "data": {
      "text/plain": [
       "'KKACB13'"
      ]
     },
     "execution_count": 123,
     "metadata": {},
     "output_type": "execute_result"
    }
   ],
   "source": [
    "result"
   ]
  },
  {
   "cell_type": "code",
   "execution_count": 124,
   "id": "7ad5a859",
   "metadata": {},
   "outputs": [
    {
     "name": "stdout",
     "output_type": "stream",
     "text": [
      "AJKDLSI412K4JSJ9D\n"
     ]
    }
   ],
   "source": [
    "quest = input()"
   ]
  },
  {
   "cell_type": "code",
   "execution_count": 125,
   "id": "a738b00d",
   "metadata": {},
   "outputs": [],
   "source": [
    "alphabet = ''\n",
    "num = 0"
   ]
  },
  {
   "cell_type": "code",
   "execution_count": 126,
   "id": "a6427fa0",
   "metadata": {},
   "outputs": [],
   "source": [
    "for i in quest:\n",
    "    if i.isalpha():\n",
    "        alphabet += i\n",
    "    else:\n",
    "        num += int(i)\n",
    "        \n",
    "result \n",
    "result = alphabet + str(num)"
   ]
  },
  {
   "cell_type": "code",
   "execution_count": 127,
   "id": "fae07436",
   "metadata": {},
   "outputs": [
    {
     "data": {
      "text/plain": [
       "'AJKDLSIKJSJD20'"
      ]
     },
     "execution_count": 127,
     "metadata": {},
     "output_type": "execute_result"
    }
   ],
   "source": [
    "result"
   ]
  }
 ],
 "metadata": {
  "kernelspec": {
   "display_name": "Python 3",
   "language": "python",
   "name": "python3"
  },
  "language_info": {
   "codemirror_mode": {
    "name": "ipython",
    "version": 3
   },
   "file_extension": ".py",
   "mimetype": "text/x-python",
   "name": "python",
   "nbconvert_exporter": "python",
   "pygments_lexer": "ipython3",
   "version": "3.7.9"
  }
 },
 "nbformat": 4,
 "nbformat_minor": 5
}
