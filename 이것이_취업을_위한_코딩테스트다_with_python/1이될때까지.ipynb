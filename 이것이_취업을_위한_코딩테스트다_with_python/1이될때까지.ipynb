{
 "cells": [
  {
   "cell_type": "markdown",
   "id": "45c81989",
   "metadata": {},
   "source": [
    "기출: 2018 E 기업 알고리즘 대회"
   ]
  },
  {
   "cell_type": "code",
   "execution_count": 1,
   "id": "55484172",
   "metadata": {},
   "outputs": [
    {
     "name": "stdout",
     "output_type": "stream",
     "text": [
      "25 5\n"
     ]
    }
   ],
   "source": [
    "N, M = map(int, input().split())"
   ]
  },
  {
   "cell_type": "markdown",
   "id": "adcf2216",
   "metadata": {},
   "source": [
    "## 첫 풀이\n",
    "\n",
    "재귀를 사용함"
   ]
  },
  {
   "cell_type": "code",
   "execution_count": 101,
   "id": "34fe268b",
   "metadata": {},
   "outputs": [],
   "source": [
    "count = 0\n",
    "\n",
    "\n",
    "def solution(n, m):\n",
    "    global count\n",
    "    count += 1\n",
    "    if n % m == 0:\n",
    "        n = n // m\n",
    "    else:\n",
    "        n -= 1\n",
    "    if n == 1:\n",
    "        return count\n",
    "    return solution(n, m)"
   ]
  },
  {
   "cell_type": "markdown",
   "id": "192b6bc5",
   "metadata": {},
   "source": [
    "근데 이거 count = 0 초기화 바로하는법 없을까"
   ]
  },
  {
   "cell_type": "markdown",
   "id": "25f74e18",
   "metadata": {},
   "source": [
    "## 두번째 풀이\n",
    "\n",
    "-1 씩 빠지는게 비효율적이기 때문에 한번에 m의 배수로 빼기"
   ]
  },
  {
   "cell_type": "code",
   "execution_count": 63,
   "id": "5dcaad8c",
   "metadata": {},
   "outputs": [],
   "source": [
    "count = 0\n",
    "\n",
    "\n",
    "def solution_2(n, m):\n",
    "    global count\n",
    "    space = (n // m) * m\n",
    "    count += n - space\n",
    "    n = space\n",
    "    if n % m == 0:\n",
    "        n = n // m\n",
    "        count += 1\n",
    "    else:\n",
    "        n -= 1  # 이게 없으면 n < k 일때가 안풀림\n",
    "        count += 1\n",
    "    if n == 1:\n",
    "        return count\n",
    "    return solution(n, m)"
   ]
  },
  {
   "cell_type": "markdown",
   "id": "89d404de",
   "metadata": {},
   "source": [
    "## while문으로 풀기"
   ]
  },
  {
   "cell_type": "code",
   "execution_count": null,
   "id": "ce1e6911",
   "metadata": {},
   "outputs": [],
   "source": [
    "빼기와"
   ]
  },
  {
   "cell_type": "code",
   "execution_count": null,
   "id": "545b3b74",
   "metadata": {},
   "outputs": [],
   "source": []
  },
  {
   "cell_type": "code",
   "execution_count": null,
   "id": "d59be1f1",
   "metadata": {},
   "outputs": [],
   "source": []
  },
  {
   "cell_type": "code",
   "execution_count": 102,
   "id": "e77bb417",
   "metadata": {
    "scrolled": true
   },
   "outputs": [
    {
     "data": {
      "text/plain": [
       "6"
      ]
     },
     "execution_count": 102,
     "metadata": {},
     "output_type": "execute_result"
    }
   ],
   "source": [
    "count = 0\n",
    "solution(25, 3)"
   ]
  },
  {
   "cell_type": "code",
   "execution_count": 103,
   "id": "00215846",
   "metadata": {},
   "outputs": [
    {
     "data": {
      "text/plain": [
       "5"
      ]
     },
     "execution_count": 103,
     "metadata": {},
     "output_type": "execute_result"
    }
   ],
   "source": [
    "count = 0\n",
    "solution(25, 4)"
   ]
  },
  {
   "cell_type": "code",
   "execution_count": 104,
   "id": "d5e0c749",
   "metadata": {},
   "outputs": [
    {
     "data": {
      "text/plain": [
       "2"
      ]
     },
     "execution_count": 104,
     "metadata": {},
     "output_type": "execute_result"
    }
   ],
   "source": [
    "count = 0\n",
    "solution(9, 3)"
   ]
  },
  {
   "cell_type": "code",
   "execution_count": 105,
   "id": "9926f11b",
   "metadata": {},
   "outputs": [
    {
     "data": {
      "text/plain": [
       "26"
      ]
     },
     "execution_count": 105,
     "metadata": {},
     "output_type": "execute_result"
    }
   ],
   "source": [
    "count = 0\n",
    "solution(1002423, 3)"
   ]
  },
  {
   "cell_type": "code",
   "execution_count": 64,
   "id": "484f8595",
   "metadata": {
    "scrolled": true
   },
   "outputs": [
    {
     "data": {
      "text/plain": [
       "2"
      ]
     },
     "execution_count": 64,
     "metadata": {},
     "output_type": "execute_result"
    }
   ],
   "source": [
    "count = 0\n",
    "solution_2(25, 5)"
   ]
  },
  {
   "cell_type": "code",
   "execution_count": 65,
   "id": "baf63b38",
   "metadata": {},
   "outputs": [
    {
     "data": {
      "text/plain": [
       "5"
      ]
     },
     "execution_count": 65,
     "metadata": {},
     "output_type": "execute_result"
    }
   ],
   "source": [
    "count = 0\n",
    "solution_2(25, 4)"
   ]
  },
  {
   "cell_type": "code",
   "execution_count": 66,
   "id": "088b08fc",
   "metadata": {},
   "outputs": [
    {
     "data": {
      "text/plain": [
       "2"
      ]
     },
     "execution_count": 66,
     "metadata": {},
     "output_type": "execute_result"
    }
   ],
   "source": [
    "count = 0\n",
    "solution_2(9, 3)"
   ]
  },
  {
   "cell_type": "code",
   "execution_count": 67,
   "id": "de1c2ce1",
   "metadata": {},
   "outputs": [
    {
     "data": {
      "text/plain": [
       "26"
      ]
     },
     "execution_count": 67,
     "metadata": {},
     "output_type": "execute_result"
    }
   ],
   "source": [
    "count = 0\n",
    "solution_2(1002423, 3)"
   ]
  },
  {
   "cell_type": "markdown",
   "id": "2b98d6d6",
   "metadata": {},
   "source": [
    "1002423 0         \n",
    "334141  1               \n",
    "334140  2              \n",
    "111380 3            \n",
    "111379 4           \n",
    "111378 5        \n",
    "37126 6           \n",
    "37125 7       \n",
    "12375 8         \n",
    "4125 9     \n",
    "1375 10      \n",
    "1374 11        \n",
    "458 12    \n",
    "457 13   \n",
    "456 14        \n",
    "152 15       \n",
    "151 16                     \n",
    "150 17            \n",
    "50 18              \n",
    "49 19                     \n",
    "48 20           \n",
    "16 21                       \n",
    "15 22             \n",
    "5 23            \n",
    "4 24    \n",
    "3 25                        \n",
    "1 26              "
   ]
  }
 ],
 "metadata": {
  "kernelspec": {
   "display_name": "Python 3",
   "language": "python",
   "name": "python3"
  },
  "language_info": {
   "codemirror_mode": {
    "name": "ipython",
    "version": 3
   },
   "file_extension": ".py",
   "mimetype": "text/x-python",
   "name": "python",
   "nbconvert_exporter": "python",
   "pygments_lexer": "ipython3",
   "version": "3.7.9"
  }
 },
 "nbformat": 4,
 "nbformat_minor": 5
}
