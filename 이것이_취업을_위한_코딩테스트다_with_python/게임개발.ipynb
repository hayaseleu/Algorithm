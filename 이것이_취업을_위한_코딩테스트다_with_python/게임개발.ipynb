{
 "cells": [
  {
   "cell_type": "code",
   "execution_count": 1,
   "id": "4a63f594",
   "metadata": {},
   "outputs": [
    {
     "name": "stdout",
     "output_type": "stream",
     "text": [
      "4 4\n"
     ]
    }
   ],
   "source": [
    "row, col = map(int, input().split())"
   ]
  },
  {
   "cell_type": "code",
   "execution_count": 4,
   "id": "38540c1b",
   "metadata": {},
   "outputs": [],
   "source": [
    "land = [[0] * col for _ in range(row)]"
   ]
  },
  {
   "cell_type": "code",
   "execution_count": 7,
   "id": "435c0cf4",
   "metadata": {},
   "outputs": [
    {
     "data": {
      "text/plain": [
       "[[0, 0, 0, 0], [0, 0, 0, 0], [0, 0, 0, 0], [0, 0, 0, 0]]"
      ]
     },
     "execution_count": 7,
     "metadata": {},
     "output_type": "execute_result"
    }
   ],
   "source": [
    "land"
   ]
  },
  {
   "cell_type": "code",
   "execution_count": 11,
   "id": "81236e06",
   "metadata": {},
   "outputs": [
    {
     "name": "stdout",
     "output_type": "stream",
     "text": [
      "1 1 0\n"
     ]
    }
   ],
   "source": [
    "x, y, direction = map(int, input().split())\n",
    "land[x][y] = 1"
   ]
  },
  {
   "cell_type": "code",
   "execution_count": 14,
   "id": "e2ebc7a8",
   "metadata": {},
   "outputs": [
    {
     "name": "stdout",
     "output_type": "stream",
     "text": [
      "1 1 1 1\n",
      "1 0 0 1\n",
      "1 1 0 1\n",
      "1 1 1 1\n"
     ]
    }
   ],
   "source": [
    "array = []\n",
    "for i in range(row):\n",
    "    array.append(list(map(int, input().split())))"
   ]
  },
  {
   "cell_type": "code",
   "execution_count": 16,
   "id": "3a3e1c85",
   "metadata": {},
   "outputs": [],
   "source": [
    "dx = [-1, 0, 0, 1]\n",
    "dy = [0, 1, 0, -1]\n",
    "\n",
    "\n",
    "def turn_left():\n",
    "    global direction\n",
    "    direction -= 1\n",
    "    if direction == -1:\n",
    "        direction = 3\n",
    "\n",
    "\n",
    "count = 1\n",
    "turn_time = 0"
   ]
  },
  {
   "cell_type": "code",
   "execution_count": null,
   "id": "56ff90d3",
   "metadata": {},
   "outputs": [],
   "source": [
    "for "
   ]
  },
  {
   "cell_type": "markdown",
   "id": "babd0277",
   "metadata": {},
   "source": [
    "\n",
    "## 생각\n",
    "\n",
    "갈수있는곳, 갈수없는곳으로 구분.        \n",
    "예를 들어 바다는 갈수없는곳임.    \n",
    "하지만 이동하면 그순간 갈수없는곳으로 카운팅    \n",
    "\n"
   ]
  }
 ],
 "metadata": {
  "kernelspec": {
   "display_name": "Python 3",
   "language": "python",
   "name": "python3"
  },
  "language_info": {
   "codemirror_mode": {
    "name": "ipython",
    "version": 3
   },
   "file_extension": ".py",
   "mimetype": "text/x-python",
   "name": "python",
   "nbconvert_exporter": "python",
   "pygments_lexer": "ipython3",
   "version": "3.7.9"
  }
 },
 "nbformat": 4,
 "nbformat_minor": 5
}
