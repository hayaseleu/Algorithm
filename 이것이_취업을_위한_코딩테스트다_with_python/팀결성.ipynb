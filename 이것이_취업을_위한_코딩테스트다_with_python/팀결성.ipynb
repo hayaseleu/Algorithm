{
 "cells": [
  {
   "cell_type": "markdown",
   "id": "1946cb73",
   "metadata": {},
   "source": [
    "학교에서 학생들에게 0번부터 N번까지의 번호 부여.\n",
    "\n",
    "최초에는 모든 학생이 서로 다른 팀으로 구분, 총 N + 1 개의 팀이 존재\n",
    "\n",
    "'팀 합치기'와 '같은 팀 여부 확인 연산'  사용 가능\n",
    "\n",
    "1. 팀 합치기. 두 팀을 합치는 연산\n",
    "\n",
    "2. 같은 팀 여부 확인. 특정한 두 학생이 같은 팀에 속하는지 확인하는 연산.\n",
    "\n",
    "선생님이 M개의 연산을 수행할 때 '같은 팀 여부 확인' 연산에 대한 연산 결과를 출력하는 프로그램 작성."
   ]
  },
  {
   "cell_type": "markdown",
   "id": "7b89e2e7",
   "metadata": {},
   "source": [
    "팀합치기는 0 a b 형태로 주어짐. a학생의 소속팀과 b학생의 소속팀을 합친다는 의미\n",
    "\n",
    "같은 팀 여부는 1 a b 형태로 주어짐 이는 a번 학생과 b번 학생이 같은 팀에 속해 있는지 확인"
   ]
  },
  {
   "cell_type": "code",
   "execution_count": 1,
   "id": "938fdacc",
   "metadata": {},
   "outputs": [
    {
     "name": "stdout",
     "output_type": "stream",
     "text": [
      "7 8\n"
     ]
    }
   ],
   "source": [
    "N, M = map(int, input().split())"
   ]
  },
  {
   "cell_type": "code",
   "execution_count": 31,
   "id": "9f30f5ba",
   "metadata": {},
   "outputs": [],
   "source": [
    "# 팀 합치기 연산\n",
    "def find_team(a, team):\n",
    "    if team[a] != a:\n",
    "        team[a] = find_teams(team[a], team)\n",
    "    return team[a]"
   ]
  },
  {
   "cell_type": "code",
   "execution_count": 32,
   "id": "d823c543",
   "metadata": {},
   "outputs": [],
   "source": [
    "# 같은 팀 여부 연산\n",
    "def union_team(a, b , team):\n",
    "    a , b = find_teams(a, team), find_teams(b, team)\n",
    "    if a < b:\n",
    "        team[b] = a\n",
    "    else:\n",
    "        team[a] = b"
   ]
  },
  {
   "cell_type": "code",
   "execution_count": 35,
   "id": "c4948485",
   "metadata": {},
   "outputs": [
    {
     "name": "stdout",
     "output_type": "stream",
     "text": [
      "0 1 3\n",
      "1 1 7\n",
      "NO\n",
      "0 7 6\n",
      "1 7 1\n",
      "NO\n",
      "0 3 7\n",
      "0 4 2\n",
      "0 1 1\n",
      "1 1 1\n",
      "YES\n"
     ]
    }
   ],
   "source": [
    "teames = [i for i in range(N+1)]\n",
    "\n",
    "for i in range(M):\n",
    "    oper, a, b = map(int, input().split())\n",
    "    # 합치기\n",
    "    if oper == 0:\n",
    "        union_team(a, b, teams)\n",
    "    # 찾기\n",
    "    elif oper == 1:\n",
    "        if find_team(a, teams) == find_team(b,teams):\n",
    "            print('YES')\n",
    "        else:\n",
    "            print('NO')"
   ]
  }
 ],
 "metadata": {
  "kernelspec": {
   "display_name": "Python 3",
   "language": "python",
   "name": "python3"
  },
  "language_info": {
   "codemirror_mode": {
    "name": "ipython",
    "version": 3
   },
   "file_extension": ".py",
   "mimetype": "text/x-python",
   "name": "python",
   "nbconvert_exporter": "python",
   "pygments_lexer": "ipython3",
   "version": "3.7.9"
  }
 },
 "nbformat": 4,
 "nbformat_minor": 5
}
