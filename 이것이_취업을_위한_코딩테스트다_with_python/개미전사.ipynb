{
 "cells": [
  {
   "cell_type": "code",
   "execution_count": 1,
   "metadata": {},
   "outputs": [
    {
     "name": "stdout",
     "output_type": "stream",
     "text": [
      "4\n"
     ]
    }
   ],
   "source": [
    "N = int(input())"
   ]
  },
  {
   "cell_type": "code",
   "execution_count": 6,
   "metadata": {},
   "outputs": [
    {
     "name": "stdout",
     "output_type": "stream",
     "text": [
      "1 3 1 5\n"
     ]
    }
   ],
   "source": [
    "house = list(map(int, input().split()))"
   ]
  },
  {
   "cell_type": "markdown",
   "metadata": {},
   "source": [
    "일단 재귀로 풀어보기"
   ]
  },
  {
   "cell_type": "code",
   "execution_count": 27,
   "metadata": {},
   "outputs": [],
   "source": [
    "def ant_warrior(n):\n",
    "    if n == 0:\n",
    "        return house[n]\n",
    "    if n == 1:\n",
    "        return house[n]    \n",
    "    return max(ant_warrior(n-1), ant_warrior(n-2) + house[n])"
   ]
  },
  {
   "cell_type": "code",
   "execution_count": 31,
   "metadata": {},
   "outputs": [
    {
     "data": {
      "text/plain": [
       "8"
      ]
     },
     "execution_count": 31,
     "metadata": {},
     "output_type": "execute_result"
    }
   ],
   "source": [
    "ant_warrior(3)"
   ]
  },
  {
   "cell_type": "markdown",
   "metadata": {},
   "source": [
    "최대값은 ant_warrior(3) 일때이다."
   ]
  },
  {
   "cell_type": "markdown",
   "metadata": {},
   "source": [
    "현재 ant_warrior를 계산할때는 전단계에서 재귀적으로 풀고 있음\n",
    "\n",
    "-> memorization을 활용해서 더 빠르게 계산할수 있도록 변경"
   ]
  },
  {
   "cell_type": "code",
   "execution_count": 51,
   "metadata": {},
   "outputs": [],
   "source": [
    "dt = [0]*N\n",
    "dt[0] = house[0]\n",
    "dt[1] = max(house[0], house[1])"
   ]
  },
  {
   "cell_type": "code",
   "execution_count": 52,
   "metadata": {},
   "outputs": [],
   "source": [
    "def ant_warrior_dp(n):\n",
    "    if n == 0:\n",
    "        return dt[n]\n",
    "    if n == 1:\n",
    "        return dt[n]\n",
    "    if dt[n] != 0:\n",
    "        return dt[n]\n",
    "    dt[n] = max(ant_warrior_dp(n-1), ant_warrior_dp(n-2) + house[n])\n",
    "    return max(ant_warrior_dp(n-1), ant_warrior_dp(n-2) + house[n] )"
   ]
  },
  {
   "cell_type": "markdown",
   "metadata": {},
   "source": [
    "값을 저장하는 파트만 추가해주면 된다."
   ]
  },
  {
   "cell_type": "code",
   "execution_count": 50,
   "metadata": {},
   "outputs": [
    {
     "data": {
      "text/plain": [
       "8"
      ]
     },
     "execution_count": 50,
     "metadata": {},
     "output_type": "execute_result"
    }
   ],
   "source": [
    "ant_warrior_dp(3)"
   ]
  }
 ],
 "metadata": {
  "kernelspec": {
   "display_name": "Python 3",
   "language": "python",
   "name": "python3"
  },
  "language_info": {
   "codemirror_mode": {
    "name": "ipython",
    "version": 3
   },
   "file_extension": ".py",
   "mimetype": "text/x-python",
   "name": "python",
   "nbconvert_exporter": "python",
   "pygments_lexer": "ipython3",
   "version": "3.7.1"
  }
 },
 "nbformat": 4,
 "nbformat_minor": 2
}
