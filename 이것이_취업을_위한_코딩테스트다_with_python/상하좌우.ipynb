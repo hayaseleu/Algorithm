{
 "cells": [
  {
   "cell_type": "code",
   "execution_count": 31,
   "id": "dec67ca7",
   "metadata": {},
   "outputs": [
    {
     "name": "stdout",
     "output_type": "stream",
     "text": [
      "5\n",
      "R R R U D D\n"
     ]
    }
   ],
   "source": [
    "N = int(input())\n",
    "paper = input().split()"
   ]
  },
  {
   "cell_type": "code",
   "execution_count": 32,
   "id": "d62ec4d4",
   "metadata": {},
   "outputs": [
    {
     "data": {
      "text/plain": [
       "['R', 'R', 'R', 'U', 'D', 'D']"
      ]
     },
     "execution_count": 32,
     "metadata": {},
     "output_type": "execute_result"
    }
   ],
   "source": [
    "paper"
   ]
  },
  {
   "cell_type": "markdown",
   "id": "432e348b",
   "metadata": {},
   "source": [
    "## 처음 푼 풀이"
   ]
  },
  {
   "cell_type": "code",
   "execution_count": 29,
   "id": "506328bb",
   "metadata": {},
   "outputs": [],
   "source": [
    "def solution_1(N, paper):\n",
    "    loc = [1, 1]\n",
    "    for i, j in enumerate(paper):\n",
    "        if j == \"R\":\n",
    "            loc[1] += 1\n",
    "        if j == \"U\":\n",
    "            loc[0] += -1\n",
    "        if j == \"L\":\n",
    "            loc[1] += -1\n",
    "        if j == \"D\":\n",
    "            loc[0] += 1\n",
    "        if (0 < loc[0] < N + 1) and (0 < loc[1] < N + 1):\n",
    "            continue\n",
    "        elif loc[0] == 0:\n",
    "            loc[0] = 1\n",
    "        elif loc[0] == N + 1:\n",
    "            loc[0] = N\n",
    "        elif loc[1] == 0:\n",
    "            loc[1] = 1\n",
    "        elif loc[1] == N + 1:\n",
    "            loc[1] = N\n",
    "    return loc[0], loc[1]"
   ]
  },
  {
   "cell_type": "code",
   "execution_count": 28,
   "id": "29c70a8a",
   "metadata": {},
   "outputs": [
    {
     "data": {
      "text/plain": [
       "(3, 4)"
      ]
     },
     "execution_count": 28,
     "metadata": {},
     "output_type": "execute_result"
    }
   ],
   "source": [
    "solution_1(5, [\"R\", \"R\", \"R\", \"U\", \"D\", \"D\"])"
   ]
  },
  {
   "cell_type": "code",
   "execution_count": 30,
   "id": "ff1bbabf",
   "metadata": {},
   "outputs": [
    {
     "data": {
      "text/plain": [
       "(2, 2)"
      ]
     },
     "execution_count": 30,
     "metadata": {},
     "output_type": "execute_result"
    }
   ],
   "source": [
    "solution_1(2, [\"R\", \"R\", \"R\", \"U\", \"D\", \"D\"])"
   ]
  },
  {
   "cell_type": "markdown",
   "id": "8559f3f1",
   "metadata": {},
   "source": [
    "## 더 구체적인 풀이"
   ]
  },
  {
   "cell_type": "code",
   "execution_count": 40,
   "id": "3537b639",
   "metadata": {},
   "outputs": [
    {
     "name": "stdout",
     "output_type": "stream",
     "text": [
      "7\n",
      "R R R U D D R R\n"
     ]
    }
   ],
   "source": [
    "n = int(input())\n",
    "plans = input().split()"
   ]
  },
  {
   "cell_type": "code",
   "execution_count": 32,
   "id": "810480fe",
   "metadata": {},
   "outputs": [],
   "source": [
    "def solution_2(n, plans):\n",
    "    x, y = 1, 1\n",
    "    dx = [0, 0, -1, 1]\n",
    "    dy = [-1, 1, 0, 0]\n",
    "    move_types = [\"L\", \"R\", \"U\", \"D\"]\n",
    "\n",
    "    for plan in plans:\n",
    "        for i in range(len(move_types)):\n",
    "            if plan == move_types[i]:\n",
    "                nx = x + dx[i]\n",
    "                ny = y + dy[i]\n",
    "\n",
    "        if nx < 1 or ny < 1 or nx > n or ny > n:\n",
    "            continue\n",
    "\n",
    "        x, y = nx, ny\n",
    "\n",
    "    return (x, y)"
   ]
  },
  {
   "cell_type": "code",
   "execution_count": 35,
   "id": "5f783adf",
   "metadata": {},
   "outputs": [
    {
     "data": {
      "text/plain": [
       "(3, 6)"
      ]
     },
     "execution_count": 35,
     "metadata": {},
     "output_type": "execute_result"
    }
   ],
   "source": [
    "solution_2(7, [\"R\", \"R\", \"R\", \"R\", \"R\", \"U\", \"D\", \"D\"])"
   ]
  },
  {
   "cell_type": "markdown",
   "id": "20f832ff",
   "metadata": {},
   "source": [
    "### 구체적인 코드 변형"
   ]
  },
  {
   "cell_type": "code",
   "execution_count": 37,
   "id": "1f002287",
   "metadata": {},
   "outputs": [],
   "source": [
    "def solution_3(n, plans):\n",
    "    x, y = 1, 1\n",
    "    dx = [0, 0, -1, 1]\n",
    "    dy = [-1, 1, 0, 0]\n",
    "    move_types = [\"L\", \"R\", \"U\", \"D\"]\n",
    "\n",
    "    for plan in plans:\n",
    "        for i, j in enumerate(move_types):\n",
    "            if plan == j:\n",
    "                nx = x + dx[i]\n",
    "                ny = y + dy[i]\n",
    "\n",
    "        if nx < 1 or ny < 1 or nx > n or ny > n:\n",
    "            continue\n",
    "\n",
    "        x, y = nx, ny\n",
    "\n",
    "    return (x, y)"
   ]
  },
  {
   "cell_type": "code",
   "execution_count": 38,
   "id": "bdbecec5",
   "metadata": {},
   "outputs": [
    {
     "data": {
      "text/plain": [
       "(3, 6)"
      ]
     },
     "execution_count": 38,
     "metadata": {},
     "output_type": "execute_result"
    }
   ],
   "source": [
    "solution_3(7, [\"R\", \"R\", \"R\", \"R\", \"R\", \"U\", \"D\", \"D\"])"
   ]
  }
 ],
 "metadata": {
  "kernelspec": {
   "display_name": "Python 3",
   "language": "python",
   "name": "python3"
  },
  "language_info": {
   "codemirror_mode": {
    "name": "ipython",
    "version": 3
   },
   "file_extension": ".py",
   "mimetype": "text/x-python",
   "name": "python",
   "nbconvert_exporter": "python",
   "pygments_lexer": "ipython3",
   "version": "3.7.9"
  }
 },
 "nbformat": 4,
 "nbformat_minor": 5
}
