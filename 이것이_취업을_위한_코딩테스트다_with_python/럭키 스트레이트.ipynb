{
 "cells": [
  {
   "cell_type": "code",
   "execution_count": 1,
   "id": "c5174030",
   "metadata": {},
   "outputs": [],
   "source": [
    "quest = 123402"
   ]
  },
  {
   "cell_type": "code",
   "execution_count": 3,
   "id": "a12aa406",
   "metadata": {},
   "outputs": [
    {
     "data": {
      "text/plain": [
       "6"
      ]
     },
     "execution_count": 3,
     "metadata": {},
     "output_type": "execute_result"
    }
   ],
   "source": [
    "len(str(quest))"
   ]
  },
  {
   "cell_type": "code",
   "execution_count": null,
   "id": "d3f867b8",
   "metadata": {},
   "outputs": [],
   "source": [
    "left = 0\n",
    "right = 0\n",
    "for i,j in enumerate(str(quest)):\n",
    "    if i > "
   ]
  }
 ],
 "metadata": {
  "kernelspec": {
   "display_name": "Python 3",
   "language": "python",
   "name": "python3"
  },
  "language_info": {
   "codemirror_mode": {
    "name": "ipython",
    "version": 3
   },
   "file_extension": ".py",
   "mimetype": "text/x-python",
   "name": "python",
   "nbconvert_exporter": "python",
   "pygments_lexer": "ipython3",
   "version": "3.7.9"
  }
 },
 "nbformat": 4,
 "nbformat_minor": 5
}
