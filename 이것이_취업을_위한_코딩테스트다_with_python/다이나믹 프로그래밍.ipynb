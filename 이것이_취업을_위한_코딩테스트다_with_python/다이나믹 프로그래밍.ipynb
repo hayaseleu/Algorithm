{
 "cells": [
  {
   "cell_type": "code",
   "execution_count": 15,
   "id": "0775f975",
   "metadata": {},
   "outputs": [],
   "source": [
    "import collections"
   ]
  },
  {
   "cell_type": "markdown",
   "id": "d7dbde9c",
   "metadata": {},
   "source": [
    "# 다이나믹 프로그래밍\n",
    "\n",
    "사실 대부분의 다이나믹 프로그래밍 문제는 어렵기 때문에, 가장 기본에 충실한 문제를 낼 수 밖에 없음.\n",
    "\n",
    "그래서 피보나치 수열은 기본 중의 기본으로 재귀와 다이나믹 프로그래밍 모두를 한번에 평가할 수 있어서 자주 나옴.\n",
    "\n",
    "## 피보나치 수열 풀이"
   ]
  },
  {
   "cell_type": "markdown",
   "id": "8a223621",
   "metadata": {},
   "source": [
    "### 풀이 1 - 재귀 구조 브루트 포스"
   ]
  },
  {
   "cell_type": "code",
   "execution_count": 5,
   "id": "6f7fe6dd",
   "metadata": {},
   "outputs": [],
   "source": [
    "### 재귀 구조 브루트 포스\n",
    "\n",
    "\n",
    "class Solution:\n",
    "    def fib(self, N):\n",
    "        if N <= 1:\n",
    "            return N\n",
    "        return self.fib(N - 1) + self.fib(N - 2)\n",
    "\n",
    "\n",
    "## 가장 기본적이고 느린 알고리즘`"
   ]
  },
  {
   "cell_type": "code",
   "execution_count": 12,
   "id": "798827fa",
   "metadata": {},
   "outputs": [
    {
     "data": {
      "text/plain": [
       "5"
      ]
     },
     "execution_count": 12,
     "metadata": {},
     "output_type": "execute_result"
    }
   ],
   "source": [
    "a = Solution()\n",
    "a.fib(5)"
   ]
  },
  {
   "cell_type": "markdown",
   "id": "e05a832d",
   "metadata": {},
   "source": [
    "### 풀이 2 - 메모이제이션(하향식)\n",
    "하향식으로 풀이로 정리 우리가 원했던 가장 우아한 풀이"
   ]
  },
  {
   "cell_type": "code",
   "execution_count": 21,
   "id": "326a19aa",
   "metadata": {},
   "outputs": [],
   "source": [
    "class Solution:\n",
    "    dp = collections.defaultdict(int)\n",
    "\n",
    "    def fib(self, N):\n",
    "        if N <= 1:\n",
    "            return N\n",
    "\n",
    "        if self.dp[N]:\n",
    "            return self.dp[N]\n",
    "        self.dp[N] = self.fib(N - 1) + self.fib(N - 2)\n",
    "        return self.dp[N]"
   ]
  },
  {
   "cell_type": "code",
   "execution_count": 22,
   "id": "c9f5c1a5",
   "metadata": {},
   "outputs": [
    {
     "data": {
      "text/plain": [
       "5"
      ]
     },
     "execution_count": 22,
     "metadata": {},
     "output_type": "execute_result"
    }
   ],
   "source": [
    "a = Solution()\n",
    "a.fib(5)"
   ]
  },
  {
   "cell_type": "code",
   "execution_count": 19,
   "id": "5ee174e5",
   "metadata": {},
   "outputs": [
    {
     "data": {
      "text/plain": [
       "defaultdict(int, {1: 3})"
      ]
     },
     "execution_count": 19,
     "metadata": {},
     "output_type": "execute_result"
    }
   ],
   "source": [
    "dp"
   ]
  },
  {
   "cell_type": "markdown",
   "id": "a66c73b9",
   "metadata": {},
   "source": [
    "### 풀이 3 - 타뷸라이제이션 (상향식)\n",
    "재귀 대신 반복으로 풀이, 작은 값부터 직접 계산하면서 타뷸레이션함.           \n",
    "미리 계산하는 방식인데 다른 다이나믹 프로그래밍 문제는 복잡하나 피보나치에서는 일차원 선형구조라 복잡하지 않고 구조가 단순해 이해하기 쉽다."
   ]
  },
  {
   "cell_type": "code",
   "execution_count": 23,
   "id": "38fbb8ab",
   "metadata": {},
   "outputs": [],
   "source": [
    "class Solution:\n",
    "    dp = collections.defaultdict(int)\n",
    "\n",
    "    def fib(self, N):\n",
    "        self.dp[1] = 1\n",
    "\n",
    "        for i in range(2, N + 1):\n",
    "            self.dp[i] = self.dp[i - 1] + self.dp[i - 2]\n",
    "        return self.dp[N]"
   ]
  },
  {
   "cell_type": "code",
   "execution_count": 24,
   "id": "26bfa92c",
   "metadata": {},
   "outputs": [
    {
     "data": {
      "text/plain": [
       "5"
      ]
     },
     "execution_count": 24,
     "metadata": {},
     "output_type": "execute_result"
    }
   ],
   "source": [
    "a = Solution()\n",
    "a.fib(5)"
   ]
  },
  {
   "cell_type": "markdown",
   "id": "d8c457c8",
   "metadata": {},
   "source": [
    "### 풀이 4 - 두변수만 이용해 공간 절약\n",
    "\n",
    "이전의 풀이는 dp라는 딕셔너리에 결과를 차곡차곡 담아 나갔지만 변수 2개만 있어도 충분함                \n",
    "클래스 밖에 dp 변수를 선언하지도 않기 떄문에 코드가 훨씬 간결해지며, 공간 복잡도도 O(n)에서 O(1)로 감소             \n",
    "시간 복잡도는 O(n)으로 동일하기 때문에 매우 효율적임"
   ]
  },
  {
   "cell_type": "code",
   "execution_count": 25,
   "id": "bc71f0af",
   "metadata": {},
   "outputs": [],
   "source": [
    "class Solution:\n",
    "    def fib(self, N):\n",
    "        x, y = 0, 1\n",
    "        for i in range(0, N):\n",
    "            x, y = y, x + y\n",
    "        return x"
   ]
  },
  {
   "cell_type": "code",
   "execution_count": 26,
   "id": "0cf63ae5",
   "metadata": {},
   "outputs": [
    {
     "data": {
      "text/plain": [
       "5"
      ]
     },
     "execution_count": 26,
     "metadata": {},
     "output_type": "execute_result"
    }
   ],
   "source": [
    "a = Solution()\n",
    "a.fib(5)"
   ]
  },
  {
   "cell_type": "markdown",
   "id": "ebd8d477",
   "metadata": {},
   "source": [
    "### 풀이 5 - 행렬\n",
    "앞선 풀이들보다 훨씬 더 빠른 알고리즘. n번째 피보나치 수를 O(log n)번의 연산만으로 구하는 방법.            \n",
    "행렬식으로 표현하고 n번째 피보나치 수를 구하는 방법임."
   ]
  },
  {
   "cell_type": "markdown",
   "id": "0db137f6",
   "metadata": {},
   "source": [
    "https://ohgym.tistory.com/1"
   ]
  },
  {
   "cell_type": "code",
   "execution_count": 29,
   "id": "16c91d0b",
   "metadata": {},
   "outputs": [],
   "source": [
    "import numpy as np"
   ]
  },
  {
   "cell_type": "code",
   "execution_count": 32,
   "id": "a0976175",
   "metadata": {},
   "outputs": [],
   "source": [
    "def fib(n):\n",
    "    M = np.matrix([[0, 1], [1, 1]])\n",
    "    vec = np.array([[0], [1]])\n",
    "    return np.matmul(M ** n, vec)[0]"
   ]
  },
  {
   "cell_type": "code",
   "execution_count": 33,
   "id": "c47ddcf9",
   "metadata": {},
   "outputs": [
    {
     "data": {
      "text/plain": [
       "matrix([[695895453]])"
      ]
     },
     "execution_count": 33,
     "metadata": {},
     "output_type": "execute_result"
    }
   ],
   "source": [
    "fib(65)"
   ]
  },
  {
   "cell_type": "markdown",
   "id": "e77e4a5e",
   "metadata": {},
   "source": [
    "### 0-1 배낭 문제\n",
    "\n",
    "조합 최적화 분야의 유명한 문제로 배낭에 담을 수 있는 무게의 최댓값이 정해져 있고,             \n",
    "각각 짐의 가치($ 단위)와 무게(kg 단위)가 있는 짐들을 배낭에 넣을 때 가치의 합이 최대가 되도록, 짐을 고르는 방법을 찾는 문제임.\n",
    "\n",
    "짐을 쪼갤 수 있는 경우는 분할가능 배낭 문제로 그리디 알고리즘으로 풀 수 있고,               \n",
    "짐을 쪼갤 수 없는 경우 0-1 배낭 문제로 다이나믹 프로그래밍으로 풀 수 있음.                          "
   ]
  },
  {
   "cell_type": "markdown",
   "id": "636c843b",
   "metadata": {},
   "source": [
    "### 쪼갤 수 있는 경우(그리디 알고리즘)\n",
    "\n",
    "가방 최대 적재 용량 15kg"
   ]
  },
  {
   "cell_type": "code",
   "execution_count": 37,
   "id": "3545d7ef",
   "metadata": {},
   "outputs": [],
   "source": [
    "cargo = [(4, 12), (2, 1), (10, 4), (1, 1), (2, 2)]  # 가치, 무게"
   ]
  },
  {
   "cell_type": "code",
   "execution_count": 46,
   "id": "22f587c1",
   "metadata": {},
   "outputs": [],
   "source": [
    "def fractional_knapsack(cargo):\n",
    "    capacity = 15\n",
    "    pack = []\n",
    "    # 단가 계산 역순 정렬\n",
    "    for c in cargo:\n",
    "        pack.append((c[0] / c[1], c[0], c[1]))  # 단가, 가치, 무게\n",
    "    pack.sort(reverse=True)  # 단가를 기준으로 정렬됨.\n",
    "\n",
    "    # 단가 순 그리디 계산\n",
    "    total_value = 0\n",
    "    for p in pack:\n",
    "        if capacity - p[2] >= 0:\n",
    "            capacity -= p[2]\n",
    "            total_value += p[1]\n",
    "        else:\n",
    "            fraction = capacity / p[2]\n",
    "            total_value += p[1] * fraction\n",
    "            break\n",
    "\n",
    "    return total_value"
   ]
  },
  {
   "cell_type": "code",
   "execution_count": 47,
   "id": "b06b27c8",
   "metadata": {},
   "outputs": [
    {
     "data": {
      "text/plain": [
       "17.333333333333332"
      ]
     },
     "execution_count": 47,
     "metadata": {},
     "output_type": "execute_result"
    }
   ],
   "source": [
    "fractional_knapsack(cargo)"
   ]
  },
  {
   "cell_type": "markdown",
   "id": "35913fdd",
   "metadata": {},
   "source": [
    "### 쪼갤 수 없는 경우(다이나믹 프로그래밍)\n",
    "\n",
    "가방 최대 적재 용량 15kg\n",
    "\n",
    "'중복된 하위 문제들' 속성을 갖고 있으므로 다이나믹 프로그래밍으로는 풀 수 없음.                \n",
    "짐을 쪼갤 수 없기 때문에 모든 경우의 수를 다 계산해야하며, 모든 경우의 수를 계산하는 문제에서 다이나믹 프로그래밍은 위력을 발휘함.\n",
    "\n",
    "pack이라는 리스트 변수에 6 * 16 행렬 형태의 중간 결과 테이블이 생성될 것임.                  \n",
    "즉 이 테이블을 글자 그대로 타뷸레이션하는 다이나믹 프로그래밍 풀이가 될 것임.            \n",
    "\n",
    "이 테이블 크기의 기준은 짐의 최대 갯수 + 1, 배낭의 최대 용량 + 1 이렇게 6 * 16 이며\n",
    "\n",
    "이 테이블의 각각 셀에는 그 위치까지의 짐의 개수와 배낭의 용량에 따른 최댓값이 담기게 됨."
   ]
  },
  {
   "cell_type": "code",
   "execution_count": 48,
   "id": "5db93a80",
   "metadata": {},
   "outputs": [],
   "source": [
    "cargo = [(4, 12), (2, 1), (10, 4), (1, 1), (2, 2)]  # 가치, 무게"
   ]
  },
  {
   "cell_type": "code",
   "execution_count": 55,
   "id": "6098346a",
   "metadata": {},
   "outputs": [],
   "source": [
    "def zero_one_knapsack(cargo):\n",
    "    capacity = 15\n",
    "    global pack\n",
    "    pack = []\n",
    "\n",
    "    for i in range(len(cargo) + 1): # 6 행, i 는 짐 개수  \n",
    "        pack.append([]) \n",
    "        for c in range(capacity + 1): # 16 열,  c 는 배낭 용량\n",
    "            if i == 0 or c == 0: \n",
    "                pack[i].append(0)\n",
    "            elif cargo[i - 1][1] <= c: # cargo의 [i-1]의 무게 \n",
    "                pack[i].append(\n",
    "                    max(\n",
    "                        cargo[i - 1][0] + pack[i - 1][c - cargo[i - 1][1]], # \n",
    "                        pack[i - 1][c], # 바로 윗 행 값\n",
    "                    )\n",
    "                )\n",
    "            else:\n",
    "                pack[i].append(pack[i - 1][c])\n",
    "\n",
    "    return pack[-1][-1]"
   ]
  },
  {
   "cell_type": "code",
   "execution_count": 57,
   "id": "b333450b",
   "metadata": {},
   "outputs": [
    {
     "data": {
      "text/plain": [
       "15"
      ]
     },
     "execution_count": 57,
     "metadata": {},
     "output_type": "execute_result"
    }
   ],
   "source": [
    "z = zero_one_knapsack(cargo)\n",
    "z"
   ]
  },
  {
   "cell_type": "code",
   "execution_count": 59,
   "id": "44f40887",
   "metadata": {},
   "outputs": [],
   "source": [
    "import pandas as pd"
   ]
  },
  {
   "cell_type": "code",
   "execution_count": 71,
   "id": "0653bedf",
   "metadata": {},
   "outputs": [
    {
     "data": {
      "text/html": [
       "<div>\n",
       "<style scoped>\n",
       "    .dataframe tbody tr th:only-of-type {\n",
       "        vertical-align: middle;\n",
       "    }\n",
       "\n",
       "    .dataframe tbody tr th {\n",
       "        vertical-align: top;\n",
       "    }\n",
       "\n",
       "    .dataframe thead th {\n",
       "        text-align: right;\n",
       "    }\n",
       "</style>\n",
       "<table border=\"1\" class=\"dataframe\">\n",
       "  <thead>\n",
       "    <tr style=\"text-align: right;\">\n",
       "      <th>배낭용량</th>\n",
       "      <th>0</th>\n",
       "      <th>1</th>\n",
       "      <th>2</th>\n",
       "      <th>3</th>\n",
       "      <th>4</th>\n",
       "      <th>5</th>\n",
       "      <th>6</th>\n",
       "      <th>7</th>\n",
       "      <th>8</th>\n",
       "      <th>9</th>\n",
       "      <th>10</th>\n",
       "      <th>11</th>\n",
       "      <th>12</th>\n",
       "      <th>13</th>\n",
       "      <th>14</th>\n",
       "      <th>15</th>\n",
       "    </tr>\n",
       "    <tr>\n",
       "      <th>짐 개수</th>\n",
       "      <th></th>\n",
       "      <th></th>\n",
       "      <th></th>\n",
       "      <th></th>\n",
       "      <th></th>\n",
       "      <th></th>\n",
       "      <th></th>\n",
       "      <th></th>\n",
       "      <th></th>\n",
       "      <th></th>\n",
       "      <th></th>\n",
       "      <th></th>\n",
       "      <th></th>\n",
       "      <th></th>\n",
       "      <th></th>\n",
       "      <th></th>\n",
       "    </tr>\n",
       "  </thead>\n",
       "  <tbody>\n",
       "    <tr>\n",
       "      <th>0</th>\n",
       "      <td>0</td>\n",
       "      <td>0</td>\n",
       "      <td>0</td>\n",
       "      <td>0</td>\n",
       "      <td>0</td>\n",
       "      <td>0</td>\n",
       "      <td>0</td>\n",
       "      <td>0</td>\n",
       "      <td>0</td>\n",
       "      <td>0</td>\n",
       "      <td>0</td>\n",
       "      <td>0</td>\n",
       "      <td>0</td>\n",
       "      <td>0</td>\n",
       "      <td>0</td>\n",
       "      <td>0</td>\n",
       "    </tr>\n",
       "    <tr>\n",
       "      <th>1</th>\n",
       "      <td>0</td>\n",
       "      <td>0</td>\n",
       "      <td>0</td>\n",
       "      <td>0</td>\n",
       "      <td>0</td>\n",
       "      <td>0</td>\n",
       "      <td>0</td>\n",
       "      <td>0</td>\n",
       "      <td>0</td>\n",
       "      <td>0</td>\n",
       "      <td>0</td>\n",
       "      <td>0</td>\n",
       "      <td>4</td>\n",
       "      <td>4</td>\n",
       "      <td>4</td>\n",
       "      <td>4</td>\n",
       "    </tr>\n",
       "    <tr>\n",
       "      <th>2</th>\n",
       "      <td>0</td>\n",
       "      <td>2</td>\n",
       "      <td>2</td>\n",
       "      <td>2</td>\n",
       "      <td>2</td>\n",
       "      <td>2</td>\n",
       "      <td>2</td>\n",
       "      <td>2</td>\n",
       "      <td>2</td>\n",
       "      <td>2</td>\n",
       "      <td>2</td>\n",
       "      <td>2</td>\n",
       "      <td>4</td>\n",
       "      <td>6</td>\n",
       "      <td>6</td>\n",
       "      <td>6</td>\n",
       "    </tr>\n",
       "    <tr>\n",
       "      <th>3</th>\n",
       "      <td>0</td>\n",
       "      <td>2</td>\n",
       "      <td>2</td>\n",
       "      <td>2</td>\n",
       "      <td>10</td>\n",
       "      <td>12</td>\n",
       "      <td>12</td>\n",
       "      <td>12</td>\n",
       "      <td>12</td>\n",
       "      <td>12</td>\n",
       "      <td>12</td>\n",
       "      <td>12</td>\n",
       "      <td>12</td>\n",
       "      <td>12</td>\n",
       "      <td>12</td>\n",
       "      <td>12</td>\n",
       "    </tr>\n",
       "    <tr>\n",
       "      <th>4</th>\n",
       "      <td>0</td>\n",
       "      <td>2</td>\n",
       "      <td>3</td>\n",
       "      <td>3</td>\n",
       "      <td>10</td>\n",
       "      <td>12</td>\n",
       "      <td>13</td>\n",
       "      <td>13</td>\n",
       "      <td>13</td>\n",
       "      <td>13</td>\n",
       "      <td>13</td>\n",
       "      <td>13</td>\n",
       "      <td>13</td>\n",
       "      <td>13</td>\n",
       "      <td>13</td>\n",
       "      <td>13</td>\n",
       "    </tr>\n",
       "    <tr>\n",
       "      <th>5</th>\n",
       "      <td>0</td>\n",
       "      <td>2</td>\n",
       "      <td>3</td>\n",
       "      <td>4</td>\n",
       "      <td>10</td>\n",
       "      <td>12</td>\n",
       "      <td>13</td>\n",
       "      <td>14</td>\n",
       "      <td>15</td>\n",
       "      <td>15</td>\n",
       "      <td>15</td>\n",
       "      <td>15</td>\n",
       "      <td>15</td>\n",
       "      <td>15</td>\n",
       "      <td>15</td>\n",
       "      <td>15</td>\n",
       "    </tr>\n",
       "  </tbody>\n",
       "</table>\n",
       "</div>"
      ],
      "text/plain": [
       "배낭용량  0   1   2   3   4   5   6   7   8   9   10  11  12  13  14  15\n",
       "짐 개수                                                                \n",
       "0      0   0   0   0   0   0   0   0   0   0   0   0   0   0   0   0\n",
       "1      0   0   0   0   0   0   0   0   0   0   0   0   4   4   4   4\n",
       "2      0   2   2   2   2   2   2   2   2   2   2   2   4   6   6   6\n",
       "3      0   2   2   2  10  12  12  12  12  12  12  12  12  12  12  12\n",
       "4      0   2   3   3  10  12  13  13  13  13  13  13  13  13  13  13\n",
       "5      0   2   3   4  10  12  13  14  15  15  15  15  15  15  15  15"
      ]
     },
     "execution_count": 71,
     "metadata": {},
     "output_type": "execute_result"
    }
   ],
   "source": [
    "result =  pd.DataFrame(pack) \n",
    "result.columns = pd.Index([0,1,2,3,4,5,6,7,8,9,10,11,12,13,14,15], name = '배낭용량')\n",
    "result.index = pd.Index([0,1,2,3,4,5], name = '짐 개수')\n",
    "result # 행은 짐 개수, 열은 배낭용량 값은 가치를 나타냄"
   ]
  },
  {
   "cell_type": "markdown",
   "id": "cf6ebada",
   "metadata": {},
   "source": [
    "![ex_screenshot](./image/dp.jpeg)"
   ]
  },
  {
   "cell_type": "markdown",
   "id": "ffd26fdc",
   "metadata": {},
   "source": [
    "다이나믹 프로그래밍은 가장 난이도가 높은 문제들이 해당함. 오늘 배운 피보나치와 0-1 배낭은 가장 쉬운편.            \n",
    "\n",
    "코딩 테스트 중에서는 다이나믹 프로그래밍을 풀어도, 실제 면접 코딩에서는 다이나믹 프로그래밍을 떠올리기가 쉽지 않음.\n",
    "\n",
    "그래서 미국회사들과 카카오에서도 면접에서는 다이나믹 프로그래밍 문제는 되도록이면 출제하지않음.\n",
    "\n",
    "코테는 알고리즘 경진대회가 아니며 30분 남짓한 코딩 테스트 면접에서 실행 속도까지 측정해서 평가하는 것은 지나치게 \n",
    "\n",
    "난이도가 높다고 판단했기 때문임. "
   ]
  },
  {
   "cell_type": "markdown",
   "id": "914a3e0d",
   "metadata": {},
   "source": [
    "### 점화식으로 풀리는 문제들 \n",
    "\n",
    "2차원 점화식"
   ]
  },
  {
   "cell_type": "markdown",
   "id": "799c7c0a",
   "metadata": {},
   "source": [
    "### 연쇄행렬곱셈"
   ]
  },
  {
   "cell_type": "markdown",
   "id": "0c9238b8",
   "metadata": {},
   "source": [
    "### 메모이제이션의 다양한 방법들\n",
    "\n",
    "n가지 입력이 가능하다다고 할때, 입력을 [0, n - 1 ]  범위의 정수와 1:1 대응하는 함수로 만듬.        \n",
    "-> 1차원 배열을 통해 메모이제이션 가능"
   ]
  },
  {
   "cell_type": "markdown",
   "id": "51198588",
   "metadata": {},
   "source": [
    "#### 1 대 1 함수를 만드는 법\n",
    "\n",
    "* 입력이 특정 문자열 / 배열의 일부:         \n",
    "  입력 문자열 A가 어떤 문자열 S의 suffix(접미사)라고하면            \n",
    "  A를 전달하지않고 S에서 A의 시작 인덱스를 전달 => 1차원!\n",
    "  \n",
    "  \n",
    "* 입력이 특정 문자열의 연속된 일부:         \n",
    "  S내에서 시작과 끝 위치를 전달 => 2차원!\n",
    "  \n",
    "\n",
    "* 입력이 bool 값의 배열:                \n",
    "    [ture, false, false, false, ture] = 10001_{2진법}        \n",
    "    입력을 n자리 이진수로 봐서 [0, 2^N - 1] 범위의 정수로 전달\n",
    "    \n",
    "    \n",
    "* 입력이 순열인 경우         \n",
    "  n! 개의 조합이 있을경우                \n",
    "  조합이 주어질때 이가 저장된 사전에서 몇번째 오는지 반환하는 함수를 만들 수 있음"
   ]
  },
  {
   "cell_type": "markdown",
   "id": "71bd9508",
   "metadata": {},
   "source": [
    "참고 자료\n",
    "\n",
    "http://andromeda-express.com/dp/#slide62\n",
    "\n",
    "https://www.youtube.com/watch?v=5MXOUix_Ud4\n",
    "\n",
    "파이썬 알고리즘 인터뷰"
   ]
  }
 ],
 "metadata": {
  "kernelspec": {
   "display_name": "Python 3",
   "language": "python",
   "name": "python3"
  },
  "language_info": {
   "codemirror_mode": {
    "name": "ipython",
    "version": 3
   },
   "file_extension": ".py",
   "mimetype": "text/x-python",
   "name": "python",
   "nbconvert_exporter": "python",
   "pygments_lexer": "ipython3",
   "version": "3.7.9"
  }
 },
 "nbformat": 4,
 "nbformat_minor": 5
}
