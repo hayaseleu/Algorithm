{
 "cells": [
  {
   "cell_type": "markdown",
   "id": "041ec5b6",
   "metadata": {},
   "source": [
    "마을은 N 개의 집과 그 집을 연결하는 M개의 길로 이루어져있음. \n",
    "\n",
    "길은 방향성 X, 길은 길마다 유지비가 존재함.\n",
    "\n",
    "이장은 마을을 2개로 분할할 계획을 세우고 있음.\n",
    "\n",
    "조건 \n",
    "* 분할할때는 분리된 마을 안에 집들이 서로 연결되도록 분할 해야함.\n",
    "\n",
    "* 즉 각 분리된 마을에 있는 임의의 두 집 사이에 경로가 항상 존재해야함.\n",
    "\n",
    "* 마을에는 집이 하나 이상 있어야함.\n",
    "\n",
    "* 일단 분리된 마을 사이에 있는 길들은 필요 없으므로 없앨 수 있음.\n",
    "\n",
    "* 각 분리된 마을 안에서도 임의의 두집 사이에 경로가 항상 존재하게 하면서 길을 더 없앨 수 있음.\n",
    "\n",
    "\n",
    "이장은 위 조건을 만족하면서 길들을 모두 없애고 나머지 길의 유지비를 최소로 하고 싶다."
   ]
  },
  {
   "cell_type": "markdown",
   "id": "2d82e724",
   "metadata": {},
   "source": [
    "# 최초 생각\n",
    "\n",
    "1.  분할한 마을은 신장 트리 -> (비용을 최소화하는 크루스칼 알고리즘 필요) \n",
    "2. 그렇다면 어떻게 마을을 분할해야할까? \n",
    "3.  마을을 2개로 쪼개는 모든 경우의 수를 다 한후 다 크루스칼 알고리즘 돌려서\n",
    "4.  제일 최솟값 찾아보기."
   ]
  },
  {
   "cell_type": "markdown",
   "id": "5296b32e",
   "metadata": {},
   "source": [
    "##  라고 생각했는데 틀림 \n",
    "\n",
    "왜냐하면 일단 신장 트리를 만든후에\n",
    "신장 트리에서 제일 비용이 큰 간선을 제거하는게 더 빠른 방법이다."
   ]
  },
  {
   "cell_type": "code",
   "execution_count": 2,
   "id": "c94bbee9",
   "metadata": {},
   "outputs": [
    {
     "name": "stdout",
     "output_type": "stream",
     "text": [
      "7 12\n"
     ]
    }
   ],
   "source": [
    "N, M = map(int, input().split())"
   ]
  },
  {
   "cell_type": "code",
   "execution_count": 3,
   "id": "d4b233a8",
   "metadata": {},
   "outputs": [],
   "source": [
    "def find_parent(parent, x):\n",
    "    if parent[x] != x:\n",
    "        parent[x] = find_parent(parent, parent[x])\n",
    "    return parent[x]\n",
    "\n",
    "\n",
    "def union_parent(parent, a, b):\n",
    "    a, b = find_parent(parent, a), find_parent(parent, b)\n",
    "    if a < b:\n",
    "        parent[b] = a\n",
    "    else:\n",
    "        parent[a] = b"
   ]
  },
  {
   "cell_type": "code",
   "execution_count": 7,
   "id": "0d81f7f9",
   "metadata": {},
   "outputs": [],
   "source": [
    "parent = [i for i in range(N + 1)]\n",
    "edges = []\n",
    "result = 0"
   ]
  },
  {
   "cell_type": "code",
   "execution_count": 8,
   "id": "93d69240",
   "metadata": {},
   "outputs": [
    {
     "name": "stdout",
     "output_type": "stream",
     "text": [
      "1 2 3\n",
      "1 3 2\n",
      "3 2 1\n",
      "2 5 2\n",
      "3 4 4\n",
      "7 3 6\n",
      "5 1 5\n",
      "1 6 2\n",
      "6 4 1\n",
      "6 5 3\n",
      "4 5 3\n",
      "6 7 4\n"
     ]
    }
   ],
   "source": [
    "for _ in range(M):\n",
    "    a, b, cost = map(int, input().split())\n",
    "    edges.append((cost, a, b))\n",
    "\n",
    "edges.sort()\n",
    "last = 0"
   ]
  },
  {
   "cell_type": "code",
   "execution_count": 9,
   "id": "6cbc5091",
   "metadata": {},
   "outputs": [
    {
     "name": "stdout",
     "output_type": "stream",
     "text": [
      "8\n"
     ]
    }
   ],
   "source": [
    "for edge in edges:\n",
    "    cost, a, b = edge\n",
    "    # 사이클이 발생하지 않으면 포함하기\n",
    "    if find_parent(parent, a) != find_parent(parent, b):\n",
    "        union_parent(parent, a, b)\n",
    "        result += cost\n",
    "        last = cost  # 이미 edges는 cost 기준으로 sort 됐기에 마지막 cost 가장 큰 비용이다.\n",
    "\n",
    "print(result - last)"
   ]
  }
 ],
 "metadata": {
  "kernelspec": {
   "display_name": "Python 3",
   "language": "python",
   "name": "python3"
  },
  "language_info": {
   "codemirror_mode": {
    "name": "ipython",
    "version": 3
   },
   "file_extension": ".py",
   "mimetype": "text/x-python",
   "name": "python",
   "nbconvert_exporter": "python",
   "pygments_lexer": "ipython3",
   "version": "3.7.9"
  }
 },
 "nbformat": 4,
 "nbformat_minor": 5
}
