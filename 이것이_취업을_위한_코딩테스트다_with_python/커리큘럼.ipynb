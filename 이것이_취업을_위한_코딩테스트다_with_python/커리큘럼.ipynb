{
 "cells": [
  {
   "cell_type": "markdown",
   "id": "7d6ac9d9",
   "metadata": {},
   "source": [
    "온라인으로 강의를 듣고 있다.\n",
    "\n",
    "이때 강의는 선수 강의가 있을 수 있다.\n",
    "\n",
    "총 N개의 강의를 듣고자 한다.\n",
    "\n",
    "모든 강의는 1번부터 N번까지의 번호를 가진다. \n",
    "\n",
    "또한 동시에 여러 개의 강의를 들을 수 있다고 가정한다.\n",
    "\n",
    "예를 들어 N = 3 일때 3번 강의의 선수 강의로 1번, 2번이 있고\n",
    "\n",
    "1번 2번은 선수강의가 없다고 하자\n",
    "\n",
    "1번 강의는 30시간\n",
    "\n",
    "2번 강의는 20시간\n",
    "\n",
    "3번 강의는 40시간 걸린다.\n",
    "\n",
    "그렇다면 \n",
    "\n",
    "1번 강의 수강까지의 최소 시간은 30시간\n",
    "\n",
    "2번 강의의 수강까지의 최소 시간은 20시간\n",
    "\n",
    "3번 강의의 수강까지의 최소시간은 70시간이다.\n",
    "\n",
    "N개의 강의 정보가 주어졌을때, N개의 강의에 대해서 수강할때까지 걸리는 최소 시간을 각각 출력하는 프로그램을 작성하시오"
   ]
  },
  {
   "cell_type": "markdown",
   "id": "101e3415",
   "metadata": {},
   "source": [
    "\n",
    "## 선수강의 -> 위상정렬"
   ]
  },
  {
   "cell_type": "code",
   "execution_count": 3,
   "id": "424ef4b1",
   "metadata": {},
   "outputs": [],
   "source": [
    "def find_parent(x, parent):\n",
    "    if parent[x] != x:\n",
    "        parent[x] = find_parent(parent[x], parent)\n",
    "    return parent[x]"
   ]
  },
  {
   "cell_type": "code",
   "execution_count": 4,
   "id": "c788aa9b",
   "metadata": {},
   "outputs": [],
   "source": [
    "def union_parent(a, b, parent):\n",
    "    a, b = find_parent(a, parent), find_parent(b, parent)\n",
    "    if a < b:\n",
    "        parent[b] = a\n",
    "    else:\n",
    "        parent[a] = b"
   ]
  },
  {
   "cell_type": "code",
   "execution_count": 5,
   "id": "255162fd",
   "metadata": {},
   "outputs": [],
   "source": [
    "from collections import deque"
   ]
  },
  {
   "cell_type": "code",
   "execution_count": 61,
   "id": "e53ba046",
   "metadata": {},
   "outputs": [
    {
     "name": "stdout",
     "output_type": "stream",
     "text": [
      "5\n"
     ]
    }
   ],
   "source": [
    "v = int(input())\n",
    "indegree = [0] * (v + 1)\n",
    "graph = [[] for i in range(v + 1)]\n",
    "time_table = [0] * (v + 1)"
   ]
  },
  {
   "cell_type": "code",
   "execution_count": 63,
   "id": "c6f1e6bb",
   "metadata": {},
   "outputs": [
    {
     "name": "stdout",
     "output_type": "stream",
     "text": [
      "10 -1\n",
      "10 1 -1\n",
      "4 1 -1\n",
      "4 3 1 -1\n",
      "3 3 -1\n"
     ]
    }
   ],
   "source": [
    "for i in range(1, v + 1):\n",
    "    data = list(map(int, input().split()))\n",
    "    time_table[i] = data[0]\n",
    "    for x in data[1:-1]:\n",
    "        indegree[i] += 1\n",
    "        graph[x].append(i)"
   ]
  },
  {
   "cell_type": "code",
   "execution_count": 66,
   "id": "a5627839",
   "metadata": {},
   "outputs": [
    {
     "name": "stdout",
     "output_type": "stream",
     "text": [
      "10\n",
      "20\n",
      "14\n",
      "18\n",
      "17\n"
     ]
    }
   ],
   "source": [
    "def topology_sort():\n",
    "    result = copy.deepcopy(time_table)\n",
    "    q = deque()\n",
    "\n",
    "    for i in range(1, v + 1):\n",
    "        if indegree[i] == 0:\n",
    "            q.append(i)\n",
    "\n",
    "    while q:\n",
    "\n",
    "        now = q.popleft()\n",
    "\n",
    "        for i in graph[now]:\n",
    "\n",
    "            result[i] = max(result[i], result[now] + time_table[i])\n",
    "            indegree[i] += -1\n",
    "\n",
    "            if indegree[i] == 0:\n",
    "                q.append(i)\n",
    "\n",
    "    for i in range(1, v + 1):\n",
    "        print(result[i])\n",
    "\n",
    "\n",
    "topology_sort()"
   ]
  },
  {
   "cell_type": "code",
   "execution_count": 80,
   "id": "d69b86c9",
   "metadata": {},
   "outputs": [],
   "source": [
    "a.append([2])"
   ]
  },
  {
   "cell_type": "code",
   "execution_count": 83,
   "id": "a85c422a",
   "metadata": {},
   "outputs": [
    {
     "data": {
      "text/plain": [
       "[2]"
      ]
     },
     "execution_count": 83,
     "metadata": {},
     "output_type": "execute_result"
    }
   ],
   "source": [
    "a.popleft()"
   ]
  },
  {
   "cell_type": "code",
   "execution_count": 70,
   "id": "83de9ffe",
   "metadata": {},
   "outputs": [
    {
     "data": {
      "text/plain": [
       "[0, 10, 10, 4, 4, 3]"
      ]
     },
     "execution_count": 70,
     "metadata": {},
     "output_type": "execute_result"
    }
   ],
   "source": [
    "time_table"
   ]
  },
  {
   "cell_type": "code",
   "execution_count": 67,
   "id": "a5a63a84",
   "metadata": {},
   "outputs": [
    {
     "data": {
      "text/plain": [
       "[[], [2, 3, 4], [], [4, 5], [], []]"
      ]
     },
     "execution_count": 67,
     "metadata": {},
     "output_type": "execute_result"
    }
   ],
   "source": [
    "graph"
   ]
  }
 ],
 "metadata": {
  "kernelspec": {
   "display_name": "Python 3",
   "language": "python",
   "name": "python3"
  },
  "language_info": {
   "codemirror_mode": {
    "name": "ipython",
    "version": 3
   },
   "file_extension": ".py",
   "mimetype": "text/x-python",
   "name": "python",
   "nbconvert_exporter": "python",
   "pygments_lexer": "ipython3",
   "version": "3.7.9"
  }
 },
 "nbformat": 4,
 "nbformat_minor": 5
}
