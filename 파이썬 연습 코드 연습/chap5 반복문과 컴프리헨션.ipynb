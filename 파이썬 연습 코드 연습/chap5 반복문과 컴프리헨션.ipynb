{
 "cells": [
  {
   "cell_type": "markdown",
   "metadata": {},
   "source": [
    "while - 어떤 조건이 만족되는 동안 문장 반복\n",
    "for - 정해진 횟수만큼 문장 반복 \n",
    "\n",
    "# while "
   ]
  },
  {
   "cell_type": "code",
   "execution_count": 5,
   "metadata": {},
   "outputs": [
    {
     "name": "stdout",
     "output_type": "stream",
     "text": [
      "양의 정수를 입력하세요 : 5\n",
      "1부터 5의까지의 합은 15입니다.\n"
     ]
    }
   ],
   "source": [
    "# 1부터 입력한 정수까지의 합을 구하는 프로그램\n",
    "#### sum.py\n",
    "\n",
    "value = int(input(\"양의 정수를 입력하세요 : \"))\n",
    "\n",
    "sum_value = 0\n",
    "count = 1\n",
    "\n",
    "while count <= value:\n",
    "    sum_value += count \n",
    "    count += 1\n",
    "\n",
    "print(\"1부터 %d의까지의 합은 %d입니다.\" % (value, sum_value))"
   ]
  },
  {
   "cell_type": "code",
   "execution_count": 4,
   "metadata": {},
   "outputs": [
    {
     "name": "stdout",
     "output_type": "stream",
     "text": [
      "양의 정수를 입력하세요 : 5\n"
     ]
    },
    {
     "ename": "KeyboardInterrupt",
     "evalue": "",
     "output_type": "error",
     "traceback": [
      "\u001b[0;31m---------------------------------------------------------------------------\u001b[0m",
      "\u001b[0;31mKeyboardInterrupt\u001b[0m                         Traceback (most recent call last)",
      "\u001b[0;32m<ipython-input-4-67f907a42cce>\u001b[0m in \u001b[0;36m<module>\u001b[0;34m\u001b[0m\n\u001b[1;32m      8\u001b[0m \u001b[0mcount\u001b[0m \u001b[0;34m=\u001b[0m \u001b[0;36m1\u001b[0m\u001b[0;34m\u001b[0m\u001b[0;34m\u001b[0m\u001b[0m\n\u001b[1;32m      9\u001b[0m \u001b[0;34m\u001b[0m\u001b[0m\n\u001b[0;32m---> 10\u001b[0;31m \u001b[0;32mwhile\u001b[0m \u001b[0mcount\u001b[0m \u001b[0;34m<=\u001b[0m \u001b[0mvalue\u001b[0m\u001b[0;34m:\u001b[0m\u001b[0;34m\u001b[0m\u001b[0;34m\u001b[0m\u001b[0m\n\u001b[0m\u001b[1;32m     11\u001b[0m     \u001b[0msum_value\u001b[0m \u001b[0;34m+=\u001b[0m \u001b[0mcount\u001b[0m\u001b[0;34m\u001b[0m\u001b[0;34m\u001b[0m\u001b[0m\n\u001b[1;32m     12\u001b[0m \u001b[0;34m\u001b[0m\u001b[0m\n",
      "\u001b[0;31mKeyboardInterrupt\u001b[0m: "
     ]
    }
   ],
   "source": [
    "# while문 내부에 식의 상태 변경을 위한 문장이 없는 경우\n",
    "#### sum_err.py\n",
    "\n",
    "value = int(input(\"양의 정수를 입력하세요 : \"))\n",
    "\n",
    "sum_value = 0\n",
    "\n",
    "count = 1\n",
    "\n",
    "while count <= value:\n",
    "    sum_value += count \n",
    "\n",
    "print(\"1부터 %d의까지의 합은 %d입니다.\" % (value, sum_value))"
   ]
  },
  {
   "cell_type": "code",
   "execution_count": 7,
   "metadata": {},
   "outputs": [
    {
     "name": "stdout",
     "output_type": "stream",
     "text": [
      "양의 정수를 입력하세요 :4\n",
      "1부터 4까지의 홀수의 합은 4입니다.\n"
     ]
    }
   ],
   "source": [
    "#홀수의 합을 구하는 프로그램 \n",
    "# sum_odd.py\n",
    "\n",
    "value = int(input(\"양의 정수를 입력하세요 :\"))\n",
    "\n",
    "sum_value = 0 \n",
    "count = 1\n",
    "\n",
    "while count <= value : \n",
    "    sum_value += count\n",
    "    count += 2 \n",
    "    \n",
    "print(\"1부터 %d까지의 홀수의 합은 %d입니다.\" % (value, sum_value))"
   ]
  },
  {
   "cell_type": "markdown",
   "metadata": {},
   "source": [
    "위는 한번에 두번 올리기, 밑은 if 문을 사용하여 올리기"
   ]
  },
  {
   "cell_type": "code",
   "execution_count": 8,
   "metadata": {},
   "outputs": [
    {
     "name": "stdout",
     "output_type": "stream",
     "text": [
      "양의 정수를 입력하세요 : 229\n",
      "1부터 229 까지의 짞수의 합은 13104입니다.\n"
     ]
    }
   ],
   "source": [
    "# 짝수의 합을 구하는 프로그램 \n",
    "# sum_even.py\n",
    "\n",
    "value = int(input(\"양의 정수를 입력하세요 : \"))\n",
    "\n",
    "sum_value = 0 \n",
    "count += 1 \n",
    "\n",
    "while count <= value:\n",
    "    if count % 2  == 0:\n",
    "        sum_value += count\n",
    "    count += 1\n",
    "\n",
    "print(\"1부터 %d 까지의 짞수의 합은 %d입니다.\" % (value, sum_value))"
   ]
  },
  {
   "cell_type": "code",
   "execution_count": 10,
   "metadata": {},
   "outputs": [
    {
     "name": "stdout",
     "output_type": "stream",
     "text": [
      "1 * 1 = 1 \n",
      "1 * 2 = 2 \n",
      "1 * 3 = 3 \n",
      "1 * 4 = 4 \n",
      "1 * 5 = 5 \n",
      "1 * 6 = 6 \n",
      "1 * 7 = 7 \n",
      "1 * 8 = 8 \n",
      "1 * 9 = 9 \n",
      "\n",
      "2 * 1 = 2 \n",
      "2 * 2 = 4 \n",
      "2 * 3 = 6 \n",
      "2 * 4 = 8 \n",
      "2 * 5 = 10 \n",
      "2 * 6 = 12 \n",
      "2 * 7 = 14 \n",
      "2 * 8 = 16 \n",
      "2 * 9 = 18 \n",
      "\n"
     ]
    }
   ],
   "source": [
    "# 구구단 출력 프로그램 (while)\n",
    "# print_gugudan_while.py\n",
    "\n",
    "count1 = 1\n",
    "\n",
    "while count1 <= 2:\n",
    "    \n",
    "    count2 = 1\n",
    "    while count2 <= 9:\n",
    "        print(\"%d * %d = %d \" % (count1, count2, count1 * count2))\n",
    "        count2 += 1 \n",
    "        \n",
    "    print(\"\")\n",
    "    count1 += 1     "
   ]
  },
  {
   "cell_type": "markdown",
   "metadata": {},
   "source": [
    "# for\n",
    "\n",
    "파이썬에선 시퀸스 자료형의 모든 요소를 순회하기 위해서 사용한다는게 특별함 "
   ]
  },
  {
   "cell_type": "code",
   "execution_count": 11,
   "metadata": {},
   "outputs": [
    {
     "name": "stdout",
     "output_type": "stream",
     "text": [
      "Kim\n",
      "Lee\n",
      "Park\n",
      "Choi\n"
     ]
    }
   ],
   "source": [
    "#리스트의 요소 출력(while문 사용)\n",
    "# print_list1.py\n",
    "\n",
    "names = [\"Kim\", \"Lee\",\"Park\",\"Choi\"]\n",
    "\n",
    "count = 0 \n",
    "\n",
    "while count < len(names):\n",
    "    print(names[count])\n",
    "    count += 1 "
   ]
  },
  {
   "cell_type": "code",
   "execution_count": 12,
   "metadata": {},
   "outputs": [
    {
     "name": "stdout",
     "output_type": "stream",
     "text": [
      "Kim\n",
      "Lee\n",
      "Park\n",
      "Choi\n"
     ]
    }
   ],
   "source": [
    "#리스트의 요소 출력(for문 사용)\n",
    "# print_list2.py\n",
    "\n",
    "names = [\"Kim\", \"Lee\",\"Park\",\"Choi\"]\n",
    "\n",
    "count = 0 \n",
    "\n",
    "for name in names:\n",
    "    print(name)"
   ]
  },
  {
   "cell_type": "code",
   "execution_count": 14,
   "metadata": {},
   "outputs": [
    {
     "name": "stdout",
     "output_type": "stream",
     "text": [
      "[10, 20, 30, 40, 50]\n",
      "[11, 21, 31, 41, 51]\n"
     ]
    }
   ],
   "source": [
    "# 반복문을 이용한 시퀸스 요소 값 변경\n",
    "# modift_sequence1.py\n",
    "\n",
    "values = [10,20,30,40,50]\n",
    "\n",
    "print(values)\n",
    "count = 0 \n",
    "\n",
    "while count < len(values):\n",
    "    values[count] += 1\n",
    "    count += 1 \n",
    "    \n",
    "print(values)"
   ]
  },
  {
   "cell_type": "code",
   "execution_count": 15,
   "metadata": {},
   "outputs": [
    {
     "name": "stdout",
     "output_type": "stream",
     "text": [
      "[10, 20, 30, 40, 50]\n",
      "[10, 20, 30, 40, 50]\n"
     ]
    }
   ],
   "source": [
    "# 반복문을 이용한 시퀸스 요소 값 변경\n",
    "# modift_sequence2.py\n",
    "\n",
    "values = [10,20,30,40,50]\n",
    "\n",
    "print(values)\n",
    "\n",
    "for v in values:\n",
    "    v += 1\n",
    "    \n",
    "print(values)"
   ]
  },
  {
   "cell_type": "markdown",
   "metadata": {},
   "source": [
    "for v in values 로는 원본 데이터의 변화가 없음"
   ]
  },
  {
   "cell_type": "markdown",
   "metadata": {},
   "source": [
    "# enumerate "
   ]
  },
  {
   "cell_type": "code",
   "execution_count": 16,
   "metadata": {},
   "outputs": [
    {
     "data": {
      "text/plain": [
       "<enumerate at 0x7f6ed84cbf00>"
      ]
     },
     "execution_count": 16,
     "metadata": {},
     "output_type": "execute_result"
    }
   ],
   "source": [
    "names = [\"Kim\", \"Lee\",\"Park\",\"Choi\"]\n",
    "enumerate(names)"
   ]
  },
  {
   "cell_type": "code",
   "execution_count": 17,
   "metadata": {},
   "outputs": [
    {
     "data": {
      "text/plain": [
       "[(0, 'Kim'), (1, 'Lee'), (2, 'Park'), (3, 'Choi')]"
      ]
     },
     "execution_count": 17,
     "metadata": {},
     "output_type": "execute_result"
    }
   ],
   "source": [
    "names = [\"Kim\", \"Lee\", \"Park\", \"Choi\"]\n",
    "list(enumerate(names))"
   ]
  },
  {
   "cell_type": "code",
   "execution_count": 19,
   "metadata": {},
   "outputs": [
    {
     "data": {
      "text/plain": [
       "[(0, 'Kim'), (1, 'Lee'), (2, 'Park'), (3, 'Choi')]"
      ]
     },
     "execution_count": 19,
     "metadata": {},
     "output_type": "execute_result"
    }
   ],
   "source": [
    "student = {\"Kim\":90, \"Lee\":80,\"Park\":95,\"Choi\":70}\n",
    "list(enumerate(student))"
   ]
  },
  {
   "cell_type": "code",
   "execution_count": 20,
   "metadata": {},
   "outputs": [
    {
     "data": {
      "text/plain": [
       "[(0, 90), (1, 80), (2, 95), (3, 70)]"
      ]
     },
     "execution_count": 20,
     "metadata": {},
     "output_type": "execute_result"
    }
   ],
   "source": [
    "list(enumerate(student.values()))"
   ]
  },
  {
   "cell_type": "code",
   "execution_count": 21,
   "metadata": {},
   "outputs": [
    {
     "data": {
      "text/plain": [
       "[(0, ('Kim', 90)), (1, ('Lee', 80)), (2, ('Park', 95)), (3, ('Choi', 70))]"
      ]
     },
     "execution_count": 21,
     "metadata": {},
     "output_type": "execute_result"
    }
   ],
   "source": [
    "list(enumerate(student.items()))"
   ]
  },
  {
   "cell_type": "code",
   "execution_count": 22,
   "metadata": {},
   "outputs": [
    {
     "name": "stdout",
     "output_type": "stream",
     "text": [
      "[10, 20, 30, 40, 50]\n",
      "[11, 21, 31, 41, 51]\n"
     ]
    }
   ],
   "source": [
    "# enumertae() 함수를 이용한 시퀀스 요소 값 변경\n",
    "# modift_sequence3.py\n",
    "\n",
    "values = [10, 20, 30, 40, 50]\n",
    "\n",
    "print(values)\n",
    "\n",
    "for i,v in enumerate(values):\n",
    "    values[i] += 1\n",
    "    \n",
    "print(values)"
   ]
  },
  {
   "cell_type": "code",
   "execution_count": 24,
   "metadata": {},
   "outputs": [
    {
     "name": "stdout",
     "output_type": "stream",
     "text": [
      "0 : Kim 90\n",
      "1 : Lee 80\n",
      "2 : Park 95\n",
      "3 : Choi 70\n",
      "\n",
      "0 : ('Kim', 90)\n",
      "1 : ('Lee', 80)\n",
      "2 : ('Park', 95)\n",
      "3 : ('Choi', 70)\n"
     ]
    }
   ],
   "source": [
    "# enumerate()을 이용한 딕셔너리 순회\n",
    "# enumerate_dict.py\n",
    "\n",
    "student = {\"Kim\":90, \"Lee\":80,\"Park\":95,\"Choi\":70}\n",
    "\n",
    "for i, k in enumerate(student):\n",
    "    print(i, \":\", k, student[k])\n",
    "    \n",
    "\n",
    "print(\"\")\n",
    "\n",
    "\n",
    "for i, k in enumerate(student.items()):\n",
    "    print(i, \":\", k)"
   ]
  },
  {
   "cell_type": "markdown",
   "metadata": {},
   "source": [
    "# zip\n",
    "\n",
    "zip 개체 반환, 순환할수 있는 시퀀스 자료형"
   ]
  },
  {
   "cell_type": "code",
   "execution_count": 25,
   "metadata": {},
   "outputs": [
    {
     "data": {
      "text/plain": [
       "[('Kim', 90, 100), ('Lee', 80, 90), ('Park', 85, 90), ('Choi', 70, 80)]"
      ]
     },
     "execution_count": 25,
     "metadata": {},
     "output_type": "execute_result"
    }
   ],
   "source": [
    "names = [\"Kim\", \"Lee\", \"Park\", \"Choi\"]\n",
    "eng = [90,80,85,70]\n",
    "math = [100,90,90,80]\n",
    "student = zip(names, eng, math)\n",
    "list(student)"
   ]
  },
  {
   "cell_type": "code",
   "execution_count": 26,
   "metadata": {},
   "outputs": [
    {
     "data": {
      "text/plain": [
       "<zip at 0x7f6ed850ed40>"
      ]
     },
     "execution_count": 26,
     "metadata": {},
     "output_type": "execute_result"
    }
   ],
   "source": [
    "student"
   ]
  },
  {
   "cell_type": "markdown",
   "metadata": {},
   "source": [
    "길이는 가장 짧은 친구를 기준으로 짤라버림"
   ]
  },
  {
   "cell_type": "code",
   "execution_count": 27,
   "metadata": {},
   "outputs": [
    {
     "data": {
      "text/plain": [
       "[('Kim', 90, 100), ('Lee', 80, 90), ('Park', 85, 90)]"
      ]
     },
     "execution_count": 27,
     "metadata": {},
     "output_type": "execute_result"
    }
   ],
   "source": [
    "names = [\"Kim\", \"Lee\", \"Park\", \"Choi\"]\n",
    "eng = [90,80,85,70]\n",
    "math = [100,90,90]\n",
    "student = zip(names, eng, math)\n",
    "list(student)"
   ]
  },
  {
   "cell_type": "markdown",
   "metadata": {},
   "source": [
    "zip 의 결과를 for를 통해 순회하면 별도 변수 없이 여러 시퀀스 자료 한번에 순회 가능 "
   ]
  },
  {
   "cell_type": "code",
   "execution_count": 28,
   "metadata": {},
   "outputs": [
    {
     "name": "stdout",
     "output_type": "stream",
     "text": [
      "이름 = Kim, 영어 = 90, 수학 = 100\n",
      "이름 = Lee, 영어 = 80, 수학 = 90\n",
      "이름 = Park, 영어 = 85, 수학 = 90\n",
      "이름 = Choi, 영어 = 70, 수학 = 80\n"
     ]
    }
   ],
   "source": [
    "# zip() 을 이용한 여러 시퀀스 순회\n",
    "# zip_for.py\n",
    "\n",
    "names = [\"Kim\", \"Lee\", \"Park\", \"Choi\"]\n",
    "eng = [90,80,85,70]\n",
    "math = [100,90,90,80]\n",
    "\n",
    "for n, e, m in zip(names, eng, math):\n",
    "    print(\"이름 = %s, 영어 = %d, 수학 = %d\" % (n, e, m))"
   ]
  },
  {
   "cell_type": "markdown",
   "metadata": {},
   "source": [
    "# break, continue\n",
    "\n",
    "break는 이대로 반복문 종료, 컨티누는 반복문 내에서 문장의 수행을 건너 뛸 때 사용"
   ]
  },
  {
   "cell_type": "code",
   "execution_count": 29,
   "metadata": {},
   "outputs": [
    {
     "name": "stdout",
     "output_type": "stream",
     "text": [
      "양의 정수를 입력하세요 : 19\n",
      "1부터 19의까지의 합은 171입니다.\n"
     ]
    }
   ],
   "source": [
    "# 입력한 숫자까지의 합을 구하는 프로그램\n",
    "# 무한 루프 사용 \n",
    "#### sum_infinite_loop1.py\n",
    "\n",
    "value = int(input(\"양의 정수를 입력하세요 : \"))\n",
    "\n",
    "sum_value = 0\n",
    "count = 1\n",
    "\n",
    "while True:\n",
    "    sum_value += count \n",
    "    count += 1\n",
    "    \n",
    "    if count == value:\n",
    "        break\n",
    "\n",
    "print(\"1부터 %d의까지의 합은 %d입니다.\" % (value, sum_value))"
   ]
  },
  {
   "cell_type": "code",
   "execution_count": 31,
   "metadata": {},
   "outputs": [
    {
     "name": "stdout",
     "output_type": "stream",
     "text": [
      "양의 정수를 입력하세요 : 18\n",
      "1부터 18의까지의 합은 15입니다.\n"
     ]
    }
   ],
   "source": [
    "# for문에서 break 사용 \n",
    "# break_for.py\n",
    "\n",
    "value = int(input(\"양의 정수를 입력하세요 : \"))\n",
    "\n",
    "sum_value = 0\n",
    "for i in range(1, value + 1):\n",
    "    sum_value += i\n",
    "    \n",
    "    if i == 5:\n",
    "        break\n",
    "\n",
    "print(\"1부터 %d의까지의 합은 %d입니다.\" % (value, sum_value))"
   ]
  },
  {
   "cell_type": "code",
   "execution_count": 33,
   "metadata": {},
   "outputs": [
    {
     "name": "stdout",
     "output_type": "stream",
     "text": [
      "양의 정수를 입력하세요 : 4\n",
      "5보다 낮은 수가 입력되었습니다.\n",
      "1부터 4의까지의 합은 10입니다.\n"
     ]
    }
   ],
   "source": [
    "# for문에서 else를 이용한 break 검사\n",
    "# break_for.py\n",
    "\n",
    "value = int(input(\"양의 정수를 입력하세요 : \"))\n",
    "\n",
    "sum_value = 0\n",
    "for i in range(1, value + 1):\n",
    "    sum_value += i\n",
    "    \n",
    "    if i == 5:\n",
    "        break\n",
    "\n",
    "else: \n",
    "    print(\"5보다 낮은 수가 입력되었습니다.\")\n",
    "print(\"1부터 %d의까지의 합은 %d입니다.\" % (value, sum_value))"
   ]
  },
  {
   "cell_type": "markdown",
   "metadata": {},
   "source": [
    "반복문을 완료할때까지 break 문장이 실행되지않으면 else: 이하의 문장이 실행됨."
   ]
  },
  {
   "cell_type": "markdown",
   "metadata": {},
   "source": [
    "# continue\n",
    "\n",
    "반복문 중단이 아니라 특별한 이유로 반복문을 건너뛰고 다음 반복을 수행할때 사용        \n",
    "현재 실행하고 있는 반복문의 나머지를 생략하고 반복문의 처음으로 돌아감.           \n",
    "if와 함꼐 주로 사용됨     "
   ]
  },
  {
   "cell_type": "code",
   "execution_count": 35,
   "metadata": {},
   "outputs": [
    {
     "name": "stdout",
     "output_type": "stream",
     "text": [
      "정수를 입력하세요 : 10\n",
      "1부터 10의까지 5를 제외한 합은 50입니다.\n"
     ]
    }
   ],
   "source": [
    "# for문에서 continue 사용\n",
    "# continue_for.py\n",
    "\n",
    "value = int(input(\"정수를 입력하세요 : \"))\n",
    "\n",
    "sum_value = 0\n",
    "for i in range(1, value + 1):\n",
    "    \n",
    "    if i == 5:\n",
    "        continue\n",
    "    \n",
    "    sum_value += i\n",
    "\n",
    "\n",
    "\n",
    "print(\"1부터 %d의까지 5를 제외한 합은 %d입니다.\" % (value, sum_value))"
   ]
  },
  {
   "cell_type": "markdown",
   "metadata": {},
   "source": [
    "continue는 반복문의 나머지 문장을 건너뛰기 때문에 **while 문에서 사용할떄는 주의**할 점이 있음        \n",
    "while 문을 반복 실행을 위한 상태를 변경하는 부분이 반복되는 문장에 포함되기 때문에                \n",
    "continue문을 만나면 상태 변경부분이 실행되지 않을수도..                   "
   ]
  },
  {
   "cell_type": "code",
   "execution_count": 38,
   "metadata": {},
   "outputs": [
    {
     "name": "stdout",
     "output_type": "stream",
     "text": [
      "정수를 입력하세요 : 10\n"
     ]
    },
    {
     "ename": "KeyboardInterrupt",
     "evalue": "",
     "output_type": "error",
     "traceback": [
      "\u001b[0;31m---------------------------------------------------------------------------\u001b[0m",
      "\u001b[0;31mKeyboardInterrupt\u001b[0m                         Traceback (most recent call last)",
      "\u001b[0;32m<ipython-input-38-44f74519d3f6>\u001b[0m in \u001b[0;36m<module>\u001b[0;34m\u001b[0m\n\u001b[1;32m      7\u001b[0m \u001b[0mcount\u001b[0m \u001b[0;34m=\u001b[0m \u001b[0;36m1\u001b[0m\u001b[0;34m\u001b[0m\u001b[0;34m\u001b[0m\u001b[0m\n\u001b[1;32m      8\u001b[0m \u001b[0;34m\u001b[0m\u001b[0m\n\u001b[0;32m----> 9\u001b[0;31m \u001b[0;32mwhile\u001b[0m \u001b[0mcount\u001b[0m \u001b[0;34m<=\u001b[0m \u001b[0mvalue\u001b[0m\u001b[0;34m:\u001b[0m\u001b[0;34m\u001b[0m\u001b[0;34m\u001b[0m\u001b[0m\n\u001b[0m\u001b[1;32m     10\u001b[0m \u001b[0;34m\u001b[0m\u001b[0m\n\u001b[1;32m     11\u001b[0m     \u001b[0;32mif\u001b[0m \u001b[0mcount\u001b[0m \u001b[0;34m==\u001b[0m \u001b[0;36m5\u001b[0m\u001b[0;34m:\u001b[0m\u001b[0;34m\u001b[0m\u001b[0;34m\u001b[0m\u001b[0m\n",
      "\u001b[0;31mKeyboardInterrupt\u001b[0m: "
     ]
    }
   ],
   "source": [
    "# while문에서 continue문 사용 주의\n",
    "# continue_while_err.py\n",
    "\n",
    "value = int(input(\"정수를 입력하세요 : \"))\n",
    "\n",
    "sum_value = 0\n",
    "count = 1\n",
    "\n",
    "while count <= value:\n",
    "    \n",
    "    if count == 5:\n",
    "        continue\n",
    "        \n",
    "    sum_value += count\n",
    "    count += 1\n",
    "\n",
    "print(\"1부터 %d의까지 5를 제외한 합은 %d입니다.\" % (value, sum_value))"
   ]
  },
  {
   "cell_type": "code",
   "execution_count": 39,
   "metadata": {},
   "outputs": [
    {
     "name": "stdout",
     "output_type": "stream",
     "text": [
      "정수를 입력하세요 : 10\n",
      "1부터 10의까지 5를 제외한 합은 50입니다.\n"
     ]
    }
   ],
   "source": [
    "# while문에서 continue문 사용 주의\n",
    "# continue_while.py\n",
    "\n",
    "value = int(input(\"정수를 입력하세요 : \"))\n",
    "\n",
    "sum_value = 0\n",
    "count = 1\n",
    "\n",
    "while count <= value:\n",
    "    \n",
    "    if count == 5:\n",
    "        count += 1\n",
    "        continue\n",
    "        \n",
    "    sum_value += count\n",
    "    count += 1\n",
    "\n",
    "print(\"1부터 %d의까지 5를 제외한 합은 %d입니다.\" % (value, sum_value))"
   ]
  },
  {
   "cell_type": "markdown",
   "metadata": {},
   "source": [
    "# 컴프리 헨션\n",
    "\n",
    "시퀀스 자료를 만들때 for와 if문사용 \n",
    "반복문과 조건문을 결합하여 비교적 간단한 구문으로 시퀀스 자료형을 생성할수 있음\n",
    "\n",
    "* 리스트 \n",
    "\n",
    "[표현식 for 변수 in 시퀀스 자료형]\n",
    "\n",
    "[표현식 for 변수 in 시퀀스 자료 if 조건]\n",
    "\n",
    "* 딕셔너리\n",
    "\n",
    "{키_표현식 : 값_표현식 for 표현식 in 시퀀스 자료}\n",
    "\n",
    "{키_표현식 : 값_표현식 for 표현식 in 시퀀스 자료 if 조건}\n",
    "\n",
    "* 셋\n",
    "\n",
    "{표현식 for 변수 in 시퀀스 자료}\n",
    "\n",
    "{표현식 for 변수 in 시퀀스 자료 if 조건}"
   ]
  },
  {
   "cell_type": "markdown",
   "metadata": {},
   "source": [
    "## 중첩"
   ]
  },
  {
   "cell_type": "code",
   "execution_count": 42,
   "metadata": {},
   "outputs": [
    {
     "data": {
      "text/plain": [
       "[(1, 1), (1, 2), (2, 1), (2, 2), (3, 1), (3, 2)]"
      ]
     },
     "execution_count": 42,
     "metadata": {},
     "output_type": "execute_result"
    }
   ],
   "source": [
    "rows = range(1,4 )\n",
    "cols = range(1,3)\n",
    "matrix = []\n",
    "\n",
    "for r in rows:\n",
    "    for c in cols:\n",
    "        matrix.append((r,c))\n",
    "\n",
    "matrix"
   ]
  },
  {
   "cell_type": "code",
   "execution_count": 44,
   "metadata": {},
   "outputs": [
    {
     "data": {
      "text/plain": [
       "[(1, 1), (1, 2), (2, 1), (2, 2), (3, 1), (3, 2)]"
      ]
     },
     "execution_count": 44,
     "metadata": {},
     "output_type": "execute_result"
    }
   ],
   "source": [
    "rows = range(1,4)\n",
    "cols = range(1,3)\n",
    "matrix = [(r,c) for r in rows for c in cols]\n",
    "\n",
    "matrix"
   ]
  },
  {
   "cell_type": "markdown",
   "metadata": {},
   "source": [
    "# 딕셔너리 컴프리헨션"
   ]
  },
  {
   "cell_type": "code",
   "execution_count": 45,
   "metadata": {},
   "outputs": [
    {
     "data": {
      "text/plain": [
       "{'Kim': 90, 'Park': 95}"
      ]
     },
     "execution_count": 45,
     "metadata": {},
     "output_type": "execute_result"
    }
   ],
   "source": [
    "student = {\"Kim\":90, \"Lee\":80,\"Park\":95,\"Choi\":70}\n",
    "student_good = {k : v for k , v in student.items() if v > 80}\n",
    "student_good"
   ]
  },
  {
   "cell_type": "code",
   "execution_count": 46,
   "metadata": {},
   "outputs": [
    {
     "data": {
      "text/plain": [
       "{'h': 1, 'e': 1, 'l': 2, 'o': 1}"
      ]
     },
     "execution_count": 46,
     "metadata": {},
     "output_type": "execute_result"
    }
   ],
   "source": [
    "hello = \"hello\"\n",
    "l_count = {letter: hello.count(letter) for letter in hello}\n",
    "l_count"
   ]
  },
  {
   "cell_type": "markdown",
   "metadata": {},
   "source": [
    "# 셋 컴프리헨션"
   ]
  },
  {
   "cell_type": "code",
   "execution_count": 47,
   "metadata": {},
   "outputs": [
    {
     "data": {
      "text/plain": [
       "{'e', 'h', 'l', 'o'}"
      ]
     },
     "execution_count": 47,
     "metadata": {},
     "output_type": "execute_result"
    }
   ],
   "source": [
    "hello = \"hello\"\n",
    "set_hello = {letter for letter in hello}\n",
    "set_hello"
   ]
  },
  {
   "cell_type": "markdown",
   "metadata": {},
   "source": [
    "중복치 없앨때 쓸만할듯?"
   ]
  },
  {
   "cell_type": "markdown",
   "metadata": {},
   "source": [
    "# 제네레이터 컴프리헨션\n",
    "()을 사용하면 튜플 컴프리헨션이라고 착각할수있는데 제네레이털가 생성됨.                \n",
    "시퀀스의 일종이지만 객체를 생성하는게 아니라 이터레이터를 이용하여 단 한번만 반복을 수행하는 특별한 자료형임\n"
   ]
  },
  {
   "cell_type": "code",
   "execution_count": 50,
   "metadata": {},
   "outputs": [
    {
     "data": {
      "text/plain": [
       "<generator object <genexpr> at 0x7f6ec2fc15f0>"
      ]
     },
     "execution_count": 50,
     "metadata": {},
     "output_type": "execute_result"
    }
   ],
   "source": [
    "numbers = (number for number in range(10))\n",
    "numbers"
   ]
  },
  {
   "cell_type": "code",
   "execution_count": 51,
   "metadata": {},
   "outputs": [
    {
     "name": "stdout",
     "output_type": "stream",
     "text": [
      "0 1 2 3 4 5 6 7 8 9 "
     ]
    }
   ],
   "source": [
    "numbers = (number for number in range(10))\n",
    "for i in numbers:\n",
    "    print(i, end = ' ')"
   ]
  },
  {
   "cell_type": "markdown",
   "metadata": {},
   "source": [
    "한번 더 제네레이터를 순회하면 다시 내부의 값을 가져올수없게 됨."
   ]
  },
  {
   "cell_type": "code",
   "execution_count": 52,
   "metadata": {},
   "outputs": [
    {
     "data": {
      "text/plain": [
       "[0, 1, 2, 3, 4, 5, 6, 7, 8, 9]"
      ]
     },
     "execution_count": 52,
     "metadata": {},
     "output_type": "execute_result"
    }
   ],
   "source": [
    "numbers = (number for number in range(10))\n",
    "values1 = list(numbers)\n",
    "values1"
   ]
  },
  {
   "cell_type": "markdown",
   "metadata": {},
   "source": [
    "이미 numbers로 생성한 제네러이터를 value1에서 리스트로 변경했기떄문에 value2에서 다시 사용하고자해도 값을 가져올수없어서\n",
    "빈리스트만 만들어짐"
   ]
  },
  {
   "cell_type": "code",
   "execution_count": 53,
   "metadata": {},
   "outputs": [
    {
     "data": {
      "text/plain": [
       "[]"
      ]
     },
     "execution_count": 53,
     "metadata": {},
     "output_type": "execute_result"
    }
   ],
   "source": [
    "values2 = list(numbers)\n",
    "values2"
   ]
  }
 ],
 "metadata": {
  "kernelspec": {
   "display_name": "datascience",
   "language": "python",
   "name": "datascience"
  },
  "language_info": {
   "codemirror_mode": {
    "name": "ipython",
    "version": 3
   },
   "file_extension": ".py",
   "mimetype": "text/x-python",
   "name": "python",
   "nbconvert_exporter": "python",
   "pygments_lexer": "ipython3",
   "version": "3.9.1"
  }
 },
 "nbformat": 4,
 "nbformat_minor": 4
}
