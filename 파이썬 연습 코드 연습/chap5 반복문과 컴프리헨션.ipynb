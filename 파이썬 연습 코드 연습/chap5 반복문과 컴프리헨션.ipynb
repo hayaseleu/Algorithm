{
 "cells": [
  {
   "cell_type": "markdown",
   "metadata": {},
   "source": [
    "while - 어떤 조건이 만족되는 동안 문장 반복\n",
    "for - 정해진 횟수만큼 문장 반복 \n",
    "\n",
    "# while "
   ]
  },
  {
   "cell_type": "code",
   "execution_count": 5,
   "metadata": {},
   "outputs": [
    {
     "name": "stdout",
     "output_type": "stream",
     "text": [
      "양의 정수를 입력하세요 : 5\n",
      "1부터 5의까지의 합은 15입니다.\n"
     ]
    }
   ],
   "source": [
    "# 1부터 입력한 정수까지의 합을 구하는 프로그램\n",
    "#### sum.py\n",
    "\n",
    "value = int(input(\"양의 정수를 입력하세요 : \"))\n",
    "\n",
    "sum_value = 0\n",
    "count = 1\n",
    "\n",
    "while count <= value:\n",
    "    sum_value += count \n",
    "    count += 1\n",
    "\n",
    "print(\"1부터 %d의까지의 합은 %d입니다.\" % (value, sum_value))"
   ]
  },
  {
   "cell_type": "code",
   "execution_count": 4,
   "metadata": {},
   "outputs": [
    {
     "name": "stdout",
     "output_type": "stream",
     "text": [
      "양의 정수를 입력하세요 : 5\n"
     ]
    },
    {
     "ename": "KeyboardInterrupt",
     "evalue": "",
     "output_type": "error",
     "traceback": [
      "\u001b[0;31m---------------------------------------------------------------------------\u001b[0m",
      "\u001b[0;31mKeyboardInterrupt\u001b[0m                         Traceback (most recent call last)",
      "\u001b[0;32m<ipython-input-4-67f907a42cce>\u001b[0m in \u001b[0;36m<module>\u001b[0;34m\u001b[0m\n\u001b[1;32m      8\u001b[0m \u001b[0mcount\u001b[0m \u001b[0;34m=\u001b[0m \u001b[0;36m1\u001b[0m\u001b[0;34m\u001b[0m\u001b[0;34m\u001b[0m\u001b[0m\n\u001b[1;32m      9\u001b[0m \u001b[0;34m\u001b[0m\u001b[0m\n\u001b[0;32m---> 10\u001b[0;31m \u001b[0;32mwhile\u001b[0m \u001b[0mcount\u001b[0m \u001b[0;34m<=\u001b[0m \u001b[0mvalue\u001b[0m\u001b[0;34m:\u001b[0m\u001b[0;34m\u001b[0m\u001b[0;34m\u001b[0m\u001b[0m\n\u001b[0m\u001b[1;32m     11\u001b[0m     \u001b[0msum_value\u001b[0m \u001b[0;34m+=\u001b[0m \u001b[0mcount\u001b[0m\u001b[0;34m\u001b[0m\u001b[0;34m\u001b[0m\u001b[0m\n\u001b[1;32m     12\u001b[0m \u001b[0;34m\u001b[0m\u001b[0m\n",
      "\u001b[0;31mKeyboardInterrupt\u001b[0m: "
     ]
    }
   ],
   "source": [
    "# while문 내부에 식의 상태 변경을 위한 문장이 없는 경우\n",
    "#### sum_err.py\n",
    "\n",
    "value = int(input(\"양의 정수를 입력하세요 : \"))\n",
    "\n",
    "sum_value = 0\n",
    "\n",
    "count = 1\n",
    "\n",
    "while count <= value:\n",
    "    sum_value += count \n",
    "\n",
    "print(\"1부터 %d의까지의 합은 %d입니다.\" % (value, sum_value))"
   ]
  },
  {
   "cell_type": "code",
   "execution_count": 7,
   "metadata": {},
   "outputs": [
    {
     "name": "stdout",
     "output_type": "stream",
     "text": [
      "양의 정수를 입력하세요 :4\n",
      "1부터 4까지의 홀수의 합은 4입니다.\n"
     ]
    }
   ],
   "source": [
    "#홀수의 합을 구하는 프로그램 \n",
    "# sum_odd.py\n",
    "\n",
    "value = int(input(\"양의 정수를 입력하세요 :\"))\n",
    "\n",
    "sum_value = 0 \n",
    "count = 1\n",
    "\n",
    "while count <= value : \n",
    "    sum_value += count\n",
    "    count += 2 \n",
    "    \n",
    "print(\"1부터 %d까지의 홀수의 합은 %d입니다.\" % (value, sum_value))"
   ]
  },
  {
   "cell_type": "markdown",
   "metadata": {},
   "source": [
    "위는 한번에 두번 올리기, 밑은 if 문을 사용하여 올리기"
   ]
  },
  {
   "cell_type": "code",
   "execution_count": 8,
   "metadata": {},
   "outputs": [
    {
     "name": "stdout",
     "output_type": "stream",
     "text": [
      "양의 정수를 입력하세요 : 229\n",
      "1부터 229 까지의 짞수의 합은 13104입니다.\n"
     ]
    }
   ],
   "source": [
    "# 짝수의 합을 구하는 프로그램 \n",
    "# sum_even.py\n",
    "\n",
    "value = int(input(\"양의 정수를 입력하세요 : \"))\n",
    "\n",
    "sum_value = 0 \n",
    "count += 1 \n",
    "\n",
    "while count <= value:\n",
    "    if count % 2  == 0:\n",
    "        sum_value += count\n",
    "    count += 1\n",
    "\n",
    "print(\"1부터 %d 까지의 짞수의 합은 %d입니다.\" % (value, sum_value))"
   ]
  },
  {
   "cell_type": "code",
   "execution_count": 10,
   "metadata": {},
   "outputs": [
    {
     "name": "stdout",
     "output_type": "stream",
     "text": [
      "1 * 1 = 1 \n",
      "1 * 2 = 2 \n",
      "1 * 3 = 3 \n",
      "1 * 4 = 4 \n",
      "1 * 5 = 5 \n",
      "1 * 6 = 6 \n",
      "1 * 7 = 7 \n",
      "1 * 8 = 8 \n",
      "1 * 9 = 9 \n",
      "\n",
      "2 * 1 = 2 \n",
      "2 * 2 = 4 \n",
      "2 * 3 = 6 \n",
      "2 * 4 = 8 \n",
      "2 * 5 = 10 \n",
      "2 * 6 = 12 \n",
      "2 * 7 = 14 \n",
      "2 * 8 = 16 \n",
      "2 * 9 = 18 \n",
      "\n"
     ]
    }
   ],
   "source": [
    "# 구구단 출력 프로그램 (while)\n",
    "# print_gugudan_while.py\n",
    "\n",
    "count1 = 1\n",
    "\n",
    "while count1 <= 2:\n",
    "    \n",
    "    count2 = 1\n",
    "    while count2 <= 9:\n",
    "        print(\"%d * %d = %d \" % (count1, count2, count1 * count2))\n",
    "        count2 += 1 \n",
    "        \n",
    "    print(\"\")\n",
    "    count1 += 1     "
   ]
  },
  {
   "cell_type": "markdown",
   "metadata": {},
   "source": [
    "# for\n",
    "\n",
    "파이썬에선 시퀸스 자료형의 모든 요소를 순회하기 위해서 사용한다는게 특별함 "
   ]
  },
  {
   "cell_type": "code",
   "execution_count": 11,
   "metadata": {},
   "outputs": [
    {
     "name": "stdout",
     "output_type": "stream",
     "text": [
      "Kim\n",
      "Lee\n",
      "Park\n",
      "Choi\n"
     ]
    }
   ],
   "source": [
    "#리스트의 요소 출력(while문 사용)\n",
    "# print_list1.py\n",
    "\n",
    "names = [\"Kim\", \"Lee\",\"Park\",\"Choi\"]\n",
    "\n",
    "count = 0 \n",
    "\n",
    "while count < len(names):\n",
    "    print(names[count])\n",
    "    count += 1 "
   ]
  }
 ],
 "metadata": {
  "kernelspec": {
   "display_name": "datascience",
   "language": "python",
   "name": "datascience"
  },
  "language_info": {
   "codemirror_mode": {
    "name": "ipython",
    "version": 3
   },
   "file_extension": ".py",
   "mimetype": "text/x-python",
   "name": "python",
   "nbconvert_exporter": "python",
   "pygments_lexer": "ipython3",
   "version": "3.9.1"
  }
 },
 "nbformat": 4,
 "nbformat_minor": 4
}
