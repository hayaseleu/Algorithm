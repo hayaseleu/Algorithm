{
 "cells": [
  {
   "cell_type": "markdown",
   "metadata": {},
   "source": [
    "https://programmers.co.kr/learn/courses/30/lessons/60057"
   ]
  },
  {
   "cell_type": "markdown",
   "metadata": {},
   "source": [
    "일단 줄이는 함수를 만들고 이진탐색으로 찾아보기?"
   ]
  },
  {
   "cell_type": "code",
   "execution_count": 82,
   "metadata": {},
   "outputs": [],
   "source": [
    "s = \"abcabcabcabcdededededede\""
   ]
  },
  {
   "cell_type": "code",
   "execution_count": 91,
   "metadata": {},
   "outputs": [],
   "source": [
    "def solution(s):\n",
    "    answer = 0\n",
    "    s_list = list(s)\n",
    "    n = 2\n",
    "    zipped = [s[i*n:(i+1)*n]  for i in range((len(s)+ n -1 ) // n)] \n",
    "    s_1 =[0 if i%2 == 0  else zipped[(i//2)]  for i in range(2*len(zipped))] # 지금 2단계로 나누는데 이걸 한번에 짜면 더 절약가능할듯 \n",
    "\n",
    "    return s_1 "
   ]
  },
  {
   "cell_type": "code",
   "execution_count": 103,
   "metadata": {},
   "outputs": [
    {
     "data": {
      "text/plain": [
       "[0, 'abca', 0, 'bcab', 0, 'cabc', 0, 'dede', 0, 'dede', 0, 'dede']"
      ]
     },
     "execution_count": 103,
     "metadata": {},
     "output_type": "execute_result"
    }
   ],
   "source": [
    "s_2 = solution(s)\n",
    "solution(s)"
   ]
  },
  {
   "cell_type": "markdown",
   "metadata": {},
   "source": [
    "일단 이렇게 0, 'ab', 0 'cd 이렇게..'"
   ]
  },
  {
   "cell_type": "markdown",
   "metadata": {},
   "source": [
    "일단 처음부터 끝까지 검사하면서 인접해서 같은걸 찾으면  좌측의 숫자를 +1 해줌.\n",
    "그후 숫자가 있는것들을 살려나가면서 검사.."
   ]
  },
  {
   "cell_type": "code",
   "execution_count": 107,
   "metadata": {},
   "outputs": [
    {
     "name": "stdout",
     "output_type": "stream",
     "text": [
      "1\n",
      "abca\n",
      "3\n",
      "bcab\n",
      "5\n",
      "cabc\n",
      "7\n",
      "dede\n",
      "9\n",
      "dede\n",
      "[0, 'abca', 0, 'bcab', 0, 'cabc', 0, 'dede', 1, 'dede', 1, 'dede']\n"
     ]
    }
   ],
   "source": [
    "s_2 = solution(s)\n",
    "\n",
    "for i in range(1,len(s_2)-1,2):\n",
    "    print(i)\n",
    "    print(s_2[i])\n",
    "    if s_2[i] == s_2[i+2]:\n",
    "        s_2[i+1] += 1 \n",
    "\n",
    "print(s_2)\n",
    "\n",
    "\n"
   ]
  },
  {
   "cell_type": "markdown",
   "metadata": {},
   "source": [
    "이후 이걸 어떻게 다시 str()시킬것인가~"
   ]
  },
  {
   "cell_type": "code",
   "execution_count": 85,
   "metadata": {},
   "outputs": [],
   "source": [
    "def solution(s):\n",
    "    answer = 0\n",
    "    s_list = list(s)\n",
    "    n = 3\n",
    "    zipped = [s[i*n:(i+1)*n]  for i in range((len(s)+ n -1 ) // n)] \n",
    "    s_1 =[0 if i%2 == 0  else zipped[(i//2)]  for i in range(2*len(zipped))]\n",
    "\n",
    "    return s_1 "
   ]
  },
  {
   "cell_type": "code",
   "execution_count": 86,
   "metadata": {},
   "outputs": [
    {
     "data": {
      "text/plain": [
       "[0,\n",
       " 'abc',\n",
       " 0,\n",
       " 'abc',\n",
       " 0,\n",
       " 'abc',\n",
       " 0,\n",
       " 'abc',\n",
       " 0,\n",
       " 'ded',\n",
       " 0,\n",
       " 'ede',\n",
       " 0,\n",
       " 'ded',\n",
       " 0,\n",
       " 'ede']"
      ]
     },
     "execution_count": 86,
     "metadata": {},
     "output_type": "execute_result"
    }
   ],
   "source": [
    "solution(s)"
   ]
  },
  {
   "cell_type": "code",
   "execution_count": 97,
   "metadata": {},
   "outputs": [],
   "source": [
    "def solution(s):\n",
    "    answer = 0\n",
    "    s_list = list(s)\n",
    "    n = 4\n",
    "    zipped = [s[i*n:(i+1)*n]  for i in range((len(s)+ n -1 ) // n)] \n",
    "    s_1 =[0 if i%2 == 0  else zipped[(i//2)]  for i in range(2*len(zipped))]\n",
    "\n",
    "    return s_1 "
   ]
  },
  {
   "cell_type": "code",
   "execution_count": 88,
   "metadata": {},
   "outputs": [
    {
     "data": {
      "text/plain": [
       "[0, 'abca', 0, 'bcab', 0, 'cabc', 0, 'dede', 0, 'dede', 0, 'dede']"
      ]
     },
     "execution_count": 88,
     "metadata": {},
     "output_type": "execute_result"
    }
   ],
   "source": [
    "solution(s)"
   ]
  },
  {
   "cell_type": "code",
   "execution_count": null,
   "metadata": {},
   "outputs": [],
   "source": [
    "for i in range(n):\n",
    "    result[i] == result[i+1]\n",
    "    count += 1\n",
    "    result[i] "
   ]
  },
  {
   "cell_type": "code",
   "execution_count": 12,
   "metadata": {},
   "outputs": [
    {
     "name": "stdout",
     "output_type": "stream",
     "text": [
      "range(0, 6, 2)\n",
      "range(1, 6, 2)\n"
     ]
    }
   ],
   "source": [
    "for i in range(0,len(s),2),range(1,len(s),2) :\n",
    "    print(i)\n",
    "#     print(j)"
   ]
  },
  {
   "cell_type": "code",
   "execution_count": 13,
   "metadata": {},
   "outputs": [
    {
     "data": {
      "text/plain": [
       "['a', 'c', 'e']"
      ]
     },
     "execution_count": 13,
     "metadata": {},
     "output_type": "execute_result"
    }
   ],
   "source": [
    "[s[i] for i in range(0,len(s),2)]"
   ]
  }
 ],
 "metadata": {
  "kernelspec": {
   "display_name": "Python 3",
   "language": "python",
   "name": "python3"
  },
  "language_info": {
   "codemirror_mode": {
    "name": "ipython",
    "version": 3
   },
   "file_extension": ".py",
   "mimetype": "text/x-python",
   "name": "python",
   "nbconvert_exporter": "python",
   "pygments_lexer": "ipython3",
   "version": "3.7.7"
  }
 },
 "nbformat": 4,
 "nbformat_minor": 4
}
