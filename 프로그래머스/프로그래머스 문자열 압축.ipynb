{
 "cells": [
  {
   "cell_type": "markdown",
   "metadata": {},
   "source": [
    "https://programmers.co.kr/learn/courses/30/lessons/60057"
   ]
  },
  {
   "cell_type": "markdown",
   "metadata": {},
   "source": [
    "**문제 설명**\n",
    "\n",
    "데이터 처리 전문가가 되고 싶은 \"어피치\"는 문자열을 압축하는 방법에 대해 공부를 하고 있습니다. 최근에 대량의 데이터 처리를 위한 간단한 비손실 압축 방법에 대해 공부를 하고 있는데, 문자열에서 같은 값이 연속해서 나타나는 것을 그 문자의 개수와 반복되는 값으로 표현하여 더 짧은 문자열로 줄여서 표현하는 알고리즘을 공부하고 있습니다.\n",
    "간단한 예로 \"aabbaccc\"의 경우 \"2a2ba3c\"(문자가 반복되지 않아 한번만 나타난 경우 1은 생략함)와 같이 표현할 수 있는데, 이러한 방식은 반복되는 문자가 적은 경우 압축률이 낮다는 단점이 있습니다. 예를 들면, \"abcabcdede\"와 같은 문자열은 전혀 압축되지 않습니다. \"어피치\"는 이러한 단점을 해결하기 위해 문자열을 1개 이상의 단위로 잘라서 압축하여 더 짧은 문자열로 표현할 수 있는지 방법을 찾아보려고 합니다.\n",
    "\n",
    "예를 들어, \"ababcdcdababcdcd\"의 경우 문자를 1개 단위로 자르면 전혀 압축되지 않지만, 2개 단위로 잘라서 압축한다면 \"2ab2cd2ab2cd\"로 표현할 수 있습니다. 다른 방법으로 8개 단위로 잘라서 압축한다면 \"2ababcdcd\"로 표현할 수 있으며, 이때가 가장 짧게 압축하여 표현할 수 있는 방법입니다.\n",
    "\n",
    "다른 예로, \"abcabcdede\"와 같은 경우, 문자를 2개 단위로 잘라서 압축하면 \"abcabc2de\"가 되지만, 3개 단위로 자른다면 \"2abcdede\"가 되어 3개 단위가 가장 짧은 압축 방법이 됩니다. 이때 3개 단위로 자르고 마지막에 남는 문자열은 그대로 붙여주면 됩니다.\n",
    "\n",
    "압축할 문자열 s가 매개변수로 주어질 때, 위에 설명한 방법으로 1개 이상 단위로 문자열을 잘라 압축하여 표현한 문자열 중 가장 짧은 것의 길이를 return 하도록 solution 함수를 완성해주세요.\n",
    "\n",
    "\n",
    "제한사항\n",
    "s의 길이는 1 이상 1,000 이하입니다.\n",
    "s는 알파벳 소문자로만 이루어져 있습니다.\n",
    "\n",
    "|입출력| 예|\n",
    "|---|---|\n",
    "|s|\tresult|\n",
    "|\"aabbaccc\"|\t7|\n",
    "\"ababcdcdababcdcd\"|\t9\n",
    "\"abcabcdede\"\t|8\n",
    "\"abcabcabcabcdededededede\"\t|14\n",
    "\"xababcdcdababcdcd\"\t|17\n",
    "\n",
    "\n",
    "입출력 예에 대한 설명\n",
    "입출력 예 #1\n",
    "\n",
    "문자열을 1개 단위로 잘라 압축했을 때 가장 짧습니다.\n",
    "\n",
    "입출력 예 #2\n",
    "\n",
    "문자열을 8개 단위로 잘라 압축했을 때 가장 짧습니다.\n",
    "\n",
    "입출력 예 #3\n",
    "\n",
    "문자열을 3개 단위로 잘라 압축했을 때 가장 짧습니다.\n",
    "\n",
    "입출력 예 #4\n",
    "\n",
    "문자열을 2개 단위로 자르면 \"abcabcabcabc6de\" 가 됩니다.\n",
    "문자열을 3개 단위로 자르면 \"4abcdededededede\" 가 됩니다.\n",
    "문자열을 4개 단위로 자르면 \"abcabcabcabc3dede\" 가 됩니다.\n",
    "문자열을 6개 단위로 자를 경우 \"2abcabc2dedede\"가 되며, 이때의 길이가 14로 가장 짧습니다.\n",
    "\n",
    "입출력 예 #5\n",
    "\n",
    "문자열은 제일 앞부터 정해진 길이만큼 잘라야 합니다.\n",
    "따라서 주어진 문자열을 x / ababcdcd / ababcdcd 로 자르는 것은 불가능 합니다.\n",
    "이 경우 어떻게 문자열을 잘라도 압축되지 않으므로 가장 짧은 길이는 17이 됩니다.\n",
    "\n"
   ]
  },
  {
   "cell_type": "markdown",
   "metadata": {},
   "source": [
    "일단 줄이는 함수를 만들고 이진탐색으로 찾아보기?"
   ]
  },
  {
   "cell_type": "code",
   "execution_count": 82,
   "metadata": {},
   "outputs": [],
   "source": [
    "s = \"abcabcabcabcdededededede\""
   ]
  },
  {
   "cell_type": "code",
   "execution_count": 91,
   "metadata": {},
   "outputs": [],
   "source": [
    "def solution(s):\n",
    "    answer = 0\n",
    "    s_list = list(s)\n",
    "    n = 2\n",
    "    zipped = [s[i*n:(i+1)*n]  for i in range((len(s)+ n -1 ) // n)] \n",
    "    s_1 =[0 if i%2 == 0  else zipped[(i//2)]  for i in range(2*len(zipped))] # 지금 2단계로 나누는데 이걸 한번에 짜면 더 절약가능할듯 \n",
    "\n",
    "    return s_1 "
   ]
  },
  {
   "cell_type": "code",
   "execution_count": 103,
   "metadata": {},
   "outputs": [
    {
     "data": {
      "text/plain": [
       "[0, 'abca', 0, 'bcab', 0, 'cabc', 0, 'dede', 0, 'dede', 0, 'dede']"
      ]
     },
     "execution_count": 103,
     "metadata": {},
     "output_type": "execute_result"
    }
   ],
   "source": [
    "s_2 = solution(s)\n",
    "solution(s)"
   ]
  },
  {
   "cell_type": "markdown",
   "metadata": {},
   "source": [
    "일단 이렇게 0, 'ab', 0 'cd 이렇게..'"
   ]
  },
  {
   "cell_type": "markdown",
   "metadata": {},
   "source": [
    "일단 처음부터 끝까지 검사하면서 인접해서 같은걸 찾으면  좌측의 숫자를 +1 해줌.\n",
    "그후 숫자가 있는것들을 살려나가면서 검사.."
   ]
  },
  {
   "cell_type": "code",
   "execution_count": 107,
   "metadata": {},
   "outputs": [
    {
     "name": "stdout",
     "output_type": "stream",
     "text": [
      "1\n",
      "abca\n",
      "3\n",
      "bcab\n",
      "5\n",
      "cabc\n",
      "7\n",
      "dede\n",
      "9\n",
      "dede\n",
      "[0, 'abca', 0, 'bcab', 0, 'cabc', 0, 'dede', 1, 'dede', 1, 'dede']\n"
     ]
    }
   ],
   "source": [
    "s_2 = solution(s)\n",
    "\n",
    "for i in range(1,len(s_2)-1,2):\n",
    "    print(i)\n",
    "    print(s_2[i])\n",
    "    if s_2[i] == s_2[i+2]:\n",
    "        s_2[i+1] += 1 \n",
    "\n",
    "print(s_2)\n",
    "\n",
    "\n"
   ]
  },
  {
   "cell_type": "markdown",
   "metadata": {},
   "source": [
    "이후 이걸 어떻게 다시 str()시킬것인가~ 고민하다 끝남"
   ]
  },
  {
   "cell_type": "code",
   "execution_count": 85,
   "metadata": {},
   "outputs": [],
   "source": [
    "def solution(s):\n",
    "    answer = 0\n",
    "    s_list = list(s)\n",
    "    n = 3\n",
    "    zipped = [s[i*n:(i+1)*n]  for i in range((len(s)+ n -1 ) // n)] \n",
    "    s_1 =[0 if i%2 == 0  else zipped[(i//2)]  for i in range(2*len(zipped))]\n",
    "\n",
    "    return s_1 "
   ]
  },
  {
   "cell_type": "code",
   "execution_count": 86,
   "metadata": {},
   "outputs": [
    {
     "data": {
      "text/plain": [
       "[0,\n",
       " 'abc',\n",
       " 0,\n",
       " 'abc',\n",
       " 0,\n",
       " 'abc',\n",
       " 0,\n",
       " 'abc',\n",
       " 0,\n",
       " 'ded',\n",
       " 0,\n",
       " 'ede',\n",
       " 0,\n",
       " 'ded',\n",
       " 0,\n",
       " 'ede']"
      ]
     },
     "execution_count": 86,
     "metadata": {},
     "output_type": "execute_result"
    }
   ],
   "source": [
    "solution(s)"
   ]
  },
  {
   "cell_type": "code",
   "execution_count": 97,
   "metadata": {},
   "outputs": [],
   "source": [
    "def solution(s):\n",
    "    answer = 0\n",
    "    s_list = list(s)\n",
    "    n = 4\n",
    "    zipped = [s[i*n:(i+1)*n]  for i in range((len(s)+ n -1 ) // n)] \n",
    "    s_1 =[0 if i%2 == 0  else zipped[(i//2)]  for i in range(2*len(zipped))]\n",
    "\n",
    "    return s_1 "
   ]
  },
  {
   "cell_type": "code",
   "execution_count": 88,
   "metadata": {},
   "outputs": [
    {
     "data": {
      "text/plain": [
       "[0, 'abca', 0, 'bcab', 0, 'cabc', 0, 'dede', 0, 'dede', 0, 'dede']"
      ]
     },
     "execution_count": 88,
     "metadata": {},
     "output_type": "execute_result"
    }
   ],
   "source": [
    "solution(s)"
   ]
  },
  {
   "cell_type": "code",
   "execution_count": null,
   "metadata": {},
   "outputs": [],
   "source": [
    "for i in range(n):\n",
    "    result[i] == result[i+1]\n",
    "    count += 1\n",
    "    result[i] "
   ]
  },
  {
   "cell_type": "code",
   "execution_count": 12,
   "metadata": {},
   "outputs": [
    {
     "name": "stdout",
     "output_type": "stream",
     "text": [
      "range(0, 6, 2)\n",
      "range(1, 6, 2)\n"
     ]
    }
   ],
   "source": [
    "for i in range(0,len(s),2),range(1,len(s),2) :\n",
    "    print(i)\n",
    "#     print(j)"
   ]
  },
  {
   "cell_type": "code",
   "execution_count": 13,
   "metadata": {},
   "outputs": [
    {
     "data": {
      "text/plain": [
       "['a', 'c', 'e']"
      ]
     },
     "execution_count": 13,
     "metadata": {},
     "output_type": "execute_result"
    }
   ],
   "source": [
    "[s[i] for i in range(0,len(s),2)]"
   ]
  },
  {
   "cell_type": "code",
   "execution_count": 17,
   "metadata": {},
   "outputs": [],
   "source": [
    "def split_n(s,n):\n",
    "    splitted = [s[i*n:(i+1)*n]  for i in range((len(s)+ n -1 ) // n)] \n",
    "    i = 0\n",
    "    com = splitted[0] \n",
    "    count = 0\n",
    "    zipped_list = []\n",
    "    while (com == splitted[i]):\n",
    "        count += 1 \n",
    "        i += 1\n",
    "#         print(count,com)\n",
    "        if count > 1 :\n",
    "            zipped_list.pop()\n",
    "            zipped_list.append(str(count) + com)\n",
    "        else: zipped_list.append(com)\n",
    "        if i == len(splitted) : break\n",
    "\n",
    "        if com != splitted[i]: \n",
    "            count = 0\n",
    "            com = splitted[i] \n",
    "            continue\n",
    "    \n",
    "    return ''.join(zipped_list)"
   ]
  },
  {
   "cell_type": "code",
   "execution_count": 20,
   "metadata": {},
   "outputs": [],
   "source": [
    "def min_of(a):\n",
    "    minimm = a[0]\n",
    "    for i in range(1, len(a)):\n",
    "        if a[i] < minimm:\n",
    "            minimm = a[i]\n",
    "\n",
    "    return minimm"
   ]
  },
  {
   "cell_type": "code",
   "execution_count": 34,
   "metadata": {},
   "outputs": [],
   "source": [
    "def solution(s):\n",
    "    s_len =len(s)\n",
    "    com_list = []\n",
    "    for n in range(1, (s_len+2)//2):\n",
    "        com_list.append(len(split_n(s,n)))\n",
    "        a = com_list\n",
    "#     a = list(set(com_list))\n",
    "    return min_of(a)\n",
    "\n",
    "    "
   ]
  },
  {
   "cell_type": "code",
   "execution_count": 36,
   "metadata": {},
   "outputs": [
    {
     "ename": "IndexError",
     "evalue": "list index out of range",
     "output_type": "error",
     "traceback": [
      "\u001b[0;31m---------------------------------------------------------------------------\u001b[0m",
      "\u001b[0;31mIndexError\u001b[0m                                Traceback (most recent call last)",
      "\u001b[0;32m<ipython-input-36-d8ebf6cf8daf>\u001b[0m in \u001b[0;36m<module>\u001b[0;34m\u001b[0m\n\u001b[1;32m      1\u001b[0m \u001b[0maa\u001b[0m \u001b[0;34m=\u001b[0m\u001b[0;34m[\u001b[0m\u001b[0;34m]\u001b[0m\u001b[0;34m\u001b[0m\u001b[0;34m\u001b[0m\u001b[0m\n\u001b[0;32m----> 2\u001b[0;31m \u001b[0mprint\u001b[0m\u001b[0;34m(\u001b[0m\u001b[0maa\u001b[0m\u001b[0;34m[\u001b[0m\u001b[0;36m0\u001b[0m\u001b[0;34m]\u001b[0m\u001b[0;34m)\u001b[0m\u001b[0;34m\u001b[0m\u001b[0;34m\u001b[0m\u001b[0m\n\u001b[0m",
      "\u001b[0;31mIndexError\u001b[0m: list index out of range"
     ]
    }
   ],
   "source": [
    "aa =[]\n",
    "print(aa[0])"
   ]
  },
  {
   "cell_type": "code",
   "execution_count": 38,
   "metadata": {},
   "outputs": [
    {
     "data": {
      "text/plain": [
       "14"
      ]
     },
     "execution_count": 38,
     "metadata": {},
     "output_type": "execute_result"
    }
   ],
   "source": [
    "solution(\"abcaabcacabcdededededede\")"
   ]
  },
  {
   "cell_type": "code",
   "execution_count": 40,
   "metadata": {},
   "outputs": [
    {
     "data": {
      "text/plain": [
       "1000"
      ]
     },
     "execution_count": 40,
     "metadata": {},
     "output_type": "execute_result"
    }
   ],
   "source": [
    "com_list = [1000]\n",
    "com_list[-1]"
   ]
  },
  {
   "cell_type": "markdown",
   "metadata": {},
   "source": [
    "# 내 풀이 1 \n",
    "\n",
    "split_n 함수와\n",
    "\n",
    "solutuin으로 풀기"
   ]
  },
  {
   "cell_type": "code",
   "execution_count": 37,
   "metadata": {},
   "outputs": [],
   "source": [
    "def split_n(s,n):\n",
    "    splitted = [s[i*n:(i+1)*n]  for i in range((len(s)+ n -1 ) // n)] \n",
    "    i = 0\n",
    "    com = splitted[0] \n",
    "    count = 0\n",
    "    zipped_list = []\n",
    "    while (com == splitted[i]):\n",
    "        count += 1 \n",
    "        i += 1\n",
    "#         print(count,com)\n",
    "        if count > 1 :\n",
    "            zipped_list.pop()\n",
    "            zipped_list.append(str(count) + com)\n",
    "        else: zipped_list.append(com)\n",
    "        if i == len(splitted) : break\n",
    "\n",
    "        if com != splitted[i]: \n",
    "            count = 0\n",
    "            com = splitted[i] \n",
    "            continue\n",
    "    \n",
    "    return ''.join(zipped_list)\n",
    "\n",
    "\n",
    "def solution(s):\n",
    "    s_len = len(s)\n",
    "    if s_len == 1:\n",
    "        return 1\n",
    "    com_list = [1000]\n",
    "    for n in range(1, (s_len+2)//2):\n",
    "        if len(split_n(s,n)) < com_list[-1]:\n",
    "        \tcom_list.append(len(split_n(s,n)))\n",
    "    return com_list[-1]\n",
    "\n"
   ]
  },
  {
   "cell_type": "markdown",
   "metadata": {},
   "source": [
    "# 내 풀이 2\n",
    "\n",
    "split_n 함수와\n",
    "\n",
    "solutuin와\n",
    "\n",
    "min of 로 풀기"
   ]
  },
  {
   "cell_type": "code",
   "execution_count": null,
   "metadata": {},
   "outputs": [],
   "source": [
    "def split_n(s,n):\n",
    "    splitted = [s[i*n:(i+1)*n]  for i in range((len(s)+ n -1 ) // n)]\n",
    "    i = 0\n",
    "    com = splitted[0]\n",
    "    count = 0\n",
    "    zipped_list = []\n",
    "    while (com == splitted[i]):\n",
    "        count += 1\n",
    "        i += 1\n",
    "#         print(count,com)\n",
    "        if count > 1 :\n",
    "            zipped_list.pop()\n",
    "            zipped_list.append(str(count) + com)\n",
    "        else: zipped_list.append(com)\n",
    "        if i == len(splitted) : break\n",
    "        if com != splitted[i]:\n",
    "            count = 0\n",
    "            com = splitted[i]\n",
    "            continue\n",
    "    return ''.join(zipped_list)\n",
    "def solution(s):\n",
    "    s_len = len(s)\n",
    "    if s_len == 1:\n",
    "        return 1\n",
    "    com_list = [1000]\n",
    "    for n in range(1, (s_len+2)//2):\n",
    "        if len(split_n(s,n)) < com_list[-1]:\n",
    "            com_list.append(len(split_n(s,n)))\n",
    "    return com_list[-1]\n",
    "\n",
    "\n",
    "    "
   ]
  },
  {
   "cell_type": "code",
   "execution_count": 42,
   "metadata": {},
   "outputs": [
    {
     "name": "stdout",
     "output_type": "stream",
     "text": [
      "abcdeabcdeabcdeabcdeabcdeabcdeabcdeabcdeabcdeabcdeabcdeabcdeabcdeabcdeabcdeabcdeabcdeabcdeabcdeabcdeabcdeabcdeabcdeabcdeabcdeabcdeabcdeabcdeabcdeabcdeabcdeabcdeabcdeabcdeabcdeabcdeabcdeabcdeabcdeabcdeabcdeabcdeabcdeabcdeabcdeabcdeabcdeabcdeabcdeabcdeabcdeabcdeabcdeabcdeabcdeabcdeabcdeabcdeabcdeabcdeabcdeabcdeabcdeabcdeabcdeabcdeabcdeabcdeabcdeabcdeabcdeabcdeabcdeabcdeabcdeabcdeabcdeabcdeabcdeabcdeabcdeabcdeabcdeabcdeabcdeabcdeabcdeabcdeabcdeabcdeabcdeabcdeabcdeabcdeabcdeabcdeabcdeabcdeabcdeabcdeabcdeabcdeabcdeabcdeabcdeabcdeabcdeabcdeabcdeabcdeabcdeabcdeabcdeabcdeabcdeabcdeabcdeabcdeabcdeabcdeabcdeabcdeabcdeabcdeabcdeabcdeabcdeabcdeabcdeabcdeabcdeabcdeabcdeabcdeabcdeabcdeabcdeabcdeabcdeabcdeabcdeabcdeabcdeabcdeabcdeabcdeabcdeabcdeabcdeabcdeabcdeabcdeabcdeabcdeabcdeabcdeabcdeabcdeabcdeabcdeabcdeabcdeabcdeabcdeabcdeabcdeabcdeabcdeabcdeabcdeabcdeabcdeabcdeabcdeabcdeabcdeabcdeabcdeabcdeabcdeabcdeabcdeabcdeabcdeabcdeabcdeabcdeabcdeabcdeabcdeabcdeabcdeabcdeabcdeabcdeabcdeabcdeabcdeabcdeabcde\n",
      "1000\n"
     ]
    }
   ],
   "source": [
    "s =\"abcde\" \n",
    "s = s *200 \n",
    "print(s)\n",
    "print(len(s))"
   ]
  },
  {
   "cell_type": "code",
   "execution_count": 45,
   "metadata": {},
   "outputs": [],
   "source": [
    "n = 30"
   ]
  },
  {
   "cell_type": "code",
   "execution_count": 46,
   "metadata": {
    "scrolled": true
   },
   "outputs": [
    {
     "data": {
      "text/plain": [
       "['abcdeabcdeabcdeabcdeabcdeabcde',\n",
       " 'abcdeabcdeabcdeabcdeabcdeabcde',\n",
       " 'abcdeabcdeabcdeabcdeabcdeabcde',\n",
       " 'abcdeabcdeabcdeabcdeabcdeabcde',\n",
       " 'abcdeabcdeabcdeabcdeabcdeabcde',\n",
       " 'abcdeabcdeabcdeabcdeabcdeabcde',\n",
       " 'abcdeabcdeabcdeabcdeabcdeabcde',\n",
       " 'abcdeabcdeabcdeabcdeabcdeabcde',\n",
       " 'abcdeabcdeabcdeabcdeabcdeabcde',\n",
       " 'abcdeabcdeabcdeabcdeabcdeabcde',\n",
       " 'abcdeabcdeabcdeabcdeabcdeabcde',\n",
       " 'abcdeabcdeabcdeabcdeabcdeabcde',\n",
       " 'abcdeabcdeabcdeabcdeabcdeabcde',\n",
       " 'abcdeabcdeabcdeabcdeabcdeabcde',\n",
       " 'abcdeabcdeabcdeabcdeabcdeabcde',\n",
       " 'abcdeabcdeabcdeabcdeabcdeabcde',\n",
       " 'abcdeabcdeabcdeabcdeabcdeabcde',\n",
       " 'abcdeabcdeabcdeabcdeabcdeabcde',\n",
       " 'abcdeabcdeabcdeabcdeabcdeabcde',\n",
       " 'abcdeabcdeabcdeabcdeabcdeabcde',\n",
       " 'abcdeabcdeabcdeabcdeabcdeabcde',\n",
       " 'abcdeabcdeabcdeabcdeabcdeabcde',\n",
       " 'abcdeabcdeabcdeabcdeabcdeabcde',\n",
       " 'abcdeabcdeabcdeabcdeabcdeabcde',\n",
       " 'abcdeabcdeabcdeabcdeabcdeabcde',\n",
       " 'abcdeabcdeabcdeabcdeabcdeabcde',\n",
       " 'abcdeabcdeabcdeabcdeabcdeabcde',\n",
       " 'abcdeabcdeabcdeabcdeabcdeabcde',\n",
       " 'abcdeabcdeabcdeabcdeabcdeabcde',\n",
       " 'abcdeabcdeabcdeabcdeabcdeabcde',\n",
       " 'abcdeabcdeabcdeabcdeabcdeabcde',\n",
       " 'abcdeabcdeabcdeabcdeabcdeabcde',\n",
       " 'abcdeabcdeabcdeabcdeabcdeabcde',\n",
       " 'abcdeabcde']"
      ]
     },
     "execution_count": 46,
     "metadata": {},
     "output_type": "execute_result"
    }
   ],
   "source": [
    " [s[i*n:(i+1)*n]  for i in range((len(s)+ n -1 ) // n)] "
   ]
  },
  {
   "cell_type": "markdown",
   "metadata": {},
   "source": [
    "# 다른 사람 풀이"
   ]
  },
  {
   "cell_type": "code",
   "execution_count": 2,
   "metadata": {},
   "outputs": [],
   "source": [
    "def compress(text, tok_len):\n",
    "    words = [text[i:i+tok_len] for i in range(0, len(text), tok_len)]\n",
    "    res = []\n",
    "    cur_word = words[0]\n",
    "    cur_cnt = 1\n",
    "    for a, b in zip(words, words[1:] + ['']):\n",
    "        if a == b:\n",
    "            cur_cnt += 1\n",
    "        else:\n",
    "            res.append([cur_word, cur_cnt])\n",
    "            cur_word = b\n",
    "            cur_cnt = 1\n",
    "    return sum(len(word) + (len(str(cnt)) if cnt > 1 else 0) for word, cnt in res)\n",
    "\n",
    "def solution(text):\n",
    "    return min(compress(text, tok_len) for tok_len in list(range(1, int(len(text)/2) + 1)) + [len(text)])"
   ]
  },
  {
   "cell_type": "markdown",
   "metadata": {},
   "source": [
    "진짜 파이써닉한 코딩\n"
   ]
  },
  {
   "cell_type": "markdown",
   "metadata": {},
   "source": [
    "# 소고:\n",
    "\n",
    "test case 5번이 안되서 도저히 뭘까하고 계속 시간잡아먹었는데\n",
    "사람들이 질문하기에서 공유하고 있었다. 너무 시간을 잡아 먹을바에야\n",
    "질문하기에서 정보를 파악해서 빠르게 고치는 것도 좋을듯\n",
    "\n",
    "test case 5번 같은 경우에는 길이 1짜리를 묻는 질문이었다. \n",
    "    \n",
    "\n",
    "아직도 파이썬 코드에 익숙하지않아서 코드 구현하는데에 시간을 너무 먹는다 코딩도장 공부좀 더 해야할꺼같다.. "
   ]
  }
 ],
 "metadata": {
  "kernelspec": {
   "display_name": "Python 3",
   "language": "python",
   "name": "python3"
  },
  "language_info": {
   "codemirror_mode": {
    "name": "ipython",
    "version": 3
   },
   "file_extension": ".py",
   "mimetype": "text/x-python",
   "name": "python",
   "nbconvert_exporter": "python",
   "pygments_lexer": "ipython3",
   "version": "3.7.7"
  }
 },
 "nbformat": 4,
 "nbformat_minor": 4
}
