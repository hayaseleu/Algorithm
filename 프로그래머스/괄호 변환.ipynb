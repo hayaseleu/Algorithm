{
 "cells": [
  {
   "cell_type": "code",
   "execution_count": 54,
   "id": "a308f5e8",
   "metadata": {},
   "outputs": [],
   "source": [
    "def bal(q):\n",
    "    count = 0\n",
    "    for i in q:\n",
    "        if i == '(': count += 1\n",
    "        else: count -=1\n",
    "    return not count or False\n",
    "\n",
    "def cor(q):\n",
    "    stack = []\n",
    "    stack.append(q[0])\n",
    "    for i in range(1,len(q)):\n",
    "        if stack and stack[-1] == '(' and q[i] == ')':\n",
    "            stack.pop()\n",
    "        else:\n",
    "            stack.append(q[i])\n",
    "    return not stack or False\n",
    "\n",
    "def solution(p):\n",
    "    answer = ''\n",
    "    u = \"\"\n",
    "    v = \"\"\n",
    "    if not p or cor(p):\n",
    "        return p\n",
    "    \n",
    "    for i in range(2, len(p)+1, 2):\n",
    "        if bal(p[0:i]):\n",
    "            u = p[0:i]\n",
    "            v = p[i:len(p)]\n",
    "            break\n",
    "    \n",
    "    if cor(u):\n",
    "        anser += u + solution(v)\n",
    "    else:\n",
    "        answer += '(' + solution(v) + ')'\n",
    "        for j in u[1:-1]:\n",
    "            if c == '(':\n",
    "                answer += ')'\n",
    "            else: answer += '('\n",
    "    return answer"
   ]
  },
  {
   "cell_type": "code",
   "execution_count": 55,
   "id": "19cdb799",
   "metadata": {},
   "outputs": [
    {
     "data": {
      "text/plain": [
       "'()'"
      ]
     },
     "execution_count": 55,
     "metadata": {},
     "output_type": "execute_result"
    }
   ],
   "source": [
    "solution(\")(\")"
   ]
  },
  {
   "cell_type": "code",
   "execution_count": null,
   "id": "0c886f3d",
   "metadata": {},
   "outputs": [],
   "source": []
  }
 ],
 "metadata": {
  "kernelspec": {
   "display_name": "Python 3",
   "language": "python",
   "name": "python3"
  },
  "language_info": {
   "codemirror_mode": {
    "name": "ipython",
    "version": 3
   },
   "file_extension": ".py",
   "mimetype": "text/x-python",
   "name": "python",
   "nbconvert_exporter": "python",
   "pygments_lexer": "ipython3",
   "version": "3.7.9"
  }
 },
 "nbformat": 4,
 "nbformat_minor": 5
}
