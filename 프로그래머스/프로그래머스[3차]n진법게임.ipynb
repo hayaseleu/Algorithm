{
 "cells": [
  {
   "cell_type": "markdown",
   "metadata": {},
   "source": [
    "내풀이 "
   ]
  },
  {
   "cell_type": "code",
   "execution_count": 56,
   "metadata": {},
   "outputs": [],
   "source": [
    "def solution(n, t, m, p):\n",
    "    answer = []\n",
    "    def card_conv(number, base_n):\n",
    "        seq = []\n",
    "        alpha = \"0123456789ABCDEFGHIJKLMNOPQRSTUVWXYZ\"\n",
    "        if number < base_n:\n",
    "            return alpha[number]\n",
    "        while True:\n",
    "            number, a = divmod(number,base_n)\n",
    "            seq.append(alpha[a])\n",
    "            if number < base_n:\n",
    "                seq.append(alpha[number])\n",
    "                break\n",
    "\n",
    "        return(seq[::-1])\n",
    "\n",
    "    call_list = [card_conv(x,n) for x in  range(t*m)]\n",
    "    call_list1 = [element for array in call_list for element in array]\n",
    "    \n",
    "    for i in range(p-1,t*m,m):\n",
    "        answer.append(call_list1[i])\n",
    "    return  \"\".join(answer)"
   ]
  },
  {
   "cell_type": "markdown",
   "metadata": {},
   "source": [
    "엄청 비효율적이다. 비효율적인 점을 체크해보자면..\n",
    "\n",
    "1.기존에 만들었던 진법함수를 그대로 써서 16진법 이상에도 대응하나 함수가 느리고 비효율적임.                  \n",
    "2.내가만든진법함수가list형태로 나오기때문에 그것을 다시 변형하는데 시간이 오래걸림.                                \n",
    "3.일단 tm개의 숫자를 n진법으로 변형하고 다시 그걸 쪼개서 불러오는 식인데 한번에 여러번 불리는 숫자도 있기때문에 tm개의 숫자가 필요하지않음.\n",
    "\n",
    "다른 사람들의 풀이를 보면서 내 풀이의 비효율을 고쳐보도록 하겠음"
   ]
  },
  {
   "cell_type": "code",
   "execution_count": 57,
   "metadata": {},
   "outputs": [
    {
     "data": {
      "text/plain": [
       "'0111'"
      ]
     },
     "execution_count": 57,
     "metadata": {},
     "output_type": "execute_result"
    }
   ],
   "source": [
    "solution(2,4,2,1)"
   ]
  },
  {
   "cell_type": "code",
   "execution_count": 34,
   "metadata": {},
   "outputs": [],
   "source": [
    "def card_conv(number, base_n):\n",
    "    seq = []\n",
    "    alpha = \"0123456789ABCDEFGHIJKLMNOPQRSTUVWXYZ\"\n",
    "    if number < base_n:\n",
    "        return alpha[number]\n",
    "    while True:\n",
    "        number, a = divmod(number,base_n)\n",
    "        seq.append(alpha[a])\n",
    "        if number < base_n:\n",
    "            seq.append(alpha[number])\n",
    "            break\n",
    "\n",
    "    return(seq[::-1])"
   ]
  },
  {
   "cell_type": "code",
   "execution_count": 35,
   "metadata": {},
   "outputs": [
    {
     "name": "stdout",
     "output_type": "stream",
     "text": [
      "['0', '1', ['1', '0'], ['1', '1'], ['1', '0', '0'], ['1', '0', '1'], ['1', '1', '0'], ['1', '1', '1'], ['1', '0', '0', '0'], ['1', '0', '0', '1'], ['1', '0', '1', '0'], ['1', '0', '1', '1'], ['1', '1', '0', '0'], ['1', '1', '0', '1'], ['1', '1', '1', '0'], ['1', '1', '1', '1'], ['1', '0', '0', '0', '0'], ['1', '0', '0', '0', '1'], ['1', '0', '0', '1', '0'], ['1', '0', '0', '1', '1']]\n"
     ]
    }
   ],
   "source": [
    "a = [card_conv(x,2) for x in  range(10*2)]\n",
    "print(a)"
   ]
  },
  {
   "cell_type": "code",
   "execution_count": 38,
   "metadata": {},
   "outputs": [
    {
     "name": "stdout",
     "output_type": "stream",
     "text": [
      "['1', '0', '1', '1', '1', '0', '0', '1', '0', '1', '1', '1', '0', '1', '1', '1', '1', '0', '0', '0', '1', '0', '0', '1', '1', '0', '1', '0', '1', '0', '1', '1', '1', '1', '0', '0', '1', '1', '0', '1', '1', '1', '1', '0', '1', '1', '1', '1', '1', '0', '0', '0', '0', '1', '0', '0', '0', '1', '1', '0', '0', '1', '0', '1', '0', '0', '1', '1']\n"
     ]
    }
   ],
   "source": [
    "an = sum(a[2:], [])\n",
    "print(an)"
   ]
  },
  {
   "cell_type": "code",
   "execution_count": 40,
   "metadata": {},
   "outputs": [
    {
     "name": "stdout",
     "output_type": "stream",
     "text": [
      "['0', '1', '1', '0', '1', '1', '1', '0', '0', '1', '0', '1', '1', '1', '0', '1', '1', '1', '1', '0', '0', '0', '1', '0', '0', '1', '1', '0', '1', '0', '1', '0', '1', '1', '1', '1', '0', '0', '1', '1', '0', '1', '1', '1', '1', '0', '1', '1', '1', '1', '1', '0', '0', '0', '0', '1', '0', '0', '0', '1', '1', '0', '0', '1', '0', '1', '0', '0', '1', '1']\n"
     ]
    }
   ],
   "source": [
    "ann =[element for array in a for element in array]\n",
    "print(ann)"
   ]
  },
  {
   "cell_type": "code",
   "execution_count": 41,
   "metadata": {},
   "outputs": [
    {
     "data": {
      "text/plain": [
       "'1'"
      ]
     },
     "execution_count": 41,
     "metadata": {},
     "output_type": "execute_result"
    }
   ],
   "source": [
    "ann[1]"
   ]
  },
  {
   "cell_type": "markdown",
   "metadata": {},
   "source": [
    "다른 사람 풀이 1"
   ]
  },
  {
   "cell_type": "code",
   "execution_count": 58,
   "metadata": {},
   "outputs": [],
   "source": [
    "big = [\"A\",\"B\",\"C\",\"D\",\"E\",\"F\"]\n",
    "def solution(n, t, m, p):\n",
    "    a=\"0\"\n",
    "    i=0\n",
    "    #for i in range(t*m):\n",
    "    while True:\n",
    "        if len(a)>=t*m:\n",
    "            break\n",
    "        b=\"\"\n",
    "        j=i\n",
    "        while (j):\n",
    "            if j%n>9:\n",
    "                b=big[j%n-10]+b\n",
    "            else:\n",
    "                b=str(j%n)+b\n",
    "            j=j//n\n",
    "        a=a+b\n",
    "        i=i+1\n",
    "    answer = a[p-1::m][:t]\n",
    "    return answer"
   ]
  },
  {
   "cell_type": "markdown",
   "metadata": {},
   "source": [
    "아예 한번에 n진법화 시키넌걸 j%n > 9로 놓은게 독특함"
   ]
  },
  {
   "cell_type": "markdown",
   "metadata": {},
   "source": [
    "다른 사람 풀이 2 "
   ]
  },
  {
   "cell_type": "code",
   "execution_count": 60,
   "metadata": {},
   "outputs": [],
   "source": [
    "DIGITS = list('0123456789ABCDEF')\n",
    "\n",
    "\n",
    "def n2base(n, base):\n",
    "    if n == 0:\n",
    "        return DIGITS[0]\n",
    "\n",
    "    # 각 자리수에 해당하는 문자열을 담을 리스트\n",
    "    digits = []\n",
    "    while n > 0:\n",
    "        # 제일 마지막 자리의 숫자 구하기. 예를 들어 1658이면 '8'\n",
    "        digits.append(DIGITS[n % base])\n",
    "        # 제일 마지막 자리 제거. 예를 들어 1658이면 165로\n",
    "        n = int(n // base)\n",
    "\n",
    "    # 뒤집어서 반환. 예를 들어 '8561'이면 '1658'\n",
    "    return ''.join(digits[::-1])\n",
    "\n",
    "\n",
    "def solution(n, t, m, p):\n",
    "    digits = []\n",
    "    turn = 0\n",
    "    while len(digits) < t * m:\n",
    "        digits += list(n2base(turn, n))\n",
    "        turn += 1\n",
    "    return ''.join(digits[p-1::m][:t])"
   ]
  },
  {
   "cell_type": "markdown",
   "metadata": {},
   "source": [
    "일단 내가 만든것보다 훨씬 빠르고 간결하게 n진법 함수를 만들어냈다. 그리고 list꼴이 아닌 str꼴로 만들어냈기때문에\n",
    "list comprehension 하지않고 바로 이용가능하고 for문을 새로 돌리기 보단 바로 digis의 인덱스에서 활용가능하게 만들었다.\n",
    "\n",
    "나는 list(str(10))이 간단하게 \\[1,0\\]으로 변환된다는 사실을 몰라 복잡하게 풀었는데\n",
    "list(n2base(turn,n))으로 빠르게 풀었다는게 볼만하다.\n",
    "\n",
    "거기다 일단 ''.join(digits\\[p-1::m\\]) 로 간결하게 뽑고 거기서 \\[:t\\]를 걸어 t개만 뽑아낸것도 훨씬 간결하게 푼거 같다. "
   ]
  },
  {
   "cell_type": "code",
   "execution_count": 66,
   "metadata": {},
   "outputs": [],
   "source": [
    "digits = []\n",
    "turn = 0\n",
    "n, t, m, p = 2,4,2,1"
   ]
  },
  {
   "cell_type": "code",
   "execution_count": 75,
   "metadata": {},
   "outputs": [
    {
     "name": "stdout",
     "output_type": "stream",
     "text": [
      "['0', '1', '1', '0', '1', '1', '1', '0', '0']\n"
     ]
    },
    {
     "data": {
      "text/plain": [
       "'0111'"
      ]
     },
     "execution_count": 75,
     "metadata": {},
     "output_type": "execute_result"
    }
   ],
   "source": [
    "while len(digits) < t*m:\n",
    "    print(n2base(turn,n))\n",
    "    digits += list(n2base(turn,n))\n",
    "    turn += 1\n",
    "\n",
    "print(digits)\n",
    "''.join(digits[p-1::m][:t])"
   ]
  },
  {
   "cell_type": "code",
   "execution_count": 69,
   "metadata": {},
   "outputs": [
    {
     "data": {
      "text/plain": [
       "'101'"
      ]
     },
     "execution_count": 69,
     "metadata": {},
     "output_type": "execute_result"
    }
   ],
   "source": [
    "n2base(turn,n)"
   ]
  },
  {
   "cell_type": "code",
   "execution_count": 71,
   "metadata": {},
   "outputs": [
    {
     "name": "stdout",
     "output_type": "stream",
     "text": [
      "['1', '0']\n"
     ]
    }
   ],
   "source": [
    "adsfa = []\n",
    "adsfa += list(str(10))\n",
    "print(adsfa)"
   ]
  },
  {
   "cell_type": "code",
   "execution_count": 76,
   "metadata": {},
   "outputs": [
    {
     "data": {
      "text/plain": [
       "'01110'"
      ]
     },
     "execution_count": 76,
     "metadata": {},
     "output_type": "execute_result"
    }
   ],
   "source": [
    "''.join(digits[p-1::m])"
   ]
  },
  {
   "cell_type": "markdown",
   "metadata": {},
   "source": []
  },
  {
   "cell_type": "code",
   "execution_count": 72,
   "metadata": {},
   "outputs": [
    {
     "data": {
      "text/plain": [
       "['1', '0']"
      ]
     },
     "execution_count": 72,
     "metadata": {},
     "output_type": "execute_result"
    }
   ],
   "source": [
    "list(str(10))"
   ]
  }
 ],
 "metadata": {
  "kernelspec": {
   "display_name": "Python 3",
   "language": "python",
   "name": "python3"
  },
  "language_info": {
   "codemirror_mode": {
    "name": "ipython",
    "version": 3
   },
   "file_extension": ".py",
   "mimetype": "text/x-python",
   "name": "python",
   "nbconvert_exporter": "python",
   "pygments_lexer": "ipython3",
   "version": "3.7.1"
  }
 },
 "nbformat": 4,
 "nbformat_minor": 2
}
