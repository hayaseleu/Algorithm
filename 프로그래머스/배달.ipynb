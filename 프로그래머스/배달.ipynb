{
 "cells": [
  {
   "cell_type": "markdown",
   "metadata": {},
   "source": [
    "https://programmers.co.kr/learn/courses/30/lessons/12978"
   ]
  },
  {
   "cell_type": "markdown",
   "metadata": {},
   "source": [
    "N개의 마을로 이루어진 나라,\n",
    "마을은 1부터 N까지 번호가 부여되어있음.\n",
    "\n",
    "도로는 양방향.\n",
    "1번 마을 음식점에서 각 마을로 배달을 하려고함.\n",
    "N개의 마을 중에서 K 시간 이하로 배달이 가능한 마을에서만 주문을 받으려고함.\n",
    "\n",
    "마을 개수 N, 마을을 연결하는 도로 정보 road, 음식 배달이 가능한 시간 K 가 주어질때\n",
    "\n",
    "음식 주문을 받을 수 있는 마을의 갯수를 return 하도록 solution 함수를 완성해보아라."
   ]
  },
  {
   "cell_type": "markdown",
   "metadata": {},
   "source": [
    "1번 마을 부터 타 마을까지의 최소경로들을 계산한후 K이하의 값일 경우만 체크해서 return하면 풀릴수있음."
   ]
  },
  {
   "cell_type": "markdown",
   "metadata": {},
   "source": [
    "우선순위 que를 이용해서 풀 예정"
   ]
  },
  {
   "cell_type": "code",
   "execution_count": 8,
   "metadata": {},
   "outputs": [
    {
     "data": {
      "text/plain": [
       "[1, 2, 3, 4, 5]"
      ]
     },
     "execution_count": 8,
     "metadata": {},
     "output_type": "execute_result"
    }
   ],
   "source": [
    "distance = [1,2,3,4,5]\n",
    "distance"
   ]
  },
  {
   "cell_type": "code",
   "execution_count": 9,
   "metadata": {},
   "outputs": [],
   "source": [
    "k = 3"
   ]
  },
  {
   "cell_type": "code",
   "execution_count": 11,
   "metadata": {},
   "outputs": [
    {
     "data": {
      "text/plain": [
       "[1, 2]"
      ]
     },
     "execution_count": 11,
     "metadata": {},
     "output_type": "execute_result"
    }
   ],
   "source": [
    "[i for i in distance if i < k]"
   ]
  },
  {
   "cell_type": "code",
   "execution_count": 14,
   "metadata": {},
   "outputs": [],
   "source": [
    "import heapq\n",
    "def solution(N,road, k):\n",
    "    INF = int(1e9)\n",
    "    distance = [INF] * (N + 1)\n",
    "    visited = [False] * (N + 1)\n",
    "    graph = [[] for _ in range(N+1)]\n",
    "    for i in road:\n",
    "        a, b, c = i\n",
    "        graph[a].append((b,c))\n",
    "        graph[b].append((a,c))\n",
    "    q = []\n",
    "    distance[1] = 0\n",
    "    heapq.heappush(q, (0, 1))\n",
    "    while q:\n",
    "        dist, now = heapq.heappop(q)\n",
    "        \n",
    "        if distance[now] < dist:\n",
    "            continue\n",
    "        \n",
    "        for i in graph[now]:\n",
    "            cost = dist + i[1]\n",
    "            if cost < distance[i[0]]:\n",
    "                distance[i[0]] = cost\n",
    "                heapq.heappush(q, (cost, i[0]))\n",
    "    \n",
    "    answer = [i for i in distance if i <= k]\n",
    "    return len(answer)\n",
    "                \n",
    "    \n",
    "    "
   ]
  },
  {
   "cell_type": "code",
   "execution_count": 15,
   "metadata": {},
   "outputs": [],
   "source": [
    "import heapq"
   ]
  },
  {
   "cell_type": "code",
   "execution_count": 16,
   "metadata": {},
   "outputs": [
    {
     "data": {
      "text/plain": [
       "[[1, 2, 1], [2, 3, 3], [5, 2, 2], [1, 4, 2], [5, 3, 1], [5, 4, 2]]"
      ]
     },
     "execution_count": 16,
     "metadata": {},
     "output_type": "execute_result"
    }
   ],
   "source": [
    "[[1,2,1],[2,3,3],[5,2,2],[1,4,2],[5,3,1],[5,4,2]]"
   ]
  },
  {
   "cell_type": "code",
   "execution_count": 17,
   "metadata": {},
   "outputs": [
    {
     "data": {
      "text/plain": [
       "4"
      ]
     },
     "execution_count": 17,
     "metadata": {},
     "output_type": "execute_result"
    }
   ],
   "source": [
    "solution(5,[[1,2,1],[2,3,3],[5,2,2],[1,4,2],[5,3,1],[5,4,2]],3)"
   ]
  },
  {
   "cell_type": "code",
   "execution_count": 5,
   "metadata": {},
   "outputs": [
    {
     "data": {
      "text/plain": [
       "[[], [], [], [], [], []]"
      ]
     },
     "execution_count": 5,
     "metadata": {},
     "output_type": "execute_result"
    }
   ],
   "source": [
    "graph = [[] for _ in range(N+1)]\n",
    "graph"
   ]
  }
 ],
 "metadata": {
  "kernelspec": {
   "display_name": "Python 3",
   "language": "python",
   "name": "python3"
  },
  "language_info": {
   "codemirror_mode": {
    "name": "ipython",
    "version": 3
   },
   "file_extension": ".py",
   "mimetype": "text/x-python",
   "name": "python",
   "nbconvert_exporter": "python",
   "pygments_lexer": "ipython3",
   "version": "3.7.1"
  }
 },
 "nbformat": 4,
 "nbformat_minor": 2
}
