{
 "cells": [
  {
   "cell_type": "code",
   "execution_count": 1,
   "metadata": {},
   "outputs": [],
   "source": [
    "class Solution:\n",
    "    def threeSum(self, nums):\n",
    "        has = {}\n",
    "        output = []\n",
    "        for i in range(len(nums)):\n",
    "            hs[nums[i]] = i\n",
    "        for i in range(len(nums)):\n",
    "            for j in range(len(nums)):\n",
    "                if i != j and -(nums[i]+nums[j]) in has:\n",
    "                    ouput.apeend(nums[i],nums[j], -(nums[i]+nums[j]))"
   ]
  },
  {
   "cell_type": "code",
   "execution_count": null,
   "metadata": {},
   "outputs": [],
   "source": [
    "# 한원소 중복해서 쓰면 안되니깐 이것도 dict을 응용해보면 좋을듯 "
   ]
  },
  {
   "cell_type": "code",
   "execution_count": 5,
   "metadata": {},
   "outputs": [],
   "source": [
    "a = [3,2,1].sort()"
   ]
  },
  {
   "cell_type": "code",
   "execution_count": 24,
   "metadata": {},
   "outputs": [
    {
     "name": "stdout",
     "output_type": "stream",
     "text": [
      "[-1, 0, 1, -1, 0, 1, -1, -1, 2, -1, -1, 2]\n"
     ]
    }
   ],
   "source": [
    "a = [[-1,0,1],[-1,0,1],[-1,-1,2],[-1,-1,2]]\n",
    "b = sum(a,[])\n",
    "print(b)"
   ]
  },
  {
   "cell_type": "code",
   "execution_count": 6,
   "metadata": {},
   "outputs": [
    {
     "name": "stdout",
     "output_type": "stream",
     "text": [
      "None\n"
     ]
    }
   ],
   "source": [
    "print(a)"
   ]
  },
  {
   "cell_type": "code",
   "execution_count": 21,
   "metadata": {},
   "outputs": [
    {
     "name": "stdout",
     "output_type": "stream",
     "text": [
      "([-1, 0, 1], [-1, 0, 1], [-1, -1, 2], [-1, -1, 2])\n",
      "<class 'tuple'>\n"
     ]
    }
   ],
   "source": [
    "a = [[-1,0,1],[-1,0,1],[-1,-1,2],[-1,-1,2]]\n",
    "dic = {}\n",
    "print(a)\n",
    "print(type(a))\n",
    "\n"
   ]
  },
  {
   "cell_type": "code",
   "execution_count": 17,
   "metadata": {},
   "outputs": [
    {
     "name": "stdout",
     "output_type": "stream",
     "text": [
      "{0, 1, -1}\n",
      "{2, -1}\n"
     ]
    }
   ],
   "source": [
    "di\n",
    "print(a)\n",
    "b = set([-1,-1,2])\n",
    "print(b)"
   ]
  },
  {
   "cell_type": "code",
   "execution_count": 22,
   "metadata": {},
   "outputs": [
    {
     "ename": "TypeError",
     "evalue": "unhashable type: 'list'",
     "output_type": "error",
     "traceback": [
      "\u001b[0;31m---------------------------------------------------------------------------\u001b[0m",
      "\u001b[0;31mTypeError\u001b[0m                                 Traceback (most recent call last)",
      "\u001b[0;32m<ipython-input-22-5ce4b5b0b826>\u001b[0m in \u001b[0;36m<module>\u001b[0;34m\u001b[0m\n\u001b[0;32m----> 1\u001b[0;31m \u001b[0mdic\u001b[0m\u001b[0;34m[\u001b[0m\u001b[0ma\u001b[0m\u001b[0;34m[\u001b[0m\u001b[0;36m1\u001b[0m\u001b[0;34m]\u001b[0m\u001b[0;34m]\u001b[0m \u001b[0;34m=\u001b[0m \u001b[0;36m2\u001b[0m\u001b[0;34m\u001b[0m\u001b[0;34m\u001b[0m\u001b[0m\n\u001b[0m",
      "\u001b[0;31mTypeError\u001b[0m: unhashable type: 'list'"
     ]
    }
   ],
   "source": [
    "dic[a[1]] = 2"
   ]
  },
  {
   "cell_type": "code",
   "execution_count": 11,
   "metadata": {},
   "outputs": [],
   "source": [
    "class Solution:        #중복된 값을 받는 상태임. dict 사용?\n",
    "    def threeSum(self, nums):\n",
    "        has = {}\n",
    "        output = set()\n",
    "        for i in range(len(nums)):\n",
    "            has[nums[i]] = i\n",
    "        for i in range(len(nums)):\n",
    "            for j in range(len(nums)):\n",
    "                if i != j and -(nums[i]+nums[j]) in has and i != has[nums[i]]:\n",
    "                    b = sorted([nums[i],nums[j],-(nums[i]+nums[j])])\n",
    "                    \n",
    "        return list(output.keys())             "
   ]
  },
  {
   "cell_type": "code",
   "execution_count": 76,
   "metadata": {},
   "outputs": [],
   "source": [
    "class Solution:\n",
    "    def threeSum(self, nums):\n",
    "        has = {}\n",
    "        output = []\n",
    "        final = []\n",
    "        for i in range(len(nums)):\n",
    "            has[nums[i]] = i\n",
    "        for i in range(len(nums)):\n",
    "            for j in range(len(nums)):\n",
    "                if i != j and -(nums[i]+nums[j]) in has and i != has[nums[i]]:\n",
    "                    b = sorted([nums[i],nums[j],-(nums[i]+nums[j])])\n",
    "                    output.append(b)\n",
    "\n",
    "        for v in output:\n",
    "            if v not in output:\n",
    "                final.append(v)\n",
    "        return(final)\n",
    "\n"
   ]
  },
  {
   "cell_type": "code",
   "execution_count": 66,
   "metadata": {},
   "outputs": [],
   "source": [
    "class Solution:\n",
    "    def threeSum(self, nums):\n",
    "        has = {}\n",
    "        output = []\n",
    "        final = []\n",
    "        for i in range(len(nums)):\n",
    "            has[nums[i]] = i\n",
    "        for i in range(len(nums)):\n",
    "            for j in range(len(nums)):\n",
    "                if i != j and -(nums[i]+nums[j]) in has and i != has[nums[i]] :\n",
    "                    b = sorted([nums[i],nums[j],-(nums[i]+nums[j])])\n",
    "                    output.append(b)\n",
    "        for v in output:\n",
    "            if v not in final:\n",
    "                final.append(v)\n",
    "        return(final)"
   ]
  },
  {
   "cell_type": "code",
   "execution_count": 78,
   "metadata": {},
   "outputs": [
    {
     "data": {
      "text/plain": [
       "[]"
      ]
     },
     "execution_count": 78,
     "metadata": {},
     "output_type": "execute_result"
    }
   ],
   "source": [
    "a = Solution()\n",
    "a.threeSum([-1,0,1,2,-1,-4])"
   ]
  },
  {
   "cell_type": "code",
   "execution_count": 53,
   "metadata": {},
   "outputs": [
    {
     "name": "stdout",
     "output_type": "stream",
     "text": [
      "2\n"
     ]
    }
   ],
   "source": [
    "b = len([0,0])\n",
    "print(b)"
   ]
  },
  {
   "cell_type": "code",
   "execution_count": 82,
   "metadata": {},
   "outputs": [],
   "source": [
    "class Solution:\n",
    "    def threeSum(self, nums):\n",
    "        has = {}\n",
    "        output = []\n",
    "        final = []\n",
    "        for i in range(len(nums)):\n",
    "            has[nums[i]] = i\n",
    "        for i in range(len(nums)):\n",
    "            for j in range(len(nums)):\n",
    "                if i != j and -(nums[i]+nums[j]) in has and i != has[nums[i]]:\n",
    "                    b = sorted([nums[i],nums[j],-(nums[i]+nums[j])])\n",
    "                    output.append(b)\n",
    "        for v in output:\n",
    "            if v not in final:\n",
    "                final.append(v)\n",
    "        return(final)"
   ]
  },
  {
   "cell_type": "code",
   "execution_count": 85,
   "metadata": {},
   "outputs": [
    {
     "data": {
      "text/plain": [
       "[[-1, 0, 1], [-1, -1, 2]]"
      ]
     },
     "execution_count": 85,
     "metadata": {},
     "output_type": "execute_result"
    }
   ],
   "source": [
    "a = Solution()\n",
    "a.threeSum([-1,0,1,2,-1,-4])"
   ]
  },
  {
   "cell_type": "code",
   "execution_count": 87,
   "metadata": {},
   "outputs": [
    {
     "name": "stdout",
     "output_type": "stream",
     "text": [
      "[[-1, 0, 1]]\n"
     ]
    }
   ],
   "source": [
    "a = [-1, 0, 1]\n",
    "print([a])"
   ]
  },
  {
   "cell_type": "code",
   "execution_count": null,
   "metadata": {},
   "outputs": [],
   "source": [
    "class Solution:\n",
    "    def threeSum(self, nums):\n",
    "        if any(nums) == False and len(nums) <3 :\n",
    "            return []\n",
    "        if len(nums) >= 3 and any(nums) == False:\n",
    "            return [[0,0,0]]\n",
    "        if len(nums) == 3 and sum(nums) == 0:\n",
    "            return [nums]\n",
    "        has = {}\n",
    "        output = []\n",
    "        final = []\n",
    "        for i in range(len(nums)):\n",
    "            has[nums[i]] = i\n",
    "        for i in range(len(nums)):\n",
    "            for j in range(len(nums)):\n",
    "                if i != j and -(nums[i]+nums[j]) in has and i != has[nums[i]] :\n",
    "                    b = sorted([nums[i],nums[j],-(nums[i]+nums[j])])\n",
    "                    if b != [0,0,0]:\n",
    "                        output.append(b)\n",
    "\n",
    "        for v in output:\n",
    "            if v not in final:\n",
    "                final.append(v)\n",
    "        return(final)"
   ]
  },
  {
   "cell_type": "markdown",
   "metadata": {},
   "source": [
    "책 풀이 "
   ]
  },
  {
   "cell_type": "code",
   "execution_count": null,
   "metadata": {},
   "outputs": [],
   "source": [
    "# 부르투 포스 풀이 \n",
    "class Solution:\n",
    "    def threeSum(self, nums):\n",
    "        results = []\n",
    "        nums.sort()\n",
    "        \n",
    "        # 부르투 포스 n^3 반복\n",
    "        \n",
    "        for i in range(len(nums) - 2):\n",
    "            # 중복된 값 건너뛰기\n",
    "            if i > 0 and nums[i] == nums[i-1]:\n",
    "                continue\n",
    "            for j in range(i +1 , len(nums)-1):\n",
    "                if j > i+1 and nums[j] == nums[j-1]:\n",
    "                    continue\n",
    "                for k in range(j+1, len(nums)):\n",
    "                    if k > j + 1 and nums[k] == nums[k-1]:\n",
    "                        continue\n",
    "                    if nums[i] + nums[j] + nums[k] == 0:\n",
    "                        results.append((nums[i],nums[j],nums[k]))\n",
    "\n",
    "        return results\n",
    "    \n",
    "#보통 오류가 난다."
   ]
  },
  {
   "cell_type": "code",
   "execution_count": 1,
   "metadata": {},
   "outputs": [
    {
     "ename": "SyntaxError",
     "evalue": "invalid syntax (<ipython-input-1-72700dd28188>, line 2)",
     "output_type": "error",
     "traceback": [
      "\u001b[0;36m  File \u001b[0;32m\"<ipython-input-1-72700dd28188>\"\u001b[0;36m, line \u001b[0;32m2\u001b[0m\n\u001b[0;31m    if i > 0 nums[i] == nums[i-1]:\u001b[0m\n\u001b[0m                ^\u001b[0m\n\u001b[0;31mSyntaxError\u001b[0m\u001b[0;31m:\u001b[0m invalid syntax\n"
     ]
    }
   ],
   "source": [
    "class Solution:\n",
    "    def threeSum(self, nums):\n",
    "        results = []\n",
    "        nums.sort()\n",
    "        for i in range(len(nums)-2):\n",
    "            #중복값 건너뛰기\n",
    "            if i > 0 and nums[i] == nums[i-1]:\n",
    "                continue\n",
    "            #간격 좁혀가며 합 sum 계산 \n",
    "            left, right = i+1 , len(nums) - 1 \n",
    "            while left < right:\n",
    "                sum = nums[i] + nums[left] + nums[right]\n",
    "                if sum < 0:\n",
    "                    left += 1\n",
    "                elif sum > 0:\n",
    "                    right -= 1 \n",
    "                else:\n",
    "                    results.append((nums[i], nums[left],nums[right]))\n",
    "                \n",
    "                    while left < right and nums[left] == nums[left+1]:\n",
    "                        left += 1 \n",
    "                    while left < right and nums[right] == nums[right -1]:\n",
    "                        right -= 1 \n",
    "        return results\n",
    "      "
   ]
  },
  {
   "cell_type": "code",
   "execution_count": null,
   "metadata": {},
   "outputs": [],
   "source": []
  }
 ],
 "metadata": {
  "kernelspec": {
   "display_name": "Python 3",
   "language": "python",
   "name": "python3"
  },
  "language_info": {
   "codemirror_mode": {
    "name": "ipython",
    "version": 3
   },
   "file_extension": ".py",
   "mimetype": "text/x-python",
   "name": "python",
   "nbconvert_exporter": "python",
   "pygments_lexer": "ipython3",
   "version": "3.7.6"
  }
 },
 "nbformat": 4,
 "nbformat_minor": 4
}
