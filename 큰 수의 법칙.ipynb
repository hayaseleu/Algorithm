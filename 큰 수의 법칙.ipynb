{
 "cells": [
  {
   "cell_type": "code",
   "execution_count": 11,
   "id": "976d698e",
   "metadata": {},
   "outputs": [
    {
     "name": "stdout",
     "output_type": "stream",
     "text": [
      "5 8 3\n",
      "2 4 5 4 6\n"
     ]
    }
   ],
   "source": [
    "# 첫줄 입력\n",
    "n, m , k = map(int, input().split())\n",
    "# 둘째줄 입력\n",
    "numbers = list(map(int, input().split()))"
   ]
  },
  {
   "cell_type": "code",
   "execution_count": 12,
   "id": "aa7b745a",
   "metadata": {},
   "outputs": [],
   "source": [
    "numbers.sort()"
   ]
  },
  {
   "cell_type": "code",
   "execution_count": 13,
   "id": "88d7648a",
   "metadata": {},
   "outputs": [
    {
     "data": {
      "text/plain": [
       "[2, 4, 4, 5, 6]"
      ]
     },
     "execution_count": 13,
     "metadata": {},
     "output_type": "execute_result"
    }
   ],
   "source": [
    "numbers"
   ]
  },
  {
   "cell_type": "code",
   "execution_count": null,
   "id": "45cb1d3d",
   "metadata": {},
   "outputs": [],
   "source": [
    "배열의 크기 n, 총 더해야하는 숫자 m, 반복 가능한 숫자 k\n"
   ]
  },
  {
   "cell_type": "code",
   "execution_count": 43,
   "id": "c4529001",
   "metadata": {},
   "outputs": [],
   "source": [
    "def solution(n,m,k, numbers):\n",
    "    *_, bigger, most_big  = numbers\n",
    "    output = m // (k + 1) * (most_big * k + bigger) + (m % (k+1))* most_big\n",
    "    return output"
   ]
  },
  {
   "cell_type": "markdown",
   "id": "caeb3d43",
   "metadata": {},
   "source": [
    "## 조금 더 수식 이쁘게"
   ]
  },
  {
   "cell_type": "code",
   "execution_count": 44,
   "id": "b0250d49",
   "metadata": {},
   "outputs": [],
   "source": [
    "def solution(n,m,k, numbers):\n",
    "    *_, bigger, most_big  = numbers\n",
    "    count = m // (k + 1) + m % (k+1)\n",
    "    output = count * most_big\n",
    "    output += (m - count) * bigger\n",
    "    return output"
   ]
  },
  {
   "cell_type": "markdown",
   "id": "6289b861",
   "metadata": {},
   "source": [
    "![image](./image/o.jpg)"
   ]
  }
 ],
 "metadata": {
  "kernelspec": {
   "display_name": "Python 3",
   "language": "python",
   "name": "python3"
  },
  "language_info": {
   "codemirror_mode": {
    "name": "ipython",
    "version": 3
   },
   "file_extension": ".py",
   "mimetype": "text/x-python",
   "name": "python",
   "nbconvert_exporter": "python",
   "pygments_lexer": "ipython3",
   "version": "3.7.9"
  }
 },
 "nbformat": 4,
 "nbformat_minor": 5
}
