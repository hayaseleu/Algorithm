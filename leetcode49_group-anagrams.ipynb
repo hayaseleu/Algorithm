{
 "cells": [
  {
   "cell_type": "markdown",
   "metadata": {},
   "source": [
    "https://leetcode.com/problems/group-anagrams/"
   ]
  },
  {
   "cell_type": "markdown",
   "metadata": {},
   "source": [
    "# 내풀이 "
   ]
  },
  {
   "cell_type": "code",
   "execution_count": 161,
   "metadata": {},
   "outputs": [],
   "source": [
    "from typing import List\n",
    "class Solution:\n",
    "    def groupAnagrams(self, strs: List[str]) -> List[List[str]]:\n",
    "        group = [[''.join(sorted(word)),word] for _, word  in enumerate(strs)]\n",
    "        group.sort(key = lambda x : x[0])\n",
    "        result = [[] for _ in range(1)]\n",
    "        fir_1 , firt_2 = group[0]\n",
    "        for i, j in group:\n",
    "            if fir_1 == i: \n",
    "                result[-1].append(j)\n",
    "            else:\n",
    "                result.append([])\n",
    "                result[-1].extend([j])\n",
    "                fir_1 = i\n",
    "        return result"
   ]
  },
  {
   "cell_type": "markdown",
   "metadata": {},
   "source": [
    "1. 각 문자열마다 counter 계산해서 이 counter가 동일한 애들만 쓰기.\n",
    "    \n",
    "    counter 계산까진 좋은데 각각 카운터가 동일한지 다시 찾는게 힘들어보임   \n",
    "    \n",
    "    그래서 파기 \n",
    "    \n",
    "2. 그냥 각 문자열을 정렬해서 같은 애들을 쓰기 "
   ]
  },
  {
   "cell_type": "code",
   "execution_count": 59,
   "metadata": {},
   "outputs": [
    {
     "data": {
      "text/plain": [
       "[['aet', 0], ['aet', 1], ['ant', 2], ['aet', 3], ['ant', 4], ['abt', 5]]"
      ]
     },
     "execution_count": 59,
     "metadata": {},
     "output_type": "execute_result"
    }
   ],
   "source": [
    "group = [[''.join(sorted(word)),index] for index, word  in enumerate(strs)]\n",
    "group"
   ]
  },
  {
   "cell_type": "markdown",
   "metadata": {},
   "source": [
    "처음엔 index까지도 저장하고 그 index를 이용해 변경하려 했는데          \n",
    "그냥 원본 단어를 남기는게 효율적이라는것을 드디어 깨달음"
   ]
  },
  {
   "cell_type": "code",
   "execution_count": 84,
   "metadata": {},
   "outputs": [
    {
     "data": {
      "text/plain": [
       "[['aet', 0, 'eat'],\n",
       " ['aet', 1, 'tea'],\n",
       " ['ant', 2, 'tan'],\n",
       " ['aet', 3, 'ate'],\n",
       " ['ant', 4, 'nat'],\n",
       " ['abt', 5, 'bat']]"
      ]
     },
     "execution_count": 84,
     "metadata": {},
     "output_type": "execute_result"
    }
   ],
   "source": [
    "group = [[''.join(sorted(word)),index ,word] for index, word  in enumerate(strs)]\n",
    "group"
   ]
  },
  {
   "cell_type": "code",
   "execution_count": 86,
   "metadata": {},
   "outputs": [
    {
     "data": {
      "text/plain": [
       "[['abt', 5, 'bat'],\n",
       " ['aet', 0, 'eat'],\n",
       " ['aet', 1, 'tea'],\n",
       " ['aet', 3, 'ate'],\n",
       " ['ant', 2, 'tan'],\n",
       " ['ant', 4, 'nat']]"
      ]
     },
     "execution_count": 86,
     "metadata": {},
     "output_type": "execute_result"
    }
   ],
   "source": [
    "group.sort(key = lambda x : x[0])\n",
    "group"
   ]
  },
  {
   "cell_type": "markdown",
   "metadata": {},
   "source": [
    "정렬이야 쉽다. 그러다가 아예 인덱스가 필요없다는 것을 깨달음 "
   ]
  },
  {
   "cell_type": "code",
   "execution_count": 89,
   "metadata": {},
   "outputs": [
    {
     "data": {
      "text/plain": [
       "[['aet', 'eat'],\n",
       " ['aet', 'tea'],\n",
       " ['ant', 'tan'],\n",
       " ['aet', 'ate'],\n",
       " ['ant', 'nat'],\n",
       " ['abt', 'bat']]"
      ]
     },
     "execution_count": 89,
     "metadata": {},
     "output_type": "execute_result"
    }
   ],
   "source": [
    "group = [[''.join(sorted(word)),word] for _, word  in enumerate(strs)]\n",
    "group"
   ]
  },
  {
   "cell_type": "code",
   "execution_count": 90,
   "metadata": {},
   "outputs": [],
   "source": [
    "group.sort(key = lambda x : x[0])"
   ]
  },
  {
   "cell_type": "code",
   "execution_count": 91,
   "metadata": {},
   "outputs": [
    {
     "data": {
      "text/plain": [
       "[['abt', 'bat'],\n",
       " ['aet', 'eat'],\n",
       " ['aet', 'tea'],\n",
       " ['aet', 'ate'],\n",
       " ['ant', 'tan'],\n",
       " ['ant', 'nat']]"
      ]
     },
     "execution_count": 91,
     "metadata": {},
     "output_type": "execute_result"
    }
   ],
   "source": [
    "group"
   ]
  },
  {
   "cell_type": "markdown",
   "metadata": {},
   "source": [
    "list 형태에 익숙하지않아서 어떻게 같은 애들끼리 묶어서 list를 만들지에 대해서 시간이 오래 걸림.            \n",
    "같은 그룹끼리 정렬이 되어있기 때문에 이를 활용해서 list에 어펜드하는 것으로 만듬            "
   ]
  },
  {
   "cell_type": "code",
   "execution_count": 149,
   "metadata": {},
   "outputs": [
    {
     "name": "stdout",
     "output_type": "stream",
     "text": [
      "[['bat'], []]\n",
      "[['bat'], ['eat', 'tea', 'ate'], []]\n"
     ]
    }
   ],
   "source": [
    "result = [[] for _ in range(1)]\n",
    "fir_1 , firt_2 = group[0]\n",
    "for i, j in group:\n",
    "    if fir_1 == i: \n",
    "        result[-1].append(j)\n",
    "    else:\n",
    "        result.append([])\n",
    "        print(result)\n",
    "        result[-1].extend([j])\n",
    "        fir_1 = i"
   ]
  },
  {
   "cell_type": "markdown",
   "metadata": {},
   "source": [
    "처음엔 이렇게 중복을 제거해주는 set을 활용하려고 했기도 했음.. 결국 이렇게 풀다 안풀려서 위처럼 풀었다."
   ]
  },
  {
   "cell_type": "code",
   "execution_count": 82,
   "metadata": {},
   "outputs": [
    {
     "ename": "ValueError",
     "evalue": "['aet'] is not in list",
     "output_type": "error",
     "traceback": [
      "\u001b[1;31m---------------------------------------------------------------------------\u001b[0m",
      "\u001b[1;31mValueError\u001b[0m                                Traceback (most recent call last)",
      "\u001b[1;32m<ipython-input-82-54a7e7c7d4a9>\u001b[0m in \u001b[0;36m<module>\u001b[1;34m\u001b[0m\n\u001b[0;32m      3\u001b[0m \u001b[1;32mfor\u001b[0m \u001b[0mi\u001b[0m\u001b[1;33m,\u001b[0m \u001b[0mj\u001b[0m  \u001b[1;32min\u001b[0m \u001b[0mgroup\u001b[0m\u001b[1;33m:\u001b[0m\u001b[1;33m\u001b[0m\u001b[1;33m\u001b[0m\u001b[0m\n\u001b[0;32m      4\u001b[0m     \u001b[1;32mif\u001b[0m \u001b[0mi\u001b[0m \u001b[1;32min\u001b[0m \u001b[0muni\u001b[0m\u001b[1;33m:\u001b[0m\u001b[1;33m\u001b[0m\u001b[1;33m\u001b[0m\u001b[0m\n\u001b[1;32m----> 5\u001b[1;33m         \u001b[0mresult\u001b[0m\u001b[1;33m[\u001b[0m\u001b[0mresult\u001b[0m\u001b[1;33m.\u001b[0m\u001b[0mindex\u001b[0m\u001b[1;33m(\u001b[0m\u001b[1;33m[\u001b[0m\u001b[0mi\u001b[0m\u001b[1;33m]\u001b[0m\u001b[1;33m)\u001b[0m\u001b[1;33m]\u001b[0m\u001b[1;33m.\u001b[0m\u001b[0mappend\u001b[0m\u001b[1;33m(\u001b[0m\u001b[0mj\u001b[0m\u001b[1;33m)\u001b[0m\u001b[1;33m\u001b[0m\u001b[1;33m\u001b[0m\u001b[0m\n\u001b[0m\u001b[0;32m      6\u001b[0m     \u001b[1;32melse\u001b[0m\u001b[1;33m:\u001b[0m\u001b[1;33m\u001b[0m\u001b[1;33m\u001b[0m\u001b[0m\n\u001b[0;32m      7\u001b[0m         \u001b[0muni\u001b[0m\u001b[1;33m.\u001b[0m\u001b[0madd\u001b[0m\u001b[1;33m(\u001b[0m\u001b[0mi\u001b[0m\u001b[1;33m)\u001b[0m\u001b[1;33m\u001b[0m\u001b[1;33m\u001b[0m\u001b[0m\n",
      "\u001b[1;31mValueError\u001b[0m: ['aet'] is not in list"
     ]
    }
   ],
   "source": [
    "uni = set()\n",
    "result = []\n",
    "for i, j  in group:\n",
    "    if i in uni:\n",
    "        result[result.index([i])].append(j)\n",
    "    else:\n",
    "        uni.add(i)\n",
    "        result.append([j])"
   ]
  },
  {
   "cell_type": "markdown",
   "metadata": {},
   "source": [
    "## 딕셔너리 활용 풀이"
   ]
  },
  {
   "cell_type": "code",
   "execution_count": 162,
   "metadata": {},
   "outputs": [],
   "source": [
    "from typing import List\n",
    "from collections import defaultdict\n",
    "class Solution:\n",
    "    def groupAnagrams(self, strs: List[str]) -> List[List[str]]:\n",
    "        anagrams = defaultdict(list)\n",
    "        for word in strs:\n",
    "            anagrams[''.join(sorted(word))].append(word)\n",
    "        return anagrams.values()"
   ]
  },
  {
   "cell_type": "code",
   "execution_count": 50,
   "metadata": {},
   "outputs": [
    {
     "data": {
      "text/plain": [
       "{0: 'aet', 1: 'aet', 2: 'ant', 3: 'aet', 4: 'ant', 5: 'abt'}"
      ]
     },
     "execution_count": 50,
     "metadata": {},
     "output_type": "execute_result"
    }
   ],
   "source": [
    "word"
   ]
  },
  {
   "cell_type": "code",
   "execution_count": 151,
   "metadata": {},
   "outputs": [],
   "source": [
    "from collections import defaultdict"
   ]
  },
  {
   "cell_type": "code",
   "execution_count": 154,
   "metadata": {},
   "outputs": [
    {
     "data": {
      "text/plain": [
       "['eat', 'tea', 'tan', 'ate', 'nat', 'bat']"
      ]
     },
     "execution_count": 154,
     "metadata": {},
     "output_type": "execute_result"
    }
   ],
   "source": [
    "strs"
   ]
  },
  {
   "cell_type": "code",
   "execution_count": 155,
   "metadata": {},
   "outputs": [],
   "source": [
    "anagrams = defaultdict(list)"
   ]
  },
  {
   "cell_type": "code",
   "execution_count": 157,
   "metadata": {},
   "outputs": [],
   "source": [
    "for word in strs:\n",
    "    anagrams[''.join(sorted(word))].append(word)"
   ]
  },
  {
   "cell_type": "code",
   "execution_count": 160,
   "metadata": {},
   "outputs": [
    {
     "data": {
      "text/plain": [
       "defaultdict(list,\n",
       "            {'aet': ['eat', 'tea', 'ate'],\n",
       "             'ant': ['tan', 'nat'],\n",
       "             'abt': ['bat']})"
      ]
     },
     "execution_count": 160,
     "metadata": {},
     "output_type": "execute_result"
    }
   ],
   "source": [
    "anagrams"
   ]
  },
  {
   "cell_type": "markdown",
   "metadata": {},
   "source": [
    "## 신박한 풀이 dict을 통해 index 할당"
   ]
  },
  {
   "cell_type": "code",
   "execution_count": 163,
   "metadata": {},
   "outputs": [],
   "source": [
    "class Solution:\n",
    "    def groupAnagrams(self, strs: List[str]) -> List[List[str]]:\n",
    "        s=dict()\n",
    "        index=0\n",
    "        l=[]\n",
    "        for i in strs:\n",
    "            temp=i\n",
    "            i=\"\".join(sorted(i))\n",
    "            if(i in s):\n",
    "                l[s[i]].append(temp)\n",
    "            else:\n",
    "                s[i]=index\n",
    "                index+=1\n",
    "                l.append([temp])\n",
    "        return l\n",
    "                "
   ]
  },
  {
   "cell_type": "code",
   "execution_count": 165,
   "metadata": {},
   "outputs": [],
   "source": [
    "s=dict()\n",
    "index=0\n",
    "l=[]\n",
    "for i in strs:\n",
    "    temp=i\n",
    "    i=\"\".join(sorted(i))\n",
    "    if(i in s):\n",
    "        l[s[i]].append(temp)  # dict을 통해 index를 할당함 \n",
    "    else:\n",
    "        s[i]=index\n",
    "        index+=1\n",
    "        l.append([temp])"
   ]
  },
  {
   "cell_type": "markdown",
   "metadata": {},
   "source": [
    "내가 처음 dict을 통해서는 index를 어떻게 처리할지를 몰라서 방황했는데 \n",
    "이렇게 dict을 통해서 위치를 찍는 방식이 존재 "
   ]
  },
  {
   "cell_type": "code",
   "execution_count": 167,
   "metadata": {},
   "outputs": [
    {
     "data": {
      "text/plain": [
       "[['eat', 'tea', 'ate'], ['tan', 'nat'], ['bat']]"
      ]
     },
     "execution_count": 167,
     "metadata": {},
     "output_type": "execute_result"
    }
   ],
   "source": [
    "l"
   ]
  },
  {
   "cell_type": "code",
   "execution_count": 168,
   "metadata": {},
   "outputs": [
    {
     "data": {
      "text/plain": [
       "2"
      ]
     },
     "execution_count": 168,
     "metadata": {},
     "output_type": "execute_result"
    }
   ],
   "source": [
    "s[i]"
   ]
  },
  {
   "cell_type": "code",
   "execution_count": null,
   "metadata": {},
   "outputs": [],
   "source": []
  }
 ],
 "metadata": {
  "kernelspec": {
   "display_name": "Python 3",
   "language": "python",
   "name": "python3"
  },
  "language_info": {
   "codemirror_mode": {
    "name": "ipython",
    "version": 3
   },
   "file_extension": ".py",
   "mimetype": "text/x-python",
   "name": "python",
   "nbconvert_exporter": "python",
   "pygments_lexer": "ipython3",
   "version": "3.7.1"
  }
 },
 "nbformat": 4,
 "nbformat_minor": 2
}
