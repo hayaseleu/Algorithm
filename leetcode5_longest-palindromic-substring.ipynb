{
 "cells": [
  {
   "cell_type": "markdown",
   "metadata": {},
   "source": [
    "https://leetcode.com/problems/longest-palindromic-substring/"
   ]
  },
  {
   "cell_type": "markdown",
   "metadata": {},
   "source": [
    "내풀이\n",
    "\n",
    "홀수 포인터, 짝수 포인터를 2개 만들어        \n",
    "팰린드롬을 만나면 한칸씩 좌우로 늘리는 방식으로 구현해보기 "
   ]
  },
  {
   "cell_type": "code",
   "execution_count": null,
   "metadata": {},
   "outputs": [],
   "source": [
    "class Solution:\n",
    "    def longestPalindrome(self, s: str) -> str:\n",
    "        ## 홀수 포인터\n",
    "        odd_result = []\n",
    "        for i in range(len(s)):\n",
    "            odd = s[i:(i+3)]\n",
    "            if len(odd) == 1:\n",
    "                odd_result.append(odd)\n",
    "                continue\n",
    "            odd_index_l, odd_index_r = i, i + 3\n",
    "            while odd_index_l >= 0 and odd_index_r <= len(s) and s[odd_index_l] == s[odd_index_r - 1]:\n",
    "                odd_index_l -= 1\n",
    "                odd_index_r += 1\n",
    "                odd = s[odd_index_l + 1 : odd_index_r - 1]\n",
    "            if odd[:] == odd[::-1]:\n",
    "                odd_result.append(odd)\n",
    "\n",
    "        ## 짝수 포인터\n",
    "        even_result = []\n",
    "        for i in range(len(s)):\n",
    "            even = s[i:(i+2)]\n",
    "            if len(even) == 1:\n",
    "                even_result.append(even)\n",
    "                continue\n",
    "            even_index_l, even_index_r = i, i + 2\n",
    "            while even_index_l >= 0 and even_index_r <= len(s) and s[even_index_l] == s[even_index_r - 1]:\n",
    "                even_index_l -= 1\n",
    "                even_index_r += 1\n",
    "                even = s[even_index_l + 1 : even_index_r - 1]\n",
    "            if even[:] == even[::-1]:\n",
    "                even_result.append(even)\n",
    "        result = even_result + odd_result\n",
    "        result.sort(key = lambda x : len(x))\n",
    "        return result[-1]"
   ]
  },
  {
   "cell_type": "markdown",
   "metadata": {},
   "source": [
    "드럽게 복잡하게 풀어봤음.."
   ]
  },
  {
   "cell_type": "markdown",
   "metadata": {},
   "source": [
    "중간 고민들"
   ]
  },
  {
   "cell_type": "code",
   "execution_count": 4,
   "metadata": {},
   "outputs": [],
   "source": [
    "import typing\n",
    "class Solution:\n",
    "    def odd_length(i):\n",
    "        pass\n",
    "    def even_length(i):\n",
    "        pass\n",
    "    def longestPalindrome(self, s: str) -> str:\n",
    "        ## 홀수 포인터\n",
    "        for i in range(len(s)):\n",
    "            odd = s[i:(i+3)]\n",
    "            even = s[i:(i+2)]\n",
    "            if odd[:] == odd[::-1]:\n",
    "                pass\n",
    "            if even[:] == even[::-1]:\n",
    "                pass \n",
    "        ## 짝수 포인터\n",
    "        result = sort(even, odd, key = lambda x: len(x))\n",
    "        return result "
   ]
  },
  {
   "cell_type": "code",
   "execution_count": 31,
   "metadata": {},
   "outputs": [],
   "source": [
    "    def longestPalindrome(s: str) -> str:\n",
    "        ## 홀수 포인터\n",
    "        for i in range(len(s)):\n",
    "            odd = s[i:(i+3)]\n",
    "            even = s[i:(i+2)]\n",
    "            if odd[:] == odd[::-1]:\n",
    "                print(odd)\n",
    "                pass\n",
    "            if even[:] == even[::-1]:\n",
    "                print(even)\n",
    "                pass \n",
    "        print(odd)\n",
    "        print(even)"
   ]
  },
  {
   "cell_type": "markdown",
   "metadata": {},
   "source": [
    "여기까지 투포인터로 만드는걸 했는데 여기서 어떻게 포인터가 확장하는걸 표현하지?\n",
    "\n",
    "새로운 함수를 써서 그 함수를 통해 다시 재확인 하는게 좋을거같다"
   ]
  },
  {
   "cell_type": "code",
   "execution_count": 67,
   "metadata": {},
   "outputs": [],
   "source": [
    "def longestPalindrome(s: str) -> str:\n",
    "    ## 홀수 포인터\n",
    "    odd_result = []\n",
    "    even_result = []\n",
    "    for i in range(len(s)):\n",
    "        odd = s[i:(i+3)]\n",
    "        even = s[i:(i+2)]\n",
    "        odd_index_l, odd_index_r = i, i + 3\n",
    "        even_index_l, even_index_r = i, i + 2 \n",
    "        while odd[:] == odd[::-1]:\n",
    "            odd_index_l -= 1\n",
    "            odd_index_r += 1\n",
    "            odd = s[odd_index_l:odd_index_r ]\n",
    "        while even[:] == even[::-1]:\n",
    "            even_index_l -= 1\n",
    "            even_index_r += 1\n",
    "            even = s[even_index_l:even_index_r]\n",
    "    result = sort(odd_result, even_result, key = lambda x: len(x))\n",
    "    return (even_result, odd_result)"
   ]
  },
  {
   "cell_type": "markdown",
   "metadata": {},
   "source": [
    "이렇게 while문으로 바꿔서 해봤다. \n",
    "\n",
    "단 이렇게 하니깐 팰린드롬일때는 while문이 활성화되서 결국 팰린드롬이 아닐때까지 even과 odd가 확장되버린다. "
   ]
  },
  {
   "cell_type": "markdown",
   "metadata": {},
   "source": [
    "아래처럼 애초에 odd를 왼쪽 인덱스 + 1 , 오른쪽 인덱스의 -1 로 변경함 \n",
    "그리고 while문은 그냥 좌우 한칸씩 확장할때 그 확장들이 같은가만 체크"
   ]
  },
  {
   "cell_type": "code",
   "execution_count": 136,
   "metadata": {},
   "outputs": [],
   "source": [
    "sol = Solution()"
   ]
  },
  {
   "cell_type": "code",
   "execution_count": 137,
   "metadata": {},
   "outputs": [
    {
     "data": {
      "text/plain": [
       "'aba'"
      ]
     },
     "execution_count": 137,
     "metadata": {},
     "output_type": "execute_result"
    }
   ],
   "source": [
    "sol.longestPalindrome(s)"
   ]
  },
  {
   "cell_type": "code",
   "execution_count": 138,
   "metadata": {},
   "outputs": [],
   "source": [
    "def longestPalindrome(s: str) -> str:\n",
    "    ## 홀수 포인터\n",
    "    odd_result = []\n",
    "    even_result = []\n",
    "    for i in range(len(s)):\n",
    "        odd = s[i:(i+3)]\n",
    "        even = s[i:(i+2)]\n",
    "        if len(odd) == 1:     # 길이가 1이면 바로 그냥 끝 \n",
    "            odd_result.append(odd)\n",
    "        if len(even) == 1:   # 길이가 그냥 1이면 바로 끝\n",
    "            even_result.append(even)\n",
    "        odd_index_l, odd_index_r = i, i + 3\n",
    "        even_index_l, even_index_r = i, i + 2 \n",
    "        while odd[:] == odd[::-1]:\n",
    "            odd_index_l -= 1\n",
    "            odd_index_r += 1\n",
    "            odd = s[odd_index_l + 1 :odd_index_r - 1 ]\n",
    "        while even[:] == even[::-1]:\n",
    "            even_index_l -= 1\n",
    "            even_index_r += 1\n",
    "            even = s[even_index_l + 1 :even_index_r - 1 ]\n",
    "    result = odd_result + even_result \n",
    "    result.sort(key = lambda x: len(x))\n",
    "    return (even_result, odd_result)"
   ]
  },
  {
   "cell_type": "markdown",
   "metadata": {},
   "source": [
    "## 신박한 풀이"
   ]
  },
  {
   "cell_type": "code",
   "execution_count": null,
   "metadata": {},
   "outputs": [],
   "source": [
    "if len(s) < 2 or s == s[:: -1]:\n",
    "    return s"
   ]
  },
  {
   "cell_type": "markdown",
   "metadata": {},
   "source": [
    "## 맞네 어처피 확장할때는 최종적으로 증가하는 좌, 우 한 칸씩만 같으면 됨"
   ]
  },
  {
   "cell_type": "code",
   "execution_count": 96,
   "metadata": {},
   "outputs": [],
   "source": [
    "import typing\n",
    "class Solution:\n",
    "    def longestPalindrome(self, s: str) -> str:\n",
    "        # 팰린드롬 판별 및 투포인터 확장 \n",
    "        def expand(left: int, right: int) -> str:\n",
    "            while left >= 0 and right <= len(s) and s[left] == s[right - 1]:\n",
    "                left -= 1\n",
    "                right += 1\n",
    "            return s[left + 1:right - 1]\n",
    "\n",
    "        # 해당사항 없을 때 빠르게 리턴\n",
    "        if len(s) < 2 or s == s[:: -1]:\n",
    "            return s\n",
    "        result = ''\n",
    "        # 슬라이딩 윈도우 우측으로 이동\n",
    "        for i in range(len(s) - 1):\n",
    "            result = max(result, expand(i, i + 1), expand(i, i + 2), key = len())\n",
    "        return result "
   ]
  },
  {
   "cell_type": "markdown",
   "metadata": {},
   "source": [
    "i가 0일때          \n",
    "result, expand(0,1), expand(0,2) 중에서 제일 긴걸 선택.                \n",
    "i가 1일때              \n",
    "result, expand(1,2) , expand(1,3) 중에서 제일 긴것을 선택.                 "
   ]
  },
  {
   "cell_type": "markdown",
   "metadata": {},
   "source": [
    "내풀이보다 훨씬 간단하다.."
   ]
  },
  {
   "cell_type": "code",
   "execution_count": null,
   "metadata": {},
   "outputs": [],
   "source": []
  }
 ],
 "metadata": {
  "kernelspec": {
   "display_name": "Python 3",
   "language": "python",
   "name": "python3"
  },
  "language_info": {
   "codemirror_mode": {
    "name": "ipython",
    "version": 3
   },
   "file_extension": ".py",
   "mimetype": "text/x-python",
   "name": "python",
   "nbconvert_exporter": "python",
   "pygments_lexer": "ipython3",
   "version": "3.7.1"
  }
 },
 "nbformat": 4,
 "nbformat_minor": 2
}
