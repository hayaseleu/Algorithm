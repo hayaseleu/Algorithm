{
 "cells": [
  {
   "cell_type": "markdown",
   "metadata": {},
   "source": [
    "https://leetcode.com/problems/longest-palindromic-substring/"
   ]
  },
  {
   "cell_type": "markdown",
   "metadata": {},
   "source": [
    "내풀이\n",
    "\n",
    "홀수 포인터, 짝수 포인터를 2개 만들어        \n",
    "팰린드롬을 만나면 한칸씩 좌우로 늘리는 방식으로 구현해보기 "
   ]
  },
  {
   "cell_type": "code",
   "execution_count": 7,
   "metadata": {},
   "outputs": [
    {
     "ename": "SyntaxError",
     "evalue": "invalid syntax (<ipython-input-7-dcd1f4d9bc8f>, line 12)",
     "output_type": "error",
     "traceback": [
      "\u001b[1;36m  File \u001b[1;32m\"<ipython-input-7-dcd1f4d9bc8f>\"\u001b[1;36m, line \u001b[1;32m12\u001b[0m\n\u001b[1;33m    if odd[:] == odd[::-1]\u001b[0m\n\u001b[1;37m                          ^\u001b[0m\n\u001b[1;31mSyntaxError\u001b[0m\u001b[1;31m:\u001b[0m invalid syntax\n"
     ]
    }
   ],
   "source": [
    "import typing\n",
    "class Solution:\n",
    "    def odd_length(i):\n",
    "        pass\n",
    "    def even_length(i):\n",
    "        pass\n",
    "    def longestPalindrome(self, s: str) -> str:\n",
    "        ## 홀수 포인터\n",
    "        for i in range(len(s)):\n",
    "            odd = s[i:(i+3)]\n",
    "            even = s[i:(i+2)]\n",
    "            if odd[:] == odd[::-1]\n",
    "                pass\n",
    "            if even[:] == even[::-1]\n",
    "                pass \n",
    "        ## 짝수 포인터\n",
    "        result = sort(even, odd, key = lambda x: len(x))\n",
    "        return result "
   ]
  },
  {
   "cell_type": "code",
   "execution_count": 31,
   "metadata": {},
   "outputs": [],
   "source": [
    "    def longestPalindrome(s: str) -> str:\n",
    "        ## 홀수 포인터\n",
    "        for i in range(len(s)):\n",
    "            odd = s[i:(i+3)]\n",
    "            even = s[i:(i+2)]\n",
    "            if odd[:] == odd[::-1]:\n",
    "                print(odd)\n",
    "                pass\n",
    "            if even[:] == even[::-1]:\n",
    "                print(even)\n",
    "                pass \n",
    "        print(odd)\n",
    "        print(even)"
   ]
  },
  {
   "cell_type": "markdown",
   "metadata": {},
   "source": [
    "여기까지 투포인터로 만드는걸 했는데 여기서 어떻게 포인터가 확장하는걸 표현하지?\n",
    "\n",
    "새로운 함수를 써서 그 함수를 통해 다시 재확인 하는게 좋을거같다"
   ]
  },
  {
   "cell_type": "code",
   "execution_count": 67,
   "metadata": {},
   "outputs": [],
   "source": [
    "def longestPalindrome(s: str) -> str:\n",
    "    ## 홀수 포인터\n",
    "    odd_result = []\n",
    "    even_result = []\n",
    "    for i in range(len(s)):\n",
    "        odd = s[i:(i+3)]\n",
    "        even = s[i:(i+2)]\n",
    "        odd_index_l, odd_index_r = i, i + 3\n",
    "        even_index_l, even_index_r = i, i + 2 \n",
    "        while odd[:] == odd[::-1]:\n",
    "            odd_index_l -= 1\n",
    "            odd_index_r += 1\n",
    "            odd = s[odd_index_l:odd_index_r]\n",
    "        while even[:] == even[::-1]:\n",
    "            even_index_l -= 1\n",
    "            even_index_r += 1\n",
    "            even = s[even_index_l:even_index_r]\n",
    "    result = sort(odd_result, even_result, key = lambda x: len(x))\n",
    "    return (even_result, odd_result)"
   ]
  },
  {
   "cell_type": "markdown",
   "metadata": {},
   "source": [
    "이렇게 while문으로 바꿔서 해봤다. \n",
    "\n",
    "단 이렇게 하니깐 팰린드롬일때는 while문이 활성화되서 결국 팰린드롬이 아닐때까지 even과 odd가 확장되버린다. "
   ]
  },
  {
   "cell_type": "code",
   "execution_count": 76,
   "metadata": {},
   "outputs": [],
   "source": [
    "def longestPalindrome(s: str) -> str:\n",
    "    ## 홀수 포인터\n",
    "    odd_result = []\n",
    "    even_result = []\n",
    "    for i in range(len(s)):\n",
    "        odd = s[i:(i+3)]\n",
    "        even = s[i:(i+2)]\n",
    "        odd_index_l, odd_index_r = i, i + 3\n",
    "        even_index_l, even_index_r = i, i + 2 \n",
    "        while odd[0] == odd[-1]:\n",
    "            odd_index_l -= 1\n",
    "            odd_index_r += 1\n",
    "            odd = s[odd_index_l:odd_index_r]\n",
    "            if odd[:] == odd[::-1]:\n",
    "                odd_result.append(odd)\n",
    "        while even[0] == even[-1]:\n",
    "            even_index_l -= 1\n",
    "            even_index_r += 1\n",
    "            even = s[even_index_l:even_index_r]\n",
    "            if even[:] == even[::-1]:\n",
    "                even_result.append(even)\n",
    "    result = sort(odd_result, even_result, key = lambda x: len(x))\n",
    "    return (even_result, odd_result)"
   ]
  },
  {
   "cell_type": "code",
   "execution_count": 77,
   "metadata": {},
   "outputs": [
    {
     "data": {
      "text/plain": [
       "'babad'"
      ]
     },
     "execution_count": 77,
     "metadata": {},
     "output_type": "execute_result"
    }
   ],
   "source": [
    "s"
   ]
  },
  {
   "cell_type": "code",
   "execution_count": 78,
   "metadata": {},
   "outputs": [
    {
     "data": {
      "text/plain": [
       "'aba'"
      ]
     },
     "execution_count": 78,
     "metadata": {},
     "output_type": "execute_result"
    }
   ],
   "source": [
    "s[1:(1+3)]"
   ]
  },
  {
   "cell_type": "code",
   "execution_count": 79,
   "metadata": {},
   "outputs": [
    {
     "ename": "IndexError",
     "evalue": "string index out of range",
     "output_type": "error",
     "traceback": [
      "\u001b[1;31m---------------------------------------------------------------------------\u001b[0m",
      "\u001b[1;31mIndexError\u001b[0m                                Traceback (most recent call last)",
      "\u001b[1;32m<ipython-input-79-5f6cb11545a6>\u001b[0m in \u001b[0;36m<module>\u001b[1;34m\u001b[0m\n\u001b[1;32m----> 1\u001b[1;33m \u001b[0mlongestPalindrome\u001b[0m\u001b[1;33m(\u001b[0m\u001b[0ms\u001b[0m\u001b[1;33m)\u001b[0m\u001b[1;33m\u001b[0m\u001b[1;33m\u001b[0m\u001b[0m\n\u001b[0m",
      "\u001b[1;32m<ipython-input-76-431a9fc6c3c0>\u001b[0m in \u001b[0;36mlongestPalindrome\u001b[1;34m(s)\u001b[0m\n\u001b[0;32m      8\u001b[0m         \u001b[0modd_index_l\u001b[0m\u001b[1;33m,\u001b[0m \u001b[0modd_index_r\u001b[0m \u001b[1;33m=\u001b[0m \u001b[0mi\u001b[0m\u001b[1;33m,\u001b[0m \u001b[0mi\u001b[0m \u001b[1;33m+\u001b[0m \u001b[1;36m3\u001b[0m\u001b[1;33m\u001b[0m\u001b[1;33m\u001b[0m\u001b[0m\n\u001b[0;32m      9\u001b[0m         \u001b[0meven_index_l\u001b[0m\u001b[1;33m,\u001b[0m \u001b[0meven_index_r\u001b[0m \u001b[1;33m=\u001b[0m \u001b[0mi\u001b[0m\u001b[1;33m,\u001b[0m \u001b[0mi\u001b[0m \u001b[1;33m+\u001b[0m \u001b[1;36m2\u001b[0m\u001b[1;33m\u001b[0m\u001b[1;33m\u001b[0m\u001b[0m\n\u001b[1;32m---> 10\u001b[1;33m         \u001b[1;32mwhile\u001b[0m \u001b[0modd\u001b[0m\u001b[1;33m[\u001b[0m\u001b[1;36m0\u001b[0m\u001b[1;33m]\u001b[0m \u001b[1;33m==\u001b[0m \u001b[0modd\u001b[0m\u001b[1;33m[\u001b[0m\u001b[1;33m-\u001b[0m\u001b[1;36m1\u001b[0m\u001b[1;33m]\u001b[0m\u001b[1;33m:\u001b[0m\u001b[1;33m\u001b[0m\u001b[1;33m\u001b[0m\u001b[0m\n\u001b[0m\u001b[0;32m     11\u001b[0m             \u001b[0modd_index_l\u001b[0m \u001b[1;33m-=\u001b[0m \u001b[1;36m1\u001b[0m\u001b[1;33m\u001b[0m\u001b[1;33m\u001b[0m\u001b[0m\n\u001b[0;32m     12\u001b[0m             \u001b[0modd_index_r\u001b[0m \u001b[1;33m+=\u001b[0m \u001b[1;36m1\u001b[0m\u001b[1;33m\u001b[0m\u001b[1;33m\u001b[0m\u001b[0m\n",
      "\u001b[1;31mIndexError\u001b[0m: string index out of range"
     ]
    }
   ],
   "source": [
    "longestPalindrome(s)"
   ]
  },
  {
   "cell_type": "code",
   "execution_count": 46,
   "metadata": {},
   "outputs": [
    {
     "ename": "NameError",
     "evalue": "name 'even_result' is not defined",
     "output_type": "error",
     "traceback": [
      "\u001b[1;31m---------------------------------------------------------------------------\u001b[0m",
      "\u001b[1;31mNameError\u001b[0m                                 Traceback (most recent call last)",
      "\u001b[1;32m<ipython-input-46-eb424857d20b>\u001b[0m in \u001b[0;36m<module>\u001b[1;34m\u001b[0m\n\u001b[1;32m----> 1\u001b[1;33m \u001b[0meven_result\u001b[0m\u001b[1;33m\u001b[0m\u001b[1;33m\u001b[0m\u001b[0m\n\u001b[0m",
      "\u001b[1;31mNameError\u001b[0m: name 'even_result' is not defined"
     ]
    }
   ],
   "source": [
    "even_result"
   ]
  },
  {
   "cell_type": "code",
   "execution_count": 58,
   "metadata": {},
   "outputs": [
    {
     "data": {
      "text/plain": [
       "'babad'"
      ]
     },
     "execution_count": 58,
     "metadata": {},
     "output_type": "execute_result"
    }
   ],
   "source": [
    "s"
   ]
  },
  {
   "cell_type": "code",
   "execution_count": 71,
   "metadata": {},
   "outputs": [
    {
     "name": "stdout",
     "output_type": "stream",
     "text": [
      "bab\n",
      "\n",
      "\n",
      "ad\n",
      "aba\n",
      "babad\n",
      "d\n",
      "ad\n",
      "d\n",
      "ad\n"
     ]
    }
   ],
   "source": [
    "odd_result = []\n",
    "even_result = []\n",
    "for i in range(len(s)):\n",
    "    odd = s[i:(i+3)]\n",
    "    even = s[i:(i+2)]\n",
    "    odd_index_l, odd_index_r = (i, i + 3)\n",
    "    even_index_l, even_index_r = (i, i + 2) \n",
    "    while odd[:] == odd[::-1]:\n",
    "        odd_index_l -= 1\n",
    "        odd_index_r += 1\n",
    "        print(odd)\n",
    "        odd = s[odd_index_l:odd_index_r]\n",
    "        print(odd)\n",
    "#         if odd[:] == odd[::-1]:\n",
    "#             odd_result.append(odd)\n",
    "#             print(odd_result)\n",
    "    while even[:] == even[::-1]:\n",
    "        even_index_l -= 1\n",
    "        even_index_r += 1\n",
    "        print(even)\n",
    "        even = s[even_index_l:even_index_r]\n",
    "        print(even)\n",
    "#         if even[:] == even[::-1]:\n",
    "#             even_result.append(even)\n",
    "#             print(even_result)\n"
   ]
  },
  {
   "cell_type": "code",
   "execution_count": 61,
   "metadata": {},
   "outputs": [
    {
     "data": {
      "text/plain": [
       "[]"
      ]
     },
     "execution_count": 61,
     "metadata": {},
     "output_type": "execute_result"
    }
   ],
   "source": [
    "even_result"
   ]
  },
  {
   "cell_type": "code",
   "execution_count": 62,
   "metadata": {},
   "outputs": [
    {
     "data": {
      "text/plain": [
       "['']"
      ]
     },
     "execution_count": 62,
     "metadata": {},
     "output_type": "execute_result"
    }
   ],
   "source": [
    "odd_result"
   ]
  },
  {
   "cell_type": "code",
   "execution_count": 64,
   "metadata": {},
   "outputs": [
    {
     "name": "stdout",
     "output_type": "stream",
     "text": [
      "1\n",
      "2\n",
      "3\n",
      "4\n",
      "5\n",
      "6\n",
      "7\n",
      "8\n",
      "9\n",
      "10\n"
     ]
    }
   ],
   "source": [
    "for i in range(10):\n",
    "    j = i\n",
    "    j+=1\n",
    "    print(j)"
   ]
  },
  {
   "cell_type": "markdown",
   "metadata": {},
   "source": [
    "## 신박한 풀이"
   ]
  },
  {
   "cell_type": "code",
   "execution_count": null,
   "metadata": {},
   "outputs": [],
   "source": [
    "if len(s) < 2 or s == s[:: -1]:\n",
    "    return s"
   ]
  },
  {
   "cell_type": "markdown",
   "metadata": {},
   "source": [
    "## 맞네 어처피 확장할때는 최종적으로 증가하는 좌, 우 한 칸씩만 같으면 됨"
   ]
  },
  {
   "cell_type": "code",
   "execution_count": null,
   "metadata": {},
   "outputs": [],
   "source": [
    "import typing\n",
    "class Solution:\n",
    "    def longestPalindrome(self, s: str) -> str:\n",
    "        # 팰린드롬 판별 및 투포인터 확장 \n",
    "        def expand(left: int, right: int) -> str:\n",
    "            while left >= 0 and right <= len(s) and s[left] == s[right - 1]:\n",
    "                left -= 1\n",
    "                right += 1\n",
    "            return s[left + 1:right - 1]\n",
    "\n",
    "        # 해당사항 없을 때 빠르게 리턴\n",
    "        if len(s) < 2 or s == s[:: -1]:\n",
    "            return s\n",
    "        result = ''\n",
    "        # 슬라이딩 윈도우 우측으로 이동\n",
    "        for i in range(len(s) - 1):\n",
    "            result = max(result, expand(i, i + 1), expand(i, i + 2), key = len())\n",
    "        return result "
   ]
  }
 ],
 "metadata": {
  "kernelspec": {
   "display_name": "Python 3",
   "language": "python",
   "name": "python3"
  },
  "language_info": {
   "codemirror_mode": {
    "name": "ipython",
    "version": 3
   },
   "file_extension": ".py",
   "mimetype": "text/x-python",
   "name": "python",
   "nbconvert_exporter": "python",
   "pygments_lexer": "ipython3",
   "version": "3.7.1"
  }
 },
 "nbformat": 4,
 "nbformat_minor": 2
}
