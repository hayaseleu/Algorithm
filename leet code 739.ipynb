{
 "cells": [
  {
   "cell_type": "code",
   "execution_count": 56,
   "metadata": {},
   "outputs": [],
   "source": [
    "from typing import List"
   ]
  },
  {
   "cell_type": "markdown",
   "metadata": {},
   "source": [
    "## 최종풀이"
   ]
  },
  {
   "cell_type": "code",
   "execution_count": 93,
   "metadata": {},
   "outputs": [],
   "source": [
    "class Solution:\n",
    "    def dailyTemperatures(self, tem: List[int]) -> List[int]:\n",
    "        answer = [0] * len(tem)\n",
    "        stack = []\n",
    "        for i, j in enumerate(tem):\n",
    "            while stack and j > tem[stack[-1]]:\n",
    "                k = stack.pop()\n",
    "                answer[k] = (i-k) \n",
    "            stack.append(i)\n",
    "        return answer"
   ]
  },
  {
   "cell_type": "markdown",
   "metadata": {},
   "source": [
    "## 브루트 포스법, 시간 초과남 "
   ]
  },
  {
   "cell_type": "code",
   "execution_count": 29,
   "metadata": {},
   "outputs": [],
   "source": [
    "class Solution:\n",
    "    def dailyTemperatures(self, temperatures: List[int]) -> List[int]:\n",
    "        answer = []\n",
    "        for i, j in enumerate(temperatures):\n",
    "            if i + 1 == len(temperatures):\n",
    "                answer.append(0)\n",
    "            k = i + 1 \n",
    "            while k < len(temperatures):\n",
    "                if j < temperatures[k]:\n",
    "                    answer.append(k-i)\n",
    "                    break\n",
    "                else:\n",
    "                    k += 1 \n",
    "                if k == len(temperatures):\n",
    "                    answer.append(0)\n",
    "        return answer"
   ]
  },
  {
   "cell_type": "markdown",
   "metadata": {},
   "source": [
    "## stack 활용"
   ]
  },
  {
   "cell_type": "code",
   "execution_count": null,
   "metadata": {},
   "outputs": [],
   "source": [
    "class Solution:\n",
    "    def dailyTemperatures(self, temperatures: List[int]) -> List[int]:\n",
    "        answer = []\n",
    "        for i, j in enumerate(temperatures):\n",
    "            if i + 1 == len(temperatures):\n",
    "                answer.append(0)\n",
    "            k = i + 1 \n",
    "            while k < len(temperatures):\n",
    "                if j < temperatures[k]:\n",
    "                    answer.append(k-i)\n",
    "                    break\n",
    "                else:\n",
    "                    k += 1 \n",
    "                if k == len(temperatures):\n",
    "                    answer.append(0)\n",
    "        return answer"
   ]
  },
  {
   "cell_type": "markdown",
   "metadata": {},
   "source": [
    "시간초과"
   ]
  },
  {
   "cell_type": "code",
   "execution_count": null,
   "metadata": {},
   "outputs": [],
   "source": [
    "class Solution:\n",
    "    def dailyTemperatures(self, tem: List[int]) -> List[int]:\n",
    "        answer = []\n",
    "        for i, j in enumerate(tem):\n",
    "            stack = []\n",
    "            k = i + 1 \n",
    "            if k == len(tem):\n",
    "                answer.append(0)\n",
    "            while k < len(tem):\n",
    "                stack.append(k)\n",
    "                if j < tem[stack[-1]]:\n",
    "                    answer.append(k-i) \n",
    "                    break\n",
    "                k += 1\n",
    "\n",
    "                if k == len(tem):\n",
    "                    answer.append(0)\n",
    "        return answer"
   ]
  },
  {
   "cell_type": "markdown",
   "metadata": {},
   "source": [
    "시간초과"
   ]
  },
  {
   "cell_type": "code",
   "execution_count": null,
   "metadata": {},
   "outputs": [],
   "source": [
    "class Solution:\n",
    "    def dailyTemperatures(self, tem: List[int]) -> List[int]:\n",
    "        answer = []\n",
    "        stack = []\n",
    "        for i, j in enumerate(tem):\n",
    "            k = i + 1 \n",
    "            if k == len(tem):\n",
    "                answer.append(0)\n",
    "            while k < len(tem):\n",
    "                stack.append(k)\n",
    "                if j < tem[stack[-1]]:\n",
    "                    answer.append(k-i) \n",
    "                    break\n",
    "                k += 1\n",
    "\n",
    "                if k == len(tem):\n",
    "                    answer.append(0)\n",
    "        return answer"
   ]
  },
  {
   "cell_type": "markdown",
   "metadata": {},
   "source": [
    "stack을 위로 올려 봤지만 시간초과"
   ]
  },
  {
   "cell_type": "markdown",
   "metadata": {},
   "source": [
    "시간초과"
   ]
  },
  {
   "cell_type": "code",
   "execution_count": 94,
   "metadata": {},
   "outputs": [],
   "source": [
    "a = Solution()"
   ]
  },
  {
   "cell_type": "code",
   "execution_count": 95,
   "metadata": {},
   "outputs": [
    {
     "data": {
      "text/plain": [
       "[1, 1, 4, 2, 1, 1, 0, 0]"
      ]
     },
     "execution_count": 95,
     "metadata": {},
     "output_type": "execute_result"
    }
   ],
   "source": [
    "a.dailyTemperatures([73,74,75,71,69,72,76,73])"
   ]
  },
  {
   "cell_type": "markdown",
   "metadata": {},
   "source": [
    "try except로 바꿔봤는데도 시간초과"
   ]
  },
  {
   "cell_type": "code",
   "execution_count": null,
   "metadata": {},
   "outputs": [],
   "source": [
    "class Solution:\n",
    "    def dailyTemperatures(self, tem: List[int]) -> List[int]:\n",
    "        answer = [0] * len(tem)\n",
    "        stack = []\n",
    "        for i, j in enumerate(tem):\n",
    "            while stack and j > tem[stack[-1]]:\n",
    "                last = stack.pop()\n",
    "                answer[last] = i - last\n",
    "            stack.append(i)\n",
    "        return answer"
   ]
  },
  {
   "cell_type": "code",
   "execution_count": null,
   "metadata": {},
   "outputs": [],
   "source": []
  }
 ],
 "metadata": {
  "kernelspec": {
   "display_name": "Python 3",
   "language": "python",
   "name": "python3"
  },
  "language_info": {
   "codemirror_mode": {
    "name": "ipython",
    "version": 3
   },
   "file_extension": ".py",
   "mimetype": "text/x-python",
   "name": "python",
   "nbconvert_exporter": "python",
   "pygments_lexer": "ipython3",
   "version": "3.7.1"
  }
 },
 "nbformat": 4,
 "nbformat_minor": 2
}
