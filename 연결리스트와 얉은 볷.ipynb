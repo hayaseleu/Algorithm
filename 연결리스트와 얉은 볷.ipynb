{
 "cells": [
  {
   "cell_type": "code",
   "execution_count": 1,
   "id": "fefb6e9d",
   "metadata": {},
   "outputs": [],
   "source": [
    "class ListNode:\n",
    "    def __init__(self, val=0, next=None):\n",
    "        self.val = val\n",
    "        self.next = next"
   ]
  },
  {
   "cell_type": "code",
   "execution_count": 2,
   "id": "9e9371e6",
   "metadata": {},
   "outputs": [],
   "source": [
    "a = ListNode(10)"
   ]
  },
  {
   "cell_type": "code",
   "execution_count": 3,
   "id": "65f95082",
   "metadata": {},
   "outputs": [],
   "source": [
    "a.next = ListNode(3)"
   ]
  },
  {
   "cell_type": "code",
   "execution_count": 6,
   "id": "4975f3a0",
   "metadata": {},
   "outputs": [
    {
     "name": "stdout",
     "output_type": "stream",
     "text": [
      "10 3\n"
     ]
    }
   ],
   "source": [
    "print(a.val, a.next.val)"
   ]
  },
  {
   "cell_type": "code",
   "execution_count": 7,
   "id": "6b2efa76",
   "metadata": {},
   "outputs": [],
   "source": [
    "b = a"
   ]
  },
  {
   "cell_type": "code",
   "execution_count": 8,
   "id": "23c4b554",
   "metadata": {},
   "outputs": [
    {
     "data": {
      "text/plain": [
       "1792546109960"
      ]
     },
     "execution_count": 8,
     "metadata": {},
     "output_type": "execute_result"
    }
   ],
   "source": [
    "id(a)"
   ]
  },
  {
   "cell_type": "code",
   "execution_count": 9,
   "id": "9d62d099",
   "metadata": {},
   "outputs": [
    {
     "data": {
      "text/plain": [
       "1792546109960"
      ]
     },
     "execution_count": 9,
     "metadata": {},
     "output_type": "execute_result"
    }
   ],
   "source": [
    "id(b)"
   ]
  },
  {
   "cell_type": "code",
   "execution_count": 11,
   "id": "0f9a8d60",
   "metadata": {},
   "outputs": [
    {
     "name": "stdout",
     "output_type": "stream",
     "text": [
      "10 3\n"
     ]
    }
   ],
   "source": [
    "print(b.val, b.next.val)"
   ]
  },
  {
   "cell_type": "code",
   "execution_count": 13,
   "id": "1de63a3c",
   "metadata": {},
   "outputs": [
    {
     "data": {
      "text/plain": [
       "2"
      ]
     },
     "execution_count": 13,
     "metadata": {},
     "output_type": "execute_result"
    }
   ],
   "source": [
    "b.val = 2\n",
    "a.val"
   ]
  },
  {
   "cell_type": "code",
   "execution_count": 15,
   "id": "4906d8dc",
   "metadata": {},
   "outputs": [
    {
     "data": {
      "text/plain": [
       "1792546109960"
      ]
     },
     "execution_count": 15,
     "metadata": {},
     "output_type": "execute_result"
    }
   ],
   "source": [
    "id(b)"
   ]
  },
  {
   "cell_type": "code",
   "execution_count": 16,
   "id": "3a77dda5",
   "metadata": {},
   "outputs": [
    {
     "data": {
      "text/plain": [
       "1792546109960"
      ]
     },
     "execution_count": 16,
     "metadata": {},
     "output_type": "execute_result"
    }
   ],
   "source": [
    "id(a)"
   ]
  },
  {
   "cell_type": "code",
   "execution_count": 17,
   "id": "913b7a0b",
   "metadata": {},
   "outputs": [],
   "source": [
    "b= b.next"
   ]
  },
  {
   "cell_type": "code",
   "execution_count": 18,
   "id": "7562b11b",
   "metadata": {},
   "outputs": [
    {
     "data": {
      "text/plain": [
       "1792546350472"
      ]
     },
     "execution_count": 18,
     "metadata": {},
     "output_type": "execute_result"
    }
   ],
   "source": [
    "id(b)"
   ]
  },
  {
   "cell_type": "code",
   "execution_count": 19,
   "id": "e00881f6",
   "metadata": {},
   "outputs": [
    {
     "data": {
      "text/plain": [
       "1792546109960"
      ]
     },
     "execution_count": 19,
     "metadata": {},
     "output_type": "execute_result"
    }
   ],
   "source": [
    "id(a)"
   ]
  },
  {
   "cell_type": "code",
   "execution_count": 20,
   "id": "3f49b6f4",
   "metadata": {},
   "outputs": [
    {
     "data": {
      "text/plain": [
       "3"
      ]
     },
     "execution_count": 20,
     "metadata": {},
     "output_type": "execute_result"
    }
   ],
   "source": [
    "b.val"
   ]
  },
  {
   "cell_type": "code",
   "execution_count": 21,
   "id": "a3b78267",
   "metadata": {},
   "outputs": [
    {
     "data": {
      "text/plain": [
       "2"
      ]
     },
     "execution_count": 21,
     "metadata": {},
     "output_type": "execute_result"
    }
   ],
   "source": [
    "a.val"
   ]
  },
  {
   "cell_type": "code",
   "execution_count": 23,
   "id": "daee4bb5",
   "metadata": {},
   "outputs": [
    {
     "data": {
      "text/plain": [
       "3"
      ]
     },
     "execution_count": 23,
     "metadata": {},
     "output_type": "execute_result"
    }
   ],
   "source": [
    "a.next.val"
   ]
  },
  {
   "cell_type": "code",
   "execution_count": 24,
   "id": "2fb111d5",
   "metadata": {},
   "outputs": [
    {
     "data": {
      "text/plain": [
       "1792546350472"
      ]
     },
     "execution_count": 24,
     "metadata": {},
     "output_type": "execute_result"
    }
   ],
   "source": [
    "id(a.next) # id(b) = id(a.next) 가 같아짐 "
   ]
  },
  {
   "cell_type": "code",
   "execution_count": 27,
   "id": "08bdd92b",
   "metadata": {},
   "outputs": [],
   "source": [
    "b.next = ListNode(4)"
   ]
  },
  {
   "cell_type": "code",
   "execution_count": 29,
   "id": "64547cab",
   "metadata": {},
   "outputs": [
    {
     "name": "stdout",
     "output_type": "stream",
     "text": [
      "4\n"
     ]
    }
   ],
   "source": [
    "print(a.next.next.val)"
   ]
  },
  {
   "cell_type": "code",
   "execution_count": 30,
   "id": "2facb59d",
   "metadata": {},
   "outputs": [
    {
     "data": {
      "text/plain": [
       "1792547028552"
      ]
     },
     "execution_count": 30,
     "metadata": {},
     "output_type": "execute_result"
    }
   ],
   "source": [
    "id(b.next)"
   ]
  },
  {
   "cell_type": "code",
   "execution_count": 31,
   "id": "4e413d87",
   "metadata": {},
   "outputs": [
    {
     "data": {
      "text/plain": [
       "1792547028552"
      ]
     },
     "execution_count": 31,
     "metadata": {},
     "output_type": "execute_result"
    }
   ],
   "source": [
    "id(a.next.next)"
   ]
  },
  {
   "cell_type": "code",
   "execution_count": 32,
   "id": "d1beddab",
   "metadata": {},
   "outputs": [],
   "source": [
    "b = a"
   ]
  },
  {
   "cell_type": "code",
   "execution_count": 33,
   "id": "fdc352a2",
   "metadata": {},
   "outputs": [
    {
     "data": {
      "text/plain": [
       "1792546109960"
      ]
     },
     "execution_count": 33,
     "metadata": {},
     "output_type": "execute_result"
    }
   ],
   "source": [
    "id(b)"
   ]
  },
  {
   "cell_type": "code",
   "execution_count": 34,
   "id": "1c095098",
   "metadata": {},
   "outputs": [
    {
     "data": {
      "text/plain": [
       "1792546109960"
      ]
     },
     "execution_count": 34,
     "metadata": {},
     "output_type": "execute_result"
    }
   ],
   "source": [
    "id(a)"
   ]
  },
  {
   "cell_type": "code",
   "execution_count": 35,
   "id": "3420ed05",
   "metadata": {},
   "outputs": [
    {
     "data": {
      "text/plain": [
       "1792547028552"
      ]
     },
     "execution_count": 35,
     "metadata": {},
     "output_type": "execute_result"
    }
   ],
   "source": [
    "id(a.next.next)"
   ]
  },
  {
   "cell_type": "code",
   "execution_count": 36,
   "id": "b1041fe4",
   "metadata": {},
   "outputs": [
    {
     "data": {
      "text/plain": [
       "1792547028552"
      ]
     },
     "execution_count": 36,
     "metadata": {},
     "output_type": "execute_result"
    }
   ],
   "source": [
    "id(b.next.next)"
   ]
  }
 ],
 "metadata": {
  "kernelspec": {
   "display_name": "Python 3",
   "language": "python",
   "name": "python3"
  },
  "language_info": {
   "codemirror_mode": {
    "name": "ipython",
    "version": 3
   },
   "file_extension": ".py",
   "mimetype": "text/x-python",
   "name": "python",
   "nbconvert_exporter": "python",
   "pygments_lexer": "ipython3",
   "version": "3.7.9"
  }
 },
 "nbformat": 4,
 "nbformat_minor": 5
}
