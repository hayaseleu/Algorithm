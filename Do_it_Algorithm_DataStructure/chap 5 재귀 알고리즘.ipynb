{
 "cells": [
  {
   "cell_type": "markdown",
   "metadata": {},
   "source": [
    "# 재귀\n",
    "\n",
    "자기 자신을 포함하고 다시 자기 자신을 사용하여 정의되는 경우\n",
    "\n",
    "\n",
    "> 자연수의 재귀적 정의 \n",
    "> * 1은 자연수\n",
    "> * 어떤 자연수의 바로 다음수도 자연수 "
   ]
  },
  {
   "cell_type": "code",
   "execution_count": 4,
   "metadata": {},
   "outputs": [
    {
     "name": "stdout",
     "output_type": "stream",
     "text": [
      "출력할 팩토리얼값을 입력하세요.:4\n",
      "4의 팩토리얼은 24입니다.\n"
     ]
    }
   ],
   "source": [
    "# 양의 정수 n의 팩토리얼 구하고\n",
    "\n",
    "def factorial(n : int) -> int:\n",
    "    \"\"\" 양의 정수 n의 팩토리얼값을 재귀적으로 구하기 \"\"\"\n",
    "    \n",
    "    if n > 0 :\n",
    "        return n * factorial(n - 1)\n",
    "    else: \n",
    "        return 1\n",
    "\n",
    "if __name__ == '__main__' :\n",
    "    n = int(input('출력할 팩토리얼값을 입력하세요.:'))\n",
    "    print(f'{n}의 팩토리얼은 {factorial(n)}입니다.')"
   ]
  },
  {
   "cell_type": "markdown",
   "metadata": {},
   "source": [
    "사실 팩토리얼은 재귀법으론 비효율적"
   ]
  },
  {
   "cell_type": "markdown",
   "metadata": {},
   "source": [
    "# 유클리드 호제법 "
   ]
  },
  {
   "cell_type": "code",
   "execution_count": 7,
   "metadata": {},
   "outputs": [
    {
     "name": "stdout",
     "output_type": "stream",
     "text": [
      "두 정숫값의 최대 공약수를 구합니다.\n",
      "첫 번째 정숫값을 입력하세요.: 144\n",
      "두 번째 정숫값을 입력하세요.: 59\n",
      "두 정숫값의 최대 공약수는 1입니다.\n"
     ]
    }
   ],
   "source": [
    "# 유클리드 호제법으로 최대 공약수 구하기\n",
    "\n",
    "def gcd(x: int, y : int) -> int:\n",
    "    \"\"\" 정숫값 x와 y의 최대공약수를 반환\"\"\"\n",
    "    if y == 0:\n",
    "        return x\n",
    "    else:\n",
    "        return gcd(y, x % y)\n",
    "    \n",
    "if __name__ == \"__main__\":\n",
    "    print('두 정숫값의 최대 공약수를 구합니다.')\n",
    "    x = int(input('첫 번째 정숫값을 입력하세요.: '))\n",
    "    y = int(input('두 번째 정숫값을 입력하세요.: '))\n",
    "    \n",
    "    print(f'두 정숫값의 최대 공약수는 {gcd(x, y)}입니다.')"
   ]
  },
  {
   "cell_type": "markdown",
   "metadata": {},
   "source": [
    "# 재귀 알고리즘 분석"
   ]
  },
  {
   "cell_type": "code",
   "execution_count": 10,
   "metadata": {},
   "outputs": [
    {
     "name": "stdout",
     "output_type": "stream",
     "text": [
      "정숫값을 입력하세요.:4\n",
      "1\n",
      "2\n",
      "3\n",
      "1\n",
      "4\n",
      "1\n",
      "2\n"
     ]
    }
   ],
   "source": [
    "# 순수한 재귀 함수 구현하기\n",
    "\n",
    "def recur(n: int) -> int:\n",
    "    \"\"\" 순수한 재귀함수 recur의 구현 \"\"\"\n",
    "    if n > 0:\n",
    "        recur(n-1)\n",
    "        print(n)\n",
    "        recur(n-2)\n",
    "        \n",
    "x = int(input('정숫값을 입력하세요.:'))\n",
    "recur(x)"
   ]
  },
  {
   "cell_type": "markdown",
   "metadata": {},
   "source": [
    "# 재귀 알고리즘의 비재귀적 표현\n"
   ]
  },
  {
   "cell_type": "code",
   "execution_count": 1,
   "metadata": {},
   "outputs": [
    {
     "name": "stdout",
     "output_type": "stream",
     "text": [
      "정수값을 입력하세요.: 5\n",
      "1\n",
      "2\n",
      "3\n",
      "1\n",
      "4\n",
      "1\n",
      "2\n",
      "5\n",
      "1\n",
      "2\n",
      "3\n",
      "1\n"
     ]
    }
   ],
   "source": [
    "# 비재귀적으로 재귀 함수 구현하기(꼬리 재귀를 제거)\n",
    "\n",
    "def recur(n: int) -> int:\n",
    "    \"\"\" 꼬리 재귀를 제거한 recur() 함수 \"\"\"\n",
    "    \n",
    "    while n > 0 :\n",
    "        recur(n - 1)\n",
    "        print(n)\n",
    "        n = n - 2\n",
    "x = int(input('정수값을 입력하세요.: '))\n",
    "\n",
    "recur(x)"
   ]
  },
  {
   "cell_type": "markdown",
   "metadata": {},
   "source": [
    "# recur() 함수의 재귀 호출을 거꾸로 출력하게"
   ]
  },
  {
   "cell_type": "code",
   "execution_count": 1,
   "metadata": {},
   "outputs": [
    {
     "name": "stdout",
     "output_type": "stream",
     "text": [
      "정수값을 입력하세요.: 4\n",
      "2\n",
      "1\n",
      "4\n",
      "1\n",
      "3\n",
      "2\n",
      "1\n"
     ]
    }
   ],
   "source": [
    "# 비재귀적으로 재귀 함수 구현하기(꼬리 재귀를 제거)\n",
    "\n",
    "def recur(n: int) -> int:\n",
    "    \"\"\" 순수한 재귀 함수 recur의 구현(꺼꾸로 출력\"\"\"\n",
    "    \n",
    "    while n > 0 :\n",
    "        recur(n - 2)\n",
    "        print(n)\n",
    "        n = n - 1\n",
    "x = int(input('정수값을 입력하세요.: '))\n",
    "\n",
    "recur(x)"
   ]
  },
  {
   "cell_type": "markdown",
   "metadata": {},
   "source": [
    "# 재귀를 제거하기 \n",
    "\n",
    "맨앞에서 재귀 호출하는 recur(n-1)은 제거하기가 쉽지가 않음. n을 출력하기 위해 recur(n-1)을 실행해야 하기 때문..\n",
    "즉 n = 4일때 recur(3)의 처리가 완료될 때 까지 4를 저장해야함.\n",
    "\n",
    "> 저장하기위해 stack을 사용. stack은 꺼낸것부터 나오기때문에 활용가능"
   ]
  },
  {
   "cell_type": "code",
   "execution_count": 2,
   "metadata": {},
   "outputs": [],
   "source": [
    "\n",
    "# 실습 4C-1 \n",
    "\n",
    "from typing import Any\n",
    "from collections import deque\n",
    "\n",
    "class Stack:\n",
    "    \"\"\"고정 길이 스택 클래스\"\"\"\n",
    "    \n",
    "    def __init__(self, maxlen: int = 256) -> None:\n",
    "        \"\"\"스택 초기화\"\"\"\n",
    "        self.capacity = maxlen\n",
    "        self.__stk = deque([], maxlen)\n",
    "        \n",
    "    def __len__(self) -> int:\n",
    "        \"\"\"스택에 쌓여 있는 데이터 개수를 반환\"\"\"\n",
    "        \n",
    "        return len(self.__stk)\n",
    "    \n",
    "    def is_empty(self) -> bool:\n",
    "        \n",
    "        return not self.__stk\n",
    "    \n",
    "    def is_full(self) -> bool:\n",
    "        \n",
    "        return len(self.__stk) == self.__stk.maxlen\n",
    "    \n",
    "    def push(self, value: Any) -> None:\n",
    "        \"\"\"스택에 value를 푸시 \"\"\"\n",
    "        \n",
    "        self.__stk.append(value)\n",
    "        \n",
    "    def pop(self) -> Any:\n",
    "        \n",
    "        return self.__stk.pop()\n",
    "    \n",
    "    def peek(self) -> Any:\n",
    "        \n",
    "        return self.__stk[-1]\n",
    "    \n",
    "    def clear(self) -> None:\n",
    "        \n",
    "        self.__stk.clear()\n",
    "        \n",
    "    \n",
    "    def find(self, value: Any) -> Any:\n",
    "        \n",
    "        try:\n",
    "            return self.__stk.index(value)\n",
    "        \n",
    "        except ValueError:\n",
    "            return -1 \n",
    "        \n",
    "    def count(self, value: Any) -> int:\n",
    "        \n",
    "        return self.__stk.count(value)\n",
    "    \n",
    "    def __contains__(self, value: Any) -> bool:\n",
    "        return self.count(value)\n",
    "    \n",
    "    def dump(self) -> int:\n",
    "        \n",
    "        print(list(self.__stk))"
   ]
  },
  {
   "cell_type": "code",
   "execution_count": 4,
   "metadata": {},
   "outputs": [
    {
     "name": "stdout",
     "output_type": "stream",
     "text": [
      "정숫값을 입력하세요.: 4\n",
      "1\n",
      "2\n",
      "3\n",
      "1\n",
      "4\n",
      "1\n",
      "2\n"
     ]
    }
   ],
   "source": [
    "# 스택으로 재귀함수 구현하기( 재귀를 제거 )\n",
    "\n",
    "# from stack import Stack \n",
    "\n",
    "def recur(n: int) -> int:\n",
    "    \"\"\" 재귀를 제거한 recur() 함수 \"\"\"\n",
    "    \n",
    "    s = Stack(n)\n",
    "    \n",
    "    while True:\n",
    "        if n > 0:\n",
    "            s.push(n)\n",
    "            n = n - 1\n",
    "            continue\n",
    "        if not s.is_empty():\n",
    "            n = s.pop()\n",
    "            print(n)\n",
    "            n = n - 2 \n",
    "            continue\n",
    "        break\n",
    "    \n",
    "x = int(input('정숫값을 입력하세요.: '))\n",
    "\n",
    "recur(x)"
   ]
  },
  {
   "cell_type": "markdown",
   "metadata": {},
   "source": [
    "# 하노이의 탑\n",
    "\n",
    "핵심은 몇층 짜리이랑 상관없이 항상 2분할해서 푼다고 생각하는것"
   ]
  },
  {
   "cell_type": "code",
   "execution_count": 7,
   "metadata": {},
   "outputs": [
    {
     "name": "stdout",
     "output_type": "stream",
     "text": [
      "하노이의 탑을 구현합니다.\n",
      "원반의 개수를 입력하세요.: 3\n",
      "원반 1을(를) 1 기둥에서 3 기둥으로 옮깁니다.\n",
      "원반 2을(를) 1 기둥에서 2 기둥으로 옮깁니다.\n",
      "원반 1을(를) 3 기둥에서 2 기둥으로 옮깁니다.\n",
      "원반 3을(를) 1 기둥에서 3 기둥으로 옮깁니다.\n",
      "원반 1을(를) 2 기둥에서 1 기둥으로 옮깁니다.\n",
      "원반 2을(를) 2 기둥에서 3 기둥으로 옮깁니다.\n",
      "원반 1을(를) 1 기둥에서 3 기둥으로 옮깁니다.\n"
     ]
    }
   ],
   "source": [
    "# 하노이의 탑 구현하기\n",
    "\n",
    "def move(no: int, x: int, y: int) -> None:\n",
    "    \"\"\" 원반 no개를 x기둥에서 y 기둥으로 옮김\"\"\"\n",
    "    \n",
    "    if no > 1:\n",
    "        move(no - 1 , x , 6 - x - y)\n",
    "        \n",
    "    print(f'원반 {no}을(를) {x} 기둥에서 {y} 기둥으로 옮깁니다.')\n",
    "    \n",
    "    if no > 1:\n",
    "        move(no -1 , 6 - x -y , y)\n",
    "        \n",
    "print('하노이의 탑을 구현합니다.')\n",
    "n = int(input('원반의 개수를 입력하세요.: '))\n",
    "\n",
    "move(n, 1, 3) # 1기둥에 쌓인 원반 n개를 3기둥으로 옮김"
   ]
  },
  {
   "cell_type": "markdown",
   "metadata": {},
   "source": [
    "기둥번호를 정수 1,2,3으로 나타냈고 기둥번호의 합이 6이기 떄문에 시작 기둥, 목표기둥이 어디든 중간(에 둘 )기둥은 (6-x-y)로 구할 수 있음"
   ]
  },
  {
   "cell_type": "markdown",
   "metadata": {},
   "source": [
    "![ex_screenshot](./image/1.png)\n"
   ]
  }
 ],
 "metadata": {
  "kernelspec": {
   "display_name": "Python 3",
   "language": "python",
   "name": "python3"
  },
  "language_info": {
   "codemirror_mode": {
    "name": "ipython",
    "version": 3
   },
   "file_extension": ".py",
   "mimetype": "text/x-python",
   "name": "python",
   "nbconvert_exporter": "python",
   "pygments_lexer": "ipython3",
   "version": "3.7.7"
  }
 },
 "nbformat": 4,
 "nbformat_minor": 2
}
