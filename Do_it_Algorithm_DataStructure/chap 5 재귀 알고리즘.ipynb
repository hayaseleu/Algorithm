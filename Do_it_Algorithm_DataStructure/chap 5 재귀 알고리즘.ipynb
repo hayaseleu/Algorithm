{
 "cells": [
  {
   "cell_type": "markdown",
   "metadata": {},
   "source": [
    "# 재귀\n",
    "\n",
    "자기 자신을 포함하고 다시 자기 자신을 사용하여 정의되는 경우\n",
    "\n",
    "\n",
    "> 자연수의 재귀적 정의 \n",
    "> * 1은 자연수\n",
    "> * 어떤 자연수의 바로 다음수도 자연수 "
   ]
  },
  {
   "cell_type": "code",
   "execution_count": 4,
   "metadata": {},
   "outputs": [
    {
     "name": "stdout",
     "output_type": "stream",
     "text": [
      "출력할 팩토리얼값을 입력하세요.:4\n",
      "4의 팩토리얼은 24입니다.\n"
     ]
    }
   ],
   "source": [
    "# 양의 정수 n의 팩토리얼 구하고\n",
    "\n",
    "def factorial(n : int) -> int:\n",
    "    \"\"\" 양의 정수 n의 팩토리얼값을 재귀적으로 구하기 \"\"\"\n",
    "    \n",
    "    if n > 0 :\n",
    "        return n * factorial(n - 1)\n",
    "    else: \n",
    "        return 1\n",
    "\n",
    "if __name__ == '__main__' :\n",
    "    n = int(input('출력할 팩토리얼값을 입력하세요.:'))\n",
    "    print(f'{n}의 팩토리얼은 {factorial(n)}입니다.')"
   ]
  },
  {
   "cell_type": "markdown",
   "metadata": {},
   "source": [
    "사실 팩토리얼은 재귀법으론 비효율적"
   ]
  },
  {
   "cell_type": "markdown",
   "metadata": {},
   "source": [
    "# 유클리드 호제법 "
   ]
  },
  {
   "cell_type": "code",
   "execution_count": 7,
   "metadata": {},
   "outputs": [
    {
     "name": "stdout",
     "output_type": "stream",
     "text": [
      "두 정숫값의 최대 공약수를 구합니다.\n",
      "첫 번째 정숫값을 입력하세요.: 144\n",
      "두 번째 정숫값을 입력하세요.: 59\n",
      "두 정숫값의 최대 공약수는 1입니다.\n"
     ]
    }
   ],
   "source": [
    "# 유클리드 호제법으로 최대 공약수 구하기\n",
    "\n",
    "def gcd(x: int, y : int) -> int:\n",
    "    \"\"\" 정숫값 x와 y의 최대공약수를 반환\"\"\"\n",
    "    if y == 0:\n",
    "        return x\n",
    "    else:\n",
    "        return gcd(y, x % y)\n",
    "    \n",
    "if __name__ == \"__main__\":\n",
    "    print('두 정숫값의 최대 공약수를 구합니다.')\n",
    "    x = int(input('첫 번째 정숫값을 입력하세요.: '))\n",
    "    y = int(input('두 번째 정숫값을 입력하세요.: '))\n",
    "    \n",
    "    print(f'두 정숫값의 최대 공약수는 {gcd(x, y)}입니다.')"
   ]
  },
  {
   "cell_type": "markdown",
   "metadata": {},
   "source": [
    "# 재귀 알고리즘 분석"
   ]
  },
  {
   "cell_type": "code",
   "execution_count": 10,
   "metadata": {},
   "outputs": [
    {
     "name": "stdout",
     "output_type": "stream",
     "text": [
      "정숫값을 입력하세요.:4\n",
      "1\n",
      "2\n",
      "3\n",
      "1\n",
      "4\n",
      "1\n",
      "2\n"
     ]
    }
   ],
   "source": [
    "# 순수한 재귀 함수 구현하기\n",
    "\n",
    "def recur(n: int) -> int:\n",
    "    \"\"\" 순수한 재귀함수 recur의 구현 \"\"\"\n",
    "    if n > 0:\n",
    "        recur(n-1)\n",
    "        print(n)\n",
    "        recur(n-2)\n",
    "        \n",
    "x = int(input('정숫값을 입력하세요.:'))\n",
    "recur(x)"
   ]
  },
  {
   "cell_type": "markdown",
   "metadata": {},
   "source": [
    "# 재귀 알고리즘의 비재귀적 표현\n"
   ]
  },
  {
   "cell_type": "code",
   "execution_count": 1,
   "metadata": {},
   "outputs": [
    {
     "name": "stdout",
     "output_type": "stream",
     "text": [
      "정수값을 입력하세요.: 5\n",
      "1\n",
      "2\n",
      "3\n",
      "1\n",
      "4\n",
      "1\n",
      "2\n",
      "5\n",
      "1\n",
      "2\n",
      "3\n",
      "1\n"
     ]
    }
   ],
   "source": [
    "# 비재귀적으로 재귀 함수 구현하기(꼬리 재귀를 제거)\n",
    "\n",
    "def recur(n: int) -> int:\n",
    "    \"\"\" 꼬리 재귀를 제거한 recur() 함수 \"\"\"\n",
    "    \n",
    "    while n > 0 :\n",
    "        recur(n - 1)\n",
    "        print(n)\n",
    "        n = n - 2\n",
    "x = int(input('정수값을 입력하세요.: '))\n",
    "\n",
    "recur(x)"
   ]
  }
 ],
 "metadata": {
  "kernelspec": {
   "display_name": "Python 3",
   "language": "python",
   "name": "python3"
  },
  "language_info": {
   "codemirror_mode": {
    "name": "ipython",
    "version": 3
   },
   "file_extension": ".py",
   "mimetype": "text/x-python",
   "name": "python",
   "nbconvert_exporter": "python",
   "pygments_lexer": "ipython3",
   "version": "3.7.1"
  }
 },
 "nbformat": 4,
 "nbformat_minor": 2
}
