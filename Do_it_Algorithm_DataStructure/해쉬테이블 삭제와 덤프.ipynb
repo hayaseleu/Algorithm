{
 "cells": [
  {
   "cell_type": "code",
   "execution_count": 3,
   "metadata": {},
   "outputs": [],
   "source": [
    "def remove(self, key):\n",
    "    \"\"\" 키가 key인 원소를 삭제\"\"\"\n",
    "    hash = self.hash_value(key)\n",
    "    p = self.table[hash]\n",
    "    pp = None\n",
    "    \n",
    "    while p is not None:\n",
    "        if p.key == key:\n",
    "            if pp is None:\n",
    "                self.table[hash] = p.next\n",
    "            else:\n",
    "                pp.next = p.next\n",
    "            return True\n",
    "        pp = p\n",
    "        p = p.next\n",
    "    return False\n",
    "    \n",
    "    def dump(self):\n",
    "        \"\"\" 해시 테이블로 덤프\"\"\"\n",
    "        for i in range(self.capacity):\n",
    "            p = self.table[i]\n",
    "            print(i, end = '')\n",
    "            while p is not None:\n",
    "                print(f' -> {p.key} ({p.value})', end = '')\n",
    "                p = p.enxt\n",
    "            print()"
   ]
  },
  {
   "cell_type": "code",
   "execution_count": null,
   "metadata": {},
   "outputs": [],
   "source": []
  }
 ],
 "metadata": {
  "kernelspec": {
   "display_name": "Python 3",
   "language": "python",
   "name": "python3"
  },
  "language_info": {
   "codemirror_mode": {
    "name": "ipython",
    "version": 3
   },
   "file_extension": ".py",
   "mimetype": "text/x-python",
   "name": "python",
   "nbconvert_exporter": "python",
   "pygments_lexer": "ipython3",
   "version": "3.9.1+"
  }
 },
 "nbformat": 4,
 "nbformat_minor": 2
}
