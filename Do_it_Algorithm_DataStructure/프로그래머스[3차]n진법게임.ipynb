{
 "cells": [
  {
   "cell_type": "markdown",
   "metadata": {},
   "source": [
    "내풀이 "
   ]
  },
  {
   "cell_type": "code",
   "execution_count": 56,
   "metadata": {},
   "outputs": [],
   "source": [
    "def solution(n, t, m, p):\n",
    "    answer = []\n",
    "    def card_conv(number, base_n):\n",
    "        seq = []\n",
    "        alpha = \"0123456789ABCDEFGHIJKLMNOPQRSTUVWXYZ\"\n",
    "        if number < base_n:\n",
    "            return alpha[number]\n",
    "        while True:\n",
    "            number, a = divmod(number,base_n)\n",
    "            seq.append(alpha[a])\n",
    "            if number < base_n:\n",
    "                seq.append(alpha[number])\n",
    "                break\n",
    "\n",
    "        return(seq[::-1])\n",
    "\n",
    "    call_list = [card_conv(x,n) for x in  range(t*m)]\n",
    "    call_list1 = [element for array in call_list for element in array]\n",
    "    \n",
    "    for i in range(p-1,t*m,m):\n",
    "        answer.append(call_list1[i])\n",
    "    return  \"\".join(answer)"
   ]
  },
  {
   "cell_type": "code",
   "execution_count": 57,
   "metadata": {},
   "outputs": [
    {
     "data": {
      "text/plain": [
       "'0111'"
      ]
     },
     "execution_count": 57,
     "metadata": {},
     "output_type": "execute_result"
    }
   ],
   "source": [
    "solution(2,4,2,1)"
   ]
  },
  {
   "cell_type": "code",
   "execution_count": 34,
   "metadata": {},
   "outputs": [],
   "source": [
    "def card_conv(number, base_n):\n",
    "    seq = []\n",
    "    alpha = \"0123456789ABCDEFGHIJKLMNOPQRSTUVWXYZ\"\n",
    "    if number < base_n:\n",
    "        return alpha[number]\n",
    "    while True:\n",
    "        number, a = divmod(number,base_n)\n",
    "        seq.append(alpha[a])\n",
    "        if number < base_n:\n",
    "            seq.append(alpha[number])\n",
    "            break\n",
    "\n",
    "    return(seq[::-1])"
   ]
  },
  {
   "cell_type": "code",
   "execution_count": 35,
   "metadata": {},
   "outputs": [
    {
     "name": "stdout",
     "output_type": "stream",
     "text": [
      "['0', '1', ['1', '0'], ['1', '1'], ['1', '0', '0'], ['1', '0', '1'], ['1', '1', '0'], ['1', '1', '1'], ['1', '0', '0', '0'], ['1', '0', '0', '1'], ['1', '0', '1', '0'], ['1', '0', '1', '1'], ['1', '1', '0', '0'], ['1', '1', '0', '1'], ['1', '1', '1', '0'], ['1', '1', '1', '1'], ['1', '0', '0', '0', '0'], ['1', '0', '0', '0', '1'], ['1', '0', '0', '1', '0'], ['1', '0', '0', '1', '1']]\n"
     ]
    }
   ],
   "source": [
    "a = [card_conv(x,2) for x in  range(10*2)]\n",
    "print(a)"
   ]
  },
  {
   "cell_type": "code",
   "execution_count": 38,
   "metadata": {},
   "outputs": [
    {
     "name": "stdout",
     "output_type": "stream",
     "text": [
      "['1', '0', '1', '1', '1', '0', '0', '1', '0', '1', '1', '1', '0', '1', '1', '1', '1', '0', '0', '0', '1', '0', '0', '1', '1', '0', '1', '0', '1', '0', '1', '1', '1', '1', '0', '0', '1', '1', '0', '1', '1', '1', '1', '0', '1', '1', '1', '1', '1', '0', '0', '0', '0', '1', '0', '0', '0', '1', '1', '0', '0', '1', '0', '1', '0', '0', '1', '1']\n"
     ]
    }
   ],
   "source": [
    "an = sum(a[2:], [])\n",
    "print(an)"
   ]
  },
  {
   "cell_type": "code",
   "execution_count": 40,
   "metadata": {},
   "outputs": [
    {
     "name": "stdout",
     "output_type": "stream",
     "text": [
      "['0', '1', '1', '0', '1', '1', '1', '0', '0', '1', '0', '1', '1', '1', '0', '1', '1', '1', '1', '0', '0', '0', '1', '0', '0', '1', '1', '0', '1', '0', '1', '0', '1', '1', '1', '1', '0', '0', '1', '1', '0', '1', '1', '1', '1', '0', '1', '1', '1', '1', '1', '0', '0', '0', '0', '1', '0', '0', '0', '1', '1', '0', '0', '1', '0', '1', '0', '0', '1', '1']\n"
     ]
    }
   ],
   "source": [
    "ann =[element for array in a for element in array]\n",
    "print(ann)"
   ]
  },
  {
   "cell_type": "code",
   "execution_count": 41,
   "metadata": {},
   "outputs": [
    {
     "data": {
      "text/plain": [
       "'1'"
      ]
     },
     "execution_count": 41,
     "metadata": {},
     "output_type": "execute_result"
    }
   ],
   "source": [
    "ann[1]"
   ]
  },
  {
   "cell_type": "markdown",
   "metadata": {},
   "source": [
    "다른 사람 풀이 1"
   ]
  },
  {
   "cell_type": "code",
   "execution_count": 58,
   "metadata": {},
   "outputs": [],
   "source": [
    "big = [\"A\",\"B\",\"C\",\"D\",\"E\",\"F\"]\n",
    "def solution(n, t, m, p):\n",
    "    a=\"0\"\n",
    "    i=0\n",
    "    #for i in range(t*m):\n",
    "    while True:\n",
    "        if len(a)>=t*m:\n",
    "            break\n",
    "        b=\"\"\n",
    "        j=i\n",
    "        while (j):\n",
    "            if j%n>9:\n",
    "                b=big[j%n-10]+b\n",
    "            else:\n",
    "                b=str(j%n)+b\n",
    "            j=j//n\n",
    "        a=a+b\n",
    "        i=i+1\n",
    "    answer = a[p-1::m][:t]\n",
    "    return answer"
   ]
  },
  {
   "cell_type": "markdown",
   "metadata": {},
   "source": [
    "다른 사람 풀이 2 "
   ]
  },
  {
   "cell_type": "code",
   "execution_count": null,
   "metadata": {},
   "outputs": [],
   "source": [
    "DIGITS = list('0123456789ABCDEF')\n",
    "\n",
    "\n",
    "def n2base(n, base):\n",
    "    if n == 0:\n",
    "        return DIGITS[0]\n",
    "\n",
    "    # 각 자리수에 해당하는 문자열을 담을 리스트\n",
    "    digits = []\n",
    "    while n > 0:\n",
    "        # 제일 마지막 자리의 숫자 구하기. 예를 들어 1658이면 '8'\n",
    "        digits.append(DIGITS[n % base])\n",
    "        # 제일 마지막 자리 제거. 예를 들어 1658이면 165로\n",
    "        n = int(n // base)\n",
    "\n",
    "    # 뒤집어서 반환. 예를 들어 '8561'이면 '1658'\n",
    "    return ''.join(digits[::-1])\n",
    "\n",
    "\n",
    "def solution(n, t, m, p):\n",
    "    digits = []\n",
    "    turn = 0\n",
    "    while len(digits) < t * m:\n",
    "        digits += list(n2base(turn, n))\n",
    "        turn += 1\n",
    "    return ''.join(digits[p-1::m][:t])"
   ]
  }
 ],
 "metadata": {
  "kernelspec": {
   "display_name": "Python 3",
   "language": "python",
   "name": "python3"
  },
  "language_info": {
   "codemirror_mode": {
    "name": "ipython",
    "version": 3
   },
   "file_extension": ".py",
   "mimetype": "text/x-python",
   "name": "python",
   "nbconvert_exporter": "python",
   "pygments_lexer": "ipython3",
   "version": "3.7.1"
  }
 },
 "nbformat": 4,
 "nbformat_minor": 2
}
