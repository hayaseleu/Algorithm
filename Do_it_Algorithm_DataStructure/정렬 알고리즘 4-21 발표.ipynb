{
 "cells": [
  {
   "cell_type": "markdown",
   "metadata": {},
   "source": [
    "# 정렬 알고리즘\n",
    "\n",
    "\n",
    "### 정렬의 정의\n",
    "> 정렬: key를 항목값의 대소 관계에 따라 데이터 집합을 일정한 순서로 바꾸어 늘어놓는 작업.\n",
    "\n",
    "\n",
    "작은 데이터가 앞쪽은 오름차순 Ascending 큰것이 앞쪽에 오는것을 내림차순 Descending 이라고 함.\n",
    "\n",
    "\n",
    "### 정렬 알고리즘의 안정성(stable)\n",
    "\n",
    "값이 같았던 항목의 순서가 변하지않고 유지되면 안정적(stable)하다.\n",
    "\n",
    "값이 같았던 항목의 순서가 변한다면 안정적이지 않다.(unstable)하다.\n",
    "\n",
    "![ex_screenshot](./image/파일_000.png)\n",
    "\n",
    "### 내부 정렬과 외부 정렬\n",
    "\n",
    "내부 정렬: 정렬한 모든 데이터를 하나의 배열에 저장할 수 있는 경우에 사용하는 알고리즘\n",
    "\n",
    "외부 정렬: 정렬한 데이터가 많아서 하나의 배열에 저장할 수 없을 때 사용하는 알고리즘. (이 책에선 다루지 않음)"
   ]
  },
  {
   "cell_type": "markdown",
   "metadata": {},
   "source": [
    "# 버블 정렬(bubble sort)\n",
    "\n",
    "이웃한 두 원소의 대소 관계를 비교하며 필요에 따라 교환을 반복하는 알고리즘, 단순 교환 정렬\n",
    "\n",
    "원소 수가 n개의 배열에서 n-1 번 비교-교환을 하면 가장 작은 원소가 맨 앞으로 이동함.\n",
    "\n",
    "이를 패스 pass라고 함."
   ]
  },
  {
   "cell_type": "markdown",
   "metadata": {},
   "source": [
    "![ex_screenshot](./image/파일_001.png)\n"
   ]
  },
  {
   "cell_type": "markdown",
   "metadata": {},
   "source": [
    "그 다음 패스로 두번째로 작은 원소가 앞에서 두번째로 이동함. \n",
    "\n",
    "즉 패스는 한 번 수행할때마다 정렬 대상이 1씩 줄어듬 (2번째 패스는 n-2번)\n",
    "\n",
    "-> 패스를 k번 수행하면 맨앞부터 k개 원소가 정렬됨. 모든 정렬이 끝나려면 패스를 n-1번 수행해야함\n",
    "\n",
    "**주의 n-1만 수행해도 이미 마지막 원소는 끝에 놓이기 때문에 n번 실행할 필요는 없음**"
   ]
  },
  {
   "cell_type": "markdown",
   "metadata": {},
   "source": [
    "# 버블 정렬 프로그램"
   ]
  },
  {
   "cell_type": "code",
   "execution_count": 5,
   "metadata": {},
   "outputs": [
    {
     "name": "stdout",
     "output_type": "stream",
     "text": [
      "버블 정렬을 수행합니다.\n",
      "원소 수를 입력하세요.: 7\n",
      "x[0]: 6\n",
      "x[1]: 4\n",
      "x[2]: 3\n",
      "x[3]: 7\n",
      "x[4]: 1\n",
      "x[5]: 9\n",
      "x[6]: 8\n",
      "오름차순으로 정렬했습니다.\n",
      "x[0] = 1\n",
      "x[1] = 3\n",
      "x[2] = 4\n",
      "x[3] = 6\n",
      "x[4] = 7\n",
      "x[5] = 8\n",
      "x[6] = 9\n"
     ]
    }
   ],
   "source": [
    "# 버블 정렬 알고리즘 구현하기\n",
    "\n",
    "from typing import MutableSequence\n",
    "\n",
    "def bubble_sort(a: MutableSequence) -> None:\n",
    "    \"\"\"버블 정렬\"\"\"\n",
    "    n = len(a)\n",
    "    for i in range(n - 1):\n",
    "        for j in range(n - 1, i , -1):               # 패스 부분\n",
    "            if a[j - 1] > a[j]:                      # 패스 부분\n",
    "                a[j - 1], a[j] = a[j], a[j - 1]      # 패스 부분\n",
    "\n",
    "if __name__ == '__main__':\n",
    "    print('버블 정렬을 수행합니다.')\n",
    "    num = int(input('원소 수를 입력하세요.: '))\n",
    "    x = [None] * num # 원소 수가 num인 배열 생성\n",
    "    \n",
    "    for i in range(num):\n",
    "        x[i] = int(input(f'x[{i}]: '))\n",
    "                         \n",
    "    bubble_sort(x)\n",
    "                         \n",
    "    print('오름차순으로 정렬했습니다.')\n",
    "    for i in range(num):\n",
    "        print(f'x[{i}] = {x[i]}')"
   ]
  },
  {
   "cell_type": "markdown",
   "metadata": {},
   "source": [
    "\n",
    "\n",
    "한 칸 이상의 원소를 교환하지않고 서로 이웃한 원소만 교환하기에 안정적임.\n",
    "\n",
    "원소의 비교 횟수는 \n",
    "\n",
    "n - 1 + n-2 + ... + 1 = n(n-1)/2 번 교환함\n",
    "\n",
    "실제 교환 횟수는 배열의 원솟값에 따라 영향 받으므로 평균값은 비교횟수의 절반인 n(n-1)/4"
   ]
  },
  {
   "cell_type": "markdown",
   "metadata": {},
   "source": [
    "### 교환과정 출력"
   ]
  },
  {
   "cell_type": "code",
   "execution_count": 3,
   "metadata": {},
   "outputs": [
    {
     "name": "stdout",
     "output_type": "stream",
     "text": [
      "버블 정렬을 수행합니다.\n",
      "원소 수를 입력하세요.: 7\n",
      "x[0]: 6\n",
      "x[1]: 4\n",
      "x[2]: 3\n",
      "x[3]: 7\n",
      "x[4]: 1\n",
      "x[5]: 9\n",
      "x[6]: 8\n",
      "패스 1\n",
      " 6  4  3  7  1  9 + 8\n",
      " 6  4  3  7  1 - 8  9\n",
      " 6  4  3  7 + 1  8  9\n",
      " 6  4  3 + 1  7  8  9\n",
      " 6  4 + 1  3  7  8  9\n",
      " 6 + 1  4  3  7  8  9\n",
      " 1  6  4  3  7  8  9\n",
      "패스 2\n",
      " 1  6  4  3  7  8 - 9\n",
      " 1  6  4  3  7 - 8  9\n",
      " 1  6  4  3 - 7  8  9\n",
      " 1  6  4 + 3  7  8  9\n",
      " 1  6 + 3  4  7  8  9\n",
      " 1  3  6  4  7  8  9\n",
      "패스 3\n",
      " 1  3  6  4  7  8 - 9\n",
      " 1  3  6  4  7 - 8  9\n",
      " 1  3  6  4 - 7  8  9\n",
      " 1  3  6 + 4  7  8  9\n",
      " 1  3  4  6  7  8  9\n",
      "패스 4\n",
      " 1  3  4  6  7  8 - 9\n",
      " 1  3  4  6  7 - 8  9\n",
      " 1  3  4  6 - 7  8  9\n",
      " 1  3  4  6  7  8  9\n",
      "패스 5\n",
      " 1  3  4  6  7  8 - 9\n",
      " 1  3  4  6  7 - 8  9\n",
      " 1  3  4  6  7  8  9\n",
      "패스 6\n",
      " 1  3  4  6  7  8 - 9\n",
      " 1  3  4  6  7  8  9\n",
      "비교를 21번 했습니다.\n",
      "교환을 8번 했습니다.\n",
      "오름차순으로 정렬했습니다.\n",
      "x[0] = 1\n",
      "x[1] = 3\n",
      "x[2] = 4\n",
      "x[3] = 6\n",
      "x[4] = 7\n",
      "x[5] = 8\n",
      "x[6] = 9\n"
     ]
    }
   ],
   "source": [
    "# 버블 정렬 알고리즘 구현하기(정렬 과정을 출력)\n",
    "\n",
    "from typing import MutableSequence\n",
    "\n",
    "def bubble_sort_verbose(a: MutableSequence) -> None:\n",
    "    \"\"\" 버블 정렬(정렬 과정을 출력)\"\"\"\n",
    "    ccnt = 0 # 비교횟수\n",
    "    scnt = 0 # 교환횟수\n",
    "    n = len(a)\n",
    "    for i in range(n - 1):\n",
    "        print(f'패스 {i + 1}')\n",
    "        for j in range(n - 1, i , - 1): \n",
    "            for m in range(0, n - 1):\n",
    "                print(f'{a[m]:2}' + (' ' if m != j - 1 else              # + 는 자리 바꿔야함( a[j -1 ] > a[j])\n",
    "                                     ' +' if a[j - 1] > a[j] else ' -'), end = '')    # - 는 a[j - 1] <= a[j] 이므로 바꿀필요 x\n",
    "            print(f'{a[n - 1]:2}')\n",
    "            ccnt += 1\n",
    "            if a[j - 1] > a[j]:\n",
    "                scnt += 1\n",
    "                a[j - 1], a[j] = a[j], a[j - 1]\n",
    "                    \n",
    "        for m in range(0, n - 1):\n",
    "            print(f'{a[m]:2}', end = ' ')\n",
    "        print(f'{a[n - 1]: 2}')\n",
    "    print(f'비교를 {ccnt}번 했습니다.')\n",
    "    print(f'교환을 {scnt}번 했습니다.')\n",
    "\n",
    "if __name__ == '__main__':\n",
    "    print('버블 정렬을 수행합니다.')\n",
    "    num = int(input('원소 수를 입력하세요.: '))\n",
    "    x = [None] * num # 원소 수가 num인 배열 생성\n",
    "    \n",
    "    for i in range(num):\n",
    "        x[i] = int(input(f'x[{i}]: '))\n",
    "                         \n",
    "    bubble_sort_verbose(x)\n",
    "    print('오름차순으로 정렬했습니다.')\n",
    "    for i in range(num):\n",
    "        print(f'x[{i}] = {x[i]}')"
   ]
  },
  {
   "cell_type": "markdown",
   "metadata": {},
   "source": [
    "### 알고리즘 개선 1\n",
    "\n",
    "이미 패스에서 한번도 원소 교환이 발생하지 않으면 이전 패스에서 모든 정렬이 완료된것임.\n",
    "그렇다면 그 이후의 패스에서도 당연히 원소소 교환을 할 필요가 없음.\n",
    "\n",
    "-> 어떤 패스의 원소 교환 횟수가 0회이면 모든 원소가 정렬 완료 이므로 그 이후의 패스는 불필요, 정렬을 중단함.\n",
    "\n",
    "새로 추가한 변수 exchng를 패스가 시작할때 마다 0으로 초기화하고 원소를 교환할떄마다 1씩 증가함.\n",
    "패스를 종료했을때 exchng 값이 0이면 그 패스에선 정렬이 발생하지 않은 것임으로\n",
    "break를 통해 for문을 탈출하고 함수 실행을 종료함"
   ]
  },
  {
   "cell_type": "code",
   "execution_count": 4,
   "metadata": {},
   "outputs": [
    {
     "name": "stdout",
     "output_type": "stream",
     "text": [
      "버블 정렬을 수행합니다\n",
      "원소 수를 입력하세요.: 7\n",
      "x[0]: 6\n",
      "x[1]: 4\n",
      "x[2]: 3\n",
      "x[3]: 7\n",
      "x[4]: 1\n",
      "x[5]: 9\n",
      "x[6]: 8\n",
      "패스 1\n",
      " 6   4   3   7   1   9 + 8\n",
      " 6   4   3   7   1 - 8   9\n",
      " 6   4   3   7 + 1   8   9\n",
      " 6   4   3 + 1   7   8   9\n",
      " 6   4 + 1   3   7   8   9\n",
      " 6 + 1   4   3   7   8   9\n",
      " 1   6   4   3   7   8   9\n",
      "패스 2\n",
      " 1   6   4   3   7   8 - 9\n",
      " 1   6   4   3   7 - 8   9\n",
      " 1   6   4   3 - 7   8   9\n",
      " 1   6   4 + 3   7   8   9\n",
      " 1   6 + 3   4   7   8   9\n",
      " 1   3   6   4   7   8   9\n",
      "패스 3\n",
      " 1   3   6   4   7   8 - 9\n",
      " 1   3   6   4   7 - 8   9\n",
      " 1   3   6   4 - 7   8   9\n",
      " 1   3   6 + 4   7   8   9\n",
      " 1   3   4   6   7   8   9\n",
      "패스 4\n",
      " 1   3   4   6   7   8 - 9\n",
      " 1   3   4   6   7 - 8   9\n",
      " 1   3   4   6 - 7   8   9\n",
      " 1   3   4   6   7   8   9\n",
      "비교를 18번 했습니다.\n",
      "교환을 8번 했습니다.\n",
      "오름차순으로 정렬했습니다.\n",
      "x[0] = 1\n",
      "x[1] = 3\n",
      "x[2] = 4\n",
      "x[3] = 6\n",
      "x[4] = 7\n",
      "x[5] = 8\n",
      "x[6] = 9\n"
     ]
    }
   ],
   "source": [
    "# 버블 정렬 알고리즘 구현하기(알고리즘 개선 )\n",
    "from typing import MutableSequence\n",
    "\n",
    "def bubble_sort2_verbose(a: MutableSequence) -> None:\n",
    "    \"\"\"버블 정렬(교환 횟수에 따른 중단)\"\"\"\n",
    "    ccnt = 0  # 비교 횟수\n",
    "    scnt = 0  # 교환 횟수\n",
    "    n = len(a)\n",
    "    for i in range(n - 1):\n",
    "        print(f\"패스 {i + 1}\")\n",
    "        exchng = 0  # 패스에서의 교환 횟수\n",
    "        for j in range(n - 1, i, -1):\n",
    "            for m in range(0, n - 1):\n",
    "                print(\n",
    "                    f\"{a[m]:2}\"\n",
    "                    + (\"  \" if m != j - 1 else \" +\" if a[j - 1] > a[j] else \" -\"),\n",
    "                    end=\"\",\n",
    "                )\n",
    "            print(f\"{a[n - 1]:2}\")\n",
    "            ccnt += 1\n",
    "            if a[j - 1] > a[j]:\n",
    "                scnt += 1\n",
    "                a[j - 1], a[j] = a[j], a[j - 1]\n",
    "                exchng += 1\n",
    "        for m in range(0, n - 1):\n",
    "            print(f\"{a[m]:2}\", end=\"  \")\n",
    "        print(f\"{a[n - 1]:2}\")\n",
    "        if exchng == 0:  # 교환이 수행되지 않았으면 작업을 중단\n",
    "            break\n",
    "    print(f\"비교를 {ccnt}번 했습니다.\")\n",
    "    print(f\"교환을 {scnt}번 했습니다.\")\n",
    "\n",
    "if __name__ == \"__main__\":\n",
    "    print(\"버블 정렬을 수행합니다\")\n",
    "    num = int(input(\"원소 수를 입력하세요.: \"))\n",
    "    x = [None] * num        # 원소 수가 num인 배열을 생성\n",
    "\n",
    "    for i in range(num):\n",
    "        x[i] = int(input(f\"x[{i}]: \"))\n",
    "\n",
    "    bubble_sort2_verbose(x)  # 배열 x를 버블 정렬\n",
    "\n",
    "    print(\"오름차순으로 정렬했습니다.\")\n",
    "    for i in range(num):\n",
    "        print(f\"x[{i}] = {x[i]}\")"
   ]
  },
  {
   "cell_type": "markdown",
   "metadata": {},
   "source": [
    "### 알고리즘 개선 2 \n",
    "\n",
    "지금은 완전하게 정렬이 끝났을때 정렬을 정지했지만\n",
    "\n",
    "사실은 특정한 원소 이후에 교환하지 않으면  그 앞의 원소는 이미 정렬을 마쳤다고 볼 수 도 있음.\n",
    "\n"
   ]
  },
  {
   "cell_type": "code",
   "execution_count": 3,
   "metadata": {},
   "outputs": [
    {
     "name": "stdout",
     "output_type": "stream",
     "text": [
      "버블 정렬을 합니다.\n",
      "원소수를 입력하세요.: 7\n",
      "x[0] : 1\n",
      "x[1] : 3\n",
      "x[2] : 9\n",
      "x[3] : 4\n",
      "x[4] : 7\n",
      "x[5] : 8\n",
      "x[6] : 6\n",
      "오름차순으로 정렬했습니다.\n",
      "x[0] = 1\n",
      "x[1] = 3\n",
      "x[2] = 4\n",
      "x[3] = 6\n",
      "x[4] = 7\n",
      "x[5] = 8\n",
      "x[6] = 9\n"
     ]
    }
   ],
   "source": [
    "# 버블 정렬 알고리즘 구현하기(알고리즘의 개선 2)\n",
    "\n",
    "from typing import MutableSequence\n",
    "\n",
    "def bubble_sort(a: MutableSequence) -> None:\n",
    "    \"\"\"버블 정렬(스캔 범위를 제한)\"\"\"\n",
    "    n = len(a)\n",
    "    k = 0\n",
    "    while k < n - 1:\n",
    "        last = n - 1\n",
    "        for j in range(n - 1, k, - 1):\n",
    "            if a[j - 1] > a[j]:\n",
    "                a[j - 1], a[j] = a[j], a[j-1]\n",
    "                last = j\n",
    "        k = last\n",
    "if __name__ == '__main__':\n",
    "    print('버블 정렬을 합니다.')\n",
    "    num = int(input('원소수를 입력하세요.: '))\n",
    "    x = [None] * num    # 원솟수 num인 배열을 생성\n",
    "\n",
    "    for i in range(num):\n",
    "        x[i] = int(input(f'x[{i}] : '))\n",
    "\n",
    "    bubble_sort(x)      # 배열 x를 버블 정렬\n",
    "\n",
    "    print('오름차순으로 정렬했습니다.')\n",
    "    for i in range(num):\n",
    "        print(f'x[{i}] = {x[i]}')"
   ]
  },
  {
   "cell_type": "markdown",
   "metadata": {},
   "source": [
    "새로운 변수 last는 각 패스에서 마지막으로 교환한 두 원소 중 뒷쪽 원소인 a[j] 인덱스를 저장함.\n",
    "\n",
    "그리고 교환할때마다 오른쪽 원소의 인덱스 값을 last에 대입함.\n",
    "\n",
    "하나의 패스를 마치면 last의 값을 k에 대입하여 다음 차례의 패스의 스캔 범위를 뒤에서 a[k] 까지로 제한함.\n",
    "\n"
   ]
  },
  {
   "cell_type": "code",
   "execution_count": 4,
   "metadata": {},
   "outputs": [
    {
     "name": "stdout",
     "output_type": "stream",
     "text": [
      "버블 정렬을 수행합니다\n",
      "원소 수를 입력하세요.: 7\n",
      "x[0] : 1\n",
      "x[1] : 3\n",
      "x[2] : 9\n",
      "x[3] : 4\n",
      "x[4] : 7\n",
      "x[5] : 8\n",
      "x[6] : 6\n",
      "패스 1\n",
      " 1   3   9   4   7   8 + 6\n",
      " 1   3   9   4   7 + 6   8\n",
      " 1   3   9   4 - 6   7   8\n",
      " 1   3   9 + 4   6   7   8\n",
      " 1   3 - 4   9   6   7   8\n",
      " 1 - 3   4   9   6   7   8\n",
      " 1   3   4   9   6   7   8\n",
      "패스 2\n",
      " 1   3   4   9   6   7 - 8\n",
      " 1   3   4   9   6 - 7   8\n",
      " 1   3   4   9 + 6   7   8\n",
      " 1   3   4   6   9   7   8\n",
      "패스 3\n",
      " 1   3   4   6   9   7 - 8\n",
      " 1   3   4   6   9 + 7   8\n",
      " 1   3   4   6   7   9   8\n",
      "패스 4\n",
      " 1   3   4   6   7   9 + 8\n",
      " 1   3   4   6   7   8   9\n",
      "비교를 12번 했습니다.\n",
      "교환을 6번 했습니다.\n",
      "오름차순으로 정렬했습니다.\n",
      "x[0] = 1\n",
      "x[1] = 3\n",
      "x[2] = 4\n",
      "x[3] = 6\n",
      "x[4] = 7\n",
      "x[5] = 8\n",
      "x[6] = 9\n"
     ]
    }
   ],
   "source": [
    "# [Do it! 실습 6-4] 버블 정렬 알고리즘 구현하기(알고리즘의 개선 2) - 정렬 과정을 출력\n",
    "\n",
    "from typing import MutableSequence\n",
    "\n",
    "def bubble_sort3_verbose(a: MutableSequence) -> None:\n",
    "    \"\"\"버블 정렬(스캔 범위를 제한)\"\"\"\n",
    "    ccnt = 0  # 비교 횟수\n",
    "    scnt = 0  # 교환 횟수\n",
    "    n = len(a)\n",
    "    k = 0\n",
    "    i = 0\n",
    "    while k < n - 1:\n",
    "        print(f'패스 {i + 1}')\n",
    "        i += 1\n",
    "        last = n - 1\n",
    "        for j in range(n - 1, k, -1):\n",
    "            for m in range(0, n - 1):\n",
    "               print(f'{a[m]:2}' + ('  ' if m != j - 1 else\n",
    "                                    ' +' if a[j - 1] > a[j] else ' -'),\n",
    "                     end='')\n",
    "            print(f'{a[n - 1]:2}')\n",
    "            ccnt += 1\n",
    "            if a[j - 1] > a[j]:\n",
    "                scnt += 1\n",
    "                a[j - 1], a[j] = a[j], a[j - 1]\n",
    "                last = j\n",
    "        k = last\n",
    "        for m in range(0, n - 1):\n",
    "           print(f'{a[m]:2}', end='  ')\n",
    "        print(f'{a[n - 1]:2}')\n",
    "    print(f'비교를 {ccnt}번 했습니다.')\n",
    "    print(f'교환을 {scnt}번 했습니다.')\n",
    "\n",
    "if __name__ == '__main__':\n",
    "    print('버블 정렬을 수행합니다')\n",
    "    num = int(input('원소 수를 입력하세요.: '))\n",
    "    x = [None] * num  # 원소 수 num인 배열을 생성\n",
    "\n",
    "    for i in range(num):\n",
    "        x[i] = int(input(f'x[{i}] : '))\n",
    "\n",
    "    bubble_sort3_verbose(x)  # 배열 x를 버블\n",
    "\n",
    "    print('오름차순으로 정렬했습니다.')\n",
    "    for i in range(num):\n",
    "        print(f'x[{i}] = {x[i]}')"
   ]
  },
  {
   "cell_type": "markdown",
   "metadata": {},
   "source": [
    "### 실행 결과 비교하기\n",
    "\n",
    "점점 알고리즘을 보완할 수록 속도가 빨라짐을 확인할 수 있음.       \n",
    "이렇게 보완하는건 다른 방법에서도 활용가능"
   ]
  },
  {
   "cell_type": "markdown",
   "metadata": {},
   "source": [
    "### 셰이커 정렬 알아보기\n",
    "\n",
    "9,1,3,4,6,7,8\n",
    "\n",
    "거의 정렬이 완료된 배열이지만 9가 패스마다 한 칸 씩 뒤로 이동해야해서 지금까지의 알고리즘으론 느림.\n",
    "\n",
    "9를 빠르게 맨 뒤로 이동 시키면 작업속도가 훨씬 빨라질 것임\n",
    "\n",
    "홀수 패스에선 가장 작은 원소를 맨앞으로, 짝수 패스에서는 가장 큰 수를 맨 뒤로 이동시켜 \n",
    "\n",
    "패스의 스캔 방향을 번갈아 바꿔보면 더 적은 비교 횟수로 정렬이 가능함."
   ]
  },
  {
   "cell_type": "code",
   "execution_count": 5,
   "metadata": {},
   "outputs": [
    {
     "name": "stdout",
     "output_type": "stream",
     "text": [
      "쉐이커 정렬을 수행합니다\n",
      "원소 수를 입력하세요.: 7\n",
      "x[0] : 9\n",
      "x[1] : 1\n",
      "x[2] : 3\n",
      "x[3] : 4\n",
      "x[4] : 6\n",
      "x[5] : 7\n",
      "x[6] : 8\n",
      "오름차순으로 정렬했습니다.\n",
      "x[0] = 1\n",
      "x[1] = 3\n",
      "x[2] = 4\n",
      "x[3] = 6\n",
      "x[4] = 7\n",
      "x[5] = 8\n",
      "x[6] = 9\n"
     ]
    }
   ],
   "source": [
    "# 셰이커 정렬 알고리즘 구현하기\n",
    "\n",
    "from typing import MutableSequence\n",
    "\n",
    "def shaker_sort(a: MutableSequence) -> None:\n",
    "    \"\"\" 셰이커 정렬 \"\"\"\n",
    "    left = 0 \n",
    "    right = len(a) - 1 \n",
    "    last = right\n",
    "    while left < right:\n",
    "        for j in range(right, left, - 1):\n",
    "            if a[j - 1] > a[j]:\n",
    "                a[j - 1], a[j] = a[j], a[j - 1]\n",
    "                last = j\n",
    "        left = last\n",
    "        \n",
    "        for j in range(left, right):\n",
    "            if a[j] > a[j + 1]:\n",
    "                a[j], a[j + 1]  = a[j + 1], a[j]\n",
    "                last = j \n",
    "                \n",
    "        right = last\n",
    "\n",
    "if __name__ == '__main__':\n",
    "    print('쉐이커 정렬을 수행합니다')\n",
    "    num = int(input('원소 수를 입력하세요.: '))\n",
    "    x = [None] * num  # 원소 수 num인 배열을 생성\n",
    "\n",
    "    for i in range(num):\n",
    "        x[i] = int(input(f'x[{i}] : '))\n",
    "\n",
    "    shaker_sort(x)  # 배열 x를 버블\n",
    "\n",
    "    print('오름차순으로 정렬했습니다.')\n",
    "    for i in range(num):\n",
    "        print(f'x[{i}] = {x[i]}')"
   ]
  },
  {
   "cell_type": "markdown",
   "metadata": {},
   "source": [
    "while안에 for문을 2개 넣어 첫 for문은  이전의 버블 정렬과 똑같음. 맨뒤에서 맨앞으로\n",
    "\n",
    "두번째 for무은 워소를 맨 앞에서 맨뒤로 스캔함.\n",
    "\n",
    "left는 스캔 범위의 첫 원소 인덱스\n",
    "\n",
    "right는 스캔 범위의 마지막 원소 인덱스\n"
   ]
  },
  {
   "cell_type": "code",
   "execution_count": 2,
   "metadata": {},
   "outputs": [
    {
     "name": "stdout",
     "output_type": "stream",
     "text": [
      "셰이커 정렬을 수행합니다.\n",
      "원소 수를 입력하세요.: 7\n",
      "x[0] : 9\n",
      "x[1] : 1\n",
      "x[2] : 3\n",
      "x[3] : 4\n",
      "x[4] : 6\n",
      "x[5] : 7\n",
      "x[6] : 8\n",
      "패스1\n",
      " 9   1   3   4   6   7 - 8\n",
      " 9   1   3   4   6 - 7   8\n",
      " 9   1   3   4 - 6   7   8\n",
      " 9   1   3 - 4   6   7   8\n",
      " 9   1 - 3   4   6   7   8\n",
      " 9 + 1   3   4   6   7   8\n",
      " 1   9   3   4   6   7   8\n",
      "패스 2\n",
      " 1   9 + 3   4   6   7   8\n",
      " 1   3   9 + 4   6   7   8\n",
      " 1   3   4   9 + 6   7   8\n",
      " 1   3   4   6   9 + 7   8\n",
      " 1   3   4   6   7   9 + 8\n",
      " 1   3   4   6   7   8   9\n",
      "패스3\n",
      " 1   3   4   6   7 - 8   9\n",
      " 1   3   4   6 - 7   8   9\n",
      " 1   3   4 - 6   7   8   9\n",
      " 1   3 - 4   6   7   8   9\n",
      " 1   3   4   6   7   8   9\n",
      "비교를 10번 했습니다.\n",
      "교환을 6번 했습니다.\n",
      "오름차순으로 정렬했습니다.\n",
      "x[0] = 1\n",
      "x[1] = 3\n",
      "x[2] = 4\n",
      "x[3] = 6\n",
      "x[4] = 7\n",
      "x[5] = 8\n",
      "x[6] = 9\n"
     ]
    }
   ],
   "source": [
    "# [Do it! 실습 6-5] 셰이커 정렬 알고리즘 구현하기(정렬 과정을 출력)\n",
    "\n",
    "from typing import MutableSequence\n",
    "\n",
    "def shaker_sort_verbose(a: MutableSequence) -> None:\n",
    "    \"\"\"\"셰이커 정렬(정렬 과정을 출력)\"\"\"\n",
    "    ccnt = 0  # 비교 횟수\n",
    "    scnt = 0  # 교환 횟수\n",
    "    left = 0\n",
    "    n = len(a)\n",
    "    right = len(a) - 1\n",
    "    last = right\n",
    "    i = 0\n",
    "    while left < right:\n",
    "        print(f'패스{i + 1}')\n",
    "        i += 1\n",
    "        for j in range(right, left, -1):\n",
    "            for m in range(0, n - 1):\n",
    "               print(f'{a[m]:2}' + ('  ' if m != j - 1 else\n",
    "                                    ' +' if a[j - 1] > a[j] else ' -'),\n",
    "                     end='')\n",
    "            print(f'{a[n - 1]:2}')\n",
    "            ccnt += 1\n",
    "            if a[j - 1] > a[j]:\n",
    "                scnt += 1\n",
    "                a[j - 1], a[j] = a[j], a[j - 1]\n",
    "                last = j\n",
    "        left = last\n",
    "        for m in range(0, n - 1):\n",
    "           print(f'{a[m]:2}', end='  ')\n",
    "        print(f'{a[n - 1]:2}')\n",
    "\n",
    "        if (left == right):\n",
    "             break\n",
    "        print(f'패스 {i + 1}')\n",
    "        i += 1\n",
    "        for j in range(left, right):\n",
    "            for m in range(0, n - 1):\n",
    "               print(f'{a[m]:2}' + ('  ' if m != j else\n",
    "                                    ' +' if a[j] > a[j + 1] else ' -'),\n",
    "                     end='')\n",
    "            print(f'{a[n - 1]:2}')\n",
    "            if a[j] > a[j + 1]:\n",
    "                scnt += 1\n",
    "                a[j], a[j + 1] = a[j + 1], a[j]\n",
    "                last = j\n",
    "        right = last\n",
    "        for m in range(0, n - 1):\n",
    "           print(f'{a[m]:2}', end='  ')\n",
    "        print(f'{a[n - 1]:2}')\n",
    "    print(f'비교를 {ccnt}번 했습니다.')\n",
    "    print(f'교환을 {scnt}번 했습니다.')\n",
    "\n",
    "if __name__ == '__main__':\n",
    "    print('셰이커 정렬을 수행합니다.')\n",
    "    num = int(input('원소 수를 입력하세요.: '))\n",
    "    x = [None] * num  # 원소 수 num인 배열을 생성\n",
    "\n",
    "    for i in range(num):\n",
    "        x[i] = int(input(f'x[{i}] : '))\n",
    "\n",
    "    shaker_sort_verbose(x)  # 배열 x를 단순 교환 정렬\n",
    "\n",
    "    print('오름차순으로 정렬했습니다.')\n",
    "    for i in range(num):\n",
    "        print(f'x[{i}] = {x[i]}')"
   ]
  },
  {
   "cell_type": "markdown",
   "metadata": {},
   "source": [
    "#### 보충 수업 6-1 산술 연산 내장함수\n",
    "\n",
    "|함수|설명|\n",
    "|:--|:--|\n",
    "|abs(x)|x의 절대값 반환|\n",
    "|bool(x)|x의 논릿값(True, False) 반환|\n",
    "|complex(real, imag)| real + imag * 1j 인 복소수를 반환, 혹은 문자열 또는 수를 복소수로 변환한 값을 반환합니다. imag를 생략하면 real + 0j를, real, imag를 둘다 생략하면 0j를 반환합니다. |\n",
    "|divmod(a,b)| a를 b로 나눴을떄의 몫과 나머지로 구성된 튜플 반환|\n",
    "|float(x)|문자열 또는 수로 입력받은 x를 부동 소수점 수로 변환하여 반환, x를 생략하면 0.0 반환|\n",
    "|hex(x)|정숫값 x의 16진수 문자열 반환|\n",
    "|int(x,base)|x를 int형 정수로 변환한값을 반환, base는 0~36의 범위에서 진수를 나타냄, 디폴트는 10진법|\n",
    "|max(args1, ars2,...)|인수의 최댓값 반환|\n",
    "|min(args1, ars2,...)|인수의 최솟값 반환|\n",
    "|oct(x)|정숫값 x에 해당하는 8진수 문자열을 반환|\n",
    "|pow(x,y,z)| x의 y제곱 (x ** y)을 반환함, z를 입력하면 x의 y제곱을 z로 나누었을때의 나머지를 반환, pow(x,y) % z 보다 효율적|\n",
    "|round(n,ndigits)|n의소수부분을 ndigits 자릿수가 되도록 반올림한 값을 반환함. ndigits가 None이거나 생략한 경우 반올림함|\n",
    "|sum(x, start)|x의 원솟값을 처음부터 끝까지 순서대로 더한 총합에 start 값을 더하여 반환함. start의 디폴트는 0|"
   ]
  },
  {
   "cell_type": "code",
   "execution_count": 1,
   "metadata": {},
   "outputs": [
    {
     "data": {
      "text/plain": [
       "192.0"
      ]
     },
     "execution_count": 1,
     "metadata": {},
     "output_type": "execute_result"
    }
   ],
   "source": [
    "float(192)"
   ]
  },
  {
   "cell_type": "code",
   "execution_count": 2,
   "metadata": {},
   "outputs": [
    {
     "data": {
      "text/plain": [
       "'0x11'"
      ]
     },
     "execution_count": 2,
     "metadata": {},
     "output_type": "execute_result"
    }
   ],
   "source": [
    "hex(17)"
   ]
  },
  {
   "cell_type": "code",
   "execution_count": 3,
   "metadata": {},
   "outputs": [
    {
     "data": {
      "text/plain": [
       "'0o11'"
      ]
     },
     "execution_count": 3,
     "metadata": {},
     "output_type": "execute_result"
    }
   ],
   "source": [
    "oct(9)"
   ]
  },
  {
   "cell_type": "code",
   "execution_count": 7,
   "metadata": {},
   "outputs": [
    {
     "name": "stdout",
     "output_type": "stream",
     "text": [
      "15\n"
     ]
    },
    {
     "data": {
      "text/plain": [
       "16"
      ]
     },
     "execution_count": 7,
     "metadata": {},
     "output_type": "execute_result"
    }
   ],
   "source": [
    "print(sum([1,2,3,4,5]))\n",
    "sum([1,2,3,4,5],1)\n"
   ]
  },
  {
   "cell_type": "markdown",
   "metadata": {},
   "source": [
    "# 단순 선택 정렬\n",
    "\n",
    "![ex_screenshot](./image/파일_004.png)\n"
   ]
  },
  {
   "cell_type": "code",
   "execution_count": 3,
   "metadata": {},
   "outputs": [
    {
     "name": "stdout",
     "output_type": "stream",
     "text": [
      "단순 선택 정렬을 수행합니다.\n",
      "원소 수를 입력하세요.: 7\n",
      "x[0] : 6\n",
      "x[1] : 4\n",
      "x[2] : 8\n",
      "x[3] : 3\n",
      "x[4] : 1\n",
      "x[5] : 9\n",
      "x[6] : 7\n",
      "오름차순으로 정렬했습니다.\n",
      "x[0] = 1\n",
      "x[1] = 3\n",
      "x[2] = 4\n",
      "x[3] = 6\n",
      "x[4] = 7\n",
      "x[5] = 8\n",
      "x[6] = 9\n"
     ]
    }
   ],
   "source": [
    "# [Do it! 실습 6-6] 단순 선택 정렬 알고리즘 구현\n",
    "\n",
    "from typing import MutableSequence\n",
    "\n",
    "def selection_sort(a: MutableSequence) -> None:\n",
    "    \"\"\"단순 선택 정렬\"\"\"\n",
    "    n = len(a)\n",
    "    for i in range(n - 1):\n",
    "        min = i  # 정렬 할 부분에서 가장 작은 원소의 인덱스\n",
    "        for j in range(i + 1, n):\n",
    "            if a[j] < a[min]:\n",
    "                min = j\n",
    "        a[i], a[min] = a[min], a[i]  # 정렬 할 부분에서 맨 앞의 원소와 가장 작은 원소를 교환 \n",
    "\n",
    "if __name__ == '__main__':\n",
    "    print('단순 선택 정렬을 수행합니다.')\n",
    "    num = int(input('원소 수를 입력하세요.: '))\n",
    "    x = [None] * num  # 원소 수가 num인 배열을 생성\n",
    "\n",
    "    for i in range(num):\n",
    "        x[i] = int(input(f'x[{i}] : '))\n",
    "\n",
    "    selection_sort(x)  # 배열 x를 단순 선택 정렬\n",
    "\n",
    "    print('오름차순으로 정렬했습니다.')\n",
    "    for i in range(num):\n",
    "        print(f'x[{i}] = {x[i]}')"
   ]
  },
  {
   "cell_type": "markdown",
   "metadata": {},
   "source": [
    "# 단순 삽입 정렬\n",
    "\n",
    "![ex_screenshot](./image/파일_005.png)\n"
   ]
  },
  {
   "cell_type": "code",
   "execution_count": 4,
   "metadata": {},
   "outputs": [
    {
     "name": "stdout",
     "output_type": "stream",
     "text": [
      "단순 삽입 정렬을 수행합니다.\n",
      "원소 수를 입력하세요.: 7\n",
      "x[0]: 6\n",
      "x[1]: 4\n",
      "x[2]: 3\n",
      "x[3]: 7\n",
      "x[4]: 1\n",
      "x[5]: 9\n",
      "x[6]: 8\n",
      "오름차순으로 정렬했습니다.\n",
      "x[0] = 1\n",
      "x[1] = 3\n",
      "x[2] = 4\n",
      "x[3] = 6\n",
      "x[4] = 7\n",
      "x[5] = 8\n",
      "x[6] = 9\n"
     ]
    }
   ],
   "source": [
    "# [Do it! 실습 6-7] 단순 삽입 정렬 알고리즘 구현하기\n",
    "\n",
    "from typing import MutableSequence\n",
    "\n",
    "def insertion_sort(a: MutableSequence) -> None:\n",
    "    \"\"\"단순 삽입 정렬\"\"\"\n",
    "    n = len(a)\n",
    "    for i in range(1, n):\n",
    "        j = i\n",
    "        tmp = a[i]\n",
    "        while j > 0 and a[j - 1] > tmp:\n",
    "            a[j] = a[j - 1]\n",
    "            j -= 1\n",
    "        a[j] = tmp\n",
    "\n",
    "if __name__ == '__main__':\n",
    "    print('단순 삽입 정렬을 수행합니다.')\n",
    "    num = int(input('원소 수를 입력하세요.: '))\n",
    "    x = [None] * num  # 원소 수가 num인 배열을 생성\n",
    "\n",
    "    for i in range(num):\n",
    "        x[i] = int(input(f'x[{i}]: '))\n",
    "\n",
    "    insertion_sort(x)  # 배열 x를 단순 삽입 정렬\n",
    "\n",
    "    print('오름차순으로 정렬했습니다.')\n",
    "    for i in range(num):\n",
    "        print(f'x[{i}] = {x[i]}')"
   ]
  },
  {
   "cell_type": "markdown",
   "metadata": {},
   "source": [
    "## 이진삽입 정렬\n",
    "\n",
    "정렬을 마친 배열에서 맞는 위치를 찾을때 이진 검색을 통해 찾으면 더 효율적으로  찾기 가능"
   ]
  },
  {
   "cell_type": "code",
   "execution_count": 5,
   "metadata": {},
   "outputs": [
    {
     "name": "stdout",
     "output_type": "stream",
     "text": [
      "이진 삽입 정렬을 수행합니다.\n",
      "원소 수를 입력하세요.: 7\n",
      "x[0]: 6\n",
      "x[1]: 4\n",
      "x[2]: 3\n",
      "x[3]: 7\n",
      "x[4]: 1\n",
      "x[5]: 9\n",
      "x[6]: 8\n",
      "오름차순으로 정렬했습니다.\n",
      "x[0] = 1\n",
      "x[1] = 3\n",
      "x[2] = 4\n",
      "x[3] = 6\n",
      "x[4] = 7\n",
      "x[5] = 8\n",
      "x[6] = 9\n"
     ]
    }
   ],
   "source": [
    "# [Do it! 실습 6C-1] 이진 삽입 정렬 알고리즘 구현하기\n",
    "\n",
    "from typing import MutableSequence\n",
    "\n",
    "def binary_insertion_sort(a: MutableSequence) -> None:\n",
    "    \"\"\"이진 삽입 정렬\"\"\"\n",
    "    n = len(a)\n",
    "    for i in range(1, n):\n",
    "        key = a[i]\n",
    "        pl = 0      # 검색 범위의 맨 앞 원소 인덱스\n",
    "        pr = i - 1  # 검색 범위의 맨 끝 원소 인덱스\n",
    "\n",
    "        while True:\n",
    "            pc = (pl + pr) // 2  # 검색 범위의 중앙 원소 인덱스\n",
    "            if a[pc] == key:     # 검색 성공\n",
    "                break\n",
    "            elif a[pc] < key:\n",
    "                pl = pc + 1\n",
    "            else:\n",
    "                pr = pc - 1\n",
    "            if pl > pr:\n",
    "                break\n",
    "    \n",
    "        pd = pc + 1 if pl <= pr else pr + 1  # 삽입할 위치의 인덱스\n",
    "\n",
    "        for j in range(i, pd, -1):\n",
    "            a[j] = a[j - 1]\n",
    "        a[pd] = key\n",
    "\n",
    "if __name__ == \"__main__\":\n",
    "    print(\"이진 삽입 정렬을 수행합니다.\")\n",
    "    num = int(input(\"원소 수를 입력하세요.: \"))\n",
    "    x = [None] * num          # 원소 수가 num인 배열을 생성\n",
    "\n",
    "    for i in range(num):\n",
    "        x[i] = int(input(f\"x[{i}]: \"))\n",
    "\n",
    "    binary_insertion_sort(x)  # 배열 x를 이진 삽입 정렬\n",
    "\n",
    "    print(\"오름차순으로 정렬했습니다.\")\n",
    "    for i in range(num):\n",
    "        print(f\"x[{i}] = {x[i]}\")"
   ]
  },
  {
   "cell_type": "markdown",
   "metadata": {},
   "source": [
    "지금 까지 단순 정렬들의 시간복잡들은 모두 빅-오(n^2)으로 효율이 좋지않음."
   ]
  },
  {
   "cell_type": "markdown",
   "metadata": {},
   "source": [
    "# 셸 정렬\n",
    "\n",
    "![ex_screenshot](./image/파일_006.png)\n"
   ]
  },
  {
   "cell_type": "code",
   "execution_count": 6,
   "metadata": {},
   "outputs": [
    {
     "name": "stdout",
     "output_type": "stream",
     "text": [
      "셸 정렬을 수행합니다.\n",
      "원소 수를 입력하세요.: 8\n",
      "x[0]: 8\n",
      "x[1]: 1\n",
      "x[2]: 4\n",
      "x[3]: 2\n",
      "x[4]: 7\n",
      "x[5]: 6\n",
      "x[6]: 3\n",
      "x[7]: 5\n",
      "오름차순으로 정렬했습니다.\n",
      "x[0] = 1\n",
      "x[1] = 2\n",
      "x[2] = 3\n",
      "x[3] = 4\n",
      "x[4] = 5\n",
      "x[5] = 6\n",
      "x[6] = 7\n",
      "x[7] = 8\n"
     ]
    }
   ],
   "source": [
    "# [Do it! 실습 6-8] 셸 정렬 알고리즘 구현하기\n",
    "\n",
    "from typing import MutableSequence\n",
    "\n",
    "def shell_sort(a: MutableSequence) -> None:\n",
    "    \"\"\"셸 정렬\"\"\"\n",
    "    n = len(a)\n",
    "    h = n // 2\n",
    "    while h > 0:\n",
    "        for i in range(h, n):\n",
    "            j = i - h\n",
    "            tmp = a[i]\n",
    "            while j >= 0 and a[j] > tmp:\n",
    "                a[j + h] = a[j]\n",
    "                j -= h\n",
    "            a[j + h] = tmp\n",
    "        h //= 2\n",
    "\n",
    "if __name__ == '__main__':\n",
    "    print('셸 정렬을 수행합니다.')\n",
    "    num = int(input('원소 수를 입력하세요.: '))\n",
    "    x = [None] * num  # 원소 수가 num인 배열을 생성\n",
    "\n",
    "    for i in range(num):\n",
    "        x[i] = int(input(f'x[{i}]: '))\n",
    "\n",
    "    shell_sort(x)  # 배열 x를 셸 정렬\n",
    "\n",
    "    print('오름차순으로 정렬했습니다.')\n",
    "    for i in range(num):\n",
    "        print(f'x[{i}] = {x[i]}')"
   ]
  },
  {
   "cell_type": "markdown",
   "metadata": {},
   "source": [
    "## h 값 설정"
   ]
  },
  {
   "cell_type": "markdown",
   "metadata": {},
   "source": [
    "h가 너무 작으며 한 패스당 시간이 오래걸리며 너무 길면 overhead(간접적 비용)가 발생하고 여러 수열이 제안되어왔음\n",
    "\n",
    "[참고자료 위키디피아](https://en.wikipedia.org/wiki/Shellsort)\n",
    "\n",
    "대표적인것이\n",
    "\n",
    "...-121-40-13-4-1임. \n",
    "\n",
    "이는 거꾸로 봤을때 1부터 시작하고 3배를 더하고 1을 더하고 있음. 그러나 h가 너무 커도 효과가 없기에\n",
    "\n",
    "h < (n // 9) 라는 조건을 추가함"
   ]
  },
  {
   "cell_type": "code",
   "execution_count": 7,
   "metadata": {},
   "outputs": [
    {
     "name": "stdout",
     "output_type": "stream",
     "text": [
      "셸 정렬을 수행합니다(h * 3 + 1의 수열 사용).\n",
      "원소 수를 입력하세요.: 8\n",
      "x[0]: 8\n",
      "x[1]: 1\n",
      "x[2]: 4\n",
      "x[3]: 2\n",
      "x[4]: 7\n",
      "x[5]: 6\n",
      "x[6]: 3\n",
      "x[7]: 5\n",
      "오름차순으로 정렬했습니다.\n",
      "x[0] = 1\n",
      "x[1] = 2\n",
      "x[2] = 3\n",
      "x[3] = 4\n",
      "x[4] = 5\n",
      "x[5] = 6\n",
      "x[6] = 7\n",
      "x[7] = 8\n"
     ]
    }
   ],
   "source": [
    "# [Do it! 실습 6-9] 셸 정렬 알고리즘 구현하기(h * 3 + 1의 수열 사용)\n",
    "\n",
    "from typing import MutableSequence\n",
    "\n",
    "def shell_sort(a: MutableSequence) -> None:\n",
    "    \"\"\"셸 정렬(h * 3 + 1의 수열 사용)\"\"\"\n",
    "    n = len(a)\n",
    "    h = 1\n",
    "\n",
    "    while h < n // 9:\n",
    "        h = h * 3 + 1\n",
    "\n",
    "    while h > 0:\n",
    "        for i in range(h, n):\n",
    "            j = i - h\n",
    "            tmp = a[i]\n",
    "            while j >= 0 and a[j] > tmp:\n",
    "                a[j + h] = a[j]\n",
    "                j -= h\n",
    "            a[j + h] = tmp\n",
    "        h //= 3\n",
    "\n",
    "if __name__ == '__main__':\n",
    "    print('셸 정렬을 수행합니다(h * 3 + 1의 수열 사용).')\n",
    "    num = int(input('원소 수를 입력하세요.: '))\n",
    "    x = [None] * num  # 원소 수가 num인 배열을 생성\n",
    "\n",
    "    for i in range(num):\n",
    "        x[i] = int(input(f'x[{i}]: '))\n",
    "\n",
    "    shell_sort(x)  # 배열 x를 셸 정렬\n",
    "\n",
    "    print('오름차순으로 정렬했습니다.')\n",
    "    for i in range(num):\n",
    "        print(f'x[{i}] = {x[i]}')"
   ]
  },
  {
   "cell_type": "markdown",
   "metadata": {},
   "source": [
    "시간복잡도가 매우 빠르지만 안정적이지 않다는 단점이 존재함"
   ]
  },
  {
   "cell_type": "markdown",
   "metadata": {},
   "source": [
    "# 퀵 정렬\n",
    "\n",
    "은 교재에 있으므로 생략"
   ]
  },
  {
   "cell_type": "markdown",
   "metadata": {},
   "source": [
    "# 병합 정렬\n",
    "\n",
    "배열을 앞 부분과 뒷 부분으로 두 그룹으로 나누어 각각 정렬한 후 병합하는 작업을 반복하는 알고리즘\n",
    "\n",
    "## 정렬을 마친 배열의 병합\n",
    "\n",
    "이미 정렬을 마친 두 배열을 병합하는 과정부터 배워 봅시다.\n",
    "\n",
    "그림추가 "
   ]
  },
  {
   "cell_type": "code",
   "execution_count": 5,
   "metadata": {},
   "outputs": [],
   "source": [
    "def merge_sorted_list(a,b,c) -> None:\n",
    "    \"\"\" 정렬을 마친 배열 a와 b를 병합하여 c에 저장하기\"\"\"\n",
    "    \n",
    "    pa, pb, pc = 0, 0 , 0  # 각 배열의 커서 \n",
    "    na, nb , nc = len(a), len(b), len(c) # 각 배열의 원소 수 \n",
    "    \n",
    "    while pa < pb and pb < nb: # pa와 pb를 비교하여 작은 값을 pc에 저장 \n",
    "        if a[pa] <= b[pb]:\n",
    "            c[pb] = a[pa]\n",
    "            pa += 1\n",
    "        else:\n",
    "            c[pc] = b[pb]\n",
    "            pb += 1\n",
    "        pc += 1\n",
    "        \n",
    "    while pa < na:               # a에 남은 원소를 c에 복사 \n",
    "        c[pc] = a[pa]\n",
    "        pa += 1\n",
    "        pc += 1\n",
    "        \n",
    "    while pb < nb:              # b에 남은 원소를 c에 복사 \n",
    "        c[pc] = b[pb]\n",
    "        pb += 1\n",
    "        pc += 1 \n",
    "        "
   ]
  },
  {
   "cell_type": "code",
   "execution_count": 6,
   "metadata": {},
   "outputs": [
    {
     "name": "stdout",
     "output_type": "stream",
     "text": [
      "정렬을 마친 두 배열의 병합을 수행합니다.\n",
      "배열 a와 b를 병합하여 배열 c에 저장했습니다.\n",
      "배열 a: [2, 4, 6, 8, 11, 13]\n",
      "배열 b: [1, 2, 3, 4, 9, 16, 21]\n",
      "배열 c: [2, 4, 6, 8, 11, 13, 1, 2, 3, 4, 9, 16, 21]\n"
     ]
    }
   ],
   "source": [
    "a = [2, 4,6,8,11,13]\n",
    "b = [1,2,3,4,9,16,21]\n",
    "c = [None] * (len(a) + len(b))\n",
    "print('정렬을 마친 두 배열의 병합을 수행합니다.')\n",
    "merge_sorted_list(a,b,c)\n",
    "\n",
    "print('배열 a와 b를 병합하여 배열 c에 저장했습니다.')\n",
    "print(f'배열 a: {a}')\n",
    "print(f'배열 b: {b}')\n",
    "print(f'배열 c: {c}')"
   ]
  },
  {
   "cell_type": "markdown",
   "metadata": {},
   "source": [
    "#### sorted() 함수로 병합 정렬하기"
   ]
  },
  {
   "cell_type": "code",
   "execution_count": 13,
   "metadata": {},
   "outputs": [
    {
     "data": {
      "text/plain": [
       "[1, 2, 2, 3, 4, 4, 6, 8, 9, 11, 13, 16, 21]"
      ]
     },
     "execution_count": 13,
     "metadata": {},
     "output_type": "execute_result"
    }
   ],
   "source": [
    "c = list(sorted(a + b)) # a와 b를 연결하여 오름차순으로 정렬한걸 list로 변환해 c에 저장 \n",
    "c\n",
    "\n",
    "## a와 b가 정렬을 마친 상태가 아니여도 적용할 수 있다는 장점이 있지만.\n",
    "## 속도가 빠르지않다는 단점이 있음. 빠르게 하려면 heap 모듈의 merge() 사용 "
   ]
  },
  {
   "cell_type": "code",
   "execution_count": 12,
   "metadata": {},
   "outputs": [
    {
     "data": {
      "text/plain": [
       "[1, 2, 2, 3, 4, 4, 6, 8, 9, 11, 13, 16, 21]"
      ]
     },
     "execution_count": 12,
     "metadata": {},
     "output_type": "execute_result"
    }
   ],
   "source": [
    "import heapq\n",
    "\n",
    "a = [2, 4, 6, 8, 11 , 13]\n",
    "b = [1,2,3,4,9,16,21]\n",
    "c = list(heapq.merge(a,b))\n",
    "c"
   ]
  },
  {
   "cell_type": "markdown",
   "metadata": {},
   "source": [
    "## 병합 정렬 만들기\n",
    "\n",
    "위에서 한 정렬을 마친 배열의 병합을 응용하여 분할 정복법에 따라 정렬하는 알고리즘을 병합 정렬이라고 합니다.\n",
    "\n",
    "그림 추가 \n",
    "\n",
    "\n",
    "병합 정렬 알고리즘의 순서\n",
    "\n",
    "* 배열의 원소 수가 2개 이상인 경우\n",
    "    1. 배열의 앞부분을 병합 정렬로 정렬합니다. \n",
    "    2. 배열의 뒷부분을 병합 정렬로 정렬합니다.\n",
    "    3. 배열의 앞부분과 뒷부분을 병합합니다.\n",
    "    \n",
    "  "
   ]
  },
  {
   "cell_type": "code",
   "execution_count": 20,
   "metadata": {},
   "outputs": [],
   "source": [
    "def merge_sort(a):\n",
    "    \"\"\"병합 정렬\"\"\"\n",
    "    \n",
    "    def _merge_sort(a, left, right):\n",
    "        \"\"\" a[left] ~ a[rigth] 를 재귀적으로 병합 정렬\"\"\"\n",
    "        \n",
    "        if left < right:\n",
    "            center = (left + right ) // 2\n",
    "            \n",
    "            _merge_sort(a, left, center) # 배열 앞부분을 병합 정렬 \n",
    "            _merge_sort(a, center + 1, right) # 배열 뒷부분을 병합 정렬\n",
    "            \n",
    "            \n",
    "            p = j = 0\n",
    "            i = k = left\n",
    "            \n",
    "            while i <= center:\n",
    "                buff[p] = a[i]\n",
    "                p += 1\n",
    "                i += 1\n",
    "                \n",
    "            while i <= right and j < p:\n",
    "                if buff[j] <= a[i]:\n",
    "                    a[k] = buff[j]\n",
    "                    j += 1\n",
    "                else:\n",
    "                    a[k] = a[i]\n",
    "                    i += 1\n",
    "                k += 1 \n",
    "            \n",
    "            while j < p:\n",
    "                a[k] = buff[j]\n",
    "                k += 1\n",
    "                j += 1\n",
    "        \n",
    "    n = len(a)\n",
    "    buff = [None] * n             # 작업용 배열을 생성 \n",
    "    _merge_sort(a, 0 , n - 1)     # 배열 전체를 병합 정렬 \n",
    "    del buff"
   ]
  },
  {
   "cell_type": "code",
   "execution_count": 21,
   "metadata": {},
   "outputs": [
    {
     "name": "stdout",
     "output_type": "stream",
     "text": [
      "병합 정렬을 수행합니다.\n",
      "원소 수를 입력하세요.: 5\n",
      "x[0]: 19\n",
      "x[1]: 3\n",
      "x[2]: 5\n",
      "x[3]: 2\n",
      "x[4]: 1\n",
      "오름차순으로 정렬했습니다.\n",
      "x[0] = 1\n",
      "x[1] = 2\n",
      "x[2] = 3\n",
      "x[3] = 5\n",
      "x[4] = 19\n"
     ]
    }
   ],
   "source": [
    "print('병합 정렬을 수행합니다.')\n",
    "num = int(input('원소 수를 입력하세요.: '))\n",
    "x = [None] * num\n",
    "\n",
    "for i in range(num): \n",
    "    x[i] = int(input(f'x[{i}]: '))\n",
    "    \n",
    "merge_sort(x)\n",
    "print('오름차순으로 정렬했습니다.')\n",
    "for i in range(num):\n",
    "    print(f'x[{i}] = {x[i]}')"
   ]
  },
  {
   "cell_type": "code",
   "execution_count": null,
   "metadata": {},
   "outputs": [],
   "source": [
    "배열 병합의 시간복잡도는 BigO(n)이고\n",
    "데이터 원소 수가 n일때 병합 정렬의 단계는 logn만큼 필요하므로\n",
    "전체 시간 복잡도는 BigO(nlogn)입니다. \n",
    "병합 정렬의 알고리즘은 서로 떨어져 있는 원소"
   ]
  },
  {
   "cell_type": "markdown",
   "metadata": {},
   "source": [
    " # 힙 정렬"
   ]
  }
 ],
 "metadata": {
  "kernelspec": {
   "display_name": "Python 3",
   "language": "python",
   "name": "python3"
  },
  "language_info": {
   "codemirror_mode": {
    "name": "ipython",
    "version": 3
   },
   "file_extension": ".py",
   "mimetype": "text/x-python",
   "name": "python",
   "nbconvert_exporter": "python",
   "pygments_lexer": "ipython3",
   "version": "3.7.1"
  }
 },
 "nbformat": 4,
 "nbformat_minor": 2
}
