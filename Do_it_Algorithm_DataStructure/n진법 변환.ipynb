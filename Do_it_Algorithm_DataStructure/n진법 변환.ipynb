{
 "cells": [
  {
   "cell_type": "code",
   "execution_count": 15,
   "metadata": {},
   "outputs": [],
   "source": [
    "number = 59\n",
    "n = 2\n",
    "seq = []"
   ]
  },
  {
   "cell_type": "code",
   "execution_count": 4,
   "metadata": {},
   "outputs": [
    {
     "data": {
      "text/plain": [
       "1"
      ]
     },
     "execution_count": 4,
     "metadata": {},
     "output_type": "execute_result"
    }
   ],
   "source": [
    "59 % 2"
   ]
  },
  {
   "cell_type": "code",
   "execution_count": 5,
   "metadata": {},
   "outputs": [
    {
     "data": {
      "text/plain": [
       "29"
      ]
     },
     "execution_count": 5,
     "metadata": {},
     "output_type": "execute_result"
    }
   ],
   "source": [
    "59 //2"
   ]
  },
  {
   "cell_type": "code",
   "execution_count": 7,
   "metadata": {},
   "outputs": [
    {
     "data": {
      "text/plain": [
       "(29, 1)"
      ]
     },
     "execution_count": 7,
     "metadata": {},
     "output_type": "execute_result"
    }
   ],
   "source": [
    "divmod(59,2)"
   ]
  },
  {
   "cell_type": "markdown",
   "metadata": {},
   "source": [
    "**꿀팁 숫자가 작을땐 divmod가 느리고 // 와 %가 빠름. 반대로 숫자가 클때는 divmod가 빠름.** "
   ]
  },
  {
   "cell_type": "code",
   "execution_count": 38,
   "metadata": {},
   "outputs": [],
   "source": [
    "def card_conv(number, n):\n",
    "    seq = []\n",
    "    while True:\n",
    "        number, a = divmod(number,n)\n",
    "        seq.append(a)\n",
    "        if number < n:\n",
    "            seq.append(number)\n",
    "            break\n",
    "    print(seq[::-1])"
   ]
  },
  {
   "cell_type": "code",
   "execution_count": 39,
   "metadata": {},
   "outputs": [
    {
     "name": "stdout",
     "output_type": "stream",
     "text": [
      "[1, 1, 1, 0, 1, 1]\n"
     ]
    }
   ],
   "source": [
    "card_conv(59,2)"
   ]
  },
  {
   "cell_type": "code",
   "execution_count": 40,
   "metadata": {},
   "outputs": [
    {
     "name": "stdout",
     "output_type": "stream",
     "text": [
      "[7, 3]\n"
     ]
    }
   ],
   "source": [
    "card_conv(59,8)"
   ]
  },
  {
   "cell_type": "code",
   "execution_count": 41,
   "metadata": {},
   "outputs": [
    {
     "name": "stdout",
     "output_type": "stream",
     "text": [
      "[3, 11]\n"
     ]
    }
   ],
   "source": [
    "card_conv(59,16)"
   ]
  },
  {
   "cell_type": "markdown",
   "metadata": {},
   "source": [
    "단 이렇게 만들면 10진법 이상에서 사용이 안된다. 10은 A, 11은 B이런식으로 다시 재지정을 해줘야함."
   ]
  },
  {
   "cell_type": "code",
   "execution_count": 42,
   "metadata": {},
   "outputs": [],
   "source": [
    "def card_conv(number, n):\n",
    "    seq = []\n",
    "    while True:\n",
    "        number, a = divmod(number,n)\n",
    "        if a == 10:\n",
    "            a = \"A\"\n",
    "        elif a == 11:\n",
    "            a = \"B\"\n",
    "        elif a == 12:\n",
    "            a = \"C\"\n",
    "        elif a == 13:\n",
    "            a = \"D\"\n",
    "        elif a == 14:\n",
    "            a = \"E\"\n",
    "        elif a == 15:\n",
    "            a = \"F\"\n",
    "        seq.append(a)\n",
    "        if number < n:\n",
    "            seq.append(number)\n",
    "            break\n",
    "\n",
    "    print(seq[::-1])"
   ]
  },
  {
   "cell_type": "code",
   "execution_count": 44,
   "metadata": {},
   "outputs": [
    {
     "name": "stdout",
     "output_type": "stream",
     "text": [
      "[3, 'B']\n"
     ]
    }
   ],
   "source": [
    "card_conv(59,16)"
   ]
  },
  {
   "cell_type": "markdown",
   "metadata": {},
   "source": [
    "잘된다. \n",
    "근데 누가봐도 너무 지저분한 방식이다.. 16진법을 넘어 \n",
    "ABCDEF...Z까지 지정하려면 각각 다 IF를 걸어줘야함.. 다른 방식은 없을까?"
   ]
  },
  {
   "cell_type": "code",
   "execution_count": 47,
   "metadata": {},
   "outputs": [],
   "source": [
    "def card_conv(number, n):\n",
    "    seq = []\n",
    "    alpha = \"0123456789ABCDEFGHIJKLMNOPQRSTUVWXYZ\"\n",
    "    while True:\n",
    "        number, a = divmod(number,n)\n",
    "        seq.append(alpha[a])\n",
    "        if number < n:\n",
    "            seq.append(alpha[number])\n",
    "            break\n",
    "\n",
    "    print(seq[::-1])"
   ]
  },
  {
   "cell_type": "code",
   "execution_count": 48,
   "metadata": {},
   "outputs": [
    {
     "name": "stdout",
     "output_type": "stream",
     "text": [
      "['3', 'B']\n"
     ]
    }
   ],
   "source": [
    "card_conv(59,16)"
   ]
  },
  {
   "cell_type": "code",
   "execution_count": 49,
   "metadata": {},
   "outputs": [
    {
     "name": "stdout",
     "output_type": "stream",
     "text": [
      "['3', '5']\n"
     ]
    }
   ],
   "source": [
    "card_conv(59,18)"
   ]
  }
 ],
 "metadata": {
  "kernelspec": {
   "display_name": "Python 3",
   "language": "python",
   "name": "python3"
  },
  "language_info": {
   "codemirror_mode": {
    "name": "ipython",
    "version": 3
   },
   "file_extension": ".py",
   "mimetype": "text/x-python",
   "name": "python",
   "nbconvert_exporter": "python",
   "pygments_lexer": "ipython3",
   "version": "3.7.1"
  }
 },
 "nbformat": 4,
 "nbformat_minor": 2
}
