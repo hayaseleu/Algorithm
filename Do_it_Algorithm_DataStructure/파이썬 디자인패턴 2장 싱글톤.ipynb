{
 "cells": [
  {
   "cell_type": "markdown",
   "metadata": {},
   "source": [
    "# 싱글톤 디자인 패턴 \n",
    "\n",
    "글로벌하게 접근 가능한 단 한개의 객체만을 허용하는 패턴\n",
    "\n",
    "주로 로딩, 데이터 베이스 관련 작업, 프린터 스풀러 등의 애플리케이션에서 동일한 리소스에 대한 동시 요청의 충돌을 막기위해\n",
    "한개의 인스턴스만 필요한 경우에 주로 쓰임.\n",
    "\n",
    "목적\n",
    "\n",
    "* 클래스에 대한 단일 객체 생성\n",
    "\n",
    "* 전역 객체 제공\n",
    "\n",
    "* 공유된 리소스에 대한 동시 접근 제어 "
   ]
  },
  {
   "cell_type": "code",
   "execution_count": null,
   "metadata": {},
   "outputs": [],
   "source": [
    "## 파이썬 싱글톤 패턴 구현 \n",
    "\n",
    "1. 한개의 Singleton 클래스 인스턴스 생성\n",
    "\n",
    "2. 이미 생성된 인스턴스가 있다면 재사용."
   ]
  },
  {
   "cell_type": "code",
   "execution_count": 3,
   "metadata": {},
   "outputs": [
    {
     "name": "stdout",
     "output_type": "stream",
     "text": [
      "Object created <__main__.Singleton object at 0x0000020E32032F98>\n",
      "Object created <__main__.Singleton object at 0x0000020E32032F98>\n"
     ]
    }
   ],
   "source": [
    "class Singleton(object):\n",
    "    def __new__(cls):\n",
    "        if not hasattr(cls, 'instance'):\n",
    "            cls.instance = super(Singleton, cls).__new__(cls)\n",
    "        return cls.instance\n",
    "    \n",
    "s = Singleton()\n",
    "\n",
    "print(\"Object created\", s)\n",
    "\n",
    "s1 = Singleton()\n",
    "print(\"Object created\", s1 )"
   ]
  },
  {
   "cell_type": "code",
   "execution_count": null,
   "metadata": {},
   "outputs": [],
   "source": [
    "## 게으른 초기화 \n",
    "\n",
    "모듈을 임포트할 때 (아직 객체가 필요하지 않은 시점에) 실수로 미리 생성하는 경우가 있음\n",
    "게으른 초기화는 인스턴스가 꼭 필요할 때 생성함. 사용할 수 있는 리소스가 제한적인 상황일 때 객체가 꼭 필요한 시점에 생성하는 방식.\n",
    "\n",
    "다음 코드에서 s = Singleton() 부분은 __init__ 함수를 실행하지만 객체는 생성하지않음.\n",
    "대신 Singleton.getInstance() 부분에서 객체가 생성됨."
   ]
  },
  {
   "cell_type": "code",
   "execution_count": 8,
   "metadata": {},
   "outputs": [
    {
     "name": "stdout",
     "output_type": "stream",
     "text": [
      "__init__ method called..\n",
      "__init__ method called..\n",
      "Object created <__main__.Singleton object at 0x0000020E320B4D68>\n",
      "Instance already created: <__main__.Singleton object at 0x0000020E320B4D68>\n"
     ]
    }
   ],
   "source": [
    "class Singleton:\n",
    "    __instance = None\n",
    "    def __init__(self):\n",
    "        if not Singleton.__instance:\n",
    "            print(\"__init__ method called..\")\n",
    "        else:\n",
    "            print(\"Instance already created:\", self.getInstance())\n",
    "    @classmethod\n",
    "    def getInstance(cls):\n",
    "        if not cls.__instance:\n",
    "            cls.__instance = Singleton()\n",
    "        return cls.__instance\n",
    "    \n",
    "s = Singleton() ## 클래스를 초기화했지만 객체는 생성되지않음.\n",
    "print(\"Object created\", Singleton.getInstance()) # 객체 생성\n",
    "s1 = Singleton()  ## 객체는 이미 생성됐음 "
   ]
  },
  {
   "cell_type": "markdown",
   "metadata": {},
   "source": [
    "## 모듈 싱글톤\n",
    "\n",
    "파이썬의 임포트 방식 때문에 모든 모듈은 기본적으로 싱글톤이다. 파이썬의 작동 방식은 다음과 같다.\n",
    "\n",
    "1. 파이썬 모듈이 임포트 됐는지 확인한다.\n",
    "\n",
    "2. 임포트 됐다면 해당 객체를 반환하고 안 됐다면 임포트하고 인스턴스 화한다.\n",
    "\n",
    "3. 모듈은 임포트와 동시에 초기화된다. 하지만 같은 모듈을 다시  임포트하면 초기화하지 않는다. 한개의 객체만 유지하고 반환하는 싱글톤 방식이다.\n",
    "\n",
    "\n",
    "## 모노스테이트 싱글톤 패턴 \n",
    "\n",
    "The Monostate Singleton Patten 이름 그대로 모든 객체가 같은 상태를 공유하는 패턴\n",
    "\n",
    "\\_\\_dict__변수 (파이썬 특수 변수)를 \\_\\_shared_state 클래스 변수로 지정함.\n",
    "\n",
    "파이썬은 \\_\\_dict__변수내에 클래스 내 모든 객체의 상태를 저장함. \n",
    "\n",
    "다음 예제에서는 모든 생성된 인스턴스의 상태를 \\_\\_shared_state로 지정함.\n",
    "\n",
    "따라서 b와 b1 인스턴스를 따로 생성해도 한 개의 객체만 만드는 싱를톤 패턴과 달리 두개의 객체가 생성됨.\n",
    "\n",
    "하지만 객체의 상태를 나타내는 b.\\_\\_dict__ 와 b1.\\_\\_dict__은 같음.\n",
    "\n",
    "따라서 b 객체의 x값을 4로 설정하면 모든 객체가 공유하는 \\_\\_dict__변수 에 복사되 b1의 x값도 1에서 4로 바뀐다. "
   ]
  },
  {
   "cell_type": "code",
   "execution_count": 33,
   "metadata": {},
   "outputs": [
    {
     "name": "stdout",
     "output_type": "stream",
     "text": [
      "Borg Object 'b':  <__main__.Borg object at 0x0000020E320CAAC8>\n",
      "Borg Object 'b1':  <__main__.Borg object at 0x0000020E320CAA58>\n",
      "Object State 'b':  {'1': '2', 'x': 4}\n",
      "Object State 'b1':  {'1': '2', 'x': 4}\n"
     ]
    }
   ],
   "source": [
    "class Borg:\n",
    "    __shared_state = {\"1\": \"2\"}\n",
    "    def __init__(self):\n",
    "        self.x = 1\n",
    "        self.__dict__ = self.__shared_state\n",
    "        pass\n",
    "    \n",
    "b = Borg()\n",
    "b1 = Borg()\n",
    "b.x = 4\n",
    "\n",
    "print(\"Borg Object 'b': \", b) ## b와 b1은 다른 객체이다. \n",
    "print(\"Borg Object 'b1': \", b1)\n",
    "print(\"Object State 'b': \", b.__dict__) ## b와 b1은 상태를 공유한다.\n",
    "print(\"Object State 'b1': \", b1.__dict__)\n"
   ]
  },
  {
   "cell_type": "code",
   "execution_count": 12,
   "metadata": {},
   "outputs": [],
   "source": [
    "class Borg(object):\n",
    "    _shared_state = {}\n",
    "    def __new__(cls, *args, **kwarges):\n",
    "        obj = super(Borg, cls).__new__(cls, *args, **kwargs)\n",
    "        obj.__dict__ = cls._shared_sate \n",
    "        return obj"
   ]
  },
  {
   "cell_type": "markdown",
   "metadata": {},
   "source": [
    "## 싱글톤과 메타 클래스\n",
    "\n",
    "메타클래스는 간단하게 설명하면 클래스의 클래스\n",
    "즉 클래스는 자신의 메타 클래스의 인스턴스. 메타 클래스를 사용하면 이미 정의된 파이썬 클래스를통해 새로운 형식의\n",
    "클래스를 생성할 수 있다. 예를 들어 MyClass라는 객체가 있다면 MyKls라는 메타 클래스를 생성해\n",
    "MyClass의 행위를 재정의할 수 있다.\n",
    "\n",
    "파이썬에서 모든 것은 객체다. a = 5라면 type(a)는 <type 'int'>를 반환한다.\n",
    "a는 int형 변수라는 뜻이다. 하지만 type(int)는 <type 'type'> 을 반환한다. int의 메타클래스는 type 클래스라는 의미다.\n",
    "\n",
    "클래스는 메타클래스가 정의한다. class A구문으로 클래스를 생성하면 파이썬은 A = type(name, bases, dict)을 실행한다.\n",
    "\n",
    "* name: 클래스명\n",
    "\n",
    "* base: 베이스 클래스\n",
    "\n",
    "* dict: 속성값 \n",
    "\n",
    "이미 정의된 메타클래스 (by the name of MetAKls) 가 있다면 파이썬은 A = MetaKls(names, bases, dict)을 실행해 \n",
    "클래스를 생성한다.\n",
    "\n",
    "다음은 파이썬 3.5로 메타클래스를 구현한 코드다"
   ]
  },
  {
   "cell_type": "code",
   "execution_count": 39,
   "metadata": {},
   "outputs": [
    {
     "name": "stdout",
     "output_type": "stream",
     "text": [
      "***** Here's My int ***** (4, 5)\n",
      "Now do whatever you want with this objects...\n"
     ]
    },
    {
     "ename": "TypeError",
     "evalue": "int() takes no arguments",
     "output_type": "error",
     "traceback": [
      "\u001b[1;31m---------------------------------------------------------------------------\u001b[0m",
      "\u001b[1;31mTypeError\u001b[0m                                 Traceback (most recent call last)",
      "\u001b[1;32m<ipython-input-39-b05246804bcf>\u001b[0m in \u001b[0;36m<module>\u001b[1;34m\u001b[0m\n\u001b[0;32m     10\u001b[0m         \u001b[0mself\u001b[0m\u001b[1;33m.\u001b[0m\u001b[0my\u001b[0m \u001b[1;33m=\u001b[0m \u001b[0my\u001b[0m\u001b[1;33m\u001b[0m\u001b[1;33m\u001b[0m\u001b[0m\n\u001b[0;32m     11\u001b[0m \u001b[1;33m\u001b[0m\u001b[0m\n\u001b[1;32m---> 12\u001b[1;33m \u001b[0mi\u001b[0m \u001b[1;33m=\u001b[0m \u001b[0mint\u001b[0m\u001b[1;33m(\u001b[0m\u001b[1;36m4\u001b[0m\u001b[1;33m,\u001b[0m \u001b[1;36m5\u001b[0m\u001b[1;33m)\u001b[0m\u001b[1;33m\u001b[0m\u001b[1;33m\u001b[0m\u001b[0m\n\u001b[0m",
      "\u001b[1;32m<ipython-input-39-b05246804bcf>\u001b[0m in \u001b[0;36m__call__\u001b[1;34m(cls, *args, **kwds)\u001b[0m\n\u001b[0;32m      3\u001b[0m         \u001b[0mprint\u001b[0m\u001b[1;33m(\u001b[0m\u001b[1;34m\"***** Here's My int *****\"\u001b[0m\u001b[1;33m,\u001b[0m \u001b[0margs\u001b[0m\u001b[1;33m)\u001b[0m\u001b[1;33m\u001b[0m\u001b[1;33m\u001b[0m\u001b[0m\n\u001b[0;32m      4\u001b[0m         \u001b[0mprint\u001b[0m\u001b[1;33m(\u001b[0m\u001b[1;34m\"Now do whatever you want with this objects...\"\u001b[0m\u001b[1;33m)\u001b[0m\u001b[1;33m\u001b[0m\u001b[1;33m\u001b[0m\u001b[0m\n\u001b[1;32m----> 5\u001b[1;33m         \u001b[1;32mreturn\u001b[0m \u001b[0mtype\u001b[0m\u001b[1;33m.\u001b[0m\u001b[0m__call__\u001b[0m\u001b[1;33m(\u001b[0m\u001b[0mcls\u001b[0m\u001b[1;33m,\u001b[0m \u001b[1;33m*\u001b[0m\u001b[0margs\u001b[0m\u001b[1;33m,\u001b[0m \u001b[1;33m**\u001b[0m\u001b[0mkwds\u001b[0m\u001b[1;33m)\u001b[0m\u001b[1;33m\u001b[0m\u001b[1;33m\u001b[0m\u001b[0m\n\u001b[0m\u001b[0;32m      6\u001b[0m \u001b[1;33m\u001b[0m\u001b[0m\n\u001b[0;32m      7\u001b[0m \u001b[1;32mclass\u001b[0m \u001b[0mint\u001b[0m\u001b[1;33m(\u001b[0m\u001b[0mmetaclass\u001b[0m \u001b[1;33m=\u001b[0m \u001b[0mMyInt\u001b[0m\u001b[1;33m)\u001b[0m\u001b[1;33m:\u001b[0m\u001b[1;33m\u001b[0m\u001b[1;33m\u001b[0m\u001b[0m\n",
      "\u001b[1;31mTypeError\u001b[0m: int() takes no arguments"
     ]
    }
   ],
   "source": [
    "class MyInt(type):\n",
    "    def __call__(cls, *args, **kwds):\n",
    "        print(\"***** Here's My int *****\", args)\n",
    "        print(\"Now do whatever you want with this objects...\")\n",
    "        return type.__call__(cls, *args, **kwds)\n",
    "    \n",
    "class int(metaclass = MyInt):\n",
    "    def __int__(self, x, y):\n",
    "        self.x = x\n",
    "        self.y = y\n",
    "        \n",
    "i = int(4, 5)"
   ]
  },
  {
   "cell_type": "code",
   "execution_count": null,
   "metadata": {},
   "outputs": [],
   "source": [
    "왜 오류나는지 확인해야함."
   ]
  },
  {
   "cell_type": "markdown",
   "metadata": {},
   "source": [
    "\\_\\_call__ 메소드는 이미 존재하는 클래스의 객체를 생성할 때 호출되는 파이썬의 특수 메소드다.\n",
    "위처럼 int(4,5)로 int 클래스를 생성하면 MyInt 메타클래스의 \\_\\_call__가 호출된다. 객체 생성을 메타클래스가 제어한다는 의미다.\n",
    "놀랍다.\n",
    "\n",
    "싱글톤 디자인 패턴과 같은 개념이다. 메타클래스가 클래스와 객체 생성을 제어한다면 싱글톤을 생성하는 용도로 사용할 수 있다는 의미다.\n",
    "(클래스 생성과 인스턴스 화를 제어하기 위해 메타클래스는 \\_\\_new__와 \\_\\_init 메소드를 오버라이드한다.)\n",
    "\n",
    "다음은 메타클래스를 사용해 싱글톤 패턴을 구현한 예제이다."
   ]
  },
  {
   "cell_type": "code",
   "execution_count": 38,
   "metadata": {},
   "outputs": [
    {
     "name": "stdout",
     "output_type": "stream",
     "text": [
      "<__main__.Logger object at 0x0000020E320CA438> <__main__.Logger object at 0x0000020E320CA438>\n"
     ]
    }
   ],
   "source": [
    "class MetaSingleton(type):\n",
    "    _instances = {}\n",
    "    def __call__(cls, *args, **kwargs):\n",
    "        if cls not in cls._instances:\n",
    "            cls._instances[cls] = super(MetaSingleton,\\\n",
    "                                       cls).__call__(*args, **kwargs)\n",
    "        return cls._instances[cls]\n",
    "    \n",
    "\n",
    "class Logger(metaclass = MetaSingleton):\n",
    "    pass\n",
    "\n",
    "logger1 = Logger()\n",
    "logger2 = Logger()\n",
    "print(logger1, logger2 )"
   ]
  },
  {
   "cell_type": "markdown",
   "metadata": {},
   "source": [
    "\n",
    "## 싱글톤 패턴 사용 사례 1 \n",
    "\n",
    "데이터베이스 기반 애플리케이션에서 싱글톤 패턴을 적용한 사례를 살펴보자. 데이터베이스에서 데이터를 읽고 쓰는 클라우드 서비스를 \n",
    "예로 들자. 이 클라우드 서비스에는 데이터 베이스에 접근하는 여러 모듈이 있다고 하자. 각 UI(웹 앱)에서 직접 DB 연산을 수행하는 API를 호출한다.\n",
    "\n",
    "여러 서비스가 한 개의 DB를 공유하는 구조다. 안정된 클라우드 서비스를 설계하려면 다음 사항들을 반드시 명심해야한다.\n",
    "\n",
    "* 데이터 베이스의 일관성을 보존해야한다. 연산 간의 충돌이 없어야한다.\n",
    "* 다수의 DB 연산을 처리하려면 메모리와 CPU를 효율적으로 사용해야 한다. \n"
   ]
  },
  {
   "cell_type": "code",
   "execution_count": 64,
   "metadata": {},
   "outputs": [
    {
     "ename": "AttributeError",
     "evalue": "'NoneType' object has no attribute 'connect'",
     "output_type": "error",
     "traceback": [
      "\u001b[1;31m---------------------------------------------------------------------------\u001b[0m",
      "\u001b[1;31mAttributeError\u001b[0m                            Traceback (most recent call last)",
      "\u001b[1;32m<ipython-input-64-3907387fae6b>\u001b[0m in \u001b[0;36m<module>\u001b[1;34m\u001b[0m\n\u001b[0;32m     16\u001b[0m \u001b[1;33m\u001b[0m\u001b[0m\n\u001b[0;32m     17\u001b[0m \u001b[0mdb1\u001b[0m \u001b[1;33m=\u001b[0m \u001b[0mDatabase\u001b[0m\u001b[1;33m(\u001b[0m\u001b[1;33m)\u001b[0m\u001b[1;33m.\u001b[0m\u001b[0mconnect\u001b[0m\u001b[1;33m(\u001b[0m\u001b[1;33m)\u001b[0m\u001b[1;33m\u001b[0m\u001b[1;33m\u001b[0m\u001b[0m\n\u001b[1;32m---> 18\u001b[1;33m \u001b[0mdb2\u001b[0m \u001b[1;33m=\u001b[0m \u001b[0mDatabase\u001b[0m\u001b[1;33m(\u001b[0m\u001b[1;33m)\u001b[0m\u001b[1;33m.\u001b[0m\u001b[0mconnect\u001b[0m\u001b[1;33m(\u001b[0m\u001b[1;33m)\u001b[0m\u001b[1;33m\u001b[0m\u001b[1;33m\u001b[0m\u001b[0m\n\u001b[0m\u001b[0;32m     19\u001b[0m \u001b[1;33m\u001b[0m\u001b[0m\n\u001b[0;32m     20\u001b[0m \u001b[0mprint\u001b[0m\u001b[1;33m(\u001b[0m\u001b[1;34m\"Database Objects DB1\"\u001b[0m\u001b[1;33m,\u001b[0m \u001b[0mdb1\u001b[0m\u001b[1;33m)\u001b[0m\u001b[1;33m\u001b[0m\u001b[1;33m\u001b[0m\u001b[0m\n",
      "\u001b[1;31mAttributeError\u001b[0m: 'NoneType' object has no attribute 'connect'"
     ]
    }
   ],
   "source": [
    "import sqlite3\n",
    "class MetaSingleton(type):\n",
    "    _instances = {}\n",
    "    def __call__(cls, *args, **kwargs):\n",
    "        if cls not in cls._instances:\n",
    "            cls._instances[cls] = super(MetaSingleton, cls).__call__(*args, **kwargs)\n",
    "            return cls._instances[cls]\n",
    "        \n",
    "class Database(metaclass = MetaSingleton):\n",
    "    connection = None\n",
    "    def connect(self):\n",
    "        if self.connection is None:\n",
    "            self.connection = sqlite3.connect(\"db.sqlite3\")\n",
    "            self.cursorobj = self.connection.cursor()\n",
    "        return self.cursorobj\n",
    "    \n",
    "db1 = Database().connect()\n",
    "db2 = Database().connect()\n",
    "\n",
    "print(\"Database Objects DB1\", db1)\n",
    "print(\"Database Objects DB2\", db2)"
   ]
  },
  {
   "cell_type": "code",
   "execution_count": null,
   "metadata": {},
   "outputs": [],
   "source": [
    "db1는 되는데 db2는 왜 안되는지 확인 ``"
   ]
  },
  {
   "cell_type": "code",
   "execution_count": 51,
   "metadata": {},
   "outputs": [],
   "source": [
    "위 코드 분석\n",
    "\n",
    "1. MetaSingleton 이라는 메타 클래스를 생성. 앞서 설명했듯이 __call__ 파이썬 메서드를 사용해 싱글톤 생성.\n",
    "\n",
    "2. database 클래스는 MetaSingleton 메타 클래스의 도움으로 싱글톤 역할을 함. 즉 단 한개의 database 클래스 객체만 생성됨\n",
    "\n",
    "3. 웹 앱이 DB 연산을 요청할 때 마다 database 클래스를 생성하지만 내부적으로는 한 개의 객체만 생성됨.\n",
    "따라서 데이터 베이스의 동기화가 보장됨. 리소스를 적게 사용해 메모리와 CPU의 사용량 최적화 가능..\n",
    "\n",
    "\n",
    "단일 웹앱 형태가 아니라 여러 웹앱이 같은 DB에 접속하는 상황이라면 각 웹앱이 DB에 접근하는 싱글톤을 생성하기 때문에\n",
    "싱그롵ㄴ 패턴에 적합하지않음. DB동기화가 어렵고 리소스 사용량이 많은 경우임. 싱글톤 패턴보다 연결 풀링(Connection Pooling)기법을\n",
    "사용하는 것이 더 효율적임 "
   ]
  },
  {
   "cell_type": "markdown",
   "metadata": {},
   "source": [
    "## 싱글톤 패턴 사용 사례 2\n",
    "\n",
    "이제 인프라 상태를 확인하는 서비스(예를 들어 Nagios)를 구현해보자. 우선 HealthCheck 클래스를 싱글톤으로 구현함.\n",
    "상태를 확인해야 하는 서버의 목록을 만들고 목록에서 제거된 서버의 상태는 확인하지 않아야한다.\n",
    "\n",
    "다음 코드를 보면 hc1과 hc2는 동일한 객체임.\n",
    "\n",
    "addServer() 메소드는 서버를 목록에 추가함. 서비스는 목록의 각 서버의 상태를 확인함.\n",
    "changeServer() 메소드는 서버를 목록에서 제거하고 새로운 서버를 추가함. 따라서 서비스가 두번 째 실행될 떄는 바뀐 서버 목록을 참조함.\n",
    "\n",
    "위 내용을 싱글톤 패턴으로 구현한것이 아래 코드임.\n",
    "서버가 추가 또는 제거 되면 각 HealthCheck 객체는 똑같이 바뀐 목록을 참조해야함. "
   ]
  },
  {
   "cell_type": "code",
   "execution_count": 69,
   "metadata": {},
   "outputs": [
    {
     "name": "stdout",
     "output_type": "stream",
     "text": [
      "Schedule health check for servers (1)..\n",
      "Checking Server 1\n",
      "Checking Server 2\n",
      "Checking Server 3\n",
      "Checking Server 4\n",
      "Schedule health check for servers (2)..\n",
      "Checing  Server 1\n",
      "Checing  Server 2\n",
      "Checing  Server 3\n",
      "Checing  Server 5\n"
     ]
    }
   ],
   "source": [
    "class HealthCheck:\n",
    "    _instance = None\n",
    "    def __new__(cls, *args, **kwargs):\n",
    "        if not HealthCheck._instance:\n",
    "            HealthCheck._instance = super(HealthCheck, cls).__new__(cls, *args, **kwargs)\n",
    "            \n",
    "        return HealthCheck._instance\n",
    "    def __init__(self):\n",
    "        self._servers = []\n",
    "    def addServer(self):\n",
    "        self._servers.append(\"Server 1\")\n",
    "        self._servers.append(\"Server 2\")\n",
    "        self._servers.append(\"Server 3\")\n",
    "        self._servers.append(\"Server 4\")\n",
    "    def changeServer(self):\n",
    "        self._servers.pop()\n",
    "        self._servers.append(\"Server 5\")\n",
    "\n",
    "\n",
    "hc1 = HealthCheck()\n",
    "hc2 = HealthCheck()\n",
    "\n",
    "hc1.addServer()\n",
    "print(\"Schedule health check for servers (1)..\")\n",
    "for i in range(4):\n",
    "    print(\"Checking\", hc1._servers[i])\n",
    "    \n",
    "hc2.changeServer()\n",
    "print(\"Schedule health check for servers (2)..\")\n",
    "\n",
    "for i in range(4):\n",
    "    print(\"Checing \", hc2._servers[i])"
   ]
  },
  {
   "cell_type": "markdown",
   "metadata": {},
   "source": [
    "\n",
    "## 싱글톤 패턴의 단점\n",
    "\n",
    "효율적이지만 단점도 있음. 싱글톤의 단일 전역 객체는 다음과 같은 문제점이 있음\n",
    "\n",
    "* 전역 변수의 값이 실수로 변경된 것을 모르고 애플리케이션에서 사용될 수있음\n",
    "\n",
    "* 같은 객체에 대한 여러 참조자가 생길 수 있음. 싱글톤은 한 개의 객체만을 만들기 때문에 같은 객체에 대한 여러 개의 참조자가 생김.\n",
    "\n",
    "* 전역 변수에 종속적인 모든 클래스 간 상호관계가 복잡해짐. 전역 변수 수정이 의도치 않게 다른 변수에도 영향을 줄 수 있음.\n",
    "\n",
    "> 다음의 내용을 반드시 기억하라.\n",
    " * 어플리케이션을 개발할 때 스레드 풀 과 캐시, 대화 상자, 레지스트리 설정 등 한 개의 객체만 필요한 경우가 많다. 이런 상황에서 여러 개의 객체를 생성하는 것은 리소스 낭비다. 따라서 싱글톤 패턴이 적합하다. \n",
    " * 싱글톤은 글로벌 액세스 지점을 제공하는, 단점이 거의 없는 검증된 패턴인다.\n",
    " * 싱글톤 패턴의 단점은 전역 변수가 의도치 않게 다른 클래스에게 영향을 줄 수 있으며 리소스를 많이 사용하는 구조가 될 수 있따. "
   ]
  },
  {
   "cell_type": "markdown",
   "metadata": {},
   "source": [
    "\n",
    "\n",
    "다음 장 팩토리 패턴"
   ]
  }
 ],
 "metadata": {
  "kernelspec": {
   "display_name": "Python 3",
   "language": "python",
   "name": "python3"
  },
  "language_info": {
   "codemirror_mode": {
    "name": "ipython",
    "version": 3
   },
   "file_extension": ".py",
   "mimetype": "text/x-python",
   "name": "python",
   "nbconvert_exporter": "python",
   "pygments_lexer": "ipython3",
   "version": "3.7.1"
  }
 },
 "nbformat": 4,
 "nbformat_minor": 2
}
