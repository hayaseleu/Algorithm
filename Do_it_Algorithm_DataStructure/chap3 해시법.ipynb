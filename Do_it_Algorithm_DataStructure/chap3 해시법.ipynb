{
 "cells": [
  {
   "cell_type": "code",
   "execution_count": 7,
   "metadata": {},
   "outputs": [],
   "source": [
    "# 체인법으로 해시 함수 구현하기 \n",
    "\n",
    "from __future__ import annotations\n",
    "from typing import Any, Type\n",
    "import hashlib\n",
    "\n",
    "class Node:\n",
    "    \"\"\" 해시 구성 노드 \"\"\"\n",
    "    \n",
    "    def __init__(self, key: Any, value: Any, next: Node) -> None:\n",
    "        \"\"\" 초기화 \"\"\"\n",
    "        \n",
    "        self.key = key  # 키 \n",
    "        self.value = value # 값 \n",
    "        self.next = next # 뒤쪽 노드 참고 "
   ]
  },
  {
   "cell_type": "code",
   "execution_count": 12,
   "metadata": {},
   "outputs": [],
   "source": [
    "class ChaineHash:\n",
    "    \"\"\" 체인법으로 해시 클래스 구현\"\"\"\n",
    "    \n",
    "    def __init__(self, capacity: int) -> None:\n",
    "        \"\"\" 초기화 \"\"\"\n",
    "        self.capactiy = capacity\n",
    "        self.table = [None] * self.capacity \n",
    "        \n",
    "    def hash_valeu(self, key: Any) -> int:\n",
    "        \"\"\" 해시 값을 구함\"\"\"\n",
    "        if isinstance(key, int):\n",
    "            return key % self.capacity\n",
    "        return(int(hashlib.sha256(str(key).encode().hexdigest(),16 ) % self.capacity ))\n",
    "    def search(self, key: Any) -> Any:\n",
    "        \"\"\" 키가 key인 원소를 검색하여 값을 반환 \"\"\"\n",
    "        hash = self.hash_value(key)\n",
    "        p = self.table[hash]\n",
    "        \n",
    "        while p is not None:\n",
    "            if p.key == key:\n",
    "                return p.value\n",
    "            p = p.next\n",
    "        return None\n",
    "    \n",
    "    def add(self, key: Any, value: Any ) -> bool:\n",
    "        \"\"\" 키가 key 이고 값이 value인 원소를 추가 \"\"\"\n",
    "        hash = self.hash_value(key)\n",
    "        p = self.table\n",
    "        \n",
    "        while p is not None:\n",
    "            if p.key ==key:\n",
    "                return False\n",
    "            p = p.next\n",
    "            \n",
    "        temp = Node(key, value, self.table[hash])\n",
    "        self.table[hash] = temp\n",
    "        return True"
   ]
  },
  {
   "cell_type": "code",
   "execution_count": null,
   "metadata": {},
   "outputs": [],
   "source": [
    "def search()"
   ]
  }
 ],
 "metadata": {
  "kernelspec": {
   "display_name": "Python 3",
   "language": "python",
   "name": "python3"
  },
  "language_info": {
   "codemirror_mode": {
    "name": "ipython",
    "version": 3
   },
   "file_extension": ".py",
   "mimetype": "text/x-python",
   "name": "python",
   "nbconvert_exporter": "python",
   "pygments_lexer": "ipython3",
   "version": "3.7.1"
  }
 },
 "nbformat": 4,
 "nbformat_minor": 2
}
