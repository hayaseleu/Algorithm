{
 "cells": [
  {
   "cell_type": "markdown",
   "id": "befaa06f",
   "metadata": {},
   "source": [
    "https://leetcode.com/problems/reverse-linked-list/"
   ]
  },
  {
   "cell_type": "code",
   "execution_count": 53,
   "id": "09e9ec1d",
   "metadata": {},
   "outputs": [],
   "source": [
    "# Definition for singly-linked list.\n",
    "from typing import Optional\n",
    "class ListNode:\n",
    "    def __init__(self, val=0, next=None):\n",
    "        self.val = val\n",
    "        self.next = next\n",
    "class Solution:\n",
    "    def reverseList(self, head: Optional[ListNode]) -> Optional[ListNode]:\n",
    "        middle_list = []\n",
    "        while head.val != None:\n",
    "            temp = head\n",
    "            while (temp.next is None) or temp.val is None  :\n",
    "                temp = temp.next\n",
    "            middle_list.append(temp.val)\n",
    "            temp.val = None\n",
    "        result = ListNode(middle_list.pop(0))\n",
    "        return middle_list\n",
    "        while middle_list:\n",
    "            temp = result\n",
    "            while temp.next is None:\n",
    "                temp = temp.next\n",
    "            temp.next = ListNode(middle_list.pop(0))\n",
    "        return result\n"
   ]
  },
  {
   "cell_type": "code",
   "execution_count": 62,
   "id": "10f76425",
   "metadata": {},
   "outputs": [],
   "source": [
    "head = [1,2,3,4,5]"
   ]
  },
  {
   "cell_type": "code",
   "execution_count": 63,
   "id": "6f8c78f7",
   "metadata": {},
   "outputs": [],
   "source": [
    "head = ListNode(1)\n",
    "head.next = ListNode(2)\n",
    "head.next.next =ListNode(3)\n",
    "head.next.next.next =ListNode(4)\n",
    "head.next.next.next.next =ListNode(5)"
   ]
  },
  {
   "cell_type": "code",
   "execution_count": 64,
   "id": "a2492378",
   "metadata": {},
   "outputs": [],
   "source": [
    "sol = Solution()\n",
    "res = sol.reverseList(head)"
   ]
  },
  {
   "cell_type": "code",
   "execution_count": 65,
   "id": "8bf4e391",
   "metadata": {},
   "outputs": [
    {
     "data": {
      "text/plain": [
       "[]"
      ]
     },
     "execution_count": 65,
     "metadata": {},
     "output_type": "execute_result"
    }
   ],
   "source": [
    "res"
   ]
  },
  {
   "cell_type": "code",
   "execution_count": 44,
   "id": "436c8448",
   "metadata": {},
   "outputs": [
    {
     "ename": "AttributeError",
     "evalue": "'list' object has no attribute 'next'",
     "output_type": "error",
     "traceback": [
      "\u001b[1;31m---------------------------------------------------------------------------\u001b[0m",
      "\u001b[1;31mAttributeError\u001b[0m                            Traceback (most recent call last)",
      "\u001b[1;32m<ipython-input-44-cf66bb914b90>\u001b[0m in \u001b[0;36m<module>\u001b[1;34m\u001b[0m\n\u001b[1;32m----> 1\u001b[1;33m \u001b[0mres\u001b[0m\u001b[1;33m.\u001b[0m\u001b[0mnext\u001b[0m\u001b[1;33m.\u001b[0m\u001b[0mval\u001b[0m\u001b[1;33m\u001b[0m\u001b[1;33m\u001b[0m\u001b[0m\n\u001b[0m",
      "\u001b[1;31mAttributeError\u001b[0m: 'list' object has no attribute 'next'"
     ]
    }
   ],
   "source": [
    "res.next.val"
   ]
  },
  {
   "cell_type": "code",
   "execution_count": null,
   "id": "0e755fbe",
   "metadata": {},
   "outputs": [],
   "source": []
  }
 ],
 "metadata": {
  "kernelspec": {
   "display_name": "Python 3",
   "language": "python",
   "name": "python3"
  },
  "language_info": {
   "codemirror_mode": {
    "name": "ipython",
    "version": 3
   },
   "file_extension": ".py",
   "mimetype": "text/x-python",
   "name": "python",
   "nbconvert_exporter": "python",
   "pygments_lexer": "ipython3",
   "version": "3.7.9"
  }
 },
 "nbformat": 4,
 "nbformat_minor": 5
}
