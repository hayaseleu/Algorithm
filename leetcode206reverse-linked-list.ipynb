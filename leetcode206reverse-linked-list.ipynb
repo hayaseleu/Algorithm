{
 "cells": [
  {
   "cell_type": "markdown",
   "id": "6f3c7ac6",
   "metadata": {},
   "source": [
    "https://leetcode.com/problems/reverse-linked-list/"
   ]
  },
  {
   "cell_type": "markdown",
   "id": "85b1bd24",
   "metadata": {},
   "source": [
    "# 내풀이"
   ]
  },
  {
   "cell_type": "code",
   "execution_count": 131,
   "id": "09e9ec1d",
   "metadata": {},
   "outputs": [],
   "source": [
    "# Definition for singly-linked list.\n",
    "from typing import Optional\n",
    "class ListNode:\n",
    "    def __init__(self, val=0, next=None):\n",
    "        self.val = val\n",
    "        self.next = next\n",
    "class Solution:\n",
    "    def reverseList(self, head: Optional[ListNode]) -> Optional[ListNode]:\n",
    "        if not head:\n",
    "            return head\n",
    "        middle_list = []\n",
    "        temp = head\n",
    "        while (temp.next is not None):\n",
    "            middle_list.append(temp.val)\n",
    "            temp = temp.next\n",
    "        middle_list.append(temp.val)\n",
    "        middle_list.reverse()\n",
    "        result = ListNode(middle_list.pop(0))\n",
    "        while middle_list:\n",
    "            temp = result\n",
    "            while temp.next is not None:\n",
    "                temp = temp.next\n",
    "            temp.next = ListNode(middle_list.pop(0))\n",
    "        \n",
    "        return result\n"
   ]
  },
  {
   "cell_type": "markdown",
   "id": "3af9a8a2",
   "metadata": {},
   "source": [
    "매우 느리다.."
   ]
  },
  {
   "cell_type": "code",
   "execution_count": 132,
   "id": "de24ecbf",
   "metadata": {},
   "outputs": [],
   "source": [
    "head = [1,2,3,4,5]"
   ]
  },
  {
   "cell_type": "code",
   "execution_count": 133,
   "id": "d329e167",
   "metadata": {},
   "outputs": [],
   "source": [
    "head = ListNode(1)\n",
    "head.next = ListNode(2)\n",
    "head.next.next =ListNode(3)\n",
    "head.next.next.next =ListNode(4)\n",
    "head.next.next.next.next =ListNode(5)"
   ]
  },
  {
   "cell_type": "code",
   "execution_count": 134,
   "id": "d70cf436",
   "metadata": {},
   "outputs": [],
   "source": [
    "sol = Solution()\n",
    "res = sol.reverseList(head)"
   ]
  },
  {
   "cell_type": "code",
   "execution_count": 136,
   "id": "d88c746d",
   "metadata": {},
   "outputs": [
    {
     "data": {
      "text/plain": [
       "<__main__.ListNode at 0x2a0c8919548>"
      ]
     },
     "execution_count": 136,
     "metadata": {},
     "output_type": "execute_result"
    }
   ],
   "source": [
    "res"
   ]
  },
  {
   "cell_type": "code",
   "execution_count": 139,
   "id": "22ecf9b6",
   "metadata": {},
   "outputs": [],
   "source": [
    "# Definition for singly-linked list.\n",
    "from typing import Optional\n",
    "class ListNode:\n",
    "    def __init__(self, val=0, next=None):\n",
    "        self.val = val\n",
    "        self.next = next\n",
    "class Solution:\n",
    "    def reverseList(self, head: Optional[ListNode]) -> Optional[ListNode]:\n",
    "        if not head:\n",
    "            return head\n",
    "        middle_list = []\n",
    "        temp = head\n",
    "        while (temp.next is not None):\n",
    "            middle_list.append(temp.val)\n",
    "            temp = temp.next\n",
    "        middle_list.append(temp.val)\n",
    "        result = ListNode(middle_list.pop())\n",
    "        while middle_list:\n",
    "            temp = result\n",
    "            while temp.next is not None:\n",
    "                temp = temp.next\n",
    "            temp.next = ListNode(middle_list.pop())\n",
    "        \n",
    "        return result"
   ]
  },
  {
   "cell_type": "markdown",
   "id": "6804d5d5",
   "metadata": {},
   "source": [
    "reverse 대신 그대로 쓰고 pop(0)대신 pop()을 써도 그대로"
   ]
  },
  {
   "cell_type": "markdown",
   "id": "9c561cd0",
   "metadata": {},
   "source": [
    "책 풀이 \n",
    "\n",
    "반복구조로 뒤집기\n"
   ]
  },
  {
   "cell_type": "code",
   "execution_count": null,
   "id": "7bb7b87e",
   "metadata": {},
   "outputs": [],
   "source": [
    "# Definition for singly-linked list.\n",
    "from typing import Optional\n",
    "class ListNode:\n",
    "    def __init__(self, val=0, next=None):\n",
    "        self.val = val\n",
    "        self.next = next\n",
    "class Solution:\n",
    "    def reverseList(self, head: Optional[ListNode]) -> Optional[ListNode]:\n",
    "        node, prev = head , None\n",
    "\n",
    "        while node: \n",
    "            next, node.next = node.next , prev\n",
    "            prev, node = node, next\n",
    "        return prev"
   ]
  }
 ],
 "metadata": {
  "kernelspec": {
   "display_name": "Python 3",
   "language": "python",
   "name": "python3"
  },
  "language_info": {
   "codemirror_mode": {
    "name": "ipython",
    "version": 3
   },
   "file_extension": ".py",
   "mimetype": "text/x-python",
   "name": "python",
   "nbconvert_exporter": "python",
   "pygments_lexer": "ipython3",
   "version": "3.7.9"
  }
 },
 "nbformat": 4,
 "nbformat_minor": 5
}
