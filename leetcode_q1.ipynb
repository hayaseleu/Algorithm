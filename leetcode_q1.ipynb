{
 "cells": [
  {
   "cell_type": "code",
   "execution_count": 24,
   "metadata": {},
   "outputs": [],
   "source": [
    "class Solution:\n",
    "    def twoSum(self, nums, target):\n",
    "        for i in range(len(nums)):\n",
    "            for j in range(len(nums)):\n",
    "                if i != j and nums[i] + nums[j] == target:\n",
    "                    return [i,j]"
   ]
  },
  {
   "cell_type": "code",
   "execution_count": 8,
   "metadata": {},
   "outputs": [],
   "source": [
    "nums = [2,7,11,15]\n",
    "target = 9\n",
    "\n",
    "\n"
   ]
  },
  {
   "cell_type": "code",
   "execution_count": 13,
   "metadata": {},
   "outputs": [
    {
     "name": "stdout",
     "output_type": "stream",
     "text": [
      "2 7\n",
      "7 2\n"
     ]
    }
   ],
   "source": [
    "for i in range(len(nums)):\n",
    "    for j in range(len(nums)):\n",
    "        if nums[i] + nums[j] == target:\n",
    "            print( nums[i], nums[j])"
   ]
  },
  {
   "cell_type": "code",
   "execution_count": null,
   "metadata": {},
   "outputs": [],
   "source": [
    "class Solution:  # 가장 빠른 풀이 \n",
    "    def twoSum(self, nums: List[int], target: int) -> List[int]:\n",
    "        has = {}\n",
    "        for i in range(len(nums)):\n",
    "            has[nums[i]] = i\n",
    "        for i in range(len(nums)):\n",
    "            if (target - nums[i]) in has and i != has[target - nums[i]]:\n",
    "                return [i,has[target-nums[i]]]\n",
    "            "
   ]
  },
  {
   "cell_type": "code",
   "execution_count": 17,
   "metadata": {},
   "outputs": [],
   "source": [
    "has = {}"
   ]
  },
  {
   "cell_type": "code",
   "execution_count": 19,
   "metadata": {},
   "outputs": [
    {
     "name": "stdout",
     "output_type": "stream",
     "text": [
      "{8: 0}\n"
     ]
    }
   ],
   "source": [
    "has[8] = 0\n",
    "print(has)"
   ]
  },
  {
   "cell_type": "code",
   "execution_count": 21,
   "metadata": {},
   "outputs": [
    {
     "name": "stdout",
     "output_type": "stream",
     "text": [
      "{8: 1}\n"
     ]
    }
   ],
   "source": [
    "has[8] = 1 \n",
    "print(has)  "
   ]
  },
  {
   "cell_type": "code",
   "execution_count": null,
   "metadata": {},
   "outputs": [],
   "source": [
    "#         for i in range(len(nums)):\n",
    "#              if (target - nums[i]) in has and i != has[target - nums[i]]:\n",
    "#                 return [i,has[target-nums[i]]]\n",
    "# 딕셔너리는 중복된 키값을 넣으면 새것으로 갱신됨. 그것을 활용하여  중복된 값의 덧셈이 target이라면 \n",
    "# has[target- nums[i]]는 i가 아니라 그 다음 번쨰 index로 지정됨으로 i와 달라지게됨 \n",
    "# 그러므로 i,has[target-nums[i]] 가 빠르게 답변가능해짐. "
   ]
  }
 ],
 "metadata": {
  "kernelspec": {
   "display_name": "aiffel",
   "language": "python",
   "name": "aiffel"
  },
  "language_info": {
   "codemirror_mode": {
    "name": "ipython",
    "version": 3
   },
   "file_extension": ".py",
   "mimetype": "text/x-python",
   "name": "python",
   "nbconvert_exporter": "python",
   "pygments_lexer": "ipython3",
   "version": "3.7.9"
  }
 },
 "nbformat": 4,
 "nbformat_minor": 4
}
