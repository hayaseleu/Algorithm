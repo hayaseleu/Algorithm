{
 "cells": [
  {
   "cell_type": "code",
   "execution_count": 26,
   "metadata": {},
   "outputs": [],
   "source": [
    "class Solution: # 제가 푼 풀이  제일 기초적임 ㅋㅋㅋㅋ\n",
    "    def twoSum(self, nums, target):\n",
    "        for i in range(len(nums)):\n",
    "            for j in range(len(nums)):\n",
    "                if i != j and nums[i] + nums[j] == target:\n",
    "                    return [i,j]"
   ]
  },
  {
   "cell_type": "code",
   "execution_count": null,
   "metadata": {},
   "outputs": [],
   "source": []
  },
  {
   "cell_type": "code",
   "execution_count": 27,
   "metadata": {},
   "outputs": [],
   "source": [
    "nums = [2,7,11,15]\n",
    "target = 9\n",
    "\n",
    "\n"
   ]
  },
  {
   "cell_type": "code",
   "execution_count": 28,
   "metadata": {},
   "outputs": [
    {
     "name": "stdout",
     "output_type": "stream",
     "text": [
      "2 7\n",
      "7 2\n"
     ]
    }
   ],
   "source": [
    "for i in range(len(nums)):\n",
    "    for j in range(len(nums)):\n",
    "        if nums[i] + nums[j] == target:\n",
    "            print( nums[i], nums[j])"
   ]
  },
  {
   "cell_type": "code",
   "execution_count": 29,
   "metadata": {},
   "outputs": [],
   "source": [
    "class Solution:  # 가장 빠른 풀이 \n",
    "    def twoSum(self, nums):\n",
    "        has = {}\n",
    "        for i in range(len(nums)):\n",
    "            has[nums[i]] = i\n",
    "        for i in range(len(nums)):\n",
    "            if (target - nums[i]) in has and i != has[target - nums[i]]:\n",
    "                return [i,has[target-nums[i]]]\n",
    "            "
   ]
  },
  {
   "cell_type": "code",
   "execution_count": 30,
   "metadata": {},
   "outputs": [],
   "source": [
    "has = {}"
   ]
  },
  {
   "cell_type": "code",
   "execution_count": 31,
   "metadata": {},
   "outputs": [
    {
     "name": "stdout",
     "output_type": "stream",
     "text": [
      "{8: 0}\n"
     ]
    }
   ],
   "source": [
    "has[8] = 0\n",
    "print(has)"
   ]
  },
  {
   "cell_type": "code",
   "execution_count": 32,
   "metadata": {},
   "outputs": [
    {
     "name": "stdout",
     "output_type": "stream",
     "text": [
      "{8: 1}\n"
     ]
    }
   ],
   "source": [
    "has[8] = 1 \n",
    "print(has)  "
   ]
  },
  {
   "cell_type": "code",
   "execution_count": 33,
   "metadata": {},
   "outputs": [],
   "source": [
    "#         for i in range(len(nums)):\n",
    "#              if (target - nums[i]) in has and i != has[target - nums[i]]:\n",
    "#                 return [i,has[target-nums[i]]]\n",
    "# 딕셔너리는 중복된 키값을 넣으면 새것으로 갱신됨. 그것을 활용하여  중복된 값의 덧셈이 target이라면 \n",
    "# has[target- nums[i]]는 i가 아니라 그 다음 번쨰 index로 지정됨으로 i와 달라지게됨 \n",
    "# 그러므로 i,has[target-nums[i]] 가 빠르게 답변가능해짐. "
   ]
  },
  {
   "cell_type": "markdown",
   "metadata": {},
   "source": [
    "여기부턴 교재 풀이"
   ]
  },
  {
   "cell_type": "code",
   "execution_count": 34,
   "metadata": {},
   "outputs": [],
   "source": [
    "class Solution: # 브루트포트 방식, 무차별대입방식으로 내 풀이보단 낫지만 매우 비효율적임  O(n^2) \n",
    "    def twoSum(self, nums, target):\n",
    "        for i in range(len(nums)):\n",
    "            for j in range(i+1, len(nums)):\n",
    "                if nums[i] + nums[j] == target:\n",
    "                    return [i,j]"
   ]
  },
  {
   "cell_type": "code",
   "execution_count": 35,
   "metadata": {},
   "outputs": [],
   "source": [
    "class Solution: #in을 활용한 탐색  in은 시간 복잡도가 O(n)라서 전체 시간복잡도는 이전과 동일. 그러나 in이 더 빠르고 가벼움 \n",
    "    def twoSum(self, nums, target):\n",
    "        for i, n in enumerate(nums):\n",
    "            complement = target - n \n",
    "            print(i)\n",
    "            print(n)\n",
    "            if complement in nums[i+1:]:\n",
    "                return nums.index(n), nums[i+1:].index(complement) + (i+1)"
   ]
  },
  {
   "cell_type": "code",
   "execution_count": 36,
   "metadata": {},
   "outputs": [
    {
     "name": "stdout",
     "output_type": "stream",
     "text": [
      "0\n",
      "2\n"
     ]
    },
    {
     "data": {
      "text/plain": [
       "(0, 1)"
      ]
     },
     "execution_count": 36,
     "metadata": {},
     "output_type": "execute_result"
    }
   ],
   "source": [
    "a = Solution()\n",
    "a.twoSum([2,7,11,15], 9)"
   ]
  },
  {
   "cell_type": "code",
   "execution_count": 37,
   "metadata": {},
   "outputs": [],
   "source": [
    "#풀이 첫번쨰 수를 뺀 결과 키 조회 \n",
    "\n",
    "class Solution: \n",
    "    def twoSum(self, nums, target):\n",
    "        nums_map = {}\n",
    "        #키와 dict값을 바꿔서 딕셔너리 저장 \n",
    "        for i, num in enumerate(nums):\n",
    "            nums_map[num] = i\n",
    "        \n",
    "        #타켓에서 첫번째 수를 뺀 결과를 키로 조회\n",
    "        \n",
    "        for i, num in enumerate(nums):\n",
    "            if target - num in nums_map and i != nums_map[target - num]:\n",
    "                return nums.index(num), nums_map[target - num]"
   ]
  },
  {
   "cell_type": "code",
   "execution_count": 38,
   "metadata": {},
   "outputs": [],
   "source": [
    "#위를 조금 개선해서 for를 하나로 통합\n",
    "\n",
    "class Solution:\n",
    "    def twosum(self,nums, target):\n",
    "        nums_map = {}\n",
    "        # 하나의 for 문\n",
    "        for i, num in enumerate(nums):\n",
    "            if target - num  in nums_map:\n",
    "                return [nums_map[target - num], i]\n",
    "            nums_map[num] = i "
   ]
  },
  {
   "cell_type": "code",
   "execution_count": 39,
   "metadata": {},
   "outputs": [],
   "source": [
    "# 투포인터 이용 \n",
    "# class Solution:\n",
    "#     def twoSum(self, nums,target):\n",
    "#         nums\n",
    "#         left, right = 0 , len(nums) - 1\n",
    "#         while not left == right:\n",
    "#             #포인터들의 합이 타겟보다 크면 오른쪽 포인터를 왼쪽으로\n",
    "#             if nums[left] + nums[right] < target:\n",
    "#                 left += 1 \n",
    "#             # 합이 타켓보다 작으면 왼쪽 포인터를 우측으로\n",
    "#             elif nums[left] + nums[right] > target:\n",
    "#                 right -=1\n",
    "#             else:\n",
    "#                 return left, right\n",
    "            \n",
    "            \n",
    "## 사실구현이 안된다. 왜냐면 sort된 상태가 아니며, sort를 해버리면 원래 index 정보를 잃어버리게되기때문"
   ]
  }
 ],
 "metadata": {
  "kernelspec": {
   "display_name": "aiffel",
   "language": "python",
   "name": "aiffel"
  },
  "language_info": {
   "codemirror_mode": {
    "name": "ipython",
    "version": 3
   },
   "file_extension": ".py",
   "mimetype": "text/x-python",
   "name": "python",
   "nbconvert_exporter": "python",
   "pygments_lexer": "ipython3",
   "version": "3.7.9"
  }
 },
 "nbformat": 4,
 "nbformat_minor": 4
}
