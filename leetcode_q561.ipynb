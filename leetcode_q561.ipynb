{
 "cells": [
  {
   "cell_type": "code",
   "execution_count": 9,
   "metadata": {},
   "outputs": [],
   "source": [
    "\n",
    "class Solution:\n",
    "    def arrayPairSum(self, nums):\n",
    "        nums = sorted(nums)\n",
    "        return sum(nums[0:len(nums):2])"
   ]
  },
  {
   "cell_type": "code",
   "execution_count": 5,
   "metadata": {},
   "outputs": [],
   "source": [
    " nums = [6,2,6,5,1,2]"
   ]
  },
  {
   "cell_type": "code",
   "execution_count": null,
   "metadata": {},
   "outputs": [],
   "source": []
  },
  {
   "cell_type": "code",
   "execution_count": null,
   "metadata": {},
   "outputs": [],
   "source": []
  },
  {
   "cell_type": "code",
   "execution_count": 10,
   "metadata": {},
   "outputs": [],
   "source": [
    "class Solution:            # 가장 빠른 풀이 \n",
    "    def arrayPairSum(self, nums):\n",
    "        \n",
    "        nums.sort()\n",
    "        return sum(nums[::2])"
   ]
  },
  {
   "cell_type": "markdown",
   "metadata": {},
   "source": [
    "여기서 부턴 책풀이 "
   ]
  },
  {
   "cell_type": "code",
   "execution_count": 11,
   "metadata": {},
   "outputs": [],
   "source": [
    "class Solution:       #기초적인 오름차순 풀이 \n",
    "    def arrayPairSum(self, nums):\n",
    "        sum = 0\n",
    "        pair = []\n",
    "        nums.sort()\n",
    "        \n",
    "        for n in nums:\n",
    "            #앞에서 부터 오름차순으로 페어 만들어서 합 계산\n",
    "            pair.append(n)\n",
    "            if len(pair) == 2:\n",
    "                sum += min(pair)\n",
    "                pair = []\n",
    "        return sum"
   ]
  },
  {
   "cell_type": "markdown",
   "metadata": {},
   "source": [
    "어처피 정렬을 하면 짝수번째가 최솟값이니깐 그냥 일일히 min값 계산안하고 짝수번째만 더해보자!"
   ]
  },
  {
   "cell_type": "code",
   "execution_count": 12,
   "metadata": {},
   "outputs": [],
   "source": [
    "class Solution:       #짝수번째 계산 \n",
    "    def arrayPairSum(self, nums):\n",
    "        sum = 0\n",
    "        nums.sort()\n",
    "        \n",
    "        for i, n in enumerate(nums):\n",
    "            #짝수번째 값의 합 계산\n",
    "            if i % 2 == 0:\n",
    "                sum += n\n",
    "        return sum "
   ]
  }
 ],
 "metadata": {
  "kernelspec": {
   "display_name": "Python 3",
   "language": "python",
   "name": "python3"
  },
  "language_info": {
   "codemirror_mode": {
    "name": "ipython",
    "version": 3
   },
   "file_extension": ".py",
   "mimetype": "text/x-python",
   "name": "python",
   "nbconvert_exporter": "python",
   "pygments_lexer": "ipython3",
   "version": "3.7.6"
  }
 },
 "nbformat": 4,
 "nbformat_minor": 4
}
